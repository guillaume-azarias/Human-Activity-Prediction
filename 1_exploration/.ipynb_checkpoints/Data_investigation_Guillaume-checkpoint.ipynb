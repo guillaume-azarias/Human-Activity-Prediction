{
 "cells": [
  {
   "cell_type": "markdown",
   "metadata": {},
   "source": [
    "# Data investigation"
   ]
  },
  {
   "cell_type": "markdown",
   "metadata": {},
   "source": [
    "### Loading the relevant library"
   ]
  },
  {
   "cell_type": "code",
   "execution_count": 2,
   "metadata": {
    "pycharm": {
     "is_executing": false
    }
   },
   "outputs": [],
   "source": [
    "import pandas as pd\n",
    "import numpy as np\n",
    "import seaborn as sns\n",
    "import matplotlib.pyplot as plt\n",
    "import matplotlib.ticker as ticker\n",
    "\n",
    "from datetime import datetime"
   ]
  },
  {
   "cell_type": "markdown",
   "metadata": {},
   "source": [
    "## Data cleaning"
   ]
  },
  {
   "cell_type": "markdown",
   "metadata": {},
   "source": [
    "### Loading the data"
   ]
  },
  {
   "cell_type": "code",
   "execution_count": 3,
   "metadata": {
    "pycharm": {
     "is_executing": true
    }
   },
   "outputs": [
    {
     "name": "stdout",
     "output_type": "stream",
     "text": [
      "data loaded\n"
     ]
    }
   ],
   "source": [
    "# read data\n",
    "part1 = pd.read_csv('../Data/Copy of '\n",
    "                    '20200326_propulsionlab_caru_data_part1.csv', \n",
    "                    delimiter=',')\n",
    "part2 = pd.read_csv('../Data/Copy of '\n",
    "                    '20200326_propulsionlab_caru_data_part2.csv', \n",
    "                    delimiter=',')\n",
    "part3 = pd.read_csv('../Data/Copy of '\n",
    "                    '20200326_propulsionlab_caru_data_part3.csv', \n",
    "                    delimiter=',')\n",
    "part4 = pd.read_csv('../Data/Copy of '\n",
    "                    '20200326_propulsionlab_caru_data_part4.csv', \n",
    "                    delimiter=',')\n",
    "part5 = pd.read_csv('../Data/Copy of '\n",
    "                    '20200326_propulsionlab_caru_data_part5.csv', \n",
    "                    delimiter=',')\n",
    "print('data loaded')"
   ]
  },
  {
   "cell_type": "code",
   "execution_count": 4,
   "metadata": {
    "pycharm": {
     "is_executing": true
    }
   },
   "outputs": [],
   "source": [
    "df_raw = pd.concat([part1, part2, part3, part4, part5], ignore_index= True)"
   ]
  },
  {
   "cell_type": "code",
   "execution_count": 5,
   "metadata": {
    "pycharm": {
     "is_executing": false
    }
   },
   "outputs": [
    {
     "data": {
      "text/plain": [
       "Index(['device', 'tenant', 'ts_date', 'STM-TCS3472_c', 'light', 'temperature',\n",
       "       'humidity', 'co2'],\n",
       "      dtype='object')"
      ]
     },
     "execution_count": 5,
     "metadata": {},
     "output_type": "execute_result"
    }
   ],
   "source": [
    "df_raw.columns"
   ]
  },
  {
   "cell_type": "markdown",
   "metadata": {},
   "source": [
    "### Backup: keep df_raw, work on df_features"
   ]
  },
  {
   "cell_type": "code",
   "execution_count": 6,
   "metadata": {},
   "outputs": [],
   "source": [
    "df_features = df_raw.copy()"
   ]
  },
  {
   "cell_type": "markdown",
   "metadata": {},
   "source": [
    "### Drop the column STM-TCS3472_c"
   ]
  },
  {
   "cell_type": "code",
   "execution_count": 7,
   "metadata": {},
   "outputs": [],
   "source": [
    "df_features = df_features.drop(['STM-TCS3472_c'],axis=1)"
   ]
  },
  {
   "cell_type": "code",
   "execution_count": 8,
   "metadata": {},
   "outputs": [
    {
     "data": {
      "text/plain": [
       "Index(['device', 'tenant', 'ts_date', 'light', 'temperature', 'humidity',\n",
       "       'co2'],\n",
       "      dtype='object')"
      ]
     },
     "execution_count": 8,
     "metadata": {},
     "output_type": "execute_result"
    }
   ],
   "source": [
    "df_features.columns"
   ]
  },
  {
   "cell_type": "markdown",
   "metadata": {},
   "source": [
    "### Change \"ts_date\" to datetime format"
   ]
  },
  {
   "cell_type": "code",
   "execution_count": 9,
   "metadata": {},
   "outputs": [],
   "source": [
    "df_features['ts_date'] = pd.to_datetime(df_features['ts_date'])"
   ]
  },
  {
   "cell_type": "markdown",
   "metadata": {},
   "source": [
    "### Create a \"day\" column"
   ]
  },
  {
   "cell_type": "code",
   "execution_count": 10,
   "metadata": {},
   "outputs": [],
   "source": [
    "df_features.insert(2, \"day\", df_features[\"ts_date\"].dt.date)\n",
    "# df_features[\"day\"] = pd.to_datetime(df_features[\"day\"])"
   ]
  },
  {
   "cell_type": "markdown",
   "metadata": {},
   "source": [
    "### Create a day_night column"
   ]
  },
  {
   "cell_type": "code",
   "execution_count": 11,
   "metadata": {},
   "outputs": [],
   "source": [
    "df_features['day_night'] = 'D'"
   ]
  },
  {
   "cell_type": "markdown",
   "metadata": {},
   "source": [
    "### Check columns"
   ]
  },
  {
   "cell_type": "code",
   "execution_count": 12,
   "metadata": {},
   "outputs": [
    {
     "data": {
      "text/plain": [
       "Index(['device', 'tenant', 'day', 'ts_date', 'light', 'temperature',\n",
       "       'humidity', 'co2', 'day_night'],\n",
       "      dtype='object')"
      ]
     },
     "execution_count": 12,
     "metadata": {},
     "output_type": "execute_result"
    }
   ],
   "source": [
    "df_features.columns"
   ]
  },
  {
   "cell_type": "code",
   "execution_count": 13,
   "metadata": {},
   "outputs": [
    {
     "data": {
      "text/html": [
       "<div>\n",
       "<style scoped>\n",
       "    .dataframe tbody tr th:only-of-type {\n",
       "        vertical-align: middle;\n",
       "    }\n",
       "\n",
       "    .dataframe tbody tr th {\n",
       "        vertical-align: top;\n",
       "    }\n",
       "\n",
       "    .dataframe thead th {\n",
       "        text-align: right;\n",
       "    }\n",
       "</style>\n",
       "<table border=\"1\" class=\"dataframe\">\n",
       "  <thead>\n",
       "    <tr style=\"text-align: right;\">\n",
       "      <th></th>\n",
       "      <th>device</th>\n",
       "      <th>tenant</th>\n",
       "      <th>day</th>\n",
       "      <th>ts_date</th>\n",
       "      <th>light</th>\n",
       "      <th>temperature</th>\n",
       "      <th>humidity</th>\n",
       "      <th>co2</th>\n",
       "      <th>day_night</th>\n",
       "    </tr>\n",
       "  </thead>\n",
       "  <tbody>\n",
       "    <tr>\n",
       "      <th>0</th>\n",
       "      <td>device01</td>\n",
       "      <td>tenant01</td>\n",
       "      <td>2019-05-01</td>\n",
       "      <td>2019-05-01 12:00:17.591</td>\n",
       "      <td>119.0</td>\n",
       "      <td>21.108163</td>\n",
       "      <td>30.977341</td>\n",
       "      <td>683.169922</td>\n",
       "      <td>D</td>\n",
       "    </tr>\n",
       "    <tr>\n",
       "      <th>1</th>\n",
       "      <td>device01</td>\n",
       "      <td>tenant01</td>\n",
       "      <td>2019-05-01</td>\n",
       "      <td>2019-05-01 12:00:37.639</td>\n",
       "      <td>117.0</td>\n",
       "      <td>21.108163</td>\n",
       "      <td>31.088730</td>\n",
       "      <td>684.252136</td>\n",
       "      <td>D</td>\n",
       "    </tr>\n",
       "    <tr>\n",
       "      <th>2</th>\n",
       "      <td>device01</td>\n",
       "      <td>tenant01</td>\n",
       "      <td>2019-05-01</td>\n",
       "      <td>2019-05-01 12:00:57.686</td>\n",
       "      <td>118.0</td>\n",
       "      <td>21.121515</td>\n",
       "      <td>30.978867</td>\n",
       "      <td>685.897095</td>\n",
       "      <td>D</td>\n",
       "    </tr>\n",
       "  </tbody>\n",
       "</table>\n",
       "</div>"
      ],
      "text/plain": [
       "     device    tenant         day                 ts_date  light  temperature  \\\n",
       "0  device01  tenant01  2019-05-01 2019-05-01 12:00:17.591  119.0    21.108163   \n",
       "1  device01  tenant01  2019-05-01 2019-05-01 12:00:37.639  117.0    21.108163   \n",
       "2  device01  tenant01  2019-05-01 2019-05-01 12:00:57.686  118.0    21.121515   \n",
       "\n",
       "    humidity         co2 day_night  \n",
       "0  30.977341  683.169922         D  \n",
       "1  31.088730  684.252136         D  \n",
       "2  30.978867  685.897095         D  "
      ]
     },
     "execution_count": 13,
     "metadata": {},
     "output_type": "execute_result"
    }
   ],
   "source": [
    "df_features.head(3)"
   ]
  },
  {
   "cell_type": "markdown",
   "metadata": {},
   "source": [
    "### Backup: keep df_features, work on df"
   ]
  },
  {
   "cell_type": "code",
   "execution_count": 14,
   "metadata": {},
   "outputs": [],
   "source": [
    "df = df_features.copy()"
   ]
  },
  {
   "cell_type": "code",
   "execution_count": 15,
   "metadata": {
    "pycharm": {
     "is_executing": false
    }
   },
   "outputs": [
    {
     "name": "stdout",
     "output_type": "stream",
     "text": [
      "['device01', 'device02', 'device03', 'device04', 'device05', 'device06', 'device07', 'device08', 'device09', 'device10', 'device11', 'device12', 'device13', 'device14', 'device15', 'device16', 'device17', 'device18', 'device19', 'device20', 'device21', 'device22', 'device23', 'device24', 'device25', 'device26', 'device27', 'device28', 'device29', 'device30', 'device31', 'device32', 'device33', 'device34', 'device35', 'device36', 'device37', 'device38', 'device39', 'device40', 'device41', 'device42', 'device43', 'device44', 'device45', 'device46', 'device47', 'device48', 'device49', 'device50', 'device51']\n"
     ]
    }
   ],
   "source": [
    "print(sorted(df['device'].unique()))"
   ]
  },
  {
   "cell_type": "code",
   "execution_count": 16,
   "metadata": {},
   "outputs": [
    {
     "data": {
      "text/plain": [
       "device                 object\n",
       "tenant                 object\n",
       "day                    object\n",
       "ts_date        datetime64[ns]\n",
       "light                 float64\n",
       "temperature           float64\n",
       "humidity              float64\n",
       "co2                   float64\n",
       "day_night              object\n",
       "dtype: object"
      ]
     },
     "execution_count": 16,
     "metadata": {},
     "output_type": "execute_result"
    }
   ],
   "source": [
    "df.dtypes"
   ]
  },
  {
   "cell_type": "markdown",
   "metadata": {},
   "source": [
    "### Work on plotting Device 2 only"
   ]
  },
  {
   "cell_type": "raw",
   "metadata": {
    "jupyter": {
     "outputs_hidden": false
    },
    "pycharm": {
     "name": "#%%\n"
    }
   },
   "source": [
    "# Isolate device02\n",
    "df = df.loc[df['device'] == 'device02']\n",
    "df.describe()"
   ]
  },
  {
   "cell_type": "raw",
   "metadata": {},
   "source": [
    "df.head(3)"
   ]
  },
  {
   "cell_type": "raw",
   "metadata": {
    "pycharm": {
     "is_executing": false
    }
   },
   "source": [
    "df.isnull().sum()"
   ]
  },
  {
   "cell_type": "raw",
   "metadata": {
    "pycharm": {
     "is_executing": false
    }
   },
   "source": [
    "df['ts_date'].min()"
   ]
  },
  {
   "cell_type": "code",
   "execution_count": 17,
   "metadata": {
    "pycharm": {
     "is_executing": true
    }
   },
   "outputs": [
    {
     "data": {
      "text/plain": [
       "Timestamp('2020-03-26 11:59:59.906000')"
      ]
     },
     "execution_count": 17,
     "metadata": {},
     "output_type": "execute_result"
    }
   ],
   "source": [
    "df['ts_date'].max()"
   ]
  },
  {
   "cell_type": "raw",
   "metadata": {
    "pycharm": {
     "is_executing": false
    }
   },
   "source": [
    "# Did not drop NaN. Point to consider\n",
    "df.dropna()"
   ]
  },
  {
   "cell_type": "raw",
   "metadata": {},
   "source": [
    "df.columns"
   ]
  },
  {
   "cell_type": "markdown",
   "metadata": {},
   "source": [
    "## Data plotting\n",
    "### Plot for all the data"
   ]
  },
  {
   "cell_type": "raw",
   "metadata": {},
   "source": [
    "def plot_scatter_full(col):\n",
    "    fig = plt.figure(figsize=(10, 10))\n",
    "    df.plot.scatter('ts_date', str(col), s = 2)\n",
    "    plt.title(col)\n",
    "    # plt.xlabel(xlabel)\n",
    "    plt.ylabel(col)\n",
    "    # plt.legend()\n",
    "    plt.savefig(str(col), bbox_inches=\"tight\")\n",
    "    plt.show()"
   ]
  },
  {
   "cell_type": "raw",
   "metadata": {},
   "source": [
    "plot_scatter_full('light')"
   ]
  },
  {
   "cell_type": "raw",
   "metadata": {},
   "source": [
    "plot_scatter_full('temperature')"
   ]
  },
  {
   "cell_type": "raw",
   "metadata": {},
   "source": [
    "plot_scatter_full('humidity')"
   ]
  },
  {
   "cell_type": "raw",
   "metadata": {},
   "source": [
    "plot_scatter_full('co2')"
   ]
  },
  {
   "cell_type": "markdown",
   "metadata": {},
   "source": [
    "### Plot for each day"
   ]
  },
  {
   "cell_type": "raw",
   "metadata": {},
   "source": [
    "df_small = df[df['day'] == '2019-07-29']"
   ]
  },
  {
   "cell_type": "raw",
   "metadata": {},
   "source": [
    "# columns = 'light', 'temperature', 'humidity', 'co2'\n",
    "\n",
    "def plot_scatter_flex(col, days):\n",
    "    df_small = df[df['day'] == days]\n",
    "    fig = plt.figure(figsize=(100, 100))\n",
    "    df_small.plot.scatter('ts_date', str(col), s = 2)\n",
    "    plt.title(col)\n",
    "    last = df_small.shape[0] - 1\n",
    "    plt.xlim(left = df_small.iloc[0, 3], right = df_small.iloc[last, 3])\n",
    "    plt.xticks(rotation=75, horizontalalignment='right')\n",
    "    plt.ylabel(col)\n",
    "    folder = '/Users/guillaume/Documents/DS2020/Caru/caru/Fig/'\n",
    "    filename = folder + str(col) + '_' + str(days)\n",
    "    plt.savefig(filename, bbox_inches=\"tight\")\n",
    "    plt.show()"
   ]
  },
  {
   "cell_type": "raw",
   "metadata": {
    "jupyter": {
     "outputs_hidden": true
    }
   },
   "source": [
    "plot_scatter_flex('co2', '2019-07-29')"
   ]
  },
  {
   "cell_type": "raw",
   "metadata": {
    "jupyter": {
     "outputs_hidden": true
    }
   },
   "source": [
    "# Looping the graph\n",
    "for col in parameters:\n",
    "    for day in days_instances:\n",
    "        plot_scatter_flex(col, day)"
   ]
  },
  {
   "cell_type": "markdown",
   "metadata": {},
   "source": [
    "### Plot for device, parameter and day"
   ]
  },
  {
   "cell_type": "code",
   "execution_count": 30,
   "metadata": {},
   "outputs": [],
   "source": [
    "device_list = ['device02', 'device05', 'device08', 'device11', 'device14', 'device17',\n",
    "               'device20', 'device23', 'device26', 'device29', 'device32', 'device35',\n",
    "               'device38', 'device41', 'device44', 'device47', 'device50']\n",
    "\n",
    "parameters = ['light', 'temperature', 'humidity', 'co2']\n",
    "\n",
    "# days_instances = ['2019-12-04', '2019-12-05', '2019-12-06', '2019-12-07', '2019-12-08',\n",
    "#                   '2019-12-09', '2019-12-10']\n",
    "# days_instances = ['2019-06-04', '2019-06-05', '2019-06-06', '2019-06-07', '2019-06-08',\n",
    "#                   '2019-06-09', '2019-06-10']\n",
    "days_instances = ['2019-07-29', '2019-07-30', '2019-07-31', '2019-08-01', '2019-08-02',\n",
    "                  '2019-08-03', '2019-08-04']"
   ]
  },
  {
   "cell_type": "code",
   "execution_count": 19,
   "metadata": {
    "jupyter": {
     "source_hidden": true
    }
   },
   "outputs": [],
   "source": [
    "# This plotting function works !\n",
    "\n",
    "def plot_scatter_flex(device, col, days):\n",
    "    name = str(col) + '_'+ str(device) + '_' + str(days)\n",
    "\n",
    "    fig, ax = plt.subplots(1,1, figsize=(7, 5));\n",
    "    ax.scatter('ts_date', col, data = df_small, s = 2); \n",
    "#     ax.plot(df_small.index.time,df_small[col]); # for scatter uncomment prev line\n",
    "    last = df_small.shape[0] - 1\n",
    "    ax.set_xlim(left = df_small.iloc[0, 3], right = df_small.iloc[last, 3])\n",
    "    ax.tick_params(axis = 'x', labelrotation=45)\n",
    "    ax.set_title(name);\n",
    "    ax.set_ylabel(col)\n",
    "\n",
    "    folder = '/Users/guillaume/Documents/DS2020/Caru/caru/Fig/'\n",
    "    filename = folder + name\n",
    "    plt.savefig(filename, bbox_inches = \"tight\")\n",
    "    plt.close()\n",
    "\n",
    "#some ideas on ticks\n",
    "# ticklabels = df_small.index.strftime(\"%H:%M:%S\")\n",
    "# ticklabels"
   ]
  },
  {
   "cell_type": "raw",
   "metadata": {
    "jupyter": {
     "source_hidden": true
    }
   },
   "source": [
    "# This plotting function is to get clean ticks - does not work yet\n",
    "\n",
    "def plot_scatter_flex(device, col, days):\n",
    "    name = str(col) + '_'+ str(device) + '_' + str(days)\n",
    "\n",
    "    fig, ax = plt.subplots(1,1, figsize=(7, 5));\n",
    "    ax.scatter('ts_date', col, data = df_small, s = 2); \n",
    "#     ax.plot(df_small.index.time,df_small[col]); # for scatter uncomment prev line\n",
    "\n",
    "    ax.set_title(name)\n",
    "\n",
    "    last = df_small.shape[0] - 1\n",
    "    ax.set_xlim(left = df_small.iloc[0, 3], right = df_small.iloc[last, 3])\n",
    "    df_small.set_index('ts_date', inplace=True)\n",
    "    ticklabels = df_small.index.strftime('%H:%M')\n",
    "    ax.xaxis.set_ticklabels(ticklabels)\n",
    "#     ax.xaxis.set_major_formatter(ticker.FixedFormatter(ticklabels))\n",
    "    ax.tick_params(axis = 'x', labelrotation=45)\n",
    "\n",
    "    ax.set_ylabel(col)\n",
    "\n",
    "    folder = '/Users/guillaume/Documents/DS2020/Caru/caru/Fig/'\n",
    "    filename = folder + name\n",
    "    plt.savefig(filename, bbox_inches = \"tight\")\n",
    "    plt.close()\n",
    "\n",
    "#some ideas on ticks\n",
    "# ticklabels = df_small.index.strftime(\"%H:%M:%S\")\n",
    "# ticklabels"
   ]
  },
  {
   "cell_type": "raw",
   "metadata": {
    "jupyter": {
     "source_hidden": true
    }
   },
   "source": [
    "# Trial on a single instance\n",
    "col = 'humidity'\n",
    "device = 'device02'\n",
    "days = '2019-06-04'\n",
    "\n",
    "df = df_features.copy()\n",
    "df = df.loc[df['device'] == device]\n",
    "date =  pd.to_datetime(days)\n",
    "df_small = df[df['day'] == date]\n",
    "\n",
    "plot_scatter_flex(device, col, days)"
   ]
  },
  {
   "cell_type": "code",
   "execution_count": 31,
   "metadata": {},
   "outputs": [
    {
     "name": "stdout",
     "output_type": "stream",
     "text": [
      "Starting\n",
      "df_uploaded\n",
      "device02\n",
      "Found data\n",
      "Found data\n",
      "Found data\n",
      "Found data\n",
      "Found data\n",
      "Found data\n",
      "Found data\n",
      "device05\n",
      "device08\n",
      "Found data\n",
      "Found data\n",
      "Found data\n",
      "Found data\n",
      "Found data\n",
      "Found data\n",
      "Found data\n",
      "device11\n",
      "Found data\n",
      "Found data\n",
      "Found data\n",
      "Found data\n",
      "Found data\n",
      "Found data\n",
      "Found data\n",
      "device14\n",
      "Found data\n",
      "Found data\n",
      "Found data\n",
      "Found data\n",
      "Found data\n",
      "Found data\n",
      "Found data\n",
      "device17\n",
      "Found data\n",
      "Found data\n",
      "Found data\n",
      "Found data\n",
      "Found data\n",
      "Found data\n",
      "Found data\n",
      "device20\n",
      "device23\n",
      "Found data\n",
      "Found data\n",
      "Found data\n",
      "Found data\n",
      "Found data\n",
      "Found data\n",
      "Found data\n",
      "device26\n",
      "Found data\n",
      "Found data\n",
      "Found data\n",
      "Found data\n",
      "Found data\n",
      "Found data\n",
      "Found data\n",
      "device29\n",
      "device32\n",
      "device35\n",
      "device38\n",
      "device41\n",
      "device44\n",
      "device47\n",
      "device50\n",
      "Looping completed\n"
     ]
    }
   ],
   "source": [
    "# Looping the graph\n",
    "\n",
    "print('Starting')\n",
    "df = df_features.copy()\n",
    "print('df_uploaded')\n",
    "\n",
    "for device in device_list:\n",
    "    print(device)\n",
    "    df_dev = df.loc[df['device'] == device]\n",
    "    for days in days_instances:\n",
    "        date =  pd.to_datetime(days)\n",
    "        df_small = df_dev[df_dev['day'] == date]\n",
    "        if df_small.shape[0]>0:\n",
    "            print('Found data')\n",
    "            for col in parameters:\n",
    "                plot_scatter_flex(device, col, days)\n",
    "\n",
    "print('Looping completed')"
   ]
  },
  {
   "cell_type": "code",
   "execution_count": 26,
   "metadata": {
    "collapsed": true,
    "jupyter": {
     "outputs_hidden": true,
     "source_hidden": true
    }
   },
   "outputs": [
    {
     "name": "stdout",
     "output_type": "stream",
     "text": [
      "Starting\n",
      "df_uploaded\n",
      "device08\n",
      "Found data\n",
      "Found data\n",
      "Found data\n",
      "Found data\n",
      "Found data\n",
      "Found data\n",
      "Found data\n",
      "device11\n",
      "device14\n",
      "device17\n",
      "device20\n",
      "device23\n",
      "device26\n",
      "device29\n",
      "device32\n",
      "device35\n",
      "device38\n",
      "device41\n",
      "device44\n",
      "device47\n",
      "device50\n",
      "Looping completed\n"
     ]
    }
   ],
   "source": [
    "# Looping the graph - This abort after the first but WORKS\n",
    "\n",
    "print('Starting')\n",
    "df = df_features.copy()\n",
    "print('df_uploaded')\n",
    "\n",
    "for device in device_list:\n",
    "    print(device)\n",
    "    df = df.loc[df['device'] == device]\n",
    "    for days in days_instances:\n",
    "        date =  pd.to_datetime(days)\n",
    "        df_small = df[df['day'] == date]\n",
    "        if df_small.shape[0]>0:\n",
    "            print('Found data')\n",
    "            for col in parameters:\n",
    "                plot_scatter_flex(device, col, days)\n",
    "\n",
    "print('Looping completed')"
   ]
  },
  {
   "cell_type": "markdown",
   "metadata": {},
   "source": [
    "### Flexible plotting function"
   ]
  },
  {
   "cell_type": "raw",
   "metadata": {},
   "source": [
    "# columns = 'STM-TCS3472_c', 'light', 'temperature', 'humidity', 'co2'\n",
    "\n",
    "def plot_scatter(col, start, end):\n",
    "    df_small = df.iloc[start:end, :]\n",
    "    fig = plt.figure(figsize=(10, 10))\n",
    "    df_small.plot.scatter('ts_date', str(col), s = 2)\n",
    "    plt.title(col)\n",
    "    plt.xlim(left = df.iloc[start, 2], right = df.iloc[end, 2])\n",
    "    plt.xticks(rotation=75, horizontalalignment='right')\n",
    "    plt.ylabel(col)\n",
    "    # plt.legend()\n",
    "    # plt.savefig(str(col), bbox_inches=\"tight\")\n",
    "    plt.show()"
   ]
  },
  {
   "cell_type": "raw",
   "metadata": {},
   "source": [
    "# 1 day = 24 hours * 60min * 60sec / 20 (sampling period 1 point every 20sec) = 4320\n",
    "start = 200000\n",
    "end = 204320\n",
    "df_small = df.iloc[start:end, :]\n",
    "df_small.head()"
   ]
  },
  {
   "cell_type": "raw",
   "metadata": {},
   "source": [
    "# columns = 'light', 'temperature', 'humidity', 'co2'\n",
    "\n",
    "def plot_scatter(col, start, end):\n",
    "    df_small = df.iloc[start:end, :]\n",
    "    fig = plt.figure(figsize=(10, 10))\n",
    "    df_small.plot.scatter('ts_date', str(col), s = 2)\n",
    "    plt.title(col)\n",
    "    plt.xlim(left = df.iloc[start, 2], right = df.iloc[end, 2])\n",
    "    plt.xticks(rotation=75, horizontalalignment='right')\n",
    "    plt.ylabel(col)\n",
    "    # plt.legend()\n",
    "    # plt.savefig(str(col), bbox_inches=\"tight\")\n",
    "    plt.show()"
   ]
  },
  {
   "cell_type": "raw",
   "metadata": {},
   "source": [
    "# 29 july 2019. 29/07/2019\n",
    "\n",
    "start_time = 200000\n",
    "end_time = 201440"
   ]
  },
  {
   "cell_type": "raw",
   "metadata": {},
   "source": [
    "plot_scatter('STM-TCS3472_c', start_time, end_time)\n",
    "plot_scatter('light', start_time, end_time)\n",
    "plot_scatter('temperature', start_time, end_time)\n",
    "plot_scatter('humidity', start_time, end_time)\n",
    "plot_scatter('co2', start_time, end_time)"
   ]
  },
  {
   "cell_type": "raw",
   "metadata": {},
   "source": [
    "# Plot on 30min:\n",
    "\n",
    "plot_scatter('temperature', 200000, 200900)"
   ]
  },
  {
   "cell_type": "markdown",
   "metadata": {},
   "source": [
    "### Meeting note - Badru 2020 03 30\n",
    "\n",
    "Do data clustering. Cluster activity day. Identify \n",
    "\n",
    "Set threshold for sensitivity of activity detection. Designed to be used by nurses, caretaker.\n",
    "\n",
    "Unsupervised algorithm that can detect patterns in the data.\n",
    "\n",
    "What do they expect: dashboard, graph segments, web app."
   ]
  }
 ],
 "metadata": {
  "kernelspec": {
   "display_name": "Python 3",
   "language": "python",
   "name": "python3"
  },
  "language_info": {
   "codemirror_mode": {
    "name": "ipython",
    "version": 3
   },
   "file_extension": ".py",
   "mimetype": "text/x-python",
   "name": "python",
   "nbconvert_exporter": "python",
   "pygments_lexer": "ipython3",
   "version": "3.7.4"
  },
  "pycharm": {
   "stem_cell": {
    "cell_type": "raw",
    "metadata": {
     "collapsed": false
    },
    "source": []
   }
  }
 },
 "nbformat": 4,
 "nbformat_minor": 4
}
