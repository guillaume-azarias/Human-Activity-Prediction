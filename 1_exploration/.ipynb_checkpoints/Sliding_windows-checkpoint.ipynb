{
 "cells": [
  {
   "cell_type": "markdown",
   "metadata": {},
   "source": [
    "### Sliding window\n",
    "\n",
    "For time-series analysis, it is sometime useful to execute a code on part of a dataset"
   ]
  },
  {
   "cell_type": "code",
   "execution_count": null,
   "metadata": {},
   "outputs": [],
   "source": [
    "# Parameters for the sliding window\n",
    "\n",
    "period_min = 30 # Indicate the total duration of the sliding window.\n",
    "overlay_period = 1/3 # How many data points from before and after you want.\n",
    "\n",
    "# Example: if period_min = 30 and overlay_period = 1/3, one period will be:\n",
    "#     - 10min of the last previous dataframe\n",
    "#     - 20min of the current dataframe\n",
    "\n",
    "#######################################\n",
    "# df_size = 10*nb_row\n",
    "df_size = scaled_data.shape[0]\n",
    "\n",
    "acquisition_period = 1/3 # Acquisition period in min. It is 20 sec according to Caru.\n",
    "nb_row = int(period_min/acquisition_period) # Conversion of period_min in number of rows\n",
    "row_precedent = nb_row*(1-acquisition_period)\n",
    "nb_windows = int((df_size/nb_row)/(1-acquisition_period))\n",
    "\n",
    "start = -row_precedent\n",
    "\n",
    "#######################################\n",
    "# Run this with the relevant function:\n",
    "\n",
    "for i in tqdm(range(nb_windows)):\n",
    "    start = int(start + row_precedent)\n",
    "    end = start + nb_row\n",
    "    \n",
    "    df = scaled_data.iloc[start:end, :]\n",
    "    print('window = ' + str(i))\n",
    "    print('start = ' + str(start))\n",
    "    print('end = ' + str(end))\n",
    "    print('')"
   ]
  }
 ],
 "metadata": {
  "kernelspec": {
   "display_name": "Python 3",
   "language": "python",
   "name": "python3"
  },
  "language_info": {
   "codemirror_mode": {
    "name": "ipython",
    "version": 3
   },
   "file_extension": ".py",
   "mimetype": "text/x-python",
   "name": "python",
   "nbconvert_exporter": "python",
   "pygments_lexer": "ipython3",
   "version": "3.7.4"
  }
 },
 "nbformat": 4,
 "nbformat_minor": 4
}
