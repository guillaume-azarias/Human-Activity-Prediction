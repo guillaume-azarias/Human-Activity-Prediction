{
 "cells": [
  {
   "cell_type": "markdown",
   "metadata": {},
   "source": [
    "## Function to downsample the dataset, run a GridSearch, sort the best model according to the mean average percentage error\n",
    "\n",
    "* Downsampling of dataset: Pick 10 days in a device-specific dataset and will run the GridSearch. Allow to run the algorithm on all device-specific dataframes.\n",
    "* GridSearch trying Prophet with different training periods (8, 10 or 12 training days). This was the most critical parameter affecting the mean average percentage error (mape).\n",
    "* Sort the Prophet model according to the mape. Save the best model with graph and a dataframe containing the prediction and actual data."
   ]
  },
  {
   "cell_type": "markdown",
   "metadata": {},
   "source": [
    "## 1 - Import the relevant library"
   ]
  },
  {
   "cell_type": "code",
   "execution_count": 1,
   "metadata": {
    "colab": {},
    "colab_type": "code",
    "id": "tqBSZowXa-O0"
   },
   "outputs": [],
   "source": [
    "import pandas as pd\n",
    "import numpy as np\n",
    "import time\n",
    "import re\n",
    "\n",
    "import seaborn as sns\n",
    "sns.set()\n",
    "import matplotlib.pyplot as plt\n",
    "from matplotlib.dates import DateFormatter\n",
    "\n",
    "# Note that the interactive plot may not work in Jupyter lab, but only in Jupyter Notebook (conflict of javascripts)\n",
    "%matplotlib widget \n",
    "\n",
    "from datetime import datetime, timedelta\n",
    "from pytz import timezone"
   ]
  },
  {
   "cell_type": "code",
   "execution_count": 2,
   "metadata": {
    "colab": {},
    "colab_type": "code",
    "id": "n8FSgHwCa6bi"
   },
   "outputs": [],
   "source": [
    "import fbprophet\n",
    "from fbprophet import Prophet\n",
    "from fbprophet.diagnostics import cross_validation, performance_metrics\n",
    "from fbprophet.plot import plot_cross_validation_metric"
   ]
  },
  {
   "cell_type": "code",
   "execution_count": 3,
   "metadata": {
    "colab": {
     "base_uri": "https://localhost:8080/",
     "height": 34
    },
    "colab_type": "code",
    "id": "rKZsaWFTa9Km",
    "outputId": "15c0d68c-89da-4503-b0c4-98703d9a789a"
   },
   "outputs": [
    {
     "data": {
      "text/plain": [
       "'0.6'"
      ]
     },
     "execution_count": 3,
     "metadata": {},
     "output_type": "execute_result"
    }
   ],
   "source": [
    "fbprophet.__version__"
   ]
  },
  {
   "cell_type": "code",
   "execution_count": 4,
   "metadata": {},
   "outputs": [],
   "source": [
    "from sklearn.model_selection import ParameterGrid\n",
    "import itertools\n",
    "from random import sample"
   ]
  },
  {
   "cell_type": "code",
   "execution_count": 5,
   "metadata": {},
   "outputs": [],
   "source": [
    "# Import the functions from the helper.py\n",
    "from helper import load_ds, df_dev_formater, find_index, df_generator, prophet_fit, prophet_plot, get_outliers, prophet, GridSearch_Prophet"
   ]
  },
  {
   "cell_type": "code",
   "execution_count": 6,
   "metadata": {},
   "outputs": [
    {
     "name": "stdout",
     "output_type": "stream",
     "text": [
      "Check report:\n",
      "##############################################\n",
      "['Device contained in the dataset: device45']\n",
      "['Tenant using the device: tenant08']\n",
      "\n",
      "Data types:\n",
      "device                                object\n",
      "tenant                                object\n",
      "ds             datetime64[ns, Europe/Zurich]\n",
      "light                                float64\n",
      "temperature                          float64\n",
      "humidity                             float64\n",
      "co2                                  float64\n",
      "dtype: object\n",
      "\n",
      "Available data from the 2019-10-23 to the 2020-03-26.\n",
      "\n",
      "prophet_instance nb 0\n",
      "Full dataset: 2019-10-23 to the 2020-03-26. Analysed data the 2020-03-06 to the 2020-03-18.\n",
      "o Trained on the data from the 2020-03-06 to the 2020-03-17 (10 days).\n",
      "o Predict from the 2020-03-17 to the 2020-03-18 (1 days).\n"
     ]
    },
    {
     "data": {
      "application/vnd.jupyter.widget-view+json": {
       "model_id": "ee28a6fdab7047aebf4de393363cb236",
       "version_major": 2,
       "version_minor": 0
      },
      "text/plain": [
       "Canvas(toolbar=Toolbar(toolitems=[('Home', 'Reset original view', 'home', 'home'), ('Back', 'Back to previous …"
      ]
     },
     "metadata": {},
     "output_type": "display_data"
    },
    {
     "name": "stdout",
     "output_type": "stream",
     "text": [
      "\n",
      "prophet_instance nb 1\n",
      "Full dataset: 2019-10-23 to the 2020-03-26. Analysed data the 2020-03-06 to the 2020-03-18.\n",
      "o Trained on the data from the 2020-03-06 to the 2020-03-17 (10 days).\n",
      "o Predict from the 2020-03-17 to the 2020-03-18 (1 days).\n"
     ]
    },
    {
     "data": {
      "application/vnd.jupyter.widget-view+json": {
       "model_id": "3a08bce7f5a745bb83b1aade7237300a",
       "version_major": 2,
       "version_minor": 0
      },
      "text/plain": [
       "Canvas(toolbar=Toolbar(toolitems=[('Home', 'Reset original view', 'home', 'home'), ('Back', 'Back to previous …"
      ]
     },
     "metadata": {},
     "output_type": "display_data"
    },
    {
     "name": "stdout",
     "output_type": "stream",
     "text": [
      "\n",
      "prophet_instance nb 2\n",
      "Full dataset: 2019-10-23 to the 2020-03-26. Analysed data the 2020-03-08 to the 2020-03-18.\n",
      "o Trained on the data from the 2020-03-08 to the 2020-03-17 (8 days).\n",
      "o Predict from the 2020-03-17 to the 2020-03-18 (1 days).\n"
     ]
    },
    {
     "data": {
      "application/vnd.jupyter.widget-view+json": {
       "model_id": "9989e15036cf4079b0995d5debfdaa79",
       "version_major": 2,
       "version_minor": 0
      },
      "text/plain": [
       "Canvas(toolbar=Toolbar(toolitems=[('Home', 'Reset original view', 'home', 'home'), ('Back', 'Back to previous …"
      ]
     },
     "metadata": {},
     "output_type": "display_data"
    },
    {
     "name": "stdout",
     "output_type": "stream",
     "text": [
      "\n",
      "prophet_instance nb 3\n",
      "Full dataset: 2019-10-23 to the 2020-03-26. Analysed data the 2020-03-08 to the 2020-03-18.\n",
      "o Trained on the data from the 2020-03-08 to the 2020-03-17 (8 days).\n",
      "o Predict from the 2020-03-17 to the 2020-03-18 (1 days).\n"
     ]
    },
    {
     "data": {
      "application/vnd.jupyter.widget-view+json": {
       "model_id": "36251e77b5954e779fbb9397db769332",
       "version_major": 2,
       "version_minor": 0
      },
      "text/plain": [
       "Canvas(toolbar=Toolbar(toolitems=[('Home', 'Reset original view', 'home', 'home'), ('Back', 'Back to previous …"
      ]
     },
     "metadata": {},
     "output_type": "display_data"
    },
    {
     "name": "stdout",
     "output_type": "stream",
     "text": [
      "\n",
      "prophet_instance nb 4\n",
      "Full dataset: 2019-10-23 to the 2020-03-26. Analysed data the 2020-03-10 to the 2020-03-18.\n",
      "o Trained on the data from the 2020-03-10 to the 2020-03-17 (6 days).\n",
      "o Predict from the 2020-03-17 to the 2020-03-18 (1 days).\n"
     ]
    },
    {
     "data": {
      "application/vnd.jupyter.widget-view+json": {
       "model_id": "9d77e1e40db444b4be7dad7e4a7291d4",
       "version_major": 2,
       "version_minor": 0
      },
      "text/plain": [
       "Canvas(toolbar=Toolbar(toolitems=[('Home', 'Reset original view', 'home', 'home'), ('Back', 'Back to previous …"
      ]
     },
     "metadata": {},
     "output_type": "display_data"
    },
    {
     "name": "stdout",
     "output_type": "stream",
     "text": [
      "\n",
      "prophet_instance nb 5\n",
      "Full dataset: 2019-10-23 to the 2020-03-26. Analysed data the 2020-03-10 to the 2020-03-18.\n",
      "o Trained on the data from the 2020-03-10 to the 2020-03-17 (6 days).\n",
      "o Predict from the 2020-03-17 to the 2020-03-18 (1 days).\n"
     ]
    },
    {
     "data": {
      "application/vnd.jupyter.widget-view+json": {
       "model_id": "27869a8f410c4635816f453a664c913e",
       "version_major": 2,
       "version_minor": 0
      },
      "text/plain": [
       "Canvas(toolbar=Toolbar(toolitems=[('Home', 'Reset original view', 'home', 'home'), ('Back', 'Back to previous …"
      ]
     },
     "metadata": {},
     "output_type": "display_data"
    },
    {
     "name": "stdout",
     "output_type": "stream",
     "text": [
      "Time elapsed: 2 minutes.\n",
      "Saving the best model\n",
      "\n",
      "prophet_instance nb 0\n",
      "Full dataset: 2019-10-23 to the 2020-03-26. Analysed data the 2020-03-10 to the 2020-03-18.\n",
      "o Trained on the data from the 2020-03-10 to the 2020-03-17 (6 days).\n",
      "o Predict from the 2020-03-17 to the 2020-03-18 (1 days).\n"
     ]
    },
    {
     "data": {
      "application/vnd.jupyter.widget-view+json": {
       "model_id": "4742055955b34ea798f42927a34920c0",
       "version_major": 2,
       "version_minor": 0
      },
      "text/plain": [
       "Canvas(toolbar=Toolbar(toolitems=[('Home', 'Reset original view', 'home', 'home'), ('Back', 'Back to previous …"
      ]
     },
     "metadata": {},
     "output_type": "display_data"
    },
    {
     "name": "stdout",
     "output_type": "stream",
     "text": [
      "Full analysis completed in 3 minutes.\n",
      "\n",
      "prophet_instance nb 0\n",
      "Full dataset: 2019-10-23 to the 2020-03-26. Analysed data the 2020-02-03 to the 2020-02-15.\n",
      "o Trained on the data from the 2020-02-03 to the 2020-02-14 (10 days).\n",
      "o Predict from the 2020-02-14 to the 2020-02-15 (1 days).\n"
     ]
    },
    {
     "data": {
      "application/vnd.jupyter.widget-view+json": {
       "model_id": "4b141db14bed473081f851e867d9d0f3",
       "version_major": 2,
       "version_minor": 0
      },
      "text/plain": [
       "Canvas(toolbar=Toolbar(toolitems=[('Home', 'Reset original view', 'home', 'home'), ('Back', 'Back to previous …"
      ]
     },
     "metadata": {},
     "output_type": "display_data"
    },
    {
     "name": "stdout",
     "output_type": "stream",
     "text": [
      "\n",
      "prophet_instance nb 1\n",
      "Full dataset: 2019-10-23 to the 2020-03-26. Analysed data the 2020-02-03 to the 2020-02-15.\n",
      "o Trained on the data from the 2020-02-03 to the 2020-02-14 (10 days).\n",
      "o Predict from the 2020-02-14 to the 2020-02-15 (1 days).\n"
     ]
    },
    {
     "data": {
      "application/vnd.jupyter.widget-view+json": {
       "model_id": "b5b0417cfcbd4b35b17696189dadc3d9",
       "version_major": 2,
       "version_minor": 0
      },
      "text/plain": [
       "Canvas(toolbar=Toolbar(toolitems=[('Home', 'Reset original view', 'home', 'home'), ('Back', 'Back to previous …"
      ]
     },
     "metadata": {},
     "output_type": "display_data"
    },
    {
     "name": "stdout",
     "output_type": "stream",
     "text": [
      "\n",
      "prophet_instance nb 2\n",
      "Full dataset: 2019-10-23 to the 2020-03-26. Analysed data the 2020-02-05 to the 2020-02-15.\n",
      "o Trained on the data from the 2020-02-05 to the 2020-02-14 (8 days).\n",
      "o Predict from the 2020-02-14 to the 2020-02-15 (1 days).\n"
     ]
    },
    {
     "data": {
      "application/vnd.jupyter.widget-view+json": {
       "model_id": "125c7726d038468493429a4c4581d1a0",
       "version_major": 2,
       "version_minor": 0
      },
      "text/plain": [
       "Canvas(toolbar=Toolbar(toolitems=[('Home', 'Reset original view', 'home', 'home'), ('Back', 'Back to previous …"
      ]
     },
     "metadata": {},
     "output_type": "display_data"
    },
    {
     "name": "stdout",
     "output_type": "stream",
     "text": [
      "\n",
      "prophet_instance nb 3\n",
      "Full dataset: 2019-10-23 to the 2020-03-26. Analysed data the 2020-02-05 to the 2020-02-15.\n",
      "o Trained on the data from the 2020-02-05 to the 2020-02-14 (8 days).\n",
      "o Predict from the 2020-02-14 to the 2020-02-15 (1 days).\n"
     ]
    },
    {
     "data": {
      "application/vnd.jupyter.widget-view+json": {
       "model_id": "6cf602e2e4f84a3f972c56e616f92bb9",
       "version_major": 2,
       "version_minor": 0
      },
      "text/plain": [
       "Canvas(toolbar=Toolbar(toolitems=[('Home', 'Reset original view', 'home', 'home'), ('Back', 'Back to previous …"
      ]
     },
     "metadata": {},
     "output_type": "display_data"
    },
    {
     "name": "stdout",
     "output_type": "stream",
     "text": [
      "\n",
      "prophet_instance nb 4\n",
      "Full dataset: 2019-10-23 to the 2020-03-26. Analysed data the 2020-02-07 to the 2020-02-15.\n",
      "o Trained on the data from the 2020-02-07 to the 2020-02-14 (6 days).\n",
      "o Predict from the 2020-02-14 to the 2020-02-15 (1 days).\n"
     ]
    },
    {
     "data": {
      "application/vnd.jupyter.widget-view+json": {
       "model_id": "0febdc85afc14743a6aca0d7c3e2155c",
       "version_major": 2,
       "version_minor": 0
      },
      "text/plain": [
       "Canvas(toolbar=Toolbar(toolitems=[('Home', 'Reset original view', 'home', 'home'), ('Back', 'Back to previous …"
      ]
     },
     "metadata": {},
     "output_type": "display_data"
    },
    {
     "name": "stdout",
     "output_type": "stream",
     "text": [
      "\n",
      "prophet_instance nb 5\n",
      "Full dataset: 2019-10-23 to the 2020-03-26. Analysed data the 2020-02-07 to the 2020-02-15.\n",
      "o Trained on the data from the 2020-02-07 to the 2020-02-14 (6 days).\n",
      "o Predict from the 2020-02-14 to the 2020-02-15 (1 days).\n"
     ]
    },
    {
     "data": {
      "application/vnd.jupyter.widget-view+json": {
       "model_id": "e5f53f7b2051406aa094b52079019ec3",
       "version_major": 2,
       "version_minor": 0
      },
      "text/plain": [
       "Canvas(toolbar=Toolbar(toolitems=[('Home', 'Reset original view', 'home', 'home'), ('Back', 'Back to previous …"
      ]
     },
     "metadata": {},
     "output_type": "display_data"
    },
    {
     "name": "stdout",
     "output_type": "stream",
     "text": [
      "Time elapsed: 5 minutes.\n",
      "Saving the best model\n",
      "\n",
      "prophet_instance nb 0\n",
      "Full dataset: 2019-10-23 to the 2020-03-26. Analysed data the 2020-02-03 to the 2020-02-15.\n",
      "o Trained on the data from the 2020-02-03 to the 2020-02-14 (10 days).\n",
      "o Predict from the 2020-02-14 to the 2020-02-15 (1 days).\n"
     ]
    },
    {
     "data": {
      "application/vnd.jupyter.widget-view+json": {
       "model_id": "bd3a5d50c9664851a1bcdd9a2802b0fd",
       "version_major": 2,
       "version_minor": 0
      },
      "text/plain": [
       "Canvas(toolbar=Toolbar(toolitems=[('Home', 'Reset original view', 'home', 'home'), ('Back', 'Back to previous …"
      ]
     },
     "metadata": {},
     "output_type": "display_data"
    },
    {
     "name": "stdout",
     "output_type": "stream",
     "text": [
      "Full analysis completed in 6 minutes.\n",
      "\n",
      "prophet_instance nb 0\n",
      "Full dataset: 2019-10-23 to the 2020-03-26. Analysed data the 2020-01-04 to the 2020-01-16.\n",
      "o Trained on the data from the 2020-01-04 to the 2020-01-15 (10 days).\n",
      "o Predict from the 2020-01-15 to the 2020-01-16 (1 days).\n"
     ]
    },
    {
     "data": {
      "application/vnd.jupyter.widget-view+json": {
       "model_id": "a61b74f7600440a08e3af663af37f8be",
       "version_major": 2,
       "version_minor": 0
      },
      "text/plain": [
       "Canvas(toolbar=Toolbar(toolitems=[('Home', 'Reset original view', 'home', 'home'), ('Back', 'Back to previous …"
      ]
     },
     "metadata": {},
     "output_type": "display_data"
    },
    {
     "name": "stdout",
     "output_type": "stream",
     "text": [
      "\n",
      "prophet_instance nb 1\n",
      "Full dataset: 2019-10-23 to the 2020-03-26. Analysed data the 2020-01-04 to the 2020-01-16.\n",
      "o Trained on the data from the 2020-01-04 to the 2020-01-15 (10 days).\n",
      "o Predict from the 2020-01-15 to the 2020-01-16 (1 days).\n"
     ]
    },
    {
     "data": {
      "application/vnd.jupyter.widget-view+json": {
       "model_id": "d7918c7e54ce4982b62195e4c51a55e3",
       "version_major": 2,
       "version_minor": 0
      },
      "text/plain": [
       "Canvas(toolbar=Toolbar(toolitems=[('Home', 'Reset original view', 'home', 'home'), ('Back', 'Back to previous …"
      ]
     },
     "metadata": {},
     "output_type": "display_data"
    },
    {
     "name": "stdout",
     "output_type": "stream",
     "text": [
      "\n",
      "prophet_instance nb 2\n",
      "Full dataset: 2019-10-23 to the 2020-03-26. Analysed data the 2020-01-06 to the 2020-01-16.\n",
      "o Trained on the data from the 2020-01-06 to the 2020-01-15 (8 days).\n",
      "o Predict from the 2020-01-15 to the 2020-01-16 (1 days).\n"
     ]
    },
    {
     "data": {
      "application/vnd.jupyter.widget-view+json": {
       "model_id": "85ef8506678d4056989dbba1a04af515",
       "version_major": 2,
       "version_minor": 0
      },
      "text/plain": [
       "Canvas(toolbar=Toolbar(toolitems=[('Home', 'Reset original view', 'home', 'home'), ('Back', 'Back to previous …"
      ]
     },
     "metadata": {},
     "output_type": "display_data"
    },
    {
     "name": "stdout",
     "output_type": "stream",
     "text": [
      "\n",
      "prophet_instance nb 3\n",
      "Full dataset: 2019-10-23 to the 2020-03-26. Analysed data the 2020-01-06 to the 2020-01-16.\n",
      "o Trained on the data from the 2020-01-06 to the 2020-01-15 (8 days).\n",
      "o Predict from the 2020-01-15 to the 2020-01-16 (1 days).\n"
     ]
    },
    {
     "data": {
      "application/vnd.jupyter.widget-view+json": {
       "model_id": "ba086276ab294db4b5f4f654839dc465",
       "version_major": 2,
       "version_minor": 0
      },
      "text/plain": [
       "Canvas(toolbar=Toolbar(toolitems=[('Home', 'Reset original view', 'home', 'home'), ('Back', 'Back to previous …"
      ]
     },
     "metadata": {},
     "output_type": "display_data"
    },
    {
     "name": "stdout",
     "output_type": "stream",
     "text": [
      "\n",
      "prophet_instance nb 4\n",
      "Full dataset: 2019-10-23 to the 2020-03-26. Analysed data the 2020-01-08 to the 2020-01-16.\n",
      "o Trained on the data from the 2020-01-08 to the 2020-01-15 (6 days).\n",
      "o Predict from the 2020-01-15 to the 2020-01-16 (1 days).\n"
     ]
    },
    {
     "data": {
      "application/vnd.jupyter.widget-view+json": {
       "model_id": "8576f1e5a37542988c18950bd52983ff",
       "version_major": 2,
       "version_minor": 0
      },
      "text/plain": [
       "Canvas(toolbar=Toolbar(toolitems=[('Home', 'Reset original view', 'home', 'home'), ('Back', 'Back to previous …"
      ]
     },
     "metadata": {},
     "output_type": "display_data"
    },
    {
     "name": "stdout",
     "output_type": "stream",
     "text": [
      "\n",
      "prophet_instance nb 5\n",
      "Full dataset: 2019-10-23 to the 2020-03-26. Analysed data the 2020-01-08 to the 2020-01-16.\n",
      "o Trained on the data from the 2020-01-08 to the 2020-01-15 (6 days).\n",
      "o Predict from the 2020-01-15 to the 2020-01-16 (1 days).\n"
     ]
    },
    {
     "data": {
      "application/vnd.jupyter.widget-view+json": {
       "model_id": "924253be7a604a0e9c8b1eaa8f281708",
       "version_major": 2,
       "version_minor": 0
      },
      "text/plain": [
       "Canvas(toolbar=Toolbar(toolitems=[('Home', 'Reset original view', 'home', 'home'), ('Back', 'Back to previous …"
      ]
     },
     "metadata": {},
     "output_type": "display_data"
    },
    {
     "name": "stdout",
     "output_type": "stream",
     "text": [
      "Time elapsed: 8 minutes.\n",
      "Saving the best model\n",
      "\n",
      "prophet_instance nb 0\n",
      "Full dataset: 2019-10-23 to the 2020-03-26. Analysed data the 2020-01-06 to the 2020-01-16.\n",
      "o Trained on the data from the 2020-01-06 to the 2020-01-15 (8 days).\n",
      "o Predict from the 2020-01-15 to the 2020-01-16 (1 days).\n"
     ]
    },
    {
     "data": {
      "application/vnd.jupyter.widget-view+json": {
       "model_id": "063b4ef5199c49a9bc3ca0c60edb5d29",
       "version_major": 2,
       "version_minor": 0
      },
      "text/plain": [
       "Canvas(toolbar=Toolbar(toolitems=[('Home', 'Reset original view', 'home', 'home'), ('Back', 'Back to previous …"
      ]
     },
     "metadata": {},
     "output_type": "display_data"
    },
    {
     "name": "stdout",
     "output_type": "stream",
     "text": [
      "Full analysis completed in 8 minutes.\n",
      "\n",
      "prophet_instance nb 0\n",
      "Full dataset: 2019-10-23 to the 2020-03-26. Analysed data the 2019-12-27 to the 2020-01-08.\n",
      "o Trained on the data from the 2019-12-27 to the 2020-01-07 (10 days).\n",
      "o Predict from the 2020-01-07 to the 2020-01-08 (1 days).\n"
     ]
    },
    {
     "data": {
      "application/vnd.jupyter.widget-view+json": {
       "model_id": "0787c72158b64c93a4ecfe58c37778b0",
       "version_major": 2,
       "version_minor": 0
      },
      "text/plain": [
       "Canvas(toolbar=Toolbar(toolitems=[('Home', 'Reset original view', 'home', 'home'), ('Back', 'Back to previous …"
      ]
     },
     "metadata": {},
     "output_type": "display_data"
    },
    {
     "name": "stdout",
     "output_type": "stream",
     "text": [
      "\n",
      "prophet_instance nb 1\n",
      "Full dataset: 2019-10-23 to the 2020-03-26. Analysed data the 2019-12-27 to the 2020-01-08.\n",
      "o Trained on the data from the 2019-12-27 to the 2020-01-07 (10 days).\n",
      "o Predict from the 2020-01-07 to the 2020-01-08 (1 days).\n"
     ]
    },
    {
     "data": {
      "application/vnd.jupyter.widget-view+json": {
       "model_id": "d964088284594856998702e53416f10c",
       "version_major": 2,
       "version_minor": 0
      },
      "text/plain": [
       "Canvas(toolbar=Toolbar(toolitems=[('Home', 'Reset original view', 'home', 'home'), ('Back', 'Back to previous …"
      ]
     },
     "metadata": {},
     "output_type": "display_data"
    },
    {
     "name": "stdout",
     "output_type": "stream",
     "text": [
      "\n",
      "prophet_instance nb 2\n",
      "Full dataset: 2019-10-23 to the 2020-03-26. Analysed data the 2019-12-29 to the 2020-01-08.\n",
      "o Trained on the data from the 2019-12-29 to the 2020-01-07 (8 days).\n",
      "o Predict from the 2020-01-07 to the 2020-01-08 (1 days).\n"
     ]
    },
    {
     "data": {
      "application/vnd.jupyter.widget-view+json": {
       "model_id": "baa32cc3747549d7aba9dc08a4cb7726",
       "version_major": 2,
       "version_minor": 0
      },
      "text/plain": [
       "Canvas(toolbar=Toolbar(toolitems=[('Home', 'Reset original view', 'home', 'home'), ('Back', 'Back to previous …"
      ]
     },
     "metadata": {},
     "output_type": "display_data"
    },
    {
     "name": "stdout",
     "output_type": "stream",
     "text": [
      "\n",
      "prophet_instance nb 3\n",
      "Full dataset: 2019-10-23 to the 2020-03-26. Analysed data the 2019-12-29 to the 2020-01-08.\n",
      "o Trained on the data from the 2019-12-29 to the 2020-01-07 (8 days).\n",
      "o Predict from the 2020-01-07 to the 2020-01-08 (1 days).\n"
     ]
    },
    {
     "data": {
      "application/vnd.jupyter.widget-view+json": {
       "model_id": "0a83264f8865431ba9fd73e64b60c2e0",
       "version_major": 2,
       "version_minor": 0
      },
      "text/plain": [
       "Canvas(toolbar=Toolbar(toolitems=[('Home', 'Reset original view', 'home', 'home'), ('Back', 'Back to previous …"
      ]
     },
     "metadata": {},
     "output_type": "display_data"
    },
    {
     "name": "stdout",
     "output_type": "stream",
     "text": [
      "\n",
      "prophet_instance nb 4\n",
      "Full dataset: 2019-10-23 to the 2020-03-26. Analysed data the 2019-12-31 to the 2020-01-08.\n",
      "o Trained on the data from the 2019-12-31 to the 2020-01-07 (6 days).\n",
      "o Predict from the 2020-01-07 to the 2020-01-08 (1 days).\n"
     ]
    },
    {
     "data": {
      "application/vnd.jupyter.widget-view+json": {
       "model_id": "89b0933d2482435b9ab97b2a564bb265",
       "version_major": 2,
       "version_minor": 0
      },
      "text/plain": [
       "Canvas(toolbar=Toolbar(toolitems=[('Home', 'Reset original view', 'home', 'home'), ('Back', 'Back to previous …"
      ]
     },
     "metadata": {},
     "output_type": "display_data"
    },
    {
     "name": "stdout",
     "output_type": "stream",
     "text": [
      "\n",
      "prophet_instance nb 5\n",
      "Full dataset: 2019-10-23 to the 2020-03-26. Analysed data the 2019-12-31 to the 2020-01-08.\n",
      "o Trained on the data from the 2019-12-31 to the 2020-01-07 (6 days).\n",
      "o Predict from the 2020-01-07 to the 2020-01-08 (1 days).\n"
     ]
    },
    {
     "data": {
      "application/vnd.jupyter.widget-view+json": {
       "model_id": "d146a302f5394e2984cf38a8c2c198f0",
       "version_major": 2,
       "version_minor": 0
      },
      "text/plain": [
       "Canvas(toolbar=Toolbar(toolitems=[('Home', 'Reset original view', 'home', 'home'), ('Back', 'Back to previous …"
      ]
     },
     "metadata": {},
     "output_type": "display_data"
    },
    {
     "name": "stdout",
     "output_type": "stream",
     "text": [
      "Time elapsed: 11 minutes.\n",
      "Saving the best model\n",
      "\n",
      "prophet_instance nb 0\n",
      "Full dataset: 2019-10-23 to the 2020-03-26. Analysed data the 2019-12-27 to the 2020-01-08.\n",
      "o Trained on the data from the 2019-12-27 to the 2020-01-07 (10 days).\n",
      "o Predict from the 2020-01-07 to the 2020-01-08 (1 days).\n"
     ]
    },
    {
     "data": {
      "application/vnd.jupyter.widget-view+json": {
       "model_id": "e91e0fad332042e488e98d2b2ed7556e",
       "version_major": 2,
       "version_minor": 0
      },
      "text/plain": [
       "Canvas(toolbar=Toolbar(toolitems=[('Home', 'Reset original view', 'home', 'home'), ('Back', 'Back to previous …"
      ]
     },
     "metadata": {},
     "output_type": "display_data"
    },
    {
     "name": "stdout",
     "output_type": "stream",
     "text": [
      "Full analysis completed in 11 minutes.\n",
      "\n",
      "prophet_instance nb 0\n",
      "Full dataset: 2019-10-23 to the 2020-03-26. Analysed data the 2020-02-08 to the 2020-02-20.\n",
      "o Trained on the data from the 2020-02-08 to the 2020-02-19 (10 days).\n",
      "o Predict from the 2020-02-19 to the 2020-02-20 (1 days).\n"
     ]
    },
    {
     "data": {
      "application/vnd.jupyter.widget-view+json": {
       "model_id": "4ca64de3ffb34e339ed7a3b4db4308dc",
       "version_major": 2,
       "version_minor": 0
      },
      "text/plain": [
       "Canvas(toolbar=Toolbar(toolitems=[('Home', 'Reset original view', 'home', 'home'), ('Back', 'Back to previous …"
      ]
     },
     "metadata": {},
     "output_type": "display_data"
    },
    {
     "name": "stdout",
     "output_type": "stream",
     "text": [
      "\n",
      "prophet_instance nb 1\n",
      "Full dataset: 2019-10-23 to the 2020-03-26. Analysed data the 2020-02-08 to the 2020-02-20.\n",
      "o Trained on the data from the 2020-02-08 to the 2020-02-19 (10 days).\n",
      "o Predict from the 2020-02-19 to the 2020-02-20 (1 days).\n"
     ]
    },
    {
     "data": {
      "application/vnd.jupyter.widget-view+json": {
       "model_id": "148d8ab23e734b9098823407a73c148d",
       "version_major": 2,
       "version_minor": 0
      },
      "text/plain": [
       "Canvas(toolbar=Toolbar(toolitems=[('Home', 'Reset original view', 'home', 'home'), ('Back', 'Back to previous …"
      ]
     },
     "metadata": {},
     "output_type": "display_data"
    },
    {
     "name": "stdout",
     "output_type": "stream",
     "text": [
      "\n",
      "prophet_instance nb 2\n",
      "Full dataset: 2019-10-23 to the 2020-03-26. Analysed data the 2020-02-10 to the 2020-02-20.\n",
      "o Trained on the data from the 2020-02-10 to the 2020-02-19 (8 days).\n",
      "o Predict from the 2020-02-19 to the 2020-02-20 (1 days).\n"
     ]
    },
    {
     "data": {
      "application/vnd.jupyter.widget-view+json": {
       "model_id": "de799dad1b69418ca8253ed75e478f0a",
       "version_major": 2,
       "version_minor": 0
      },
      "text/plain": [
       "Canvas(toolbar=Toolbar(toolitems=[('Home', 'Reset original view', 'home', 'home'), ('Back', 'Back to previous …"
      ]
     },
     "metadata": {},
     "output_type": "display_data"
    },
    {
     "name": "stdout",
     "output_type": "stream",
     "text": [
      "\n",
      "prophet_instance nb 3\n",
      "Full dataset: 2019-10-23 to the 2020-03-26. Analysed data the 2020-02-10 to the 2020-02-20.\n",
      "o Trained on the data from the 2020-02-10 to the 2020-02-19 (8 days).\n",
      "o Predict from the 2020-02-19 to the 2020-02-20 (1 days).\n"
     ]
    },
    {
     "data": {
      "application/vnd.jupyter.widget-view+json": {
       "model_id": "df5aa2b4e24645858eee6d7047c96e67",
       "version_major": 2,
       "version_minor": 0
      },
      "text/plain": [
       "Canvas(toolbar=Toolbar(toolitems=[('Home', 'Reset original view', 'home', 'home'), ('Back', 'Back to previous …"
      ]
     },
     "metadata": {},
     "output_type": "display_data"
    },
    {
     "name": "stdout",
     "output_type": "stream",
     "text": [
      "\n",
      "prophet_instance nb 4\n",
      "Full dataset: 2019-10-23 to the 2020-03-26. Analysed data the 2020-02-12 to the 2020-02-20.\n",
      "o Trained on the data from the 2020-02-12 to the 2020-02-19 (6 days).\n",
      "o Predict from the 2020-02-19 to the 2020-02-20 (1 days).\n"
     ]
    },
    {
     "data": {
      "application/vnd.jupyter.widget-view+json": {
       "model_id": "b62f5825f0694edf8679734275b1e748",
       "version_major": 2,
       "version_minor": 0
      },
      "text/plain": [
       "Canvas(toolbar=Toolbar(toolitems=[('Home', 'Reset original view', 'home', 'home'), ('Back', 'Back to previous …"
      ]
     },
     "metadata": {},
     "output_type": "display_data"
    },
    {
     "name": "stdout",
     "output_type": "stream",
     "text": [
      "\n",
      "prophet_instance nb 5\n",
      "Full dataset: 2019-10-23 to the 2020-03-26. Analysed data the 2020-02-12 to the 2020-02-20.\n",
      "o Trained on the data from the 2020-02-12 to the 2020-02-19 (6 days).\n",
      "o Predict from the 2020-02-19 to the 2020-02-20 (1 days).\n"
     ]
    },
    {
     "data": {
      "application/vnd.jupyter.widget-view+json": {
       "model_id": "60282648c94648f686325659ba131fce",
       "version_major": 2,
       "version_minor": 0
      },
      "text/plain": [
       "Canvas(toolbar=Toolbar(toolitems=[('Home', 'Reset original view', 'home', 'home'), ('Back', 'Back to previous …"
      ]
     },
     "metadata": {},
     "output_type": "display_data"
    },
    {
     "name": "stdout",
     "output_type": "stream",
     "text": [
      "Time elapsed: 13 minutes.\n",
      "Saving the best model\n",
      "\n",
      "prophet_instance nb 0\n",
      "Full dataset: 2019-10-23 to the 2020-03-26. Analysed data the 2020-02-08 to the 2020-02-20.\n",
      "o Trained on the data from the 2020-02-08 to the 2020-02-19 (10 days).\n",
      "o Predict from the 2020-02-19 to the 2020-02-20 (1 days).\n"
     ]
    },
    {
     "data": {
      "application/vnd.jupyter.widget-view+json": {
       "model_id": "77d920d99a7c4d7083a7ca786778b975",
       "version_major": 2,
       "version_minor": 0
      },
      "text/plain": [
       "Canvas(toolbar=Toolbar(toolitems=[('Home', 'Reset original view', 'home', 'home'), ('Back', 'Back to previous …"
      ]
     },
     "metadata": {},
     "output_type": "display_data"
    },
    {
     "name": "stdout",
     "output_type": "stream",
     "text": [
      "Full analysis completed in 14 minutes.\n",
      "\n",
      "prophet_instance nb 0\n",
      "Full dataset: 2019-10-23 to the 2020-03-26. Analysed data the 2020-02-14 to the 2020-02-26.\n",
      "o Trained on the data from the 2020-02-14 to the 2020-02-25 (10 days).\n",
      "o Predict from the 2020-02-25 to the 2020-02-26 (1 days).\n"
     ]
    },
    {
     "data": {
      "application/vnd.jupyter.widget-view+json": {
       "model_id": "bad7520897db4d0e8b5c6cbbfd5e39da",
       "version_major": 2,
       "version_minor": 0
      },
      "text/plain": [
       "Canvas(toolbar=Toolbar(toolitems=[('Home', 'Reset original view', 'home', 'home'), ('Back', 'Back to previous …"
      ]
     },
     "metadata": {},
     "output_type": "display_data"
    },
    {
     "name": "stdout",
     "output_type": "stream",
     "text": [
      "\n",
      "prophet_instance nb 1\n",
      "Full dataset: 2019-10-23 to the 2020-03-26. Analysed data the 2020-02-14 to the 2020-02-26.\n",
      "o Trained on the data from the 2020-02-14 to the 2020-02-25 (10 days).\n",
      "o Predict from the 2020-02-25 to the 2020-02-26 (1 days).\n"
     ]
    },
    {
     "data": {
      "application/vnd.jupyter.widget-view+json": {
       "model_id": "24199682d24b41e68de9143964cf069b",
       "version_major": 2,
       "version_minor": 0
      },
      "text/plain": [
       "Canvas(toolbar=Toolbar(toolitems=[('Home', 'Reset original view', 'home', 'home'), ('Back', 'Back to previous …"
      ]
     },
     "metadata": {},
     "output_type": "display_data"
    },
    {
     "name": "stdout",
     "output_type": "stream",
     "text": [
      "\n",
      "prophet_instance nb 2\n",
      "Full dataset: 2019-10-23 to the 2020-03-26. Analysed data the 2020-02-16 to the 2020-02-26.\n",
      "o Trained on the data from the 2020-02-16 to the 2020-02-25 (8 days).\n",
      "o Predict from the 2020-02-25 to the 2020-02-26 (1 days).\n"
     ]
    },
    {
     "data": {
      "application/vnd.jupyter.widget-view+json": {
       "model_id": "0f73377cc78f437aa8eb86807c8a91a5",
       "version_major": 2,
       "version_minor": 0
      },
      "text/plain": [
       "Canvas(toolbar=Toolbar(toolitems=[('Home', 'Reset original view', 'home', 'home'), ('Back', 'Back to previous …"
      ]
     },
     "metadata": {},
     "output_type": "display_data"
    },
    {
     "name": "stdout",
     "output_type": "stream",
     "text": [
      "\n",
      "prophet_instance nb 3\n",
      "Full dataset: 2019-10-23 to the 2020-03-26. Analysed data the 2020-02-16 to the 2020-02-26.\n",
      "o Trained on the data from the 2020-02-16 to the 2020-02-25 (8 days).\n",
      "o Predict from the 2020-02-25 to the 2020-02-26 (1 days).\n"
     ]
    },
    {
     "data": {
      "application/vnd.jupyter.widget-view+json": {
       "model_id": "22c5b52e43524abab8415f0146b3386c",
       "version_major": 2,
       "version_minor": 0
      },
      "text/plain": [
       "Canvas(toolbar=Toolbar(toolitems=[('Home', 'Reset original view', 'home', 'home'), ('Back', 'Back to previous …"
      ]
     },
     "metadata": {},
     "output_type": "display_data"
    },
    {
     "name": "stdout",
     "output_type": "stream",
     "text": [
      "\n",
      "prophet_instance nb 4\n",
      "Full dataset: 2019-10-23 to the 2020-03-26. Analysed data the 2020-02-18 to the 2020-02-26.\n",
      "o Trained on the data from the 2020-02-18 to the 2020-02-25 (6 days).\n",
      "o Predict from the 2020-02-25 to the 2020-02-26 (1 days).\n"
     ]
    },
    {
     "data": {
      "application/vnd.jupyter.widget-view+json": {
       "model_id": "f97a269bbeeb4cb48496bd49432ff652",
       "version_major": 2,
       "version_minor": 0
      },
      "text/plain": [
       "Canvas(toolbar=Toolbar(toolitems=[('Home', 'Reset original view', 'home', 'home'), ('Back', 'Back to previous …"
      ]
     },
     "metadata": {},
     "output_type": "display_data"
    },
    {
     "name": "stdout",
     "output_type": "stream",
     "text": [
      "\n",
      "prophet_instance nb 5\n",
      "Full dataset: 2019-10-23 to the 2020-03-26. Analysed data the 2020-02-18 to the 2020-02-26.\n",
      "o Trained on the data from the 2020-02-18 to the 2020-02-25 (6 days).\n",
      "o Predict from the 2020-02-25 to the 2020-02-26 (1 days).\n"
     ]
    },
    {
     "data": {
      "application/vnd.jupyter.widget-view+json": {
       "model_id": "58e32b66e2d64caeacf5dc4590b884ff",
       "version_major": 2,
       "version_minor": 0
      },
      "text/plain": [
       "Canvas(toolbar=Toolbar(toolitems=[('Home', 'Reset original view', 'home', 'home'), ('Back', 'Back to previous …"
      ]
     },
     "metadata": {},
     "output_type": "display_data"
    },
    {
     "name": "stdout",
     "output_type": "stream",
     "text": [
      "Time elapsed: 16 minutes.\n",
      "Saving the best model\n",
      "\n",
      "prophet_instance nb 0\n",
      "Full dataset: 2019-10-23 to the 2020-03-26. Analysed data the 2020-02-16 to the 2020-02-26.\n",
      "o Trained on the data from the 2020-02-16 to the 2020-02-25 (8 days).\n",
      "o Predict from the 2020-02-25 to the 2020-02-26 (1 days).\n"
     ]
    },
    {
     "data": {
      "application/vnd.jupyter.widget-view+json": {
       "model_id": "2cefa6ef430c4977bc9cb5eac30d7adf",
       "version_major": 2,
       "version_minor": 0
      },
      "text/plain": [
       "Canvas(toolbar=Toolbar(toolitems=[('Home', 'Reset original view', 'home', 'home'), ('Back', 'Back to previous …"
      ]
     },
     "metadata": {},
     "output_type": "display_data"
    },
    {
     "name": "stdout",
     "output_type": "stream",
     "text": [
      "Full analysis completed in 16 minutes.\n",
      "\n",
      "prophet_instance nb 0\n",
      "Full dataset: 2019-10-23 to the 2020-03-26. Analysed data the 2019-11-27 to the 2019-12-09.\n",
      "o Trained on the data from the 2019-11-27 to the 2019-12-08 (10 days).\n",
      "o Predict from the 2019-12-08 to the 2019-12-09 (1 days).\n"
     ]
    },
    {
     "data": {
      "application/vnd.jupyter.widget-view+json": {
       "model_id": "ff931c5dff2c4bac96f11ebca8216b54",
       "version_major": 2,
       "version_minor": 0
      },
      "text/plain": [
       "Canvas(toolbar=Toolbar(toolitems=[('Home', 'Reset original view', 'home', 'home'), ('Back', 'Back to previous …"
      ]
     },
     "metadata": {},
     "output_type": "display_data"
    },
    {
     "name": "stdout",
     "output_type": "stream",
     "text": [
      "\n",
      "prophet_instance nb 1\n",
      "Full dataset: 2019-10-23 to the 2020-03-26. Analysed data the 2019-11-27 to the 2019-12-09.\n",
      "o Trained on the data from the 2019-11-27 to the 2019-12-08 (10 days).\n",
      "o Predict from the 2019-12-08 to the 2019-12-09 (1 days).\n"
     ]
    },
    {
     "data": {
      "application/vnd.jupyter.widget-view+json": {
       "model_id": "b77c6d73f5db480ea15603925a1d67cb",
       "version_major": 2,
       "version_minor": 0
      },
      "text/plain": [
       "Canvas(toolbar=Toolbar(toolitems=[('Home', 'Reset original view', 'home', 'home'), ('Back', 'Back to previous …"
      ]
     },
     "metadata": {},
     "output_type": "display_data"
    },
    {
     "name": "stdout",
     "output_type": "stream",
     "text": [
      "\n",
      "prophet_instance nb 2\n",
      "Full dataset: 2019-10-23 to the 2020-03-26. Analysed data the 2019-11-29 to the 2019-12-09.\n",
      "o Trained on the data from the 2019-11-29 to the 2019-12-08 (8 days).\n",
      "o Predict from the 2019-12-08 to the 2019-12-09 (1 days).\n"
     ]
    },
    {
     "data": {
      "application/vnd.jupyter.widget-view+json": {
       "model_id": "117cd51f59024b4b955ffb0476e93306",
       "version_major": 2,
       "version_minor": 0
      },
      "text/plain": [
       "Canvas(toolbar=Toolbar(toolitems=[('Home', 'Reset original view', 'home', 'home'), ('Back', 'Back to previous …"
      ]
     },
     "metadata": {},
     "output_type": "display_data"
    },
    {
     "name": "stdout",
     "output_type": "stream",
     "text": [
      "\n",
      "prophet_instance nb 3\n",
      "Full dataset: 2019-10-23 to the 2020-03-26. Analysed data the 2019-11-29 to the 2019-12-09.\n",
      "o Trained on the data from the 2019-11-29 to the 2019-12-08 (8 days).\n",
      "o Predict from the 2019-12-08 to the 2019-12-09 (1 days).\n"
     ]
    },
    {
     "data": {
      "application/vnd.jupyter.widget-view+json": {
       "model_id": "e6bd9869098342618960f8132d63ee24",
       "version_major": 2,
       "version_minor": 0
      },
      "text/plain": [
       "Canvas(toolbar=Toolbar(toolitems=[('Home', 'Reset original view', 'home', 'home'), ('Back', 'Back to previous …"
      ]
     },
     "metadata": {},
     "output_type": "display_data"
    },
    {
     "name": "stdout",
     "output_type": "stream",
     "text": [
      "\n",
      "prophet_instance nb 4\n",
      "Full dataset: 2019-10-23 to the 2020-03-26. Analysed data the 2019-12-01 to the 2019-12-09.\n",
      "o Trained on the data from the 2019-12-01 to the 2019-12-08 (6 days).\n",
      "o Predict from the 2019-12-08 to the 2019-12-09 (1 days).\n"
     ]
    },
    {
     "data": {
      "application/vnd.jupyter.widget-view+json": {
       "model_id": "b1f372a535a44c76bf84a54e19b5cfef",
       "version_major": 2,
       "version_minor": 0
      },
      "text/plain": [
       "Canvas(toolbar=Toolbar(toolitems=[('Home', 'Reset original view', 'home', 'home'), ('Back', 'Back to previous …"
      ]
     },
     "metadata": {},
     "output_type": "display_data"
    },
    {
     "name": "stdout",
     "output_type": "stream",
     "text": [
      "\n",
      "prophet_instance nb 5\n",
      "Full dataset: 2019-10-23 to the 2020-03-26. Analysed data the 2019-12-01 to the 2019-12-09.\n",
      "o Trained on the data from the 2019-12-01 to the 2019-12-08 (6 days).\n",
      "o Predict from the 2019-12-08 to the 2019-12-09 (1 days).\n"
     ]
    },
    {
     "data": {
      "application/vnd.jupyter.widget-view+json": {
       "model_id": "7653a57611234ce1ad7423171bf18a63",
       "version_major": 2,
       "version_minor": 0
      },
      "text/plain": [
       "Canvas(toolbar=Toolbar(toolitems=[('Home', 'Reset original view', 'home', 'home'), ('Back', 'Back to previous …"
      ]
     },
     "metadata": {},
     "output_type": "display_data"
    },
    {
     "name": "stdout",
     "output_type": "stream",
     "text": [
      "Time elapsed: 19 minutes.\n",
      "Saving the best model\n",
      "\n",
      "prophet_instance nb 0\n",
      "Full dataset: 2019-10-23 to the 2020-03-26. Analysed data the 2019-11-27 to the 2019-12-09.\n",
      "o Trained on the data from the 2019-11-27 to the 2019-12-08 (10 days).\n",
      "o Predict from the 2019-12-08 to the 2019-12-09 (1 days).\n"
     ]
    },
    {
     "data": {
      "application/vnd.jupyter.widget-view+json": {
       "model_id": "418673dd74ed4d738554bad2a5205b76",
       "version_major": 2,
       "version_minor": 0
      },
      "text/plain": [
       "Canvas(toolbar=Toolbar(toolitems=[('Home', 'Reset original view', 'home', 'home'), ('Back', 'Back to previous …"
      ]
     },
     "metadata": {},
     "output_type": "display_data"
    },
    {
     "name": "stdout",
     "output_type": "stream",
     "text": [
      "Full analysis completed in 20 minutes.\n",
      "\n",
      "prophet_instance nb 0\n",
      "Full dataset: 2019-10-23 to the 2020-03-26. Analysed data the 2019-11-19 to the 2019-12-01.\n",
      "o Trained on the data from the 2019-11-19 to the 2019-11-30 (10 days).\n",
      "o Predict from the 2019-11-30 to the 2019-12-01 (1 days).\n"
     ]
    },
    {
     "data": {
      "application/vnd.jupyter.widget-view+json": {
       "model_id": "595dd96c177945ff9c2bb2011f2687d2",
       "version_major": 2,
       "version_minor": 0
      },
      "text/plain": [
       "Canvas(toolbar=Toolbar(toolitems=[('Home', 'Reset original view', 'home', 'home'), ('Back', 'Back to previous …"
      ]
     },
     "metadata": {},
     "output_type": "display_data"
    },
    {
     "name": "stdout",
     "output_type": "stream",
     "text": [
      "\n",
      "prophet_instance nb 1\n",
      "Full dataset: 2019-10-23 to the 2020-03-26. Analysed data the 2019-11-19 to the 2019-12-01.\n",
      "o Trained on the data from the 2019-11-19 to the 2019-11-30 (10 days).\n",
      "o Predict from the 2019-11-30 to the 2019-12-01 (1 days).\n"
     ]
    },
    {
     "data": {
      "application/vnd.jupyter.widget-view+json": {
       "model_id": "d4271eb0337a426196f8826a537dcea5",
       "version_major": 2,
       "version_minor": 0
      },
      "text/plain": [
       "Canvas(toolbar=Toolbar(toolitems=[('Home', 'Reset original view', 'home', 'home'), ('Back', 'Back to previous …"
      ]
     },
     "metadata": {},
     "output_type": "display_data"
    },
    {
     "name": "stdout",
     "output_type": "stream",
     "text": [
      "\n",
      "prophet_instance nb 2\n",
      "Full dataset: 2019-10-23 to the 2020-03-26. Analysed data the 2019-11-21 to the 2019-12-01.\n",
      "o Trained on the data from the 2019-11-21 to the 2019-11-30 (8 days).\n",
      "o Predict from the 2019-11-30 to the 2019-12-01 (1 days).\n"
     ]
    },
    {
     "data": {
      "application/vnd.jupyter.widget-view+json": {
       "model_id": "9c1cd5aa679247e48502583bd7668bc5",
       "version_major": 2,
       "version_minor": 0
      },
      "text/plain": [
       "Canvas(toolbar=Toolbar(toolitems=[('Home', 'Reset original view', 'home', 'home'), ('Back', 'Back to previous …"
      ]
     },
     "metadata": {},
     "output_type": "display_data"
    },
    {
     "name": "stdout",
     "output_type": "stream",
     "text": [
      "\n",
      "prophet_instance nb 3\n",
      "Full dataset: 2019-10-23 to the 2020-03-26. Analysed data the 2019-11-21 to the 2019-12-01.\n",
      "o Trained on the data from the 2019-11-21 to the 2019-11-30 (8 days).\n",
      "o Predict from the 2019-11-30 to the 2019-12-01 (1 days).\n"
     ]
    },
    {
     "data": {
      "application/vnd.jupyter.widget-view+json": {
       "model_id": "3db17b67d8b84d86a5cd80109c202832",
       "version_major": 2,
       "version_minor": 0
      },
      "text/plain": [
       "Canvas(toolbar=Toolbar(toolitems=[('Home', 'Reset original view', 'home', 'home'), ('Back', 'Back to previous …"
      ]
     },
     "metadata": {},
     "output_type": "display_data"
    },
    {
     "name": "stdout",
     "output_type": "stream",
     "text": [
      "\n",
      "prophet_instance nb 4\n",
      "Full dataset: 2019-10-23 to the 2020-03-26. Analysed data the 2019-11-23 to the 2019-12-01.\n",
      "o Trained on the data from the 2019-11-23 to the 2019-11-30 (6 days).\n",
      "o Predict from the 2019-11-30 to the 2019-12-01 (1 days).\n"
     ]
    },
    {
     "data": {
      "application/vnd.jupyter.widget-view+json": {
       "model_id": "b92d4053e08d424ca970c3a903e41b7b",
       "version_major": 2,
       "version_minor": 0
      },
      "text/plain": [
       "Canvas(toolbar=Toolbar(toolitems=[('Home', 'Reset original view', 'home', 'home'), ('Back', 'Back to previous …"
      ]
     },
     "metadata": {},
     "output_type": "display_data"
    },
    {
     "name": "stdout",
     "output_type": "stream",
     "text": [
      "\n",
      "prophet_instance nb 5\n",
      "Full dataset: 2019-10-23 to the 2020-03-26. Analysed data the 2019-11-23 to the 2019-12-01.\n",
      "o Trained on the data from the 2019-11-23 to the 2019-11-30 (6 days).\n",
      "o Predict from the 2019-11-30 to the 2019-12-01 (1 days).\n"
     ]
    },
    {
     "data": {
      "application/vnd.jupyter.widget-view+json": {
       "model_id": "858316eb9f714255867a912c1887a817",
       "version_major": 2,
       "version_minor": 0
      },
      "text/plain": [
       "Canvas(toolbar=Toolbar(toolitems=[('Home', 'Reset original view', 'home', 'home'), ('Back', 'Back to previous …"
      ]
     },
     "metadata": {},
     "output_type": "display_data"
    },
    {
     "name": "stdout",
     "output_type": "stream",
     "text": [
      "Time elapsed: 22 minutes.\n",
      "Saving the best model\n",
      "\n",
      "prophet_instance nb 0\n",
      "Full dataset: 2019-10-23 to the 2020-03-26. Analysed data the 2019-11-19 to the 2019-12-01.\n",
      "o Trained on the data from the 2019-11-19 to the 2019-11-30 (10 days).\n",
      "o Predict from the 2019-11-30 to the 2019-12-01 (1 days).\n"
     ]
    },
    {
     "data": {
      "application/vnd.jupyter.widget-view+json": {
       "model_id": "30c6b6ac8ade461a9373a28e59551c88",
       "version_major": 2,
       "version_minor": 0
      },
      "text/plain": [
       "Canvas(toolbar=Toolbar(toolitems=[('Home', 'Reset original view', 'home', 'home'), ('Back', 'Back to previous …"
      ]
     },
     "metadata": {},
     "output_type": "display_data"
    },
    {
     "name": "stdout",
     "output_type": "stream",
     "text": [
      "Full analysis completed in 22 minutes.\n",
      "\n",
      "prophet_instance nb 0\n",
      "Full dataset: 2019-10-23 to the 2020-03-26. Analysed data the 2019-12-11 to the 2019-12-23.\n",
      "o Trained on the data from the 2019-12-11 to the 2019-12-22 (10 days).\n",
      "o Predict from the 2019-12-22 to the 2019-12-23 (1 days).\n"
     ]
    },
    {
     "data": {
      "application/vnd.jupyter.widget-view+json": {
       "model_id": "a8a4e8a43d8843f08fc3d40a7fef0bd9",
       "version_major": 2,
       "version_minor": 0
      },
      "text/plain": [
       "Canvas(toolbar=Toolbar(toolitems=[('Home', 'Reset original view', 'home', 'home'), ('Back', 'Back to previous …"
      ]
     },
     "metadata": {},
     "output_type": "display_data"
    },
    {
     "name": "stdout",
     "output_type": "stream",
     "text": [
      "\n",
      "prophet_instance nb 1\n",
      "Full dataset: 2019-10-23 to the 2020-03-26. Analysed data the 2019-12-11 to the 2019-12-23.\n",
      "o Trained on the data from the 2019-12-11 to the 2019-12-22 (10 days).\n",
      "o Predict from the 2019-12-22 to the 2019-12-23 (1 days).\n"
     ]
    },
    {
     "data": {
      "application/vnd.jupyter.widget-view+json": {
       "model_id": "079dda34b5e84150aed970ad5a7abe79",
       "version_major": 2,
       "version_minor": 0
      },
      "text/plain": [
       "Canvas(toolbar=Toolbar(toolitems=[('Home', 'Reset original view', 'home', 'home'), ('Back', 'Back to previous …"
      ]
     },
     "metadata": {},
     "output_type": "display_data"
    },
    {
     "name": "stdout",
     "output_type": "stream",
     "text": [
      "\n",
      "prophet_instance nb 2\n",
      "Full dataset: 2019-10-23 to the 2020-03-26. Analysed data the 2019-12-13 to the 2019-12-23.\n",
      "o Trained on the data from the 2019-12-13 to the 2019-12-22 (8 days).\n",
      "o Predict from the 2019-12-22 to the 2019-12-23 (1 days).\n"
     ]
    },
    {
     "data": {
      "application/vnd.jupyter.widget-view+json": {
       "model_id": "95ce0727ac814668a80d1b7e0a5b36ae",
       "version_major": 2,
       "version_minor": 0
      },
      "text/plain": [
       "Canvas(toolbar=Toolbar(toolitems=[('Home', 'Reset original view', 'home', 'home'), ('Back', 'Back to previous …"
      ]
     },
     "metadata": {},
     "output_type": "display_data"
    },
    {
     "name": "stdout",
     "output_type": "stream",
     "text": [
      "\n",
      "prophet_instance nb 3\n",
      "Full dataset: 2019-10-23 to the 2020-03-26. Analysed data the 2019-12-13 to the 2019-12-23.\n",
      "o Trained on the data from the 2019-12-13 to the 2019-12-22 (8 days).\n",
      "o Predict from the 2019-12-22 to the 2019-12-23 (1 days).\n"
     ]
    },
    {
     "data": {
      "application/vnd.jupyter.widget-view+json": {
       "model_id": "2f5579b258f24abb8885ce1e92b3338e",
       "version_major": 2,
       "version_minor": 0
      },
      "text/plain": [
       "Canvas(toolbar=Toolbar(toolitems=[('Home', 'Reset original view', 'home', 'home'), ('Back', 'Back to previous …"
      ]
     },
     "metadata": {},
     "output_type": "display_data"
    },
    {
     "name": "stdout",
     "output_type": "stream",
     "text": [
      "\n",
      "prophet_instance nb 4\n",
      "Full dataset: 2019-10-23 to the 2020-03-26. Analysed data the 2019-12-15 to the 2019-12-23.\n",
      "o Trained on the data from the 2019-12-15 to the 2019-12-22 (6 days).\n",
      "o Predict from the 2019-12-22 to the 2019-12-23 (1 days).\n"
     ]
    },
    {
     "data": {
      "application/vnd.jupyter.widget-view+json": {
       "model_id": "c7dc8fbc93544d05a4f7ed7024172c67",
       "version_major": 2,
       "version_minor": 0
      },
      "text/plain": [
       "Canvas(toolbar=Toolbar(toolitems=[('Home', 'Reset original view', 'home', 'home'), ('Back', 'Back to previous …"
      ]
     },
     "metadata": {},
     "output_type": "display_data"
    },
    {
     "name": "stdout",
     "output_type": "stream",
     "text": [
      "\n",
      "prophet_instance nb 5\n",
      "Full dataset: 2019-10-23 to the 2020-03-26. Analysed data the 2019-12-15 to the 2019-12-23.\n",
      "o Trained on the data from the 2019-12-15 to the 2019-12-22 (6 days).\n",
      "o Predict from the 2019-12-22 to the 2019-12-23 (1 days).\n"
     ]
    },
    {
     "data": {
      "application/vnd.jupyter.widget-view+json": {
       "model_id": "78e31e9af2464d2693934ed818644253",
       "version_major": 2,
       "version_minor": 0
      },
      "text/plain": [
       "Canvas(toolbar=Toolbar(toolitems=[('Home', 'Reset original view', 'home', 'home'), ('Back', 'Back to previous …"
      ]
     },
     "metadata": {},
     "output_type": "display_data"
    },
    {
     "name": "stdout",
     "output_type": "stream",
     "text": [
      "Time elapsed: 25 minutes.\n",
      "Saving the best model\n",
      "\n",
      "prophet_instance nb 0\n",
      "Full dataset: 2019-10-23 to the 2020-03-26. Analysed data the 2019-12-11 to the 2019-12-23.\n",
      "o Trained on the data from the 2019-12-11 to the 2019-12-22 (10 days).\n",
      "o Predict from the 2019-12-22 to the 2019-12-23 (1 days).\n"
     ]
    },
    {
     "data": {
      "application/vnd.jupyter.widget-view+json": {
       "model_id": "6f4a168c7ac9414d9e8177406d1def7d",
       "version_major": 2,
       "version_minor": 0
      },
      "text/plain": [
       "Canvas(toolbar=Toolbar(toolitems=[('Home', 'Reset original view', 'home', 'home'), ('Back', 'Back to previous …"
      ]
     },
     "metadata": {},
     "output_type": "display_data"
    },
    {
     "name": "stdout",
     "output_type": "stream",
     "text": [
      "Full analysis completed in 26 minutes.\n",
      "\n",
      "prophet_instance nb 0\n",
      "Full dataset: 2019-10-23 to the 2020-03-26. Analysed data the 2020-02-12 to the 2020-02-24.\n",
      "o Trained on the data from the 2020-02-12 to the 2020-02-23 (10 days).\n",
      "o Predict from the 2020-02-23 to the 2020-02-24 (1 days).\n"
     ]
    },
    {
     "data": {
      "application/vnd.jupyter.widget-view+json": {
       "model_id": "399575adedff41eea9de1e50961a1732",
       "version_major": 2,
       "version_minor": 0
      },
      "text/plain": [
       "Canvas(toolbar=Toolbar(toolitems=[('Home', 'Reset original view', 'home', 'home'), ('Back', 'Back to previous …"
      ]
     },
     "metadata": {},
     "output_type": "display_data"
    },
    {
     "name": "stdout",
     "output_type": "stream",
     "text": [
      "\n",
      "prophet_instance nb 1\n",
      "Full dataset: 2019-10-23 to the 2020-03-26. Analysed data the 2020-02-12 to the 2020-02-24.\n",
      "o Trained on the data from the 2020-02-12 to the 2020-02-23 (10 days).\n",
      "o Predict from the 2020-02-23 to the 2020-02-24 (1 days).\n"
     ]
    },
    {
     "data": {
      "application/vnd.jupyter.widget-view+json": {
       "model_id": "c8d9ea1c46194da794e291bf227fa53e",
       "version_major": 2,
       "version_minor": 0
      },
      "text/plain": [
       "Canvas(toolbar=Toolbar(toolitems=[('Home', 'Reset original view', 'home', 'home'), ('Back', 'Back to previous …"
      ]
     },
     "metadata": {},
     "output_type": "display_data"
    },
    {
     "name": "stdout",
     "output_type": "stream",
     "text": [
      "\n",
      "prophet_instance nb 2\n",
      "Full dataset: 2019-10-23 to the 2020-03-26. Analysed data the 2020-02-14 to the 2020-02-24.\n",
      "o Trained on the data from the 2020-02-14 to the 2020-02-23 (8 days).\n",
      "o Predict from the 2020-02-23 to the 2020-02-24 (1 days).\n"
     ]
    },
    {
     "data": {
      "application/vnd.jupyter.widget-view+json": {
       "model_id": "643dfdce228649a189c596d00a69a31b",
       "version_major": 2,
       "version_minor": 0
      },
      "text/plain": [
       "Canvas(toolbar=Toolbar(toolitems=[('Home', 'Reset original view', 'home', 'home'), ('Back', 'Back to previous …"
      ]
     },
     "metadata": {},
     "output_type": "display_data"
    },
    {
     "name": "stdout",
     "output_type": "stream",
     "text": [
      "\n",
      "prophet_instance nb 3\n",
      "Full dataset: 2019-10-23 to the 2020-03-26. Analysed data the 2020-02-14 to the 2020-02-24.\n",
      "o Trained on the data from the 2020-02-14 to the 2020-02-23 (8 days).\n",
      "o Predict from the 2020-02-23 to the 2020-02-24 (1 days).\n"
     ]
    },
    {
     "data": {
      "application/vnd.jupyter.widget-view+json": {
       "model_id": "0b41cff4fb5d4bfabe1ad835ba240266",
       "version_major": 2,
       "version_minor": 0
      },
      "text/plain": [
       "Canvas(toolbar=Toolbar(toolitems=[('Home', 'Reset original view', 'home', 'home'), ('Back', 'Back to previous …"
      ]
     },
     "metadata": {},
     "output_type": "display_data"
    },
    {
     "name": "stdout",
     "output_type": "stream",
     "text": [
      "\n",
      "prophet_instance nb 4\n",
      "Full dataset: 2019-10-23 to the 2020-03-26. Analysed data the 2020-02-16 to the 2020-02-24.\n",
      "o Trained on the data from the 2020-02-16 to the 2020-02-23 (6 days).\n",
      "o Predict from the 2020-02-23 to the 2020-02-24 (1 days).\n"
     ]
    },
    {
     "data": {
      "application/vnd.jupyter.widget-view+json": {
       "model_id": "dc0d14026c9e496e87df465b1a98f453",
       "version_major": 2,
       "version_minor": 0
      },
      "text/plain": [
       "Canvas(toolbar=Toolbar(toolitems=[('Home', 'Reset original view', 'home', 'home'), ('Back', 'Back to previous …"
      ]
     },
     "metadata": {},
     "output_type": "display_data"
    },
    {
     "name": "stdout",
     "output_type": "stream",
     "text": [
      "\n",
      "prophet_instance nb 5\n",
      "Full dataset: 2019-10-23 to the 2020-03-26. Analysed data the 2020-02-16 to the 2020-02-24.\n",
      "o Trained on the data from the 2020-02-16 to the 2020-02-23 (6 days).\n",
      "o Predict from the 2020-02-23 to the 2020-02-24 (1 days).\n"
     ]
    },
    {
     "data": {
      "application/vnd.jupyter.widget-view+json": {
       "model_id": "a49bcd72a60b4d68abf6621f7749d1f1",
       "version_major": 2,
       "version_minor": 0
      },
      "text/plain": [
       "Canvas(toolbar=Toolbar(toolitems=[('Home', 'Reset original view', 'home', 'home'), ('Back', 'Back to previous …"
      ]
     },
     "metadata": {},
     "output_type": "display_data"
    },
    {
     "name": "stdout",
     "output_type": "stream",
     "text": [
      "Time elapsed: 28 minutes.\n",
      "Saving the best model\n",
      "\n",
      "prophet_instance nb 0\n",
      "Full dataset: 2019-10-23 to the 2020-03-26. Analysed data the 2020-02-16 to the 2020-02-24.\n",
      "o Trained on the data from the 2020-02-16 to the 2020-02-23 (6 days).\n",
      "o Predict from the 2020-02-23 to the 2020-02-24 (1 days).\n"
     ]
    },
    {
     "data": {
      "application/vnd.jupyter.widget-view+json": {
       "model_id": "5b06f68440304c15827c619ea30e370b",
       "version_major": 2,
       "version_minor": 0
      },
      "text/plain": [
       "Canvas(toolbar=Toolbar(toolitems=[('Home', 'Reset original view', 'home', 'home'), ('Back', 'Back to previous …"
      ]
     },
     "metadata": {},
     "output_type": "display_data"
    },
    {
     "name": "stdout",
     "output_type": "stream",
     "text": [
      "Full analysis completed in 29 minutes.\n",
      "Check report:\n",
      "##############################################\n",
      "['Device contained in the dataset: device46']\n",
      "['Tenant using the device: tenant08']\n",
      "\n",
      "Data types:\n",
      "device                                object\n",
      "tenant                                object\n",
      "ds             datetime64[ns, Europe/Zurich]\n",
      "light                                float64\n",
      "temperature                          float64\n",
      "humidity                             float64\n",
      "co2                                  float64\n",
      "dtype: object\n",
      "\n",
      "Available data from the 2019-10-23 to the 2020-03-26.\n",
      "\n",
      "prophet_instance nb 0\n",
      "Full dataset: 2019-10-23 to the 2020-03-26. Analysed data the 2019-12-27 to the 2020-01-08.\n",
      "o Trained on the data from the 2019-12-27 to the 2020-01-07 (10 days).\n",
      "o Predict from the 2020-01-07 to the 2020-01-08 (1 days).\n"
     ]
    },
    {
     "data": {
      "application/vnd.jupyter.widget-view+json": {
       "model_id": "b20680901dc94ebbb3a0a6d733953e20",
       "version_major": 2,
       "version_minor": 0
      },
      "text/plain": [
       "Canvas(toolbar=Toolbar(toolitems=[('Home', 'Reset original view', 'home', 'home'), ('Back', 'Back to previous …"
      ]
     },
     "metadata": {},
     "output_type": "display_data"
    },
    {
     "name": "stdout",
     "output_type": "stream",
     "text": [
      "\n",
      "prophet_instance nb 1\n",
      "Full dataset: 2019-10-23 to the 2020-03-26. Analysed data the 2019-12-27 to the 2020-01-08.\n",
      "o Trained on the data from the 2019-12-27 to the 2020-01-07 (10 days).\n",
      "o Predict from the 2020-01-07 to the 2020-01-08 (1 days).\n"
     ]
    },
    {
     "data": {
      "application/vnd.jupyter.widget-view+json": {
       "model_id": "a2c5f599686a461b8accbc6dfedb8339",
       "version_major": 2,
       "version_minor": 0
      },
      "text/plain": [
       "Canvas(toolbar=Toolbar(toolitems=[('Home', 'Reset original view', 'home', 'home'), ('Back', 'Back to previous …"
      ]
     },
     "metadata": {},
     "output_type": "display_data"
    },
    {
     "name": "stdout",
     "output_type": "stream",
     "text": [
      "\n",
      "prophet_instance nb 2\n",
      "Full dataset: 2019-10-23 to the 2020-03-26. Analysed data the 2019-12-29 to the 2020-01-08.\n",
      "o Trained on the data from the 2019-12-29 to the 2020-01-07 (8 days).\n",
      "o Predict from the 2020-01-07 to the 2020-01-08 (1 days).\n"
     ]
    },
    {
     "data": {
      "application/vnd.jupyter.widget-view+json": {
       "model_id": "071962199b5e4047ba34caae6e420813",
       "version_major": 2,
       "version_minor": 0
      },
      "text/plain": [
       "Canvas(toolbar=Toolbar(toolitems=[('Home', 'Reset original view', 'home', 'home'), ('Back', 'Back to previous …"
      ]
     },
     "metadata": {},
     "output_type": "display_data"
    },
    {
     "name": "stdout",
     "output_type": "stream",
     "text": [
      "\n",
      "prophet_instance nb 3\n",
      "Full dataset: 2019-10-23 to the 2020-03-26. Analysed data the 2019-12-29 to the 2020-01-08.\n",
      "o Trained on the data from the 2019-12-29 to the 2020-01-07 (8 days).\n",
      "o Predict from the 2020-01-07 to the 2020-01-08 (1 days).\n"
     ]
    },
    {
     "data": {
      "application/vnd.jupyter.widget-view+json": {
       "model_id": "d1b54dc100a64d578f854472aab222dc",
       "version_major": 2,
       "version_minor": 0
      },
      "text/plain": [
       "Canvas(toolbar=Toolbar(toolitems=[('Home', 'Reset original view', 'home', 'home'), ('Back', 'Back to previous …"
      ]
     },
     "metadata": {},
     "output_type": "display_data"
    },
    {
     "name": "stdout",
     "output_type": "stream",
     "text": [
      "\n",
      "prophet_instance nb 4\n",
      "Full dataset: 2019-10-23 to the 2020-03-26. Analysed data the 2019-12-31 to the 2020-01-08.\n",
      "o Trained on the data from the 2019-12-31 to the 2020-01-07 (6 days).\n",
      "o Predict from the 2020-01-07 to the 2020-01-08 (1 days).\n"
     ]
    },
    {
     "data": {
      "application/vnd.jupyter.widget-view+json": {
       "model_id": "917c6bfbc1db4540932ca4ef6353ece3",
       "version_major": 2,
       "version_minor": 0
      },
      "text/plain": [
       "Canvas(toolbar=Toolbar(toolitems=[('Home', 'Reset original view', 'home', 'home'), ('Back', 'Back to previous …"
      ]
     },
     "metadata": {},
     "output_type": "display_data"
    },
    {
     "name": "stdout",
     "output_type": "stream",
     "text": [
      "\n",
      "prophet_instance nb 5\n",
      "Full dataset: 2019-10-23 to the 2020-03-26. Analysed data the 2019-12-31 to the 2020-01-08.\n",
      "o Trained on the data from the 2019-12-31 to the 2020-01-07 (6 days).\n",
      "o Predict from the 2020-01-07 to the 2020-01-08 (1 days).\n"
     ]
    },
    {
     "data": {
      "application/vnd.jupyter.widget-view+json": {
       "model_id": "85671a6e7a9b4cb7a8ba871b98dac225",
       "version_major": 2,
       "version_minor": 0
      },
      "text/plain": [
       "Canvas(toolbar=Toolbar(toolitems=[('Home', 'Reset original view', 'home', 'home'), ('Back', 'Back to previous …"
      ]
     },
     "metadata": {},
     "output_type": "display_data"
    },
    {
     "name": "stdout",
     "output_type": "stream",
     "text": [
      "Time elapsed: 2 minutes.\n",
      "Saving the best model\n",
      "\n",
      "prophet_instance nb 0\n",
      "Full dataset: 2019-10-23 to the 2020-03-26. Analysed data the 2019-12-27 to the 2020-01-08.\n",
      "o Trained on the data from the 2019-12-27 to the 2020-01-07 (10 days).\n",
      "o Predict from the 2020-01-07 to the 2020-01-08 (1 days).\n"
     ]
    },
    {
     "data": {
      "application/vnd.jupyter.widget-view+json": {
       "model_id": "475d1582ed064886a38aaca5966eba31",
       "version_major": 2,
       "version_minor": 0
      },
      "text/plain": [
       "Canvas(toolbar=Toolbar(toolitems=[('Home', 'Reset original view', 'home', 'home'), ('Back', 'Back to previous …"
      ]
     },
     "metadata": {},
     "output_type": "display_data"
    },
    {
     "name": "stdout",
     "output_type": "stream",
     "text": [
      "Full analysis completed in 3 minutes.\n",
      "\n",
      "prophet_instance nb 0\n",
      "Full dataset: 2019-10-23 to the 2020-03-26. Analysed data the 2019-12-23 to the 2020-01-04.\n",
      "o Trained on the data from the 2019-12-23 to the 2020-01-03 (10 days).\n",
      "o Predict from the 2020-01-03 to the 2020-01-04 (1 days).\n"
     ]
    },
    {
     "data": {
      "application/vnd.jupyter.widget-view+json": {
       "model_id": "cb2af508d4dd443cac23d02ae1281613",
       "version_major": 2,
       "version_minor": 0
      },
      "text/plain": [
       "Canvas(toolbar=Toolbar(toolitems=[('Home', 'Reset original view', 'home', 'home'), ('Back', 'Back to previous …"
      ]
     },
     "metadata": {},
     "output_type": "display_data"
    },
    {
     "name": "stdout",
     "output_type": "stream",
     "text": [
      "\n",
      "prophet_instance nb 1\n",
      "Full dataset: 2019-10-23 to the 2020-03-26. Analysed data the 2019-12-23 to the 2020-01-04.\n",
      "o Trained on the data from the 2019-12-23 to the 2020-01-03 (10 days).\n",
      "o Predict from the 2020-01-03 to the 2020-01-04 (1 days).\n"
     ]
    },
    {
     "data": {
      "application/vnd.jupyter.widget-view+json": {
       "model_id": "2caff507469a44c4abf2927d2c84498e",
       "version_major": 2,
       "version_minor": 0
      },
      "text/plain": [
       "Canvas(toolbar=Toolbar(toolitems=[('Home', 'Reset original view', 'home', 'home'), ('Back', 'Back to previous …"
      ]
     },
     "metadata": {},
     "output_type": "display_data"
    },
    {
     "name": "stdout",
     "output_type": "stream",
     "text": [
      "\n",
      "prophet_instance nb 2\n",
      "Full dataset: 2019-10-23 to the 2020-03-26. Analysed data the 2019-12-25 to the 2020-01-04.\n",
      "o Trained on the data from the 2019-12-25 to the 2020-01-03 (8 days).\n",
      "o Predict from the 2020-01-03 to the 2020-01-04 (1 days).\n"
     ]
    },
    {
     "data": {
      "application/vnd.jupyter.widget-view+json": {
       "model_id": "718a05636f59420cb020b92d3548d27d",
       "version_major": 2,
       "version_minor": 0
      },
      "text/plain": [
       "Canvas(toolbar=Toolbar(toolitems=[('Home', 'Reset original view', 'home', 'home'), ('Back', 'Back to previous …"
      ]
     },
     "metadata": {},
     "output_type": "display_data"
    },
    {
     "name": "stdout",
     "output_type": "stream",
     "text": [
      "\n",
      "prophet_instance nb 3\n",
      "Full dataset: 2019-10-23 to the 2020-03-26. Analysed data the 2019-12-25 to the 2020-01-04.\n",
      "o Trained on the data from the 2019-12-25 to the 2020-01-03 (8 days).\n",
      "o Predict from the 2020-01-03 to the 2020-01-04 (1 days).\n"
     ]
    },
    {
     "data": {
      "application/vnd.jupyter.widget-view+json": {
       "model_id": "e151c1eea8304f91b73772c284526110",
       "version_major": 2,
       "version_minor": 0
      },
      "text/plain": [
       "Canvas(toolbar=Toolbar(toolitems=[('Home', 'Reset original view', 'home', 'home'), ('Back', 'Back to previous …"
      ]
     },
     "metadata": {},
     "output_type": "display_data"
    },
    {
     "name": "stdout",
     "output_type": "stream",
     "text": [
      "\n",
      "prophet_instance nb 4\n",
      "Full dataset: 2019-10-23 to the 2020-03-26. Analysed data the 2019-12-27 to the 2020-01-04.\n",
      "o Trained on the data from the 2019-12-27 to the 2020-01-03 (6 days).\n",
      "o Predict from the 2020-01-03 to the 2020-01-04 (1 days).\n"
     ]
    },
    {
     "data": {
      "application/vnd.jupyter.widget-view+json": {
       "model_id": "8d3dc4b5bb6642fc8fa0d780bebd1f3f",
       "version_major": 2,
       "version_minor": 0
      },
      "text/plain": [
       "Canvas(toolbar=Toolbar(toolitems=[('Home', 'Reset original view', 'home', 'home'), ('Back', 'Back to previous …"
      ]
     },
     "metadata": {},
     "output_type": "display_data"
    },
    {
     "name": "stdout",
     "output_type": "stream",
     "text": [
      "\n",
      "prophet_instance nb 5\n",
      "Full dataset: 2019-10-23 to the 2020-03-26. Analysed data the 2019-12-27 to the 2020-01-04.\n",
      "o Trained on the data from the 2019-12-27 to the 2020-01-03 (6 days).\n",
      "o Predict from the 2020-01-03 to the 2020-01-04 (1 days).\n"
     ]
    },
    {
     "data": {
      "application/vnd.jupyter.widget-view+json": {
       "model_id": "36f03ff990dc43669c0a32617a6c7b6c",
       "version_major": 2,
       "version_minor": 0
      },
      "text/plain": [
       "Canvas(toolbar=Toolbar(toolitems=[('Home', 'Reset original view', 'home', 'home'), ('Back', 'Back to previous …"
      ]
     },
     "metadata": {},
     "output_type": "display_data"
    },
    {
     "name": "stdout",
     "output_type": "stream",
     "text": [
      "Time elapsed: 5 minutes.\n",
      "Saving the best model\n",
      "\n",
      "prophet_instance nb 0\n",
      "Full dataset: 2019-10-23 to the 2020-03-26. Analysed data the 2019-12-27 to the 2020-01-04.\n",
      "o Trained on the data from the 2019-12-27 to the 2020-01-03 (6 days).\n",
      "o Predict from the 2020-01-03 to the 2020-01-04 (1 days).\n"
     ]
    },
    {
     "data": {
      "application/vnd.jupyter.widget-view+json": {
       "model_id": "7b3aa227120642da9fe9130b69de963e",
       "version_major": 2,
       "version_minor": 0
      },
      "text/plain": [
       "Canvas(toolbar=Toolbar(toolitems=[('Home', 'Reset original view', 'home', 'home'), ('Back', 'Back to previous …"
      ]
     },
     "metadata": {},
     "output_type": "display_data"
    },
    {
     "name": "stdout",
     "output_type": "stream",
     "text": [
      "Full analysis completed in 6 minutes.\n",
      "\n",
      "prophet_instance nb 0\n",
      "Full dataset: 2019-10-23 to the 2020-03-26. Analysed data the 2020-02-23 to the 2020-03-06.\n",
      "o Trained on the data from the 2020-02-23 to the 2020-03-05 (10 days).\n",
      "o Predict from the 2020-03-05 to the 2020-03-06 (1 days).\n"
     ]
    },
    {
     "data": {
      "application/vnd.jupyter.widget-view+json": {
       "model_id": "bd90edd13cc5485bb54936f5ac4a1b50",
       "version_major": 2,
       "version_minor": 0
      },
      "text/plain": [
       "Canvas(toolbar=Toolbar(toolitems=[('Home', 'Reset original view', 'home', 'home'), ('Back', 'Back to previous …"
      ]
     },
     "metadata": {},
     "output_type": "display_data"
    },
    {
     "name": "stdout",
     "output_type": "stream",
     "text": [
      "\n",
      "prophet_instance nb 1\n",
      "Full dataset: 2019-10-23 to the 2020-03-26. Analysed data the 2020-02-23 to the 2020-03-06.\n",
      "o Trained on the data from the 2020-02-23 to the 2020-03-05 (10 days).\n",
      "o Predict from the 2020-03-05 to the 2020-03-06 (1 days).\n"
     ]
    },
    {
     "data": {
      "application/vnd.jupyter.widget-view+json": {
       "model_id": "411507d02fd34fe083e1ce46f4136da1",
       "version_major": 2,
       "version_minor": 0
      },
      "text/plain": [
       "Canvas(toolbar=Toolbar(toolitems=[('Home', 'Reset original view', 'home', 'home'), ('Back', 'Back to previous …"
      ]
     },
     "metadata": {},
     "output_type": "display_data"
    },
    {
     "name": "stdout",
     "output_type": "stream",
     "text": [
      "\n",
      "prophet_instance nb 2\n",
      "Full dataset: 2019-10-23 to the 2020-03-26. Analysed data the 2020-02-25 to the 2020-03-06.\n",
      "o Trained on the data from the 2020-02-25 to the 2020-03-05 (8 days).\n",
      "o Predict from the 2020-03-05 to the 2020-03-06 (1 days).\n"
     ]
    },
    {
     "data": {
      "application/vnd.jupyter.widget-view+json": {
       "model_id": "f3836d9723fd44f3a5fc2c09a2e8d2f9",
       "version_major": 2,
       "version_minor": 0
      },
      "text/plain": [
       "Canvas(toolbar=Toolbar(toolitems=[('Home', 'Reset original view', 'home', 'home'), ('Back', 'Back to previous …"
      ]
     },
     "metadata": {},
     "output_type": "display_data"
    },
    {
     "name": "stdout",
     "output_type": "stream",
     "text": [
      "\n",
      "prophet_instance nb 3\n",
      "Full dataset: 2019-10-23 to the 2020-03-26. Analysed data the 2020-02-25 to the 2020-03-06.\n",
      "o Trained on the data from the 2020-02-25 to the 2020-03-05 (8 days).\n",
      "o Predict from the 2020-03-05 to the 2020-03-06 (1 days).\n"
     ]
    },
    {
     "data": {
      "application/vnd.jupyter.widget-view+json": {
       "model_id": "a7f73981ccf54a1081cd7b67c33be12b",
       "version_major": 2,
       "version_minor": 0
      },
      "text/plain": [
       "Canvas(toolbar=Toolbar(toolitems=[('Home', 'Reset original view', 'home', 'home'), ('Back', 'Back to previous …"
      ]
     },
     "metadata": {},
     "output_type": "display_data"
    },
    {
     "name": "stdout",
     "output_type": "stream",
     "text": [
      "\n",
      "prophet_instance nb 4\n",
      "Full dataset: 2019-10-23 to the 2020-03-26. Analysed data the 2020-02-27 to the 2020-03-06.\n",
      "o Trained on the data from the 2020-02-27 to the 2020-03-05 (6 days).\n",
      "o Predict from the 2020-03-05 to the 2020-03-06 (1 days).\n"
     ]
    },
    {
     "data": {
      "application/vnd.jupyter.widget-view+json": {
       "model_id": "bf5c5406d3b84ce4b58a92f997ebe2a9",
       "version_major": 2,
       "version_minor": 0
      },
      "text/plain": [
       "Canvas(toolbar=Toolbar(toolitems=[('Home', 'Reset original view', 'home', 'home'), ('Back', 'Back to previous …"
      ]
     },
     "metadata": {},
     "output_type": "display_data"
    },
    {
     "name": "stdout",
     "output_type": "stream",
     "text": [
      "\n",
      "prophet_instance nb 5\n",
      "Full dataset: 2019-10-23 to the 2020-03-26. Analysed data the 2020-02-27 to the 2020-03-06.\n",
      "o Trained on the data from the 2020-02-27 to the 2020-03-05 (6 days).\n",
      "o Predict from the 2020-03-05 to the 2020-03-06 (1 days).\n"
     ]
    },
    {
     "data": {
      "application/vnd.jupyter.widget-view+json": {
       "model_id": "5424e9d2417245efade451c9d1c7436a",
       "version_major": 2,
       "version_minor": 0
      },
      "text/plain": [
       "Canvas(toolbar=Toolbar(toolitems=[('Home', 'Reset original view', 'home', 'home'), ('Back', 'Back to previous …"
      ]
     },
     "metadata": {},
     "output_type": "display_data"
    },
    {
     "name": "stdout",
     "output_type": "stream",
     "text": [
      "Time elapsed: 9 minutes.\n",
      "Saving the best model\n",
      "\n",
      "prophet_instance nb 0\n",
      "Full dataset: 2019-10-23 to the 2020-03-26. Analysed data the 2020-02-25 to the 2020-03-06.\n",
      "o Trained on the data from the 2020-02-25 to the 2020-03-05 (8 days).\n",
      "o Predict from the 2020-03-05 to the 2020-03-06 (1 days).\n"
     ]
    },
    {
     "data": {
      "application/vnd.jupyter.widget-view+json": {
       "model_id": "24ba92cdbbc341a48acbfb0008afe59e",
       "version_major": 2,
       "version_minor": 0
      },
      "text/plain": [
       "Canvas(toolbar=Toolbar(toolitems=[('Home', 'Reset original view', 'home', 'home'), ('Back', 'Back to previous …"
      ]
     },
     "metadata": {},
     "output_type": "display_data"
    },
    {
     "name": "stdout",
     "output_type": "stream",
     "text": [
      "Full analysis completed in 9 minutes.\n",
      "\n",
      "prophet_instance nb 0\n",
      "Full dataset: 2019-10-23 to the 2020-03-26. Analysed data the 2020-02-18 to the 2020-03-01.\n",
      "o Trained on the data from the 2020-02-18 to the 2020-02-29 (10 days).\n",
      "o Predict from the 2020-02-29 to the 2020-03-01 (1 days).\n"
     ]
    },
    {
     "data": {
      "application/vnd.jupyter.widget-view+json": {
       "model_id": "7879f43408a9415abe745b27634db7cf",
       "version_major": 2,
       "version_minor": 0
      },
      "text/plain": [
       "Canvas(toolbar=Toolbar(toolitems=[('Home', 'Reset original view', 'home', 'home'), ('Back', 'Back to previous …"
      ]
     },
     "metadata": {},
     "output_type": "display_data"
    },
    {
     "name": "stdout",
     "output_type": "stream",
     "text": [
      "\n",
      "prophet_instance nb 1\n",
      "Full dataset: 2019-10-23 to the 2020-03-26. Analysed data the 2020-02-18 to the 2020-03-01.\n",
      "o Trained on the data from the 2020-02-18 to the 2020-02-29 (10 days).\n",
      "o Predict from the 2020-02-29 to the 2020-03-01 (1 days).\n"
     ]
    },
    {
     "data": {
      "application/vnd.jupyter.widget-view+json": {
       "model_id": "1d5121a47fbd45a389b878aaf1a98bb3",
       "version_major": 2,
       "version_minor": 0
      },
      "text/plain": [
       "Canvas(toolbar=Toolbar(toolitems=[('Home', 'Reset original view', 'home', 'home'), ('Back', 'Back to previous …"
      ]
     },
     "metadata": {},
     "output_type": "display_data"
    },
    {
     "name": "stdout",
     "output_type": "stream",
     "text": [
      "\n",
      "prophet_instance nb 2\n",
      "Full dataset: 2019-10-23 to the 2020-03-26. Analysed data the 2020-02-20 to the 2020-03-01.\n",
      "o Trained on the data from the 2020-02-20 to the 2020-02-29 (8 days).\n",
      "o Predict from the 2020-02-29 to the 2020-03-01 (1 days).\n"
     ]
    },
    {
     "data": {
      "application/vnd.jupyter.widget-view+json": {
       "model_id": "1ae921d197284b31b06fd5885b8c8bbe",
       "version_major": 2,
       "version_minor": 0
      },
      "text/plain": [
       "Canvas(toolbar=Toolbar(toolitems=[('Home', 'Reset original view', 'home', 'home'), ('Back', 'Back to previous …"
      ]
     },
     "metadata": {},
     "output_type": "display_data"
    },
    {
     "name": "stdout",
     "output_type": "stream",
     "text": [
      "\n",
      "prophet_instance nb 3\n",
      "Full dataset: 2019-10-23 to the 2020-03-26. Analysed data the 2020-02-20 to the 2020-03-01.\n",
      "o Trained on the data from the 2020-02-20 to the 2020-02-29 (8 days).\n",
      "o Predict from the 2020-02-29 to the 2020-03-01 (1 days).\n"
     ]
    },
    {
     "data": {
      "application/vnd.jupyter.widget-view+json": {
       "model_id": "d4fa204d55a94cd0ab1500f942b370ae",
       "version_major": 2,
       "version_minor": 0
      },
      "text/plain": [
       "Canvas(toolbar=Toolbar(toolitems=[('Home', 'Reset original view', 'home', 'home'), ('Back', 'Back to previous …"
      ]
     },
     "metadata": {},
     "output_type": "display_data"
    },
    {
     "name": "stdout",
     "output_type": "stream",
     "text": [
      "\n",
      "prophet_instance nb 4\n",
      "Full dataset: 2019-10-23 to the 2020-03-26. Analysed data the 2020-02-22 to the 2020-03-01.\n",
      "o Trained on the data from the 2020-02-22 to the 2020-02-29 (6 days).\n",
      "o Predict from the 2020-02-29 to the 2020-03-01 (1 days).\n"
     ]
    },
    {
     "data": {
      "application/vnd.jupyter.widget-view+json": {
       "model_id": "073bb30ddd354f718024d8e5617eec82",
       "version_major": 2,
       "version_minor": 0
      },
      "text/plain": [
       "Canvas(toolbar=Toolbar(toolitems=[('Home', 'Reset original view', 'home', 'home'), ('Back', 'Back to previous …"
      ]
     },
     "metadata": {},
     "output_type": "display_data"
    },
    {
     "name": "stdout",
     "output_type": "stream",
     "text": [
      "\n",
      "prophet_instance nb 5\n",
      "Full dataset: 2019-10-23 to the 2020-03-26. Analysed data the 2020-02-22 to the 2020-03-01.\n",
      "o Trained on the data from the 2020-02-22 to the 2020-02-29 (6 days).\n",
      "o Predict from the 2020-02-29 to the 2020-03-01 (1 days).\n"
     ]
    },
    {
     "data": {
      "application/vnd.jupyter.widget-view+json": {
       "model_id": "dd20e55ae7344d9fa16f8c6cf78d7f09",
       "version_major": 2,
       "version_minor": 0
      },
      "text/plain": [
       "Canvas(toolbar=Toolbar(toolitems=[('Home', 'Reset original view', 'home', 'home'), ('Back', 'Back to previous …"
      ]
     },
     "metadata": {},
     "output_type": "display_data"
    },
    {
     "name": "stdout",
     "output_type": "stream",
     "text": [
      "Time elapsed: 11 minutes.\n",
      "Saving the best model\n",
      "\n",
      "prophet_instance nb 0\n",
      "Full dataset: 2019-10-23 to the 2020-03-26. Analysed data the 2020-02-22 to the 2020-03-01.\n",
      "o Trained on the data from the 2020-02-22 to the 2020-02-29 (6 days).\n",
      "o Predict from the 2020-02-29 to the 2020-03-01 (1 days).\n"
     ]
    },
    {
     "data": {
      "application/vnd.jupyter.widget-view+json": {
       "model_id": "4fffbf439037490197c2409b7735dbd7",
       "version_major": 2,
       "version_minor": 0
      },
      "text/plain": [
       "Canvas(toolbar=Toolbar(toolitems=[('Home', 'Reset original view', 'home', 'home'), ('Back', 'Back to previous …"
      ]
     },
     "metadata": {},
     "output_type": "display_data"
    },
    {
     "name": "stdout",
     "output_type": "stream",
     "text": [
      "Full analysis completed in 12 minutes.\n",
      "\n",
      "prophet_instance nb 0\n",
      "Full dataset: 2019-10-23 to the 2020-03-26. Analysed data the 2019-11-04 to the 2019-11-16.\n",
      "o Trained on the data from the 2019-11-04 to the 2019-11-15 (10 days).\n",
      "o Predict from the 2019-11-15 to the 2019-11-16 (1 days).\n"
     ]
    },
    {
     "data": {
      "application/vnd.jupyter.widget-view+json": {
       "model_id": "a7495e839d1143f895bcbc1244d182b2",
       "version_major": 2,
       "version_minor": 0
      },
      "text/plain": [
       "Canvas(toolbar=Toolbar(toolitems=[('Home', 'Reset original view', 'home', 'home'), ('Back', 'Back to previous …"
      ]
     },
     "metadata": {},
     "output_type": "display_data"
    },
    {
     "name": "stdout",
     "output_type": "stream",
     "text": [
      "\n",
      "prophet_instance nb 1\n",
      "Full dataset: 2019-10-23 to the 2020-03-26. Analysed data the 2019-11-04 to the 2019-11-16.\n",
      "o Trained on the data from the 2019-11-04 to the 2019-11-15 (10 days).\n",
      "o Predict from the 2019-11-15 to the 2019-11-16 (1 days).\n"
     ]
    },
    {
     "data": {
      "application/vnd.jupyter.widget-view+json": {
       "model_id": "0286fad28c504161936b756ce489cf8c",
       "version_major": 2,
       "version_minor": 0
      },
      "text/plain": [
       "Canvas(toolbar=Toolbar(toolitems=[('Home', 'Reset original view', 'home', 'home'), ('Back', 'Back to previous …"
      ]
     },
     "metadata": {},
     "output_type": "display_data"
    },
    {
     "name": "stdout",
     "output_type": "stream",
     "text": [
      "\n",
      "prophet_instance nb 2\n",
      "Full dataset: 2019-10-23 to the 2020-03-26. Analysed data the 2019-11-06 to the 2019-11-16.\n",
      "o Trained on the data from the 2019-11-06 to the 2019-11-15 (8 days).\n",
      "o Predict from the 2019-11-15 to the 2019-11-16 (1 days).\n"
     ]
    },
    {
     "data": {
      "application/vnd.jupyter.widget-view+json": {
       "model_id": "254ffa0774fe4845983568100b29794e",
       "version_major": 2,
       "version_minor": 0
      },
      "text/plain": [
       "Canvas(toolbar=Toolbar(toolitems=[('Home', 'Reset original view', 'home', 'home'), ('Back', 'Back to previous …"
      ]
     },
     "metadata": {},
     "output_type": "display_data"
    },
    {
     "name": "stdout",
     "output_type": "stream",
     "text": [
      "\n",
      "prophet_instance nb 3\n",
      "Full dataset: 2019-10-23 to the 2020-03-26. Analysed data the 2019-11-06 to the 2019-11-16.\n",
      "o Trained on the data from the 2019-11-06 to the 2019-11-15 (8 days).\n",
      "o Predict from the 2019-11-15 to the 2019-11-16 (1 days).\n"
     ]
    },
    {
     "data": {
      "application/vnd.jupyter.widget-view+json": {
       "model_id": "560c01f396b74a95a07768754e31a8cf",
       "version_major": 2,
       "version_minor": 0
      },
      "text/plain": [
       "Canvas(toolbar=Toolbar(toolitems=[('Home', 'Reset original view', 'home', 'home'), ('Back', 'Back to previous …"
      ]
     },
     "metadata": {},
     "output_type": "display_data"
    },
    {
     "name": "stdout",
     "output_type": "stream",
     "text": [
      "\n",
      "prophet_instance nb 4\n",
      "Full dataset: 2019-10-23 to the 2020-03-26. Analysed data the 2019-11-08 to the 2019-11-16.\n",
      "o Trained on the data from the 2019-11-08 to the 2019-11-15 (6 days).\n",
      "o Predict from the 2019-11-15 to the 2019-11-16 (1 days).\n"
     ]
    },
    {
     "data": {
      "application/vnd.jupyter.widget-view+json": {
       "model_id": "9f2dbfb81d994525be81e6cb3509a340",
       "version_major": 2,
       "version_minor": 0
      },
      "text/plain": [
       "Canvas(toolbar=Toolbar(toolitems=[('Home', 'Reset original view', 'home', 'home'), ('Back', 'Back to previous …"
      ]
     },
     "metadata": {},
     "output_type": "display_data"
    },
    {
     "name": "stdout",
     "output_type": "stream",
     "text": [
      "\n",
      "prophet_instance nb 5\n",
      "Full dataset: 2019-10-23 to the 2020-03-26. Analysed data the 2019-11-08 to the 2019-11-16.\n",
      "o Trained on the data from the 2019-11-08 to the 2019-11-15 (6 days).\n",
      "o Predict from the 2019-11-15 to the 2019-11-16 (1 days).\n"
     ]
    },
    {
     "data": {
      "application/vnd.jupyter.widget-view+json": {
       "model_id": "180e5598ba354013979df88a245bf48e",
       "version_major": 2,
       "version_minor": 0
      },
      "text/plain": [
       "Canvas(toolbar=Toolbar(toolitems=[('Home', 'Reset original view', 'home', 'home'), ('Back', 'Back to previous …"
      ]
     },
     "metadata": {},
     "output_type": "display_data"
    },
    {
     "name": "stdout",
     "output_type": "stream",
     "text": [
      "Time elapsed: 14 minutes.\n",
      "Saving the best model\n",
      "\n",
      "prophet_instance nb 0\n",
      "Full dataset: 2019-10-23 to the 2020-03-26. Analysed data the 2019-11-08 to the 2019-11-16.\n",
      "o Trained on the data from the 2019-11-08 to the 2019-11-15 (6 days).\n",
      "o Predict from the 2019-11-15 to the 2019-11-16 (1 days).\n"
     ]
    },
    {
     "data": {
      "application/vnd.jupyter.widget-view+json": {
       "model_id": "7db38ef154a0472aa92ed99a35fae975",
       "version_major": 2,
       "version_minor": 0
      },
      "text/plain": [
       "Canvas(toolbar=Toolbar(toolitems=[('Home', 'Reset original view', 'home', 'home'), ('Back', 'Back to previous …"
      ]
     },
     "metadata": {},
     "output_type": "display_data"
    },
    {
     "name": "stdout",
     "output_type": "stream",
     "text": [
      "Full analysis completed in 14 minutes.\n",
      "\n",
      "prophet_instance nb 0\n",
      "Full dataset: 2019-10-23 to the 2020-03-26. Analysed data the 2020-02-10 to the 2020-02-22.\n",
      "o Trained on the data from the 2020-02-10 to the 2020-02-21 (10 days).\n",
      "o Predict from the 2020-02-21 to the 2020-02-22 (1 days).\n"
     ]
    },
    {
     "data": {
      "application/vnd.jupyter.widget-view+json": {
       "model_id": "2106625bbe264098930320774ea7a1a2",
       "version_major": 2,
       "version_minor": 0
      },
      "text/plain": [
       "Canvas(toolbar=Toolbar(toolitems=[('Home', 'Reset original view', 'home', 'home'), ('Back', 'Back to previous …"
      ]
     },
     "metadata": {},
     "output_type": "display_data"
    },
    {
     "name": "stdout",
     "output_type": "stream",
     "text": [
      "\n",
      "prophet_instance nb 1\n",
      "Full dataset: 2019-10-23 to the 2020-03-26. Analysed data the 2020-02-10 to the 2020-02-22.\n",
      "o Trained on the data from the 2020-02-10 to the 2020-02-21 (10 days).\n",
      "o Predict from the 2020-02-21 to the 2020-02-22 (1 days).\n"
     ]
    },
    {
     "data": {
      "application/vnd.jupyter.widget-view+json": {
       "model_id": "7600281d49e34b358149b052886a3fc2",
       "version_major": 2,
       "version_minor": 0
      },
      "text/plain": [
       "Canvas(toolbar=Toolbar(toolitems=[('Home', 'Reset original view', 'home', 'home'), ('Back', 'Back to previous …"
      ]
     },
     "metadata": {},
     "output_type": "display_data"
    },
    {
     "name": "stdout",
     "output_type": "stream",
     "text": [
      "\n",
      "prophet_instance nb 2\n",
      "Full dataset: 2019-10-23 to the 2020-03-26. Analysed data the 2020-02-12 to the 2020-02-22.\n",
      "o Trained on the data from the 2020-02-12 to the 2020-02-21 (8 days).\n",
      "o Predict from the 2020-02-21 to the 2020-02-22 (1 days).\n"
     ]
    },
    {
     "data": {
      "application/vnd.jupyter.widget-view+json": {
       "model_id": "3088834076f94d7f9bd7570ebad1153b",
       "version_major": 2,
       "version_minor": 0
      },
      "text/plain": [
       "Canvas(toolbar=Toolbar(toolitems=[('Home', 'Reset original view', 'home', 'home'), ('Back', 'Back to previous …"
      ]
     },
     "metadata": {},
     "output_type": "display_data"
    },
    {
     "name": "stdout",
     "output_type": "stream",
     "text": [
      "\n",
      "prophet_instance nb 3\n",
      "Full dataset: 2019-10-23 to the 2020-03-26. Analysed data the 2020-02-12 to the 2020-02-22.\n",
      "o Trained on the data from the 2020-02-12 to the 2020-02-21 (8 days).\n",
      "o Predict from the 2020-02-21 to the 2020-02-22 (1 days).\n"
     ]
    },
    {
     "data": {
      "application/vnd.jupyter.widget-view+json": {
       "model_id": "4917d0c6b7054c1a915d3a6c0d381c89",
       "version_major": 2,
       "version_minor": 0
      },
      "text/plain": [
       "Canvas(toolbar=Toolbar(toolitems=[('Home', 'Reset original view', 'home', 'home'), ('Back', 'Back to previous …"
      ]
     },
     "metadata": {},
     "output_type": "display_data"
    },
    {
     "name": "stdout",
     "output_type": "stream",
     "text": [
      "\n",
      "prophet_instance nb 4\n",
      "Full dataset: 2019-10-23 to the 2020-03-26. Analysed data the 2020-02-14 to the 2020-02-22.\n",
      "o Trained on the data from the 2020-02-14 to the 2020-02-21 (6 days).\n",
      "o Predict from the 2020-02-21 to the 2020-02-22 (1 days).\n"
     ]
    },
    {
     "data": {
      "application/vnd.jupyter.widget-view+json": {
       "model_id": "babd167582504655aa05edb3e377d690",
       "version_major": 2,
       "version_minor": 0
      },
      "text/plain": [
       "Canvas(toolbar=Toolbar(toolitems=[('Home', 'Reset original view', 'home', 'home'), ('Back', 'Back to previous …"
      ]
     },
     "metadata": {},
     "output_type": "display_data"
    },
    {
     "name": "stdout",
     "output_type": "stream",
     "text": [
      "\n",
      "prophet_instance nb 5\n",
      "Full dataset: 2019-10-23 to the 2020-03-26. Analysed data the 2020-02-14 to the 2020-02-22.\n",
      "o Trained on the data from the 2020-02-14 to the 2020-02-21 (6 days).\n",
      "o Predict from the 2020-02-21 to the 2020-02-22 (1 days).\n"
     ]
    },
    {
     "data": {
      "application/vnd.jupyter.widget-view+json": {
       "model_id": "887408ee316d4a1aa2d69b719a10fa64",
       "version_major": 2,
       "version_minor": 0
      },
      "text/plain": [
       "Canvas(toolbar=Toolbar(toolitems=[('Home', 'Reset original view', 'home', 'home'), ('Back', 'Back to previous …"
      ]
     },
     "metadata": {},
     "output_type": "display_data"
    },
    {
     "name": "stdout",
     "output_type": "stream",
     "text": [
      "Time elapsed: 16 minutes.\n",
      "Saving the best model\n",
      "\n",
      "prophet_instance nb 0\n",
      "Full dataset: 2019-10-23 to the 2020-03-26. Analysed data the 2020-02-10 to the 2020-02-22.\n",
      "o Trained on the data from the 2020-02-10 to the 2020-02-21 (10 days).\n",
      "o Predict from the 2020-02-21 to the 2020-02-22 (1 days).\n"
     ]
    },
    {
     "data": {
      "application/vnd.jupyter.widget-view+json": {
       "model_id": "5c197d85cfe84a2593d0010987d0dc90",
       "version_major": 2,
       "version_minor": 0
      },
      "text/plain": [
       "Canvas(toolbar=Toolbar(toolitems=[('Home', 'Reset original view', 'home', 'home'), ('Back', 'Back to previous …"
      ]
     },
     "metadata": {},
     "output_type": "display_data"
    },
    {
     "name": "stdout",
     "output_type": "stream",
     "text": [
      "Full analysis completed in 17 minutes.\n",
      "\n",
      "prophet_instance nb 0\n",
      "Full dataset: 2019-10-23 to the 2020-03-26. Analysed data the 2019-12-22 to the 2020-01-03.\n",
      "o Trained on the data from the 2019-12-22 to the 2020-01-02 (10 days).\n",
      "o Predict from the 2020-01-02 to the 2020-01-03 (1 days).\n"
     ]
    },
    {
     "data": {
      "application/vnd.jupyter.widget-view+json": {
       "model_id": "f805e12201c346f6a9e012c6dbe50f52",
       "version_major": 2,
       "version_minor": 0
      },
      "text/plain": [
       "Canvas(toolbar=Toolbar(toolitems=[('Home', 'Reset original view', 'home', 'home'), ('Back', 'Back to previous …"
      ]
     },
     "metadata": {},
     "output_type": "display_data"
    },
    {
     "name": "stdout",
     "output_type": "stream",
     "text": [
      "\n",
      "prophet_instance nb 1\n",
      "Full dataset: 2019-10-23 to the 2020-03-26. Analysed data the 2019-12-22 to the 2020-01-03.\n",
      "o Trained on the data from the 2019-12-22 to the 2020-01-02 (10 days).\n",
      "o Predict from the 2020-01-02 to the 2020-01-03 (1 days).\n"
     ]
    },
    {
     "data": {
      "application/vnd.jupyter.widget-view+json": {
       "model_id": "f0aa8f0630004d0e8988a482444bdf0e",
       "version_major": 2,
       "version_minor": 0
      },
      "text/plain": [
       "Canvas(toolbar=Toolbar(toolitems=[('Home', 'Reset original view', 'home', 'home'), ('Back', 'Back to previous …"
      ]
     },
     "metadata": {},
     "output_type": "display_data"
    },
    {
     "name": "stdout",
     "output_type": "stream",
     "text": [
      "\n",
      "prophet_instance nb 2\n",
      "Full dataset: 2019-10-23 to the 2020-03-26. Analysed data the 2019-12-24 to the 2020-01-03.\n",
      "o Trained on the data from the 2019-12-24 to the 2020-01-02 (8 days).\n",
      "o Predict from the 2020-01-02 to the 2020-01-03 (1 days).\n"
     ]
    },
    {
     "data": {
      "application/vnd.jupyter.widget-view+json": {
       "model_id": "90c3d64570784e71a3ff8187068d6edb",
       "version_major": 2,
       "version_minor": 0
      },
      "text/plain": [
       "Canvas(toolbar=Toolbar(toolitems=[('Home', 'Reset original view', 'home', 'home'), ('Back', 'Back to previous …"
      ]
     },
     "metadata": {},
     "output_type": "display_data"
    },
    {
     "name": "stdout",
     "output_type": "stream",
     "text": [
      "\n",
      "prophet_instance nb 3\n",
      "Full dataset: 2019-10-23 to the 2020-03-26. Analysed data the 2019-12-24 to the 2020-01-03.\n",
      "o Trained on the data from the 2019-12-24 to the 2020-01-02 (8 days).\n",
      "o Predict from the 2020-01-02 to the 2020-01-03 (1 days).\n"
     ]
    },
    {
     "data": {
      "application/vnd.jupyter.widget-view+json": {
       "model_id": "f8d56046ec174f62958defd5228d881b",
       "version_major": 2,
       "version_minor": 0
      },
      "text/plain": [
       "Canvas(toolbar=Toolbar(toolitems=[('Home', 'Reset original view', 'home', 'home'), ('Back', 'Back to previous …"
      ]
     },
     "metadata": {},
     "output_type": "display_data"
    },
    {
     "name": "stdout",
     "output_type": "stream",
     "text": [
      "\n",
      "prophet_instance nb 4\n",
      "Full dataset: 2019-10-23 to the 2020-03-26. Analysed data the 2019-12-26 to the 2020-01-03.\n",
      "o Trained on the data from the 2019-12-26 to the 2020-01-02 (6 days).\n",
      "o Predict from the 2020-01-02 to the 2020-01-03 (1 days).\n"
     ]
    },
    {
     "data": {
      "application/vnd.jupyter.widget-view+json": {
       "model_id": "3f663429388543ee8a3563c0d18cb827",
       "version_major": 2,
       "version_minor": 0
      },
      "text/plain": [
       "Canvas(toolbar=Toolbar(toolitems=[('Home', 'Reset original view', 'home', 'home'), ('Back', 'Back to previous …"
      ]
     },
     "metadata": {},
     "output_type": "display_data"
    },
    {
     "name": "stdout",
     "output_type": "stream",
     "text": [
      "\n",
      "prophet_instance nb 5\n",
      "Full dataset: 2019-10-23 to the 2020-03-26. Analysed data the 2019-12-26 to the 2020-01-03.\n",
      "o Trained on the data from the 2019-12-26 to the 2020-01-02 (6 days).\n",
      "o Predict from the 2020-01-02 to the 2020-01-03 (1 days).\n"
     ]
    },
    {
     "data": {
      "application/vnd.jupyter.widget-view+json": {
       "model_id": "97f26722cff24c21b6503b39bbb2ef38",
       "version_major": 2,
       "version_minor": 0
      },
      "text/plain": [
       "Canvas(toolbar=Toolbar(toolitems=[('Home', 'Reset original view', 'home', 'home'), ('Back', 'Back to previous …"
      ]
     },
     "metadata": {},
     "output_type": "display_data"
    },
    {
     "name": "stdout",
     "output_type": "stream",
     "text": [
      "Time elapsed: 19 minutes.\n",
      "Saving the best model\n",
      "\n",
      "prophet_instance nb 0\n",
      "Full dataset: 2019-10-23 to the 2020-03-26. Analysed data the 2019-12-26 to the 2020-01-03.\n",
      "o Trained on the data from the 2019-12-26 to the 2020-01-02 (6 days).\n",
      "o Predict from the 2020-01-02 to the 2020-01-03 (1 days).\n"
     ]
    },
    {
     "data": {
      "application/vnd.jupyter.widget-view+json": {
       "model_id": "dbc84ba87aa94b048947a37826348ab0",
       "version_major": 2,
       "version_minor": 0
      },
      "text/plain": [
       "Canvas(toolbar=Toolbar(toolitems=[('Home', 'Reset original view', 'home', 'home'), ('Back', 'Back to previous …"
      ]
     },
     "metadata": {},
     "output_type": "display_data"
    },
    {
     "name": "stdout",
     "output_type": "stream",
     "text": [
      "Full analysis completed in 19 minutes.\n",
      "\n",
      "prophet_instance nb 0\n",
      "Full dataset: 2019-10-23 to the 2020-03-26. Analysed data the 2020-01-26 to the 2020-02-07.\n",
      "o Trained on the data from the 2020-01-26 to the 2020-02-06 (10 days).\n",
      "o Predict from the 2020-02-06 to the 2020-02-07 (1 days).\n"
     ]
    },
    {
     "data": {
      "application/vnd.jupyter.widget-view+json": {
       "model_id": "d9390c719c6748228c84ce120a0e5327",
       "version_major": 2,
       "version_minor": 0
      },
      "text/plain": [
       "Canvas(toolbar=Toolbar(toolitems=[('Home', 'Reset original view', 'home', 'home'), ('Back', 'Back to previous …"
      ]
     },
     "metadata": {},
     "output_type": "display_data"
    },
    {
     "name": "stdout",
     "output_type": "stream",
     "text": [
      "\n",
      "prophet_instance nb 1\n",
      "Full dataset: 2019-10-23 to the 2020-03-26. Analysed data the 2020-01-26 to the 2020-02-07.\n",
      "o Trained on the data from the 2020-01-26 to the 2020-02-06 (10 days).\n",
      "o Predict from the 2020-02-06 to the 2020-02-07 (1 days).\n"
     ]
    },
    {
     "data": {
      "application/vnd.jupyter.widget-view+json": {
       "model_id": "73851a4b76fa426da42d8bc37daa1133",
       "version_major": 2,
       "version_minor": 0
      },
      "text/plain": [
       "Canvas(toolbar=Toolbar(toolitems=[('Home', 'Reset original view', 'home', 'home'), ('Back', 'Back to previous …"
      ]
     },
     "metadata": {},
     "output_type": "display_data"
    },
    {
     "name": "stdout",
     "output_type": "stream",
     "text": [
      "\n",
      "prophet_instance nb 2\n",
      "Full dataset: 2019-10-23 to the 2020-03-26. Analysed data the 2020-01-28 to the 2020-02-07.\n",
      "o Trained on the data from the 2020-01-28 to the 2020-02-06 (8 days).\n",
      "o Predict from the 2020-02-06 to the 2020-02-07 (1 days).\n"
     ]
    },
    {
     "data": {
      "application/vnd.jupyter.widget-view+json": {
       "model_id": "d12572e379ad406ab9719553f6e3275a",
       "version_major": 2,
       "version_minor": 0
      },
      "text/plain": [
       "Canvas(toolbar=Toolbar(toolitems=[('Home', 'Reset original view', 'home', 'home'), ('Back', 'Back to previous …"
      ]
     },
     "metadata": {},
     "output_type": "display_data"
    },
    {
     "name": "stdout",
     "output_type": "stream",
     "text": [
      "\n",
      "prophet_instance nb 3\n",
      "Full dataset: 2019-10-23 to the 2020-03-26. Analysed data the 2020-01-28 to the 2020-02-07.\n",
      "o Trained on the data from the 2020-01-28 to the 2020-02-06 (8 days).\n",
      "o Predict from the 2020-02-06 to the 2020-02-07 (1 days).\n"
     ]
    },
    {
     "data": {
      "application/vnd.jupyter.widget-view+json": {
       "model_id": "94a6884659844c8c89a61bf7411bc4b8",
       "version_major": 2,
       "version_minor": 0
      },
      "text/plain": [
       "Canvas(toolbar=Toolbar(toolitems=[('Home', 'Reset original view', 'home', 'home'), ('Back', 'Back to previous …"
      ]
     },
     "metadata": {},
     "output_type": "display_data"
    },
    {
     "name": "stdout",
     "output_type": "stream",
     "text": [
      "\n",
      "prophet_instance nb 4\n",
      "Full dataset: 2019-10-23 to the 2020-03-26. Analysed data the 2020-01-30 to the 2020-02-07.\n",
      "o Trained on the data from the 2020-01-30 to the 2020-02-06 (6 days).\n",
      "o Predict from the 2020-02-06 to the 2020-02-07 (1 days).\n"
     ]
    },
    {
     "data": {
      "application/vnd.jupyter.widget-view+json": {
       "model_id": "346e6fc0d8b24131bec8c8a2e1bee17b",
       "version_major": 2,
       "version_minor": 0
      },
      "text/plain": [
       "Canvas(toolbar=Toolbar(toolitems=[('Home', 'Reset original view', 'home', 'home'), ('Back', 'Back to previous …"
      ]
     },
     "metadata": {},
     "output_type": "display_data"
    },
    {
     "name": "stdout",
     "output_type": "stream",
     "text": [
      "\n",
      "prophet_instance nb 5\n",
      "Full dataset: 2019-10-23 to the 2020-03-26. Analysed data the 2020-01-30 to the 2020-02-07.\n",
      "o Trained on the data from the 2020-01-30 to the 2020-02-06 (6 days).\n",
      "o Predict from the 2020-02-06 to the 2020-02-07 (1 days).\n"
     ]
    },
    {
     "data": {
      "application/vnd.jupyter.widget-view+json": {
       "model_id": "e3feace58e8242dc96b50e628f4f88e3",
       "version_major": 2,
       "version_minor": 0
      },
      "text/plain": [
       "Canvas(toolbar=Toolbar(toolitems=[('Home', 'Reset original view', 'home', 'home'), ('Back', 'Back to previous …"
      ]
     },
     "metadata": {},
     "output_type": "display_data"
    },
    {
     "name": "stdout",
     "output_type": "stream",
     "text": [
      "Time elapsed: 22 minutes.\n",
      "Saving the best model\n",
      "\n",
      "prophet_instance nb 0\n",
      "Full dataset: 2019-10-23 to the 2020-03-26. Analysed data the 2020-01-26 to the 2020-02-07.\n",
      "o Trained on the data from the 2020-01-26 to the 2020-02-06 (10 days).\n",
      "o Predict from the 2020-02-06 to the 2020-02-07 (1 days).\n"
     ]
    },
    {
     "data": {
      "application/vnd.jupyter.widget-view+json": {
       "model_id": "b35370f56c1546e8ab08b90e7af711af",
       "version_major": 2,
       "version_minor": 0
      },
      "text/plain": [
       "Canvas(toolbar=Toolbar(toolitems=[('Home', 'Reset original view', 'home', 'home'), ('Back', 'Back to previous …"
      ]
     },
     "metadata": {},
     "output_type": "display_data"
    },
    {
     "name": "stdout",
     "output_type": "stream",
     "text": [
      "Full analysis completed in 22 minutes.\n",
      "\n",
      "prophet_instance nb 0\n",
      "Full dataset: 2019-10-23 to the 2020-03-26. Analysed data the 2019-11-27 to the 2019-12-09.\n",
      "o Trained on the data from the 2019-11-27 to the 2019-12-08 (10 days).\n",
      "o Predict from the 2019-12-08 to the 2019-12-09 (1 days).\n"
     ]
    },
    {
     "data": {
      "application/vnd.jupyter.widget-view+json": {
       "model_id": "60e66792ebec495eb121695c6dae97be",
       "version_major": 2,
       "version_minor": 0
      },
      "text/plain": [
       "Canvas(toolbar=Toolbar(toolitems=[('Home', 'Reset original view', 'home', 'home'), ('Back', 'Back to previous …"
      ]
     },
     "metadata": {},
     "output_type": "display_data"
    },
    {
     "name": "stdout",
     "output_type": "stream",
     "text": [
      "\n",
      "prophet_instance nb 1\n",
      "Full dataset: 2019-10-23 to the 2020-03-26. Analysed data the 2019-11-27 to the 2019-12-09.\n",
      "o Trained on the data from the 2019-11-27 to the 2019-12-08 (10 days).\n",
      "o Predict from the 2019-12-08 to the 2019-12-09 (1 days).\n"
     ]
    },
    {
     "data": {
      "application/vnd.jupyter.widget-view+json": {
       "model_id": "8b6d87d17417455983f12d37a4d9811a",
       "version_major": 2,
       "version_minor": 0
      },
      "text/plain": [
       "Canvas(toolbar=Toolbar(toolitems=[('Home', 'Reset original view', 'home', 'home'), ('Back', 'Back to previous …"
      ]
     },
     "metadata": {},
     "output_type": "display_data"
    },
    {
     "name": "stdout",
     "output_type": "stream",
     "text": [
      "\n",
      "prophet_instance nb 2\n",
      "Full dataset: 2019-10-23 to the 2020-03-26. Analysed data the 2019-11-29 to the 2019-12-09.\n",
      "o Trained on the data from the 2019-11-29 to the 2019-12-08 (8 days).\n",
      "o Predict from the 2019-12-08 to the 2019-12-09 (1 days).\n"
     ]
    },
    {
     "data": {
      "application/vnd.jupyter.widget-view+json": {
       "model_id": "0b6eeb0c2276417daff50aae9c87f704",
       "version_major": 2,
       "version_minor": 0
      },
      "text/plain": [
       "Canvas(toolbar=Toolbar(toolitems=[('Home', 'Reset original view', 'home', 'home'), ('Back', 'Back to previous …"
      ]
     },
     "metadata": {},
     "output_type": "display_data"
    },
    {
     "name": "stdout",
     "output_type": "stream",
     "text": [
      "\n",
      "prophet_instance nb 3\n",
      "Full dataset: 2019-10-23 to the 2020-03-26. Analysed data the 2019-11-29 to the 2019-12-09.\n",
      "o Trained on the data from the 2019-11-29 to the 2019-12-08 (8 days).\n",
      "o Predict from the 2019-12-08 to the 2019-12-09 (1 days).\n"
     ]
    },
    {
     "data": {
      "application/vnd.jupyter.widget-view+json": {
       "model_id": "6c123eb5e7c74343bcd624e7f86dcbdc",
       "version_major": 2,
       "version_minor": 0
      },
      "text/plain": [
       "Canvas(toolbar=Toolbar(toolitems=[('Home', 'Reset original view', 'home', 'home'), ('Back', 'Back to previous …"
      ]
     },
     "metadata": {},
     "output_type": "display_data"
    },
    {
     "name": "stdout",
     "output_type": "stream",
     "text": [
      "\n",
      "prophet_instance nb 4\n",
      "Full dataset: 2019-10-23 to the 2020-03-26. Analysed data the 2019-12-01 to the 2019-12-09.\n",
      "o Trained on the data from the 2019-12-01 to the 2019-12-08 (6 days).\n",
      "o Predict from the 2019-12-08 to the 2019-12-09 (1 days).\n"
     ]
    },
    {
     "data": {
      "application/vnd.jupyter.widget-view+json": {
       "model_id": "a24b7ae8b86c4bd3b0c3b2b5253e3d2c",
       "version_major": 2,
       "version_minor": 0
      },
      "text/plain": [
       "Canvas(toolbar=Toolbar(toolitems=[('Home', 'Reset original view', 'home', 'home'), ('Back', 'Back to previous …"
      ]
     },
     "metadata": {},
     "output_type": "display_data"
    },
    {
     "name": "stdout",
     "output_type": "stream",
     "text": [
      "\n",
      "prophet_instance nb 5\n",
      "Full dataset: 2019-10-23 to the 2020-03-26. Analysed data the 2019-12-01 to the 2019-12-09.\n",
      "o Trained on the data from the 2019-12-01 to the 2019-12-08 (6 days).\n",
      "o Predict from the 2019-12-08 to the 2019-12-09 (1 days).\n"
     ]
    },
    {
     "data": {
      "application/vnd.jupyter.widget-view+json": {
       "model_id": "7d9069bcd97a47ac9d8dba6bab4ee70e",
       "version_major": 2,
       "version_minor": 0
      },
      "text/plain": [
       "Canvas(toolbar=Toolbar(toolitems=[('Home', 'Reset original view', 'home', 'home'), ('Back', 'Back to previous …"
      ]
     },
     "metadata": {},
     "output_type": "display_data"
    },
    {
     "name": "stdout",
     "output_type": "stream",
     "text": [
      "Time elapsed: 25 minutes.\n",
      "Saving the best model\n",
      "\n",
      "prophet_instance nb 0\n",
      "Full dataset: 2019-10-23 to the 2020-03-26. Analysed data the 2019-11-27 to the 2019-12-09.\n",
      "o Trained on the data from the 2019-11-27 to the 2019-12-08 (10 days).\n",
      "o Predict from the 2019-12-08 to the 2019-12-09 (1 days).\n"
     ]
    },
    {
     "data": {
      "application/vnd.jupyter.widget-view+json": {
       "model_id": "6298cd529f3f427f81470b6d2eb2f137",
       "version_major": 2,
       "version_minor": 0
      },
      "text/plain": [
       "Canvas(toolbar=Toolbar(toolitems=[('Home', 'Reset original view', 'home', 'home'), ('Back', 'Back to previous …"
      ]
     },
     "metadata": {},
     "output_type": "display_data"
    },
    {
     "name": "stdout",
     "output_type": "stream",
     "text": [
      "Full analysis completed in 25 minutes.\n",
      "\n",
      "prophet_instance nb 0\n",
      "Full dataset: 2019-10-23 to the 2020-03-26. Analysed data the 2020-03-01 to the 2020-03-13.\n",
      "o Trained on the data from the 2020-03-01 to the 2020-03-12 (10 days).\n",
      "o Predict from the 2020-03-12 to the 2020-03-13 (1 days).\n"
     ]
    },
    {
     "data": {
      "application/vnd.jupyter.widget-view+json": {
       "model_id": "0deda6ec31214c1196aa00fe0e2408d0",
       "version_major": 2,
       "version_minor": 0
      },
      "text/plain": [
       "Canvas(toolbar=Toolbar(toolitems=[('Home', 'Reset original view', 'home', 'home'), ('Back', 'Back to previous …"
      ]
     },
     "metadata": {},
     "output_type": "display_data"
    },
    {
     "name": "stdout",
     "output_type": "stream",
     "text": [
      "\n",
      "prophet_instance nb 1\n",
      "Full dataset: 2019-10-23 to the 2020-03-26. Analysed data the 2020-03-01 to the 2020-03-13.\n",
      "o Trained on the data from the 2020-03-01 to the 2020-03-12 (10 days).\n",
      "o Predict from the 2020-03-12 to the 2020-03-13 (1 days).\n"
     ]
    },
    {
     "data": {
      "application/vnd.jupyter.widget-view+json": {
       "model_id": "dc38ae744c1943f3bd4e9ba302e78014",
       "version_major": 2,
       "version_minor": 0
      },
      "text/plain": [
       "Canvas(toolbar=Toolbar(toolitems=[('Home', 'Reset original view', 'home', 'home'), ('Back', 'Back to previous …"
      ]
     },
     "metadata": {},
     "output_type": "display_data"
    },
    {
     "name": "stdout",
     "output_type": "stream",
     "text": [
      "\n",
      "prophet_instance nb 2\n",
      "Full dataset: 2019-10-23 to the 2020-03-26. Analysed data the 2020-03-03 to the 2020-03-13.\n",
      "o Trained on the data from the 2020-03-03 to the 2020-03-12 (8 days).\n",
      "o Predict from the 2020-03-12 to the 2020-03-13 (1 days).\n"
     ]
    },
    {
     "data": {
      "application/vnd.jupyter.widget-view+json": {
       "model_id": "f31eb5a4c91c44f5a4f76a1edef6ac44",
       "version_major": 2,
       "version_minor": 0
      },
      "text/plain": [
       "Canvas(toolbar=Toolbar(toolitems=[('Home', 'Reset original view', 'home', 'home'), ('Back', 'Back to previous …"
      ]
     },
     "metadata": {},
     "output_type": "display_data"
    },
    {
     "name": "stdout",
     "output_type": "stream",
     "text": [
      "\n",
      "prophet_instance nb 3\n",
      "Full dataset: 2019-10-23 to the 2020-03-26. Analysed data the 2020-03-03 to the 2020-03-13.\n",
      "o Trained on the data from the 2020-03-03 to the 2020-03-12 (8 days).\n",
      "o Predict from the 2020-03-12 to the 2020-03-13 (1 days).\n"
     ]
    },
    {
     "data": {
      "application/vnd.jupyter.widget-view+json": {
       "model_id": "a431c940e30141dfa684629eb98a24dc",
       "version_major": 2,
       "version_minor": 0
      },
      "text/plain": [
       "Canvas(toolbar=Toolbar(toolitems=[('Home', 'Reset original view', 'home', 'home'), ('Back', 'Back to previous …"
      ]
     },
     "metadata": {},
     "output_type": "display_data"
    },
    {
     "name": "stdout",
     "output_type": "stream",
     "text": [
      "\n",
      "prophet_instance nb 4\n",
      "Full dataset: 2019-10-23 to the 2020-03-26. Analysed data the 2020-03-05 to the 2020-03-13.\n",
      "o Trained on the data from the 2020-03-05 to the 2020-03-12 (6 days).\n",
      "o Predict from the 2020-03-12 to the 2020-03-13 (1 days).\n"
     ]
    },
    {
     "data": {
      "application/vnd.jupyter.widget-view+json": {
       "model_id": "443246209a844bf29c0779a3a04da304",
       "version_major": 2,
       "version_minor": 0
      },
      "text/plain": [
       "Canvas(toolbar=Toolbar(toolitems=[('Home', 'Reset original view', 'home', 'home'), ('Back', 'Back to previous …"
      ]
     },
     "metadata": {},
     "output_type": "display_data"
    },
    {
     "name": "stdout",
     "output_type": "stream",
     "text": [
      "\n",
      "prophet_instance nb 5\n",
      "Full dataset: 2019-10-23 to the 2020-03-26. Analysed data the 2020-03-05 to the 2020-03-13.\n",
      "o Trained on the data from the 2020-03-05 to the 2020-03-12 (6 days).\n",
      "o Predict from the 2020-03-12 to the 2020-03-13 (1 days).\n"
     ]
    },
    {
     "data": {
      "application/vnd.jupyter.widget-view+json": {
       "model_id": "9407ac3c025c4ae2a706e331d40fd977",
       "version_major": 2,
       "version_minor": 0
      },
      "text/plain": [
       "Canvas(toolbar=Toolbar(toolitems=[('Home', 'Reset original view', 'home', 'home'), ('Back', 'Back to previous …"
      ]
     },
     "metadata": {},
     "output_type": "display_data"
    },
    {
     "name": "stdout",
     "output_type": "stream",
     "text": [
      "Time elapsed: 27 minutes.\n",
      "Saving the best model\n",
      "\n",
      "prophet_instance nb 0\n",
      "Full dataset: 2019-10-23 to the 2020-03-26. Analysed data the 2020-03-05 to the 2020-03-13.\n",
      "o Trained on the data from the 2020-03-05 to the 2020-03-12 (6 days).\n",
      "o Predict from the 2020-03-12 to the 2020-03-13 (1 days).\n"
     ]
    },
    {
     "data": {
      "application/vnd.jupyter.widget-view+json": {
       "model_id": "e867e0d929c741a790f190d688f2b7bb",
       "version_major": 2,
       "version_minor": 0
      },
      "text/plain": [
       "Canvas(toolbar=Toolbar(toolitems=[('Home', 'Reset original view', 'home', 'home'), ('Back', 'Back to previous …"
      ]
     },
     "metadata": {},
     "output_type": "display_data"
    },
    {
     "name": "stdout",
     "output_type": "stream",
     "text": [
      "Full analysis completed in 28 minutes.\n",
      "Check report:\n",
      "##############################################\n",
      "['Device contained in the dataset: device47']\n",
      "['Tenant using the device: tenant08']\n",
      "\n",
      "Data types:\n",
      "device                                object\n",
      "tenant                                object\n",
      "ds             datetime64[ns, Europe/Zurich]\n",
      "light                                float64\n",
      "temperature                          float64\n",
      "humidity                             float64\n",
      "co2                                  float64\n",
      "dtype: object\n",
      "\n",
      "Available data from the 2019-10-23 to the 2020-03-26.\n",
      "\n",
      "prophet_instance nb 0\n",
      "Full dataset: 2019-10-23 to the 2020-03-26. Analysed data the 2019-12-20 to the 2020-01-01.\n",
      "o Trained on the data from the 2019-12-20 to the 2019-12-31 (10 days).\n",
      "o Predict from the 2019-12-31 to the 2020-01-01 (1 days).\n"
     ]
    },
    {
     "data": {
      "application/vnd.jupyter.widget-view+json": {
       "model_id": "9a89f31583a045629d1cc7cc29369646",
       "version_major": 2,
       "version_minor": 0
      },
      "text/plain": [
       "Canvas(toolbar=Toolbar(toolitems=[('Home', 'Reset original view', 'home', 'home'), ('Back', 'Back to previous …"
      ]
     },
     "metadata": {},
     "output_type": "display_data"
    },
    {
     "name": "stdout",
     "output_type": "stream",
     "text": [
      "\n",
      "prophet_instance nb 1\n",
      "Full dataset: 2019-10-23 to the 2020-03-26. Analysed data the 2019-12-20 to the 2020-01-01.\n",
      "o Trained on the data from the 2019-12-20 to the 2019-12-31 (10 days).\n",
      "o Predict from the 2019-12-31 to the 2020-01-01 (1 days).\n"
     ]
    },
    {
     "data": {
      "application/vnd.jupyter.widget-view+json": {
       "model_id": "60180c1975324d68bf4615d03613a7cb",
       "version_major": 2,
       "version_minor": 0
      },
      "text/plain": [
       "Canvas(toolbar=Toolbar(toolitems=[('Home', 'Reset original view', 'home', 'home'), ('Back', 'Back to previous …"
      ]
     },
     "metadata": {},
     "output_type": "display_data"
    },
    {
     "name": "stdout",
     "output_type": "stream",
     "text": [
      "\n",
      "prophet_instance nb 2\n",
      "Full dataset: 2019-10-23 to the 2020-03-26. Analysed data the 2019-12-22 to the 2020-01-01.\n",
      "o Trained on the data from the 2019-12-22 to the 2019-12-31 (8 days).\n",
      "o Predict from the 2019-12-31 to the 2020-01-01 (1 days).\n"
     ]
    },
    {
     "data": {
      "application/vnd.jupyter.widget-view+json": {
       "model_id": "f8c95d9601564f2fbc11e751b1626458",
       "version_major": 2,
       "version_minor": 0
      },
      "text/plain": [
       "Canvas(toolbar=Toolbar(toolitems=[('Home', 'Reset original view', 'home', 'home'), ('Back', 'Back to previous …"
      ]
     },
     "metadata": {},
     "output_type": "display_data"
    },
    {
     "name": "stdout",
     "output_type": "stream",
     "text": [
      "\n",
      "prophet_instance nb 3\n",
      "Full dataset: 2019-10-23 to the 2020-03-26. Analysed data the 2019-12-22 to the 2020-01-01.\n",
      "o Trained on the data from the 2019-12-22 to the 2019-12-31 (8 days).\n",
      "o Predict from the 2019-12-31 to the 2020-01-01 (1 days).\n"
     ]
    },
    {
     "data": {
      "application/vnd.jupyter.widget-view+json": {
       "model_id": "3be656ca32e042e48bb716c9b83bc4de",
       "version_major": 2,
       "version_minor": 0
      },
      "text/plain": [
       "Canvas(toolbar=Toolbar(toolitems=[('Home', 'Reset original view', 'home', 'home'), ('Back', 'Back to previous …"
      ]
     },
     "metadata": {},
     "output_type": "display_data"
    },
    {
     "name": "stdout",
     "output_type": "stream",
     "text": [
      "\n",
      "prophet_instance nb 4\n",
      "Full dataset: 2019-10-23 to the 2020-03-26. Analysed data the 2019-12-24 to the 2020-01-01.\n",
      "o Trained on the data from the 2019-12-24 to the 2019-12-31 (6 days).\n",
      "o Predict from the 2019-12-31 to the 2020-01-01 (1 days).\n"
     ]
    },
    {
     "data": {
      "application/vnd.jupyter.widget-view+json": {
       "model_id": "045f020f472543a7b465ce29e68cc03e",
       "version_major": 2,
       "version_minor": 0
      },
      "text/plain": [
       "Canvas(toolbar=Toolbar(toolitems=[('Home', 'Reset original view', 'home', 'home'), ('Back', 'Back to previous …"
      ]
     },
     "metadata": {},
     "output_type": "display_data"
    },
    {
     "name": "stdout",
     "output_type": "stream",
     "text": [
      "\n",
      "prophet_instance nb 5\n",
      "Full dataset: 2019-10-23 to the 2020-03-26. Analysed data the 2019-12-24 to the 2020-01-01.\n",
      "o Trained on the data from the 2019-12-24 to the 2019-12-31 (6 days).\n",
      "o Predict from the 2019-12-31 to the 2020-01-01 (1 days).\n"
     ]
    },
    {
     "data": {
      "application/vnd.jupyter.widget-view+json": {
       "model_id": "9b16d0a05d954686b430b54ea3542833",
       "version_major": 2,
       "version_minor": 0
      },
      "text/plain": [
       "Canvas(toolbar=Toolbar(toolitems=[('Home', 'Reset original view', 'home', 'home'), ('Back', 'Back to previous …"
      ]
     },
     "metadata": {},
     "output_type": "display_data"
    },
    {
     "name": "stdout",
     "output_type": "stream",
     "text": [
      "Time elapsed: 2 minutes.\n",
      "Saving the best model\n",
      "\n",
      "prophet_instance nb 0\n",
      "Full dataset: 2019-10-23 to the 2020-03-26. Analysed data the 2019-12-24 to the 2020-01-01.\n",
      "o Trained on the data from the 2019-12-24 to the 2019-12-31 (6 days).\n",
      "o Predict from the 2019-12-31 to the 2020-01-01 (1 days).\n"
     ]
    },
    {
     "data": {
      "application/vnd.jupyter.widget-view+json": {
       "model_id": "034c6d1ac01d477dad630d26fa18cff4",
       "version_major": 2,
       "version_minor": 0
      },
      "text/plain": [
       "Canvas(toolbar=Toolbar(toolitems=[('Home', 'Reset original view', 'home', 'home'), ('Back', 'Back to previous …"
      ]
     },
     "metadata": {},
     "output_type": "display_data"
    },
    {
     "name": "stdout",
     "output_type": "stream",
     "text": [
      "Full analysis completed in 2 minutes.\n",
      "\n",
      "prophet_instance nb 0\n",
      "Full dataset: 2019-10-23 to the 2020-03-26. Analysed data the 2020-01-19 to the 2020-01-31.\n",
      "o Trained on the data from the 2020-01-19 to the 2020-01-30 (10 days).\n",
      "o Predict from the 2020-01-30 to the 2020-01-31 (1 days).\n"
     ]
    },
    {
     "data": {
      "application/vnd.jupyter.widget-view+json": {
       "model_id": "a863e7c16a4d4b1e96b91279bcb98e10",
       "version_major": 2,
       "version_minor": 0
      },
      "text/plain": [
       "Canvas(toolbar=Toolbar(toolitems=[('Home', 'Reset original view', 'home', 'home'), ('Back', 'Back to previous …"
      ]
     },
     "metadata": {},
     "output_type": "display_data"
    },
    {
     "name": "stdout",
     "output_type": "stream",
     "text": [
      "\n",
      "prophet_instance nb 1\n",
      "Full dataset: 2019-10-23 to the 2020-03-26. Analysed data the 2020-01-19 to the 2020-01-31.\n",
      "o Trained on the data from the 2020-01-19 to the 2020-01-30 (10 days).\n",
      "o Predict from the 2020-01-30 to the 2020-01-31 (1 days).\n"
     ]
    },
    {
     "data": {
      "application/vnd.jupyter.widget-view+json": {
       "model_id": "95ff05afcdf14ddab32c9aff5749a3a7",
       "version_major": 2,
       "version_minor": 0
      },
      "text/plain": [
       "Canvas(toolbar=Toolbar(toolitems=[('Home', 'Reset original view', 'home', 'home'), ('Back', 'Back to previous …"
      ]
     },
     "metadata": {},
     "output_type": "display_data"
    },
    {
     "name": "stdout",
     "output_type": "stream",
     "text": [
      "\n",
      "prophet_instance nb 2\n",
      "Full dataset: 2019-10-23 to the 2020-03-26. Analysed data the 2020-01-21 to the 2020-01-31.\n",
      "o Trained on the data from the 2020-01-21 to the 2020-01-30 (8 days).\n",
      "o Predict from the 2020-01-30 to the 2020-01-31 (1 days).\n"
     ]
    },
    {
     "data": {
      "application/vnd.jupyter.widget-view+json": {
       "model_id": "8c858f9968634bf1b27ff8fe7ff5d7c5",
       "version_major": 2,
       "version_minor": 0
      },
      "text/plain": [
       "Canvas(toolbar=Toolbar(toolitems=[('Home', 'Reset original view', 'home', 'home'), ('Back', 'Back to previous …"
      ]
     },
     "metadata": {},
     "output_type": "display_data"
    },
    {
     "name": "stdout",
     "output_type": "stream",
     "text": [
      "\n",
      "prophet_instance nb 3\n",
      "Full dataset: 2019-10-23 to the 2020-03-26. Analysed data the 2020-01-21 to the 2020-01-31.\n",
      "o Trained on the data from the 2020-01-21 to the 2020-01-30 (8 days).\n",
      "o Predict from the 2020-01-30 to the 2020-01-31 (1 days).\n"
     ]
    },
    {
     "data": {
      "application/vnd.jupyter.widget-view+json": {
       "model_id": "ce2e625e8025449e8fa046fd29159eec",
       "version_major": 2,
       "version_minor": 0
      },
      "text/plain": [
       "Canvas(toolbar=Toolbar(toolitems=[('Home', 'Reset original view', 'home', 'home'), ('Back', 'Back to previous …"
      ]
     },
     "metadata": {},
     "output_type": "display_data"
    },
    {
     "name": "stdout",
     "output_type": "stream",
     "text": [
      "\n",
      "prophet_instance nb 4\n",
      "Full dataset: 2019-10-23 to the 2020-03-26. Analysed data the 2020-01-23 to the 2020-01-31.\n",
      "o Trained on the data from the 2020-01-23 to the 2020-01-30 (6 days).\n",
      "o Predict from the 2020-01-30 to the 2020-01-31 (1 days).\n"
     ]
    },
    {
     "data": {
      "application/vnd.jupyter.widget-view+json": {
       "model_id": "1de906c5b880485fa3c82d9a6a8ffb59",
       "version_major": 2,
       "version_minor": 0
      },
      "text/plain": [
       "Canvas(toolbar=Toolbar(toolitems=[('Home', 'Reset original view', 'home', 'home'), ('Back', 'Back to previous …"
      ]
     },
     "metadata": {},
     "output_type": "display_data"
    },
    {
     "name": "stdout",
     "output_type": "stream",
     "text": [
      "\n",
      "prophet_instance nb 5\n",
      "Full dataset: 2019-10-23 to the 2020-03-26. Analysed data the 2020-01-23 to the 2020-01-31.\n",
      "o Trained on the data from the 2020-01-23 to the 2020-01-30 (6 days).\n",
      "o Predict from the 2020-01-30 to the 2020-01-31 (1 days).\n"
     ]
    },
    {
     "data": {
      "application/vnd.jupyter.widget-view+json": {
       "model_id": "33bab453e5ad4eb2ac7f682dd8117591",
       "version_major": 2,
       "version_minor": 0
      },
      "text/plain": [
       "Canvas(toolbar=Toolbar(toolitems=[('Home', 'Reset original view', 'home', 'home'), ('Back', 'Back to previous …"
      ]
     },
     "metadata": {},
     "output_type": "display_data"
    },
    {
     "name": "stdout",
     "output_type": "stream",
     "text": [
      "Time elapsed: 5 minutes.\n",
      "Saving the best model\n",
      "\n",
      "prophet_instance nb 0\n",
      "Full dataset: 2019-10-23 to the 2020-03-26. Analysed data the 2020-01-23 to the 2020-01-31.\n",
      "o Trained on the data from the 2020-01-23 to the 2020-01-30 (6 days).\n",
      "o Predict from the 2020-01-30 to the 2020-01-31 (1 days).\n"
     ]
    },
    {
     "data": {
      "application/vnd.jupyter.widget-view+json": {
       "model_id": "67108a9b74b0464e930a7d3b8eb24ac2",
       "version_major": 2,
       "version_minor": 0
      },
      "text/plain": [
       "Canvas(toolbar=Toolbar(toolitems=[('Home', 'Reset original view', 'home', 'home'), ('Back', 'Back to previous …"
      ]
     },
     "metadata": {},
     "output_type": "display_data"
    },
    {
     "name": "stdout",
     "output_type": "stream",
     "text": [
      "Full analysis completed in 5 minutes.\n",
      "\n",
      "prophet_instance nb 0\n",
      "Full dataset: 2019-10-23 to the 2020-03-26. Analysed data the 2019-11-02 to the 2019-11-14.\n",
      "o Trained on the data from the 2019-11-02 to the 2019-11-13 (10 days).\n",
      "o Predict from the 2019-11-13 to the 2019-11-14 (1 days).\n"
     ]
    },
    {
     "data": {
      "application/vnd.jupyter.widget-view+json": {
       "model_id": "2ad96e8c601e41d39ccbfbceaad7016d",
       "version_major": 2,
       "version_minor": 0
      },
      "text/plain": [
       "Canvas(toolbar=Toolbar(toolitems=[('Home', 'Reset original view', 'home', 'home'), ('Back', 'Back to previous …"
      ]
     },
     "metadata": {},
     "output_type": "display_data"
    },
    {
     "name": "stdout",
     "output_type": "stream",
     "text": [
      "\n",
      "prophet_instance nb 1\n",
      "Full dataset: 2019-10-23 to the 2020-03-26. Analysed data the 2019-11-02 to the 2019-11-14.\n",
      "o Trained on the data from the 2019-11-02 to the 2019-11-13 (10 days).\n",
      "o Predict from the 2019-11-13 to the 2019-11-14 (1 days).\n"
     ]
    },
    {
     "data": {
      "application/vnd.jupyter.widget-view+json": {
       "model_id": "ae9c4009ba0f440e8d589ee6261d417e",
       "version_major": 2,
       "version_minor": 0
      },
      "text/plain": [
       "Canvas(toolbar=Toolbar(toolitems=[('Home', 'Reset original view', 'home', 'home'), ('Back', 'Back to previous …"
      ]
     },
     "metadata": {},
     "output_type": "display_data"
    },
    {
     "name": "stdout",
     "output_type": "stream",
     "text": [
      "\n",
      "prophet_instance nb 2\n",
      "Full dataset: 2019-10-23 to the 2020-03-26. Analysed data the 2019-11-04 to the 2019-11-14.\n",
      "o Trained on the data from the 2019-11-04 to the 2019-11-13 (8 days).\n",
      "o Predict from the 2019-11-13 to the 2019-11-14 (1 days).\n"
     ]
    },
    {
     "data": {
      "application/vnd.jupyter.widget-view+json": {
       "model_id": "0aa5d7f3774442fba65d488ec0dab9a4",
       "version_major": 2,
       "version_minor": 0
      },
      "text/plain": [
       "Canvas(toolbar=Toolbar(toolitems=[('Home', 'Reset original view', 'home', 'home'), ('Back', 'Back to previous …"
      ]
     },
     "metadata": {},
     "output_type": "display_data"
    },
    {
     "name": "stdout",
     "output_type": "stream",
     "text": [
      "\n",
      "prophet_instance nb 3\n",
      "Full dataset: 2019-10-23 to the 2020-03-26. Analysed data the 2019-11-04 to the 2019-11-14.\n",
      "o Trained on the data from the 2019-11-04 to the 2019-11-13 (8 days).\n",
      "o Predict from the 2019-11-13 to the 2019-11-14 (1 days).\n"
     ]
    },
    {
     "data": {
      "application/vnd.jupyter.widget-view+json": {
       "model_id": "8729e581b7f144bb96856d8ba40ba049",
       "version_major": 2,
       "version_minor": 0
      },
      "text/plain": [
       "Canvas(toolbar=Toolbar(toolitems=[('Home', 'Reset original view', 'home', 'home'), ('Back', 'Back to previous …"
      ]
     },
     "metadata": {},
     "output_type": "display_data"
    },
    {
     "name": "stdout",
     "output_type": "stream",
     "text": [
      "\n",
      "prophet_instance nb 4\n",
      "Full dataset: 2019-10-23 to the 2020-03-26. Analysed data the 2019-11-06 to the 2019-11-14.\n",
      "o Trained on the data from the 2019-11-06 to the 2019-11-13 (6 days).\n",
      "o Predict from the 2019-11-13 to the 2019-11-14 (1 days).\n"
     ]
    },
    {
     "data": {
      "application/vnd.jupyter.widget-view+json": {
       "model_id": "19fea2aa030c47f1b2e8d58011bfd399",
       "version_major": 2,
       "version_minor": 0
      },
      "text/plain": [
       "Canvas(toolbar=Toolbar(toolitems=[('Home', 'Reset original view', 'home', 'home'), ('Back', 'Back to previous …"
      ]
     },
     "metadata": {},
     "output_type": "display_data"
    },
    {
     "name": "stdout",
     "output_type": "stream",
     "text": [
      "\n",
      "prophet_instance nb 5\n",
      "Full dataset: 2019-10-23 to the 2020-03-26. Analysed data the 2019-11-06 to the 2019-11-14.\n",
      "o Trained on the data from the 2019-11-06 to the 2019-11-13 (6 days).\n",
      "o Predict from the 2019-11-13 to the 2019-11-14 (1 days).\n"
     ]
    },
    {
     "data": {
      "application/vnd.jupyter.widget-view+json": {
       "model_id": "0f3592c1fa104e82b555079f7b4d5be3",
       "version_major": 2,
       "version_minor": 0
      },
      "text/plain": [
       "Canvas(toolbar=Toolbar(toolitems=[('Home', 'Reset original view', 'home', 'home'), ('Back', 'Back to previous …"
      ]
     },
     "metadata": {},
     "output_type": "display_data"
    },
    {
     "name": "stdout",
     "output_type": "stream",
     "text": [
      "Time elapsed: 7 minutes.\n",
      "Saving the best model\n",
      "\n",
      "prophet_instance nb 0\n",
      "Full dataset: 2019-10-23 to the 2020-03-26. Analysed data the 2019-11-04 to the 2019-11-14.\n",
      "o Trained on the data from the 2019-11-04 to the 2019-11-13 (8 days).\n",
      "o Predict from the 2019-11-13 to the 2019-11-14 (1 days).\n"
     ]
    },
    {
     "data": {
      "application/vnd.jupyter.widget-view+json": {
       "model_id": "6e3ad49cffd14c9eba7f75ed3f07012a",
       "version_major": 2,
       "version_minor": 0
      },
      "text/plain": [
       "Canvas(toolbar=Toolbar(toolitems=[('Home', 'Reset original view', 'home', 'home'), ('Back', 'Back to previous …"
      ]
     },
     "metadata": {},
     "output_type": "display_data"
    },
    {
     "name": "stdout",
     "output_type": "stream",
     "text": [
      "Full analysis completed in 8 minutes.\n",
      "\n",
      "prophet_instance nb 0\n",
      "Full dataset: 2019-10-23 to the 2020-03-26. Analysed data the 2020-01-22 to the 2020-02-03.\n",
      "o Trained on the data from the 2020-01-22 to the 2020-02-02 (10 days).\n",
      "o Predict from the 2020-02-02 to the 2020-02-03 (1 days).\n"
     ]
    },
    {
     "data": {
      "application/vnd.jupyter.widget-view+json": {
       "model_id": "52d5392e1b154b68bd6369d70df3ac9e",
       "version_major": 2,
       "version_minor": 0
      },
      "text/plain": [
       "Canvas(toolbar=Toolbar(toolitems=[('Home', 'Reset original view', 'home', 'home'), ('Back', 'Back to previous …"
      ]
     },
     "metadata": {},
     "output_type": "display_data"
    },
    {
     "name": "stdout",
     "output_type": "stream",
     "text": [
      "\n",
      "prophet_instance nb 1\n",
      "Full dataset: 2019-10-23 to the 2020-03-26. Analysed data the 2020-01-22 to the 2020-02-03.\n",
      "o Trained on the data from the 2020-01-22 to the 2020-02-02 (10 days).\n",
      "o Predict from the 2020-02-02 to the 2020-02-03 (1 days).\n"
     ]
    },
    {
     "data": {
      "application/vnd.jupyter.widget-view+json": {
       "model_id": "2425d32ab63b48e380f95ab745c77869",
       "version_major": 2,
       "version_minor": 0
      },
      "text/plain": [
       "Canvas(toolbar=Toolbar(toolitems=[('Home', 'Reset original view', 'home', 'home'), ('Back', 'Back to previous …"
      ]
     },
     "metadata": {},
     "output_type": "display_data"
    },
    {
     "name": "stdout",
     "output_type": "stream",
     "text": [
      "\n",
      "prophet_instance nb 2\n",
      "Full dataset: 2019-10-23 to the 2020-03-26. Analysed data the 2020-01-24 to the 2020-02-03.\n",
      "o Trained on the data from the 2020-01-24 to the 2020-02-02 (8 days).\n",
      "o Predict from the 2020-02-02 to the 2020-02-03 (1 days).\n"
     ]
    },
    {
     "data": {
      "application/vnd.jupyter.widget-view+json": {
       "model_id": "0082924f0e1043999d33ca287cb6e0ad",
       "version_major": 2,
       "version_minor": 0
      },
      "text/plain": [
       "Canvas(toolbar=Toolbar(toolitems=[('Home', 'Reset original view', 'home', 'home'), ('Back', 'Back to previous …"
      ]
     },
     "metadata": {},
     "output_type": "display_data"
    },
    {
     "name": "stdout",
     "output_type": "stream",
     "text": [
      "\n",
      "prophet_instance nb 3\n",
      "Full dataset: 2019-10-23 to the 2020-03-26. Analysed data the 2020-01-24 to the 2020-02-03.\n",
      "o Trained on the data from the 2020-01-24 to the 2020-02-02 (8 days).\n",
      "o Predict from the 2020-02-02 to the 2020-02-03 (1 days).\n"
     ]
    },
    {
     "data": {
      "application/vnd.jupyter.widget-view+json": {
       "model_id": "f2912e05058e48b5b8de7ed61904f270",
       "version_major": 2,
       "version_minor": 0
      },
      "text/plain": [
       "Canvas(toolbar=Toolbar(toolitems=[('Home', 'Reset original view', 'home', 'home'), ('Back', 'Back to previous …"
      ]
     },
     "metadata": {},
     "output_type": "display_data"
    },
    {
     "name": "stdout",
     "output_type": "stream",
     "text": [
      "\n",
      "prophet_instance nb 4\n",
      "Full dataset: 2019-10-23 to the 2020-03-26. Analysed data the 2020-01-26 to the 2020-02-03.\n",
      "o Trained on the data from the 2020-01-26 to the 2020-02-02 (6 days).\n",
      "o Predict from the 2020-02-02 to the 2020-02-03 (1 days).\n"
     ]
    },
    {
     "data": {
      "application/vnd.jupyter.widget-view+json": {
       "model_id": "24fbe27eed0e4045b83638237b875346",
       "version_major": 2,
       "version_minor": 0
      },
      "text/plain": [
       "Canvas(toolbar=Toolbar(toolitems=[('Home', 'Reset original view', 'home', 'home'), ('Back', 'Back to previous …"
      ]
     },
     "metadata": {},
     "output_type": "display_data"
    },
    {
     "name": "stdout",
     "output_type": "stream",
     "text": [
      "\n",
      "prophet_instance nb 5\n",
      "Full dataset: 2019-10-23 to the 2020-03-26. Analysed data the 2020-01-26 to the 2020-02-03.\n",
      "o Trained on the data from the 2020-01-26 to the 2020-02-02 (6 days).\n",
      "o Predict from the 2020-02-02 to the 2020-02-03 (1 days).\n"
     ]
    },
    {
     "data": {
      "application/vnd.jupyter.widget-view+json": {
       "model_id": "6126d8f538ea45d799cf14975d55c3cc",
       "version_major": 2,
       "version_minor": 0
      },
      "text/plain": [
       "Canvas(toolbar=Toolbar(toolitems=[('Home', 'Reset original view', 'home', 'home'), ('Back', 'Back to previous …"
      ]
     },
     "metadata": {},
     "output_type": "display_data"
    },
    {
     "name": "stdout",
     "output_type": "stream",
     "text": [
      "Time elapsed: 10 minutes.\n",
      "Saving the best model\n",
      "\n",
      "prophet_instance nb 0\n",
      "Full dataset: 2019-10-23 to the 2020-03-26. Analysed data the 2020-01-26 to the 2020-02-03.\n",
      "o Trained on the data from the 2020-01-26 to the 2020-02-02 (6 days).\n",
      "o Predict from the 2020-02-02 to the 2020-02-03 (1 days).\n"
     ]
    },
    {
     "data": {
      "application/vnd.jupyter.widget-view+json": {
       "model_id": "6423d4502b7a4145acaa1257f817b15e",
       "version_major": 2,
       "version_minor": 0
      },
      "text/plain": [
       "Canvas(toolbar=Toolbar(toolitems=[('Home', 'Reset original view', 'home', 'home'), ('Back', 'Back to previous …"
      ]
     },
     "metadata": {},
     "output_type": "display_data"
    },
    {
     "name": "stdout",
     "output_type": "stream",
     "text": [
      "Full analysis completed in 11 minutes.\n",
      "\n",
      "prophet_instance nb 0\n",
      "Full dataset: 2019-10-23 to the 2020-03-26. Analysed data the 2019-12-16 to the 2019-12-28.\n",
      "o Trained on the data from the 2019-12-16 to the 2019-12-27 (10 days).\n",
      "o Predict from the 2019-12-27 to the 2019-12-28 (1 days).\n"
     ]
    },
    {
     "data": {
      "application/vnd.jupyter.widget-view+json": {
       "model_id": "84eafb720c204de3a110cfafff07fce4",
       "version_major": 2,
       "version_minor": 0
      },
      "text/plain": [
       "Canvas(toolbar=Toolbar(toolitems=[('Home', 'Reset original view', 'home', 'home'), ('Back', 'Back to previous …"
      ]
     },
     "metadata": {},
     "output_type": "display_data"
    },
    {
     "name": "stdout",
     "output_type": "stream",
     "text": [
      "\n",
      "prophet_instance nb 1\n",
      "Full dataset: 2019-10-23 to the 2020-03-26. Analysed data the 2019-12-16 to the 2019-12-28.\n",
      "o Trained on the data from the 2019-12-16 to the 2019-12-27 (10 days).\n",
      "o Predict from the 2019-12-27 to the 2019-12-28 (1 days).\n"
     ]
    },
    {
     "data": {
      "application/vnd.jupyter.widget-view+json": {
       "model_id": "e864b4fd47b74e90a3084d91b3cc9e16",
       "version_major": 2,
       "version_minor": 0
      },
      "text/plain": [
       "Canvas(toolbar=Toolbar(toolitems=[('Home', 'Reset original view', 'home', 'home'), ('Back', 'Back to previous …"
      ]
     },
     "metadata": {},
     "output_type": "display_data"
    },
    {
     "name": "stdout",
     "output_type": "stream",
     "text": [
      "\n",
      "prophet_instance nb 2\n",
      "Full dataset: 2019-10-23 to the 2020-03-26. Analysed data the 2019-12-18 to the 2019-12-28.\n",
      "o Trained on the data from the 2019-12-18 to the 2019-12-27 (8 days).\n",
      "o Predict from the 2019-12-27 to the 2019-12-28 (1 days).\n"
     ]
    },
    {
     "data": {
      "application/vnd.jupyter.widget-view+json": {
       "model_id": "7ecd2de8a3fb42f684ad9374005a9da8",
       "version_major": 2,
       "version_minor": 0
      },
      "text/plain": [
       "Canvas(toolbar=Toolbar(toolitems=[('Home', 'Reset original view', 'home', 'home'), ('Back', 'Back to previous …"
      ]
     },
     "metadata": {},
     "output_type": "display_data"
    },
    {
     "name": "stdout",
     "output_type": "stream",
     "text": [
      "\n",
      "prophet_instance nb 3\n",
      "Full dataset: 2019-10-23 to the 2020-03-26. Analysed data the 2019-12-18 to the 2019-12-28.\n",
      "o Trained on the data from the 2019-12-18 to the 2019-12-27 (8 days).\n",
      "o Predict from the 2019-12-27 to the 2019-12-28 (1 days).\n"
     ]
    },
    {
     "data": {
      "application/vnd.jupyter.widget-view+json": {
       "model_id": "b6005d23b6fc4c46896fece6a30421c7",
       "version_major": 2,
       "version_minor": 0
      },
      "text/plain": [
       "Canvas(toolbar=Toolbar(toolitems=[('Home', 'Reset original view', 'home', 'home'), ('Back', 'Back to previous …"
      ]
     },
     "metadata": {},
     "output_type": "display_data"
    },
    {
     "name": "stdout",
     "output_type": "stream",
     "text": [
      "\n",
      "prophet_instance nb 4\n",
      "Full dataset: 2019-10-23 to the 2020-03-26. Analysed data the 2019-12-20 to the 2019-12-28.\n",
      "o Trained on the data from the 2019-12-20 to the 2019-12-27 (6 days).\n",
      "o Predict from the 2019-12-27 to the 2019-12-28 (1 days).\n"
     ]
    },
    {
     "data": {
      "application/vnd.jupyter.widget-view+json": {
       "model_id": "46a02a5622bd43ad88842a7b9c98602f",
       "version_major": 2,
       "version_minor": 0
      },
      "text/plain": [
       "Canvas(toolbar=Toolbar(toolitems=[('Home', 'Reset original view', 'home', 'home'), ('Back', 'Back to previous …"
      ]
     },
     "metadata": {},
     "output_type": "display_data"
    },
    {
     "name": "stdout",
     "output_type": "stream",
     "text": [
      "\n",
      "prophet_instance nb 5\n",
      "Full dataset: 2019-10-23 to the 2020-03-26. Analysed data the 2019-12-20 to the 2019-12-28.\n",
      "o Trained on the data from the 2019-12-20 to the 2019-12-27 (6 days).\n",
      "o Predict from the 2019-12-27 to the 2019-12-28 (1 days).\n"
     ]
    },
    {
     "data": {
      "application/vnd.jupyter.widget-view+json": {
       "model_id": "e763382b81b54b95ba46cc07ebe5f809",
       "version_major": 2,
       "version_minor": 0
      },
      "text/plain": [
       "Canvas(toolbar=Toolbar(toolitems=[('Home', 'Reset original view', 'home', 'home'), ('Back', 'Back to previous …"
      ]
     },
     "metadata": {},
     "output_type": "display_data"
    },
    {
     "name": "stdout",
     "output_type": "stream",
     "text": [
      "Time elapsed: 13 minutes.\n",
      "Saving the best model\n",
      "\n",
      "prophet_instance nb 0\n",
      "Full dataset: 2019-10-23 to the 2020-03-26. Analysed data the 2019-12-18 to the 2019-12-28.\n",
      "o Trained on the data from the 2019-12-18 to the 2019-12-27 (8 days).\n",
      "o Predict from the 2019-12-27 to the 2019-12-28 (1 days).\n"
     ]
    },
    {
     "data": {
      "application/vnd.jupyter.widget-view+json": {
       "model_id": "546f0e64448b46938c91085a1bb3faf1",
       "version_major": 2,
       "version_minor": 0
      },
      "text/plain": [
       "Canvas(toolbar=Toolbar(toolitems=[('Home', 'Reset original view', 'home', 'home'), ('Back', 'Back to previous …"
      ]
     },
     "metadata": {},
     "output_type": "display_data"
    },
    {
     "name": "stdout",
     "output_type": "stream",
     "text": [
      "Full analysis completed in 14 minutes.\n",
      "\n",
      "prophet_instance nb 0\n",
      "Full dataset: 2019-10-23 to the 2020-03-26. Analysed data the 2020-03-04 to the 2020-03-16.\n",
      "o Trained on the data from the 2020-03-04 to the 2020-03-15 (10 days).\n",
      "o Predict from the 2020-03-15 to the 2020-03-16 (1 days).\n"
     ]
    },
    {
     "data": {
      "application/vnd.jupyter.widget-view+json": {
       "model_id": "a570452d834d47069e253239a296fcc5",
       "version_major": 2,
       "version_minor": 0
      },
      "text/plain": [
       "Canvas(toolbar=Toolbar(toolitems=[('Home', 'Reset original view', 'home', 'home'), ('Back', 'Back to previous …"
      ]
     },
     "metadata": {},
     "output_type": "display_data"
    },
    {
     "name": "stdout",
     "output_type": "stream",
     "text": [
      "\n",
      "prophet_instance nb 1\n",
      "Full dataset: 2019-10-23 to the 2020-03-26. Analysed data the 2020-03-04 to the 2020-03-16.\n",
      "o Trained on the data from the 2020-03-04 to the 2020-03-15 (10 days).\n",
      "o Predict from the 2020-03-15 to the 2020-03-16 (1 days).\n"
     ]
    },
    {
     "data": {
      "application/vnd.jupyter.widget-view+json": {
       "model_id": "9504fa829b8e4b3abef58f9dbd21291c",
       "version_major": 2,
       "version_minor": 0
      },
      "text/plain": [
       "Canvas(toolbar=Toolbar(toolitems=[('Home', 'Reset original view', 'home', 'home'), ('Back', 'Back to previous …"
      ]
     },
     "metadata": {},
     "output_type": "display_data"
    },
    {
     "name": "stdout",
     "output_type": "stream",
     "text": [
      "\n",
      "prophet_instance nb 2\n",
      "Full dataset: 2019-10-23 to the 2020-03-26. Analysed data the 2020-03-06 to the 2020-03-16.\n",
      "o Trained on the data from the 2020-03-06 to the 2020-03-15 (8 days).\n",
      "o Predict from the 2020-03-15 to the 2020-03-16 (1 days).\n"
     ]
    },
    {
     "data": {
      "application/vnd.jupyter.widget-view+json": {
       "model_id": "51857a425ff64ea98d792d05141e606f",
       "version_major": 2,
       "version_minor": 0
      },
      "text/plain": [
       "Canvas(toolbar=Toolbar(toolitems=[('Home', 'Reset original view', 'home', 'home'), ('Back', 'Back to previous …"
      ]
     },
     "metadata": {},
     "output_type": "display_data"
    },
    {
     "name": "stdout",
     "output_type": "stream",
     "text": [
      "\n",
      "prophet_instance nb 3\n",
      "Full dataset: 2019-10-23 to the 2020-03-26. Analysed data the 2020-03-06 to the 2020-03-16.\n",
      "o Trained on the data from the 2020-03-06 to the 2020-03-15 (8 days).\n",
      "o Predict from the 2020-03-15 to the 2020-03-16 (1 days).\n"
     ]
    },
    {
     "data": {
      "application/vnd.jupyter.widget-view+json": {
       "model_id": "d5040b3dd4e5498f8bae833abb740a32",
       "version_major": 2,
       "version_minor": 0
      },
      "text/plain": [
       "Canvas(toolbar=Toolbar(toolitems=[('Home', 'Reset original view', 'home', 'home'), ('Back', 'Back to previous …"
      ]
     },
     "metadata": {},
     "output_type": "display_data"
    },
    {
     "name": "stdout",
     "output_type": "stream",
     "text": [
      "\n",
      "prophet_instance nb 4\n",
      "Full dataset: 2019-10-23 to the 2020-03-26. Analysed data the 2020-03-08 to the 2020-03-16.\n",
      "o Trained on the data from the 2020-03-08 to the 2020-03-15 (6 days).\n",
      "o Predict from the 2020-03-15 to the 2020-03-16 (1 days).\n"
     ]
    },
    {
     "data": {
      "application/vnd.jupyter.widget-view+json": {
       "model_id": "3870f1190a5142119c5afd2a5fd1c358",
       "version_major": 2,
       "version_minor": 0
      },
      "text/plain": [
       "Canvas(toolbar=Toolbar(toolitems=[('Home', 'Reset original view', 'home', 'home'), ('Back', 'Back to previous …"
      ]
     },
     "metadata": {},
     "output_type": "display_data"
    },
    {
     "name": "stdout",
     "output_type": "stream",
     "text": [
      "\n",
      "prophet_instance nb 5\n",
      "Full dataset: 2019-10-23 to the 2020-03-26. Analysed data the 2020-03-08 to the 2020-03-16.\n",
      "o Trained on the data from the 2020-03-08 to the 2020-03-15 (6 days).\n",
      "o Predict from the 2020-03-15 to the 2020-03-16 (1 days).\n"
     ]
    },
    {
     "data": {
      "application/vnd.jupyter.widget-view+json": {
       "model_id": "51d91fb4b1bd4ce28e5a89a0dd46d80d",
       "version_major": 2,
       "version_minor": 0
      },
      "text/plain": [
       "Canvas(toolbar=Toolbar(toolitems=[('Home', 'Reset original view', 'home', 'home'), ('Back', 'Back to previous …"
      ]
     },
     "metadata": {},
     "output_type": "display_data"
    },
    {
     "name": "stdout",
     "output_type": "stream",
     "text": [
      "Time elapsed: 16 minutes.\n",
      "Saving the best model\n",
      "\n",
      "prophet_instance nb 0\n",
      "Full dataset: 2019-10-23 to the 2020-03-26. Analysed data the 2020-03-08 to the 2020-03-16.\n",
      "o Trained on the data from the 2020-03-08 to the 2020-03-15 (6 days).\n",
      "o Predict from the 2020-03-15 to the 2020-03-16 (1 days).\n"
     ]
    },
    {
     "data": {
      "application/vnd.jupyter.widget-view+json": {
       "model_id": "758de23f4f7d48e88c0dd8908e082ee4",
       "version_major": 2,
       "version_minor": 0
      },
      "text/plain": [
       "Canvas(toolbar=Toolbar(toolitems=[('Home', 'Reset original view', 'home', 'home'), ('Back', 'Back to previous …"
      ]
     },
     "metadata": {},
     "output_type": "display_data"
    },
    {
     "name": "stdout",
     "output_type": "stream",
     "text": [
      "Full analysis completed in 17 minutes.\n",
      "\n",
      "prophet_instance nb 0\n",
      "Full dataset: 2019-10-23 to the 2020-03-26. Analysed data the 2019-10-30 to the 2019-11-11.\n",
      "o Trained on the data from the 2019-10-30 to the 2019-11-10 (10 days).\n",
      "o Predict from the 2019-11-10 to the 2019-11-11 (1 days).\n"
     ]
    },
    {
     "data": {
      "application/vnd.jupyter.widget-view+json": {
       "model_id": "814d21f42e5e4a08a9e6b60e9c9f5ad6",
       "version_major": 2,
       "version_minor": 0
      },
      "text/plain": [
       "Canvas(toolbar=Toolbar(toolitems=[('Home', 'Reset original view', 'home', 'home'), ('Back', 'Back to previous …"
      ]
     },
     "metadata": {},
     "output_type": "display_data"
    },
    {
     "name": "stdout",
     "output_type": "stream",
     "text": [
      "\n",
      "prophet_instance nb 1\n",
      "Full dataset: 2019-10-23 to the 2020-03-26. Analysed data the 2019-10-30 to the 2019-11-11.\n",
      "o Trained on the data from the 2019-10-30 to the 2019-11-10 (10 days).\n",
      "o Predict from the 2019-11-10 to the 2019-11-11 (1 days).\n"
     ]
    },
    {
     "data": {
      "application/vnd.jupyter.widget-view+json": {
       "model_id": "31a17bf176464dfb8a01b74b5973ee7d",
       "version_major": 2,
       "version_minor": 0
      },
      "text/plain": [
       "Canvas(toolbar=Toolbar(toolitems=[('Home', 'Reset original view', 'home', 'home'), ('Back', 'Back to previous …"
      ]
     },
     "metadata": {},
     "output_type": "display_data"
    },
    {
     "name": "stdout",
     "output_type": "stream",
     "text": [
      "\n",
      "prophet_instance nb 2\n",
      "Full dataset: 2019-10-23 to the 2020-03-26. Analysed data the 2019-11-01 to the 2019-11-11.\n",
      "o Trained on the data from the 2019-11-01 to the 2019-11-10 (8 days).\n",
      "o Predict from the 2019-11-10 to the 2019-11-11 (1 days).\n"
     ]
    },
    {
     "data": {
      "application/vnd.jupyter.widget-view+json": {
       "model_id": "0d913d3d9f4747e88b53f8923f6da7b2",
       "version_major": 2,
       "version_minor": 0
      },
      "text/plain": [
       "Canvas(toolbar=Toolbar(toolitems=[('Home', 'Reset original view', 'home', 'home'), ('Back', 'Back to previous …"
      ]
     },
     "metadata": {},
     "output_type": "display_data"
    },
    {
     "name": "stdout",
     "output_type": "stream",
     "text": [
      "\n",
      "prophet_instance nb 3\n",
      "Full dataset: 2019-10-23 to the 2020-03-26. Analysed data the 2019-11-01 to the 2019-11-11.\n",
      "o Trained on the data from the 2019-11-01 to the 2019-11-10 (8 days).\n",
      "o Predict from the 2019-11-10 to the 2019-11-11 (1 days).\n"
     ]
    },
    {
     "data": {
      "application/vnd.jupyter.widget-view+json": {
       "model_id": "795e0b7e8d5243f99644f17c1f69741e",
       "version_major": 2,
       "version_minor": 0
      },
      "text/plain": [
       "Canvas(toolbar=Toolbar(toolitems=[('Home', 'Reset original view', 'home', 'home'), ('Back', 'Back to previous …"
      ]
     },
     "metadata": {},
     "output_type": "display_data"
    },
    {
     "name": "stdout",
     "output_type": "stream",
     "text": [
      "\n",
      "prophet_instance nb 4\n",
      "Full dataset: 2019-10-23 to the 2020-03-26. Analysed data the 2019-11-03 to the 2019-11-11.\n",
      "o Trained on the data from the 2019-11-03 to the 2019-11-10 (6 days).\n",
      "o Predict from the 2019-11-10 to the 2019-11-11 (1 days).\n"
     ]
    },
    {
     "data": {
      "application/vnd.jupyter.widget-view+json": {
       "model_id": "83d326a973ee49e38a90a2e0748c027d",
       "version_major": 2,
       "version_minor": 0
      },
      "text/plain": [
       "Canvas(toolbar=Toolbar(toolitems=[('Home', 'Reset original view', 'home', 'home'), ('Back', 'Back to previous …"
      ]
     },
     "metadata": {},
     "output_type": "display_data"
    },
    {
     "name": "stdout",
     "output_type": "stream",
     "text": [
      "\n",
      "prophet_instance nb 5\n",
      "Full dataset: 2019-10-23 to the 2020-03-26. Analysed data the 2019-11-03 to the 2019-11-11.\n",
      "o Trained on the data from the 2019-11-03 to the 2019-11-10 (6 days).\n",
      "o Predict from the 2019-11-10 to the 2019-11-11 (1 days).\n"
     ]
    },
    {
     "data": {
      "application/vnd.jupyter.widget-view+json": {
       "model_id": "5c73b7cf57bb4207916ac47ab687b8c7",
       "version_major": 2,
       "version_minor": 0
      },
      "text/plain": [
       "Canvas(toolbar=Toolbar(toolitems=[('Home', 'Reset original view', 'home', 'home'), ('Back', 'Back to previous …"
      ]
     },
     "metadata": {},
     "output_type": "display_data"
    },
    {
     "name": "stdout",
     "output_type": "stream",
     "text": [
      "Time elapsed: 19 minutes.\n",
      "Saving the best model\n",
      "\n",
      "prophet_instance nb 0\n",
      "Full dataset: 2019-10-23 to the 2020-03-26. Analysed data the 2019-10-30 to the 2019-11-11.\n",
      "o Trained on the data from the 2019-10-30 to the 2019-11-10 (10 days).\n",
      "o Predict from the 2019-11-10 to the 2019-11-11 (1 days).\n"
     ]
    },
    {
     "data": {
      "application/vnd.jupyter.widget-view+json": {
       "model_id": "12536ec09fb44c28aa797cde4996c87d",
       "version_major": 2,
       "version_minor": 0
      },
      "text/plain": [
       "Canvas(toolbar=Toolbar(toolitems=[('Home', 'Reset original view', 'home', 'home'), ('Back', 'Back to previous …"
      ]
     },
     "metadata": {},
     "output_type": "display_data"
    },
    {
     "name": "stdout",
     "output_type": "stream",
     "text": [
      "Full analysis completed in 19 minutes.\n",
      "\n",
      "prophet_instance nb 0\n",
      "Full dataset: 2019-10-23 to the 2020-03-26. Analysed data the 2019-11-07 to the 2019-11-19.\n",
      "o Trained on the data from the 2019-11-07 to the 2019-11-18 (10 days).\n",
      "o Predict from the 2019-11-18 to the 2019-11-19 (1 days).\n"
     ]
    },
    {
     "data": {
      "application/vnd.jupyter.widget-view+json": {
       "model_id": "6be3e7de77a34cb1bfbee01fbf77c256",
       "version_major": 2,
       "version_minor": 0
      },
      "text/plain": [
       "Canvas(toolbar=Toolbar(toolitems=[('Home', 'Reset original view', 'home', 'home'), ('Back', 'Back to previous …"
      ]
     },
     "metadata": {},
     "output_type": "display_data"
    },
    {
     "name": "stdout",
     "output_type": "stream",
     "text": [
      "\n",
      "prophet_instance nb 1\n",
      "Full dataset: 2019-10-23 to the 2020-03-26. Analysed data the 2019-11-07 to the 2019-11-19.\n",
      "o Trained on the data from the 2019-11-07 to the 2019-11-18 (10 days).\n",
      "o Predict from the 2019-11-18 to the 2019-11-19 (1 days).\n"
     ]
    },
    {
     "data": {
      "application/vnd.jupyter.widget-view+json": {
       "model_id": "fdf5fee1219e49139668d38cb1f23383",
       "version_major": 2,
       "version_minor": 0
      },
      "text/plain": [
       "Canvas(toolbar=Toolbar(toolitems=[('Home', 'Reset original view', 'home', 'home'), ('Back', 'Back to previous …"
      ]
     },
     "metadata": {},
     "output_type": "display_data"
    },
    {
     "name": "stdout",
     "output_type": "stream",
     "text": [
      "\n",
      "prophet_instance nb 2\n",
      "Full dataset: 2019-10-23 to the 2020-03-26. Analysed data the 2019-11-09 to the 2019-11-19.\n",
      "o Trained on the data from the 2019-11-09 to the 2019-11-18 (8 days).\n",
      "o Predict from the 2019-11-18 to the 2019-11-19 (1 days).\n"
     ]
    },
    {
     "data": {
      "application/vnd.jupyter.widget-view+json": {
       "model_id": "368d55ef214c4923a74d04169bb79638",
       "version_major": 2,
       "version_minor": 0
      },
      "text/plain": [
       "Canvas(toolbar=Toolbar(toolitems=[('Home', 'Reset original view', 'home', 'home'), ('Back', 'Back to previous …"
      ]
     },
     "metadata": {},
     "output_type": "display_data"
    },
    {
     "name": "stdout",
     "output_type": "stream",
     "text": [
      "\n",
      "prophet_instance nb 3\n",
      "Full dataset: 2019-10-23 to the 2020-03-26. Analysed data the 2019-11-09 to the 2019-11-19.\n",
      "o Trained on the data from the 2019-11-09 to the 2019-11-18 (8 days).\n",
      "o Predict from the 2019-11-18 to the 2019-11-19 (1 days).\n"
     ]
    },
    {
     "data": {
      "application/vnd.jupyter.widget-view+json": {
       "model_id": "8e9443dae9f645a983fbc76eda082623",
       "version_major": 2,
       "version_minor": 0
      },
      "text/plain": [
       "Canvas(toolbar=Toolbar(toolitems=[('Home', 'Reset original view', 'home', 'home'), ('Back', 'Back to previous …"
      ]
     },
     "metadata": {},
     "output_type": "display_data"
    },
    {
     "name": "stdout",
     "output_type": "stream",
     "text": [
      "\n",
      "prophet_instance nb 4\n",
      "Full dataset: 2019-10-23 to the 2020-03-26. Analysed data the 2019-11-11 to the 2019-11-19.\n",
      "o Trained on the data from the 2019-11-11 to the 2019-11-18 (6 days).\n",
      "o Predict from the 2019-11-18 to the 2019-11-19 (1 days).\n"
     ]
    },
    {
     "data": {
      "application/vnd.jupyter.widget-view+json": {
       "model_id": "1b4323ff68274ff79881da7e496e4b4e",
       "version_major": 2,
       "version_minor": 0
      },
      "text/plain": [
       "Canvas(toolbar=Toolbar(toolitems=[('Home', 'Reset original view', 'home', 'home'), ('Back', 'Back to previous …"
      ]
     },
     "metadata": {},
     "output_type": "display_data"
    },
    {
     "name": "stdout",
     "output_type": "stream",
     "text": [
      "\n",
      "prophet_instance nb 5\n",
      "Full dataset: 2019-10-23 to the 2020-03-26. Analysed data the 2019-11-11 to the 2019-11-19.\n",
      "o Trained on the data from the 2019-11-11 to the 2019-11-18 (6 days).\n",
      "o Predict from the 2019-11-18 to the 2019-11-19 (1 days).\n"
     ]
    },
    {
     "data": {
      "application/vnd.jupyter.widget-view+json": {
       "model_id": "fb61189450a44712aff56473ee8b5de0",
       "version_major": 2,
       "version_minor": 0
      },
      "text/plain": [
       "Canvas(toolbar=Toolbar(toolitems=[('Home', 'Reset original view', 'home', 'home'), ('Back', 'Back to previous …"
      ]
     },
     "metadata": {},
     "output_type": "display_data"
    },
    {
     "name": "stdout",
     "output_type": "stream",
     "text": [
      "Time elapsed: 22 minutes.\n",
      "Saving the best model\n",
      "\n",
      "prophet_instance nb 0\n",
      "Full dataset: 2019-10-23 to the 2020-03-26. Analysed data the 2019-11-07 to the 2019-11-19.\n",
      "o Trained on the data from the 2019-11-07 to the 2019-11-18 (10 days).\n",
      "o Predict from the 2019-11-18 to the 2019-11-19 (1 days).\n"
     ]
    },
    {
     "data": {
      "application/vnd.jupyter.widget-view+json": {
       "model_id": "7c845c9619004c12adca2fd7cda0bf00",
       "version_major": 2,
       "version_minor": 0
      },
      "text/plain": [
       "Canvas(toolbar=Toolbar(toolitems=[('Home', 'Reset original view', 'home', 'home'), ('Back', 'Back to previous …"
      ]
     },
     "metadata": {},
     "output_type": "display_data"
    },
    {
     "name": "stdout",
     "output_type": "stream",
     "text": [
      "Full analysis completed in 23 minutes.\n",
      "\n",
      "prophet_instance nb 0\n",
      "Full dataset: 2019-10-23 to the 2020-03-26. Analysed data the 2020-02-20 to the 2020-03-03.\n",
      "o Trained on the data from the 2020-02-20 to the 2020-03-02 (10 days).\n",
      "o Predict from the 2020-03-02 to the 2020-03-03 (1 days).\n"
     ]
    },
    {
     "data": {
      "application/vnd.jupyter.widget-view+json": {
       "model_id": "9bb19de7893a499f991f0eb2c465bdd0",
       "version_major": 2,
       "version_minor": 0
      },
      "text/plain": [
       "Canvas(toolbar=Toolbar(toolitems=[('Home', 'Reset original view', 'home', 'home'), ('Back', 'Back to previous …"
      ]
     },
     "metadata": {},
     "output_type": "display_data"
    },
    {
     "name": "stdout",
     "output_type": "stream",
     "text": [
      "\n",
      "prophet_instance nb 1\n",
      "Full dataset: 2019-10-23 to the 2020-03-26. Analysed data the 2020-02-20 to the 2020-03-03.\n",
      "o Trained on the data from the 2020-02-20 to the 2020-03-02 (10 days).\n",
      "o Predict from the 2020-03-02 to the 2020-03-03 (1 days).\n"
     ]
    },
    {
     "data": {
      "application/vnd.jupyter.widget-view+json": {
       "model_id": "b9120cfa5ced4fcbbc9b982c2ace1585",
       "version_major": 2,
       "version_minor": 0
      },
      "text/plain": [
       "Canvas(toolbar=Toolbar(toolitems=[('Home', 'Reset original view', 'home', 'home'), ('Back', 'Back to previous …"
      ]
     },
     "metadata": {},
     "output_type": "display_data"
    },
    {
     "name": "stdout",
     "output_type": "stream",
     "text": [
      "\n",
      "prophet_instance nb 2\n",
      "Full dataset: 2019-10-23 to the 2020-03-26. Analysed data the 2020-02-22 to the 2020-03-03.\n",
      "o Trained on the data from the 2020-02-22 to the 2020-03-02 (8 days).\n",
      "o Predict from the 2020-03-02 to the 2020-03-03 (1 days).\n"
     ]
    },
    {
     "data": {
      "application/vnd.jupyter.widget-view+json": {
       "model_id": "1858f823478843d095e31705676720c5",
       "version_major": 2,
       "version_minor": 0
      },
      "text/plain": [
       "Canvas(toolbar=Toolbar(toolitems=[('Home', 'Reset original view', 'home', 'home'), ('Back', 'Back to previous …"
      ]
     },
     "metadata": {},
     "output_type": "display_data"
    },
    {
     "name": "stdout",
     "output_type": "stream",
     "text": [
      "\n",
      "prophet_instance nb 3\n",
      "Full dataset: 2019-10-23 to the 2020-03-26. Analysed data the 2020-02-22 to the 2020-03-03.\n",
      "o Trained on the data from the 2020-02-22 to the 2020-03-02 (8 days).\n",
      "o Predict from the 2020-03-02 to the 2020-03-03 (1 days).\n"
     ]
    },
    {
     "data": {
      "application/vnd.jupyter.widget-view+json": {
       "model_id": "e2aba9f9ab25400d83770293a2910bd5",
       "version_major": 2,
       "version_minor": 0
      },
      "text/plain": [
       "Canvas(toolbar=Toolbar(toolitems=[('Home', 'Reset original view', 'home', 'home'), ('Back', 'Back to previous …"
      ]
     },
     "metadata": {},
     "output_type": "display_data"
    },
    {
     "name": "stdout",
     "output_type": "stream",
     "text": [
      "\n",
      "prophet_instance nb 4\n",
      "Full dataset: 2019-10-23 to the 2020-03-26. Analysed data the 2020-02-24 to the 2020-03-03.\n",
      "o Trained on the data from the 2020-02-24 to the 2020-03-02 (6 days).\n",
      "o Predict from the 2020-03-02 to the 2020-03-03 (1 days).\n"
     ]
    },
    {
     "data": {
      "application/vnd.jupyter.widget-view+json": {
       "model_id": "a39435921cea4ab49c153a590182aedd",
       "version_major": 2,
       "version_minor": 0
      },
      "text/plain": [
       "Canvas(toolbar=Toolbar(toolitems=[('Home', 'Reset original view', 'home', 'home'), ('Back', 'Back to previous …"
      ]
     },
     "metadata": {},
     "output_type": "display_data"
    },
    {
     "name": "stdout",
     "output_type": "stream",
     "text": [
      "\n",
      "prophet_instance nb 5\n",
      "Full dataset: 2019-10-23 to the 2020-03-26. Analysed data the 2020-02-24 to the 2020-03-03.\n",
      "o Trained on the data from the 2020-02-24 to the 2020-03-02 (6 days).\n",
      "o Predict from the 2020-03-02 to the 2020-03-03 (1 days).\n"
     ]
    },
    {
     "data": {
      "application/vnd.jupyter.widget-view+json": {
       "model_id": "4708fdd90cd049fc814c629c4bc25b4e",
       "version_major": 2,
       "version_minor": 0
      },
      "text/plain": [
       "Canvas(toolbar=Toolbar(toolitems=[('Home', 'Reset original view', 'home', 'home'), ('Back', 'Back to previous …"
      ]
     },
     "metadata": {},
     "output_type": "display_data"
    },
    {
     "name": "stdout",
     "output_type": "stream",
     "text": [
      "Time elapsed: 26 minutes.\n",
      "Saving the best model\n",
      "\n",
      "prophet_instance nb 0\n",
      "Full dataset: 2019-10-23 to the 2020-03-26. Analysed data the 2020-02-20 to the 2020-03-03.\n",
      "o Trained on the data from the 2020-02-20 to the 2020-03-02 (10 days).\n",
      "o Predict from the 2020-03-02 to the 2020-03-03 (1 days).\n"
     ]
    },
    {
     "data": {
      "application/vnd.jupyter.widget-view+json": {
       "model_id": "b416c5a2d7a04f59aeed981754a0947a",
       "version_major": 2,
       "version_minor": 0
      },
      "text/plain": [
       "Canvas(toolbar=Toolbar(toolitems=[('Home', 'Reset original view', 'home', 'home'), ('Back', 'Back to previous …"
      ]
     },
     "metadata": {},
     "output_type": "display_data"
    },
    {
     "name": "stdout",
     "output_type": "stream",
     "text": [
      "Full analysis completed in 26 minutes.\n",
      "\n",
      "prophet_instance nb 0\n",
      "Full dataset: 2019-10-23 to the 2020-03-26. Analysed data the 2020-02-16 to the 2020-02-28.\n",
      "o Trained on the data from the 2020-02-16 to the 2020-02-27 (10 days).\n",
      "o Predict from the 2020-02-27 to the 2020-02-28 (1 days).\n"
     ]
    },
    {
     "data": {
      "application/vnd.jupyter.widget-view+json": {
       "model_id": "2b30a3aa89fb40148a9366f54c00483c",
       "version_major": 2,
       "version_minor": 0
      },
      "text/plain": [
       "Canvas(toolbar=Toolbar(toolitems=[('Home', 'Reset original view', 'home', 'home'), ('Back', 'Back to previous …"
      ]
     },
     "metadata": {},
     "output_type": "display_data"
    },
    {
     "name": "stdout",
     "output_type": "stream",
     "text": [
      "\n",
      "prophet_instance nb 1\n",
      "Full dataset: 2019-10-23 to the 2020-03-26. Analysed data the 2020-02-16 to the 2020-02-28.\n",
      "o Trained on the data from the 2020-02-16 to the 2020-02-27 (10 days).\n",
      "o Predict from the 2020-02-27 to the 2020-02-28 (1 days).\n"
     ]
    },
    {
     "data": {
      "application/vnd.jupyter.widget-view+json": {
       "model_id": "9aad8da8ec214060988dc317125be912",
       "version_major": 2,
       "version_minor": 0
      },
      "text/plain": [
       "Canvas(toolbar=Toolbar(toolitems=[('Home', 'Reset original view', 'home', 'home'), ('Back', 'Back to previous …"
      ]
     },
     "metadata": {},
     "output_type": "display_data"
    },
    {
     "name": "stdout",
     "output_type": "stream",
     "text": [
      "\n",
      "prophet_instance nb 2\n",
      "Full dataset: 2019-10-23 to the 2020-03-26. Analysed data the 2020-02-18 to the 2020-02-28.\n",
      "o Trained on the data from the 2020-02-18 to the 2020-02-27 (8 days).\n",
      "o Predict from the 2020-02-27 to the 2020-02-28 (1 days).\n"
     ]
    },
    {
     "data": {
      "application/vnd.jupyter.widget-view+json": {
       "model_id": "7757c7fe898b4625b1c1d9e0ae5465b7",
       "version_major": 2,
       "version_minor": 0
      },
      "text/plain": [
       "Canvas(toolbar=Toolbar(toolitems=[('Home', 'Reset original view', 'home', 'home'), ('Back', 'Back to previous …"
      ]
     },
     "metadata": {},
     "output_type": "display_data"
    },
    {
     "name": "stdout",
     "output_type": "stream",
     "text": [
      "\n",
      "prophet_instance nb 3\n",
      "Full dataset: 2019-10-23 to the 2020-03-26. Analysed data the 2020-02-18 to the 2020-02-28.\n",
      "o Trained on the data from the 2020-02-18 to the 2020-02-27 (8 days).\n",
      "o Predict from the 2020-02-27 to the 2020-02-28 (1 days).\n"
     ]
    },
    {
     "data": {
      "application/vnd.jupyter.widget-view+json": {
       "model_id": "8ca91c5071df4ba0b43621fdcbb87b96",
       "version_major": 2,
       "version_minor": 0
      },
      "text/plain": [
       "Canvas(toolbar=Toolbar(toolitems=[('Home', 'Reset original view', 'home', 'home'), ('Back', 'Back to previous …"
      ]
     },
     "metadata": {},
     "output_type": "display_data"
    },
    {
     "name": "stdout",
     "output_type": "stream",
     "text": [
      "\n",
      "prophet_instance nb 4\n",
      "Full dataset: 2019-10-23 to the 2020-03-26. Analysed data the 2020-02-20 to the 2020-02-28.\n",
      "o Trained on the data from the 2020-02-20 to the 2020-02-27 (6 days).\n",
      "o Predict from the 2020-02-27 to the 2020-02-28 (1 days).\n"
     ]
    },
    {
     "data": {
      "application/vnd.jupyter.widget-view+json": {
       "model_id": "9e9a4d94780d481ca48c379735799ea1",
       "version_major": 2,
       "version_minor": 0
      },
      "text/plain": [
       "Canvas(toolbar=Toolbar(toolitems=[('Home', 'Reset original view', 'home', 'home'), ('Back', 'Back to previous …"
      ]
     },
     "metadata": {},
     "output_type": "display_data"
    },
    {
     "name": "stdout",
     "output_type": "stream",
     "text": [
      "\n",
      "prophet_instance nb 5\n",
      "Full dataset: 2019-10-23 to the 2020-03-26. Analysed data the 2020-02-20 to the 2020-02-28.\n",
      "o Trained on the data from the 2020-02-20 to the 2020-02-27 (6 days).\n",
      "o Predict from the 2020-02-27 to the 2020-02-28 (1 days).\n"
     ]
    },
    {
     "data": {
      "application/vnd.jupyter.widget-view+json": {
       "model_id": "8760138f03f846aea0755ad11be8a1f5",
       "version_major": 2,
       "version_minor": 0
      },
      "text/plain": [
       "Canvas(toolbar=Toolbar(toolitems=[('Home', 'Reset original view', 'home', 'home'), ('Back', 'Back to previous …"
      ]
     },
     "metadata": {},
     "output_type": "display_data"
    },
    {
     "name": "stdout",
     "output_type": "stream",
     "text": [
      "Time elapsed: 29 minutes.\n",
      "Saving the best model\n",
      "\n",
      "prophet_instance nb 0\n",
      "Full dataset: 2019-10-23 to the 2020-03-26. Analysed data the 2020-02-20 to the 2020-02-28.\n",
      "o Trained on the data from the 2020-02-20 to the 2020-02-27 (6 days).\n",
      "o Predict from the 2020-02-27 to the 2020-02-28 (1 days).\n"
     ]
    },
    {
     "data": {
      "application/vnd.jupyter.widget-view+json": {
       "model_id": "945adb467ac6496f95bdd3f0540bcb62",
       "version_major": 2,
       "version_minor": 0
      },
      "text/plain": [
       "Canvas(toolbar=Toolbar(toolitems=[('Home', 'Reset original view', 'home', 'home'), ('Back', 'Back to previous …"
      ]
     },
     "metadata": {},
     "output_type": "display_data"
    },
    {
     "name": "stdout",
     "output_type": "stream",
     "text": [
      "Full analysis completed in 29 minutes.\n",
      "Check report:\n",
      "##############################################\n",
      "['Device contained in the dataset: device48']\n",
      "['Tenant using the device: tenant08']\n",
      "\n",
      "Data types:\n",
      "device                                object\n",
      "tenant                                object\n",
      "ds             datetime64[ns, Europe/Zurich]\n",
      "light                                float64\n",
      "temperature                          float64\n",
      "humidity                             float64\n",
      "co2                                  float64\n",
      "dtype: object\n",
      "\n",
      "Available data from the 2019-10-23 to the 2020-03-26.\n",
      "\n",
      "prophet_instance nb 0\n",
      "Full dataset: 2019-10-23 to the 2020-03-26. Analysed data the 2020-01-25 to the 2020-02-06.\n",
      "o Trained on the data from the 2020-01-25 to the 2020-02-05 (10 days).\n",
      "o Predict from the 2020-02-05 to the 2020-02-06 (1 days).\n"
     ]
    },
    {
     "data": {
      "application/vnd.jupyter.widget-view+json": {
       "model_id": "420b7bc013c644b78bb8f21039be0cda",
       "version_major": 2,
       "version_minor": 0
      },
      "text/plain": [
       "Canvas(toolbar=Toolbar(toolitems=[('Home', 'Reset original view', 'home', 'home'), ('Back', 'Back to previous …"
      ]
     },
     "metadata": {},
     "output_type": "display_data"
    },
    {
     "name": "stdout",
     "output_type": "stream",
     "text": [
      "\n",
      "prophet_instance nb 1\n",
      "Full dataset: 2019-10-23 to the 2020-03-26. Analysed data the 2020-01-25 to the 2020-02-06.\n",
      "o Trained on the data from the 2020-01-25 to the 2020-02-05 (10 days).\n",
      "o Predict from the 2020-02-05 to the 2020-02-06 (1 days).\n"
     ]
    },
    {
     "data": {
      "application/vnd.jupyter.widget-view+json": {
       "model_id": "152e75a46f914ecea125cf1492f38450",
       "version_major": 2,
       "version_minor": 0
      },
      "text/plain": [
       "Canvas(toolbar=Toolbar(toolitems=[('Home', 'Reset original view', 'home', 'home'), ('Back', 'Back to previous …"
      ]
     },
     "metadata": {},
     "output_type": "display_data"
    },
    {
     "name": "stdout",
     "output_type": "stream",
     "text": [
      "\n",
      "prophet_instance nb 2\n",
      "Full dataset: 2019-10-23 to the 2020-03-26. Analysed data the 2020-01-27 to the 2020-02-06.\n",
      "o Trained on the data from the 2020-01-27 to the 2020-02-05 (8 days).\n",
      "o Predict from the 2020-02-05 to the 2020-02-06 (1 days).\n"
     ]
    },
    {
     "data": {
      "application/vnd.jupyter.widget-view+json": {
       "model_id": "876f6e805df6449dbfa852883cf5d17f",
       "version_major": 2,
       "version_minor": 0
      },
      "text/plain": [
       "Canvas(toolbar=Toolbar(toolitems=[('Home', 'Reset original view', 'home', 'home'), ('Back', 'Back to previous …"
      ]
     },
     "metadata": {},
     "output_type": "display_data"
    },
    {
     "name": "stdout",
     "output_type": "stream",
     "text": [
      "\n",
      "prophet_instance nb 3\n",
      "Full dataset: 2019-10-23 to the 2020-03-26. Analysed data the 2020-01-27 to the 2020-02-06.\n",
      "o Trained on the data from the 2020-01-27 to the 2020-02-05 (8 days).\n",
      "o Predict from the 2020-02-05 to the 2020-02-06 (1 days).\n"
     ]
    },
    {
     "data": {
      "application/vnd.jupyter.widget-view+json": {
       "model_id": "0f7f3216ec5745159251d70569589436",
       "version_major": 2,
       "version_minor": 0
      },
      "text/plain": [
       "Canvas(toolbar=Toolbar(toolitems=[('Home', 'Reset original view', 'home', 'home'), ('Back', 'Back to previous …"
      ]
     },
     "metadata": {},
     "output_type": "display_data"
    },
    {
     "name": "stdout",
     "output_type": "stream",
     "text": [
      "\n",
      "prophet_instance nb 4\n",
      "Full dataset: 2019-10-23 to the 2020-03-26. Analysed data the 2020-01-29 to the 2020-02-06.\n",
      "o Trained on the data from the 2020-01-29 to the 2020-02-05 (6 days).\n",
      "o Predict from the 2020-02-05 to the 2020-02-06 (1 days).\n"
     ]
    },
    {
     "data": {
      "application/vnd.jupyter.widget-view+json": {
       "model_id": "b9be869aed444db2a313fcb2c6a3a5f2",
       "version_major": 2,
       "version_minor": 0
      },
      "text/plain": [
       "Canvas(toolbar=Toolbar(toolitems=[('Home', 'Reset original view', 'home', 'home'), ('Back', 'Back to previous …"
      ]
     },
     "metadata": {},
     "output_type": "display_data"
    },
    {
     "name": "stdout",
     "output_type": "stream",
     "text": [
      "\n",
      "prophet_instance nb 5\n",
      "Full dataset: 2019-10-23 to the 2020-03-26. Analysed data the 2020-01-29 to the 2020-02-06.\n",
      "o Trained on the data from the 2020-01-29 to the 2020-02-05 (6 days).\n",
      "o Predict from the 2020-02-05 to the 2020-02-06 (1 days).\n"
     ]
    },
    {
     "data": {
      "application/vnd.jupyter.widget-view+json": {
       "model_id": "30b117b50e4d448cbcfb73877968b110",
       "version_major": 2,
       "version_minor": 0
      },
      "text/plain": [
       "Canvas(toolbar=Toolbar(toolitems=[('Home', 'Reset original view', 'home', 'home'), ('Back', 'Back to previous …"
      ]
     },
     "metadata": {},
     "output_type": "display_data"
    },
    {
     "name": "stdout",
     "output_type": "stream",
     "text": [
      "Time elapsed: 2 minutes.\n",
      "Saving the best model\n",
      "\n",
      "prophet_instance nb 0\n",
      "Full dataset: 2019-10-23 to the 2020-03-26. Analysed data the 2020-01-29 to the 2020-02-06.\n",
      "o Trained on the data from the 2020-01-29 to the 2020-02-05 (6 days).\n",
      "o Predict from the 2020-02-05 to the 2020-02-06 (1 days).\n"
     ]
    },
    {
     "data": {
      "application/vnd.jupyter.widget-view+json": {
       "model_id": "eb63ecd6ffd0499887e560e88432e655",
       "version_major": 2,
       "version_minor": 0
      },
      "text/plain": [
       "Canvas(toolbar=Toolbar(toolitems=[('Home', 'Reset original view', 'home', 'home'), ('Back', 'Back to previous …"
      ]
     },
     "metadata": {},
     "output_type": "display_data"
    },
    {
     "name": "stdout",
     "output_type": "stream",
     "text": [
      "Full analysis completed in 2 minutes.\n",
      "\n",
      "prophet_instance nb 0\n",
      "Full dataset: 2019-10-23 to the 2020-03-26. Analysed data the 2020-02-26 to the 2020-03-09.\n",
      "o Trained on the data from the 2020-02-26 to the 2020-03-08 (10 days).\n",
      "o Predict from the 2020-03-08 to the 2020-03-09 (1 days).\n"
     ]
    },
    {
     "data": {
      "application/vnd.jupyter.widget-view+json": {
       "model_id": "056f5fa8512b48b296df985f4db353d0",
       "version_major": 2,
       "version_minor": 0
      },
      "text/plain": [
       "Canvas(toolbar=Toolbar(toolitems=[('Home', 'Reset original view', 'home', 'home'), ('Back', 'Back to previous …"
      ]
     },
     "metadata": {},
     "output_type": "display_data"
    },
    {
     "name": "stdout",
     "output_type": "stream",
     "text": [
      "\n",
      "prophet_instance nb 1\n",
      "Full dataset: 2019-10-23 to the 2020-03-26. Analysed data the 2020-02-26 to the 2020-03-09.\n",
      "o Trained on the data from the 2020-02-26 to the 2020-03-08 (10 days).\n",
      "o Predict from the 2020-03-08 to the 2020-03-09 (1 days).\n"
     ]
    },
    {
     "data": {
      "application/vnd.jupyter.widget-view+json": {
       "model_id": "5906c098cdb641ff8d1c689cb8f86815",
       "version_major": 2,
       "version_minor": 0
      },
      "text/plain": [
       "Canvas(toolbar=Toolbar(toolitems=[('Home', 'Reset original view', 'home', 'home'), ('Back', 'Back to previous …"
      ]
     },
     "metadata": {},
     "output_type": "display_data"
    },
    {
     "name": "stdout",
     "output_type": "stream",
     "text": [
      "\n",
      "prophet_instance nb 2\n",
      "Full dataset: 2019-10-23 to the 2020-03-26. Analysed data the 2020-02-28 to the 2020-03-09.\n",
      "o Trained on the data from the 2020-02-28 to the 2020-03-08 (8 days).\n",
      "o Predict from the 2020-03-08 to the 2020-03-09 (1 days).\n"
     ]
    },
    {
     "data": {
      "application/vnd.jupyter.widget-view+json": {
       "model_id": "84b552e7d398403f98299245acb64e39",
       "version_major": 2,
       "version_minor": 0
      },
      "text/plain": [
       "Canvas(toolbar=Toolbar(toolitems=[('Home', 'Reset original view', 'home', 'home'), ('Back', 'Back to previous …"
      ]
     },
     "metadata": {},
     "output_type": "display_data"
    },
    {
     "name": "stdout",
     "output_type": "stream",
     "text": [
      "\n",
      "prophet_instance nb 3\n",
      "Full dataset: 2019-10-23 to the 2020-03-26. Analysed data the 2020-02-28 to the 2020-03-09.\n",
      "o Trained on the data from the 2020-02-28 to the 2020-03-08 (8 days).\n",
      "o Predict from the 2020-03-08 to the 2020-03-09 (1 days).\n"
     ]
    },
    {
     "data": {
      "application/vnd.jupyter.widget-view+json": {
       "model_id": "0c86d2d91cb04ccc90e5b67483d27950",
       "version_major": 2,
       "version_minor": 0
      },
      "text/plain": [
       "Canvas(toolbar=Toolbar(toolitems=[('Home', 'Reset original view', 'home', 'home'), ('Back', 'Back to previous …"
      ]
     },
     "metadata": {},
     "output_type": "display_data"
    },
    {
     "name": "stdout",
     "output_type": "stream",
     "text": [
      "\n",
      "prophet_instance nb 4\n",
      "Full dataset: 2019-10-23 to the 2020-03-26. Analysed data the 2020-03-01 to the 2020-03-09.\n",
      "o Trained on the data from the 2020-03-01 to the 2020-03-08 (6 days).\n",
      "o Predict from the 2020-03-08 to the 2020-03-09 (1 days).\n"
     ]
    },
    {
     "data": {
      "application/vnd.jupyter.widget-view+json": {
       "model_id": "e7c4cdfea42345338acadb4959712c06",
       "version_major": 2,
       "version_minor": 0
      },
      "text/plain": [
       "Canvas(toolbar=Toolbar(toolitems=[('Home', 'Reset original view', 'home', 'home'), ('Back', 'Back to previous …"
      ]
     },
     "metadata": {},
     "output_type": "display_data"
    },
    {
     "name": "stdout",
     "output_type": "stream",
     "text": [
      "\n",
      "prophet_instance nb 5\n",
      "Full dataset: 2019-10-23 to the 2020-03-26. Analysed data the 2020-03-01 to the 2020-03-09.\n",
      "o Trained on the data from the 2020-03-01 to the 2020-03-08 (6 days).\n",
      "o Predict from the 2020-03-08 to the 2020-03-09 (1 days).\n"
     ]
    },
    {
     "data": {
      "application/vnd.jupyter.widget-view+json": {
       "model_id": "4716ee2abaaf440e914afe6ee7e3c492",
       "version_major": 2,
       "version_minor": 0
      },
      "text/plain": [
       "Canvas(toolbar=Toolbar(toolitems=[('Home', 'Reset original view', 'home', 'home'), ('Back', 'Back to previous …"
      ]
     },
     "metadata": {},
     "output_type": "display_data"
    },
    {
     "name": "stdout",
     "output_type": "stream",
     "text": [
      "Time elapsed: 5 minutes.\n",
      "Saving the best model\n",
      "\n",
      "prophet_instance nb 0\n",
      "Full dataset: 2019-10-23 to the 2020-03-26. Analysed data the 2020-02-26 to the 2020-03-09.\n",
      "o Trained on the data from the 2020-02-26 to the 2020-03-08 (10 days).\n",
      "o Predict from the 2020-03-08 to the 2020-03-09 (1 days).\n"
     ]
    },
    {
     "data": {
      "application/vnd.jupyter.widget-view+json": {
       "model_id": "62d223df0cc34dba8704101b05f46629",
       "version_major": 2,
       "version_minor": 0
      },
      "text/plain": [
       "Canvas(toolbar=Toolbar(toolitems=[('Home', 'Reset original view', 'home', 'home'), ('Back', 'Back to previous …"
      ]
     },
     "metadata": {},
     "output_type": "display_data"
    },
    {
     "name": "stdout",
     "output_type": "stream",
     "text": [
      "Full analysis completed in 5 minutes.\n",
      "\n",
      "prophet_instance nb 0\n",
      "Full dataset: 2019-10-23 to the 2020-03-26. Analysed data the 2020-02-02 to the 2020-02-14.\n",
      "o Trained on the data from the 2020-02-02 to the 2020-02-13 (10 days).\n",
      "o Predict from the 2020-02-13 to the 2020-02-14 (1 days).\n"
     ]
    },
    {
     "data": {
      "application/vnd.jupyter.widget-view+json": {
       "model_id": "1ae1a1098c58454bad69235f4616d183",
       "version_major": 2,
       "version_minor": 0
      },
      "text/plain": [
       "Canvas(toolbar=Toolbar(toolitems=[('Home', 'Reset original view', 'home', 'home'), ('Back', 'Back to previous …"
      ]
     },
     "metadata": {},
     "output_type": "display_data"
    },
    {
     "name": "stdout",
     "output_type": "stream",
     "text": [
      "\n",
      "prophet_instance nb 1\n",
      "Full dataset: 2019-10-23 to the 2020-03-26. Analysed data the 2020-02-02 to the 2020-02-14.\n",
      "o Trained on the data from the 2020-02-02 to the 2020-02-13 (10 days).\n",
      "o Predict from the 2020-02-13 to the 2020-02-14 (1 days).\n"
     ]
    },
    {
     "data": {
      "application/vnd.jupyter.widget-view+json": {
       "model_id": "2e963571ca3e4c109b5b61fda6269909",
       "version_major": 2,
       "version_minor": 0
      },
      "text/plain": [
       "Canvas(toolbar=Toolbar(toolitems=[('Home', 'Reset original view', 'home', 'home'), ('Back', 'Back to previous …"
      ]
     },
     "metadata": {},
     "output_type": "display_data"
    },
    {
     "name": "stdout",
     "output_type": "stream",
     "text": [
      "\n",
      "prophet_instance nb 2\n",
      "Full dataset: 2019-10-23 to the 2020-03-26. Analysed data the 2020-02-04 to the 2020-02-14.\n",
      "o Trained on the data from the 2020-02-04 to the 2020-02-13 (8 days).\n",
      "o Predict from the 2020-02-13 to the 2020-02-14 (1 days).\n"
     ]
    },
    {
     "data": {
      "application/vnd.jupyter.widget-view+json": {
       "model_id": "af61883019314cf19f94408e0b2f285f",
       "version_major": 2,
       "version_minor": 0
      },
      "text/plain": [
       "Canvas(toolbar=Toolbar(toolitems=[('Home', 'Reset original view', 'home', 'home'), ('Back', 'Back to previous …"
      ]
     },
     "metadata": {},
     "output_type": "display_data"
    },
    {
     "name": "stdout",
     "output_type": "stream",
     "text": [
      "\n",
      "prophet_instance nb 3\n",
      "Full dataset: 2019-10-23 to the 2020-03-26. Analysed data the 2020-02-04 to the 2020-02-14.\n",
      "o Trained on the data from the 2020-02-04 to the 2020-02-13 (8 days).\n",
      "o Predict from the 2020-02-13 to the 2020-02-14 (1 days).\n"
     ]
    },
    {
     "data": {
      "application/vnd.jupyter.widget-view+json": {
       "model_id": "279d5de184e24387856e8045a2d3ff98",
       "version_major": 2,
       "version_minor": 0
      },
      "text/plain": [
       "Canvas(toolbar=Toolbar(toolitems=[('Home', 'Reset original view', 'home', 'home'), ('Back', 'Back to previous …"
      ]
     },
     "metadata": {},
     "output_type": "display_data"
    },
    {
     "name": "stdout",
     "output_type": "stream",
     "text": [
      "\n",
      "prophet_instance nb 4\n",
      "Full dataset: 2019-10-23 to the 2020-03-26. Analysed data the 2020-02-06 to the 2020-02-14.\n",
      "o Trained on the data from the 2020-02-06 to the 2020-02-13 (6 days).\n",
      "o Predict from the 2020-02-13 to the 2020-02-14 (1 days).\n"
     ]
    },
    {
     "data": {
      "application/vnd.jupyter.widget-view+json": {
       "model_id": "b9a35c62f4b24ffe925a0ae130fc9164",
       "version_major": 2,
       "version_minor": 0
      },
      "text/plain": [
       "Canvas(toolbar=Toolbar(toolitems=[('Home', 'Reset original view', 'home', 'home'), ('Back', 'Back to previous …"
      ]
     },
     "metadata": {},
     "output_type": "display_data"
    },
    {
     "name": "stdout",
     "output_type": "stream",
     "text": [
      "\n",
      "prophet_instance nb 5\n",
      "Full dataset: 2019-10-23 to the 2020-03-26. Analysed data the 2020-02-06 to the 2020-02-14.\n",
      "o Trained on the data from the 2020-02-06 to the 2020-02-13 (6 days).\n",
      "o Predict from the 2020-02-13 to the 2020-02-14 (1 days).\n"
     ]
    },
    {
     "data": {
      "application/vnd.jupyter.widget-view+json": {
       "model_id": "51e754cfd29d4714b0a5009cf672d943",
       "version_major": 2,
       "version_minor": 0
      },
      "text/plain": [
       "Canvas(toolbar=Toolbar(toolitems=[('Home', 'Reset original view', 'home', 'home'), ('Back', 'Back to previous …"
      ]
     },
     "metadata": {},
     "output_type": "display_data"
    },
    {
     "name": "stdout",
     "output_type": "stream",
     "text": [
      "Time elapsed: 8 minutes.\n",
      "Saving the best model\n",
      "\n",
      "prophet_instance nb 0\n",
      "Full dataset: 2019-10-23 to the 2020-03-26. Analysed data the 2020-02-06 to the 2020-02-14.\n",
      "o Trained on the data from the 2020-02-06 to the 2020-02-13 (6 days).\n",
      "o Predict from the 2020-02-13 to the 2020-02-14 (1 days).\n"
     ]
    },
    {
     "data": {
      "application/vnd.jupyter.widget-view+json": {
       "model_id": "509659e157e34197a2a021fe1c86c308",
       "version_major": 2,
       "version_minor": 0
      },
      "text/plain": [
       "Canvas(toolbar=Toolbar(toolitems=[('Home', 'Reset original view', 'home', 'home'), ('Back', 'Back to previous …"
      ]
     },
     "metadata": {},
     "output_type": "display_data"
    },
    {
     "name": "stdout",
     "output_type": "stream",
     "text": [
      "Full analysis completed in 8 minutes.\n",
      "\n",
      "prophet_instance nb 0\n",
      "Full dataset: 2019-10-23 to the 2020-03-26. Analysed data the 2019-12-27 to the 2020-01-08.\n",
      "o Trained on the data from the 2019-12-27 to the 2020-01-07 (10 days).\n",
      "o Predict from the 2020-01-07 to the 2020-01-08 (1 days).\n"
     ]
    },
    {
     "data": {
      "application/vnd.jupyter.widget-view+json": {
       "model_id": "2b214dc4563d480da379bf12c7cb877a",
       "version_major": 2,
       "version_minor": 0
      },
      "text/plain": [
       "Canvas(toolbar=Toolbar(toolitems=[('Home', 'Reset original view', 'home', 'home'), ('Back', 'Back to previous …"
      ]
     },
     "metadata": {},
     "output_type": "display_data"
    },
    {
     "name": "stdout",
     "output_type": "stream",
     "text": [
      "\n",
      "prophet_instance nb 1\n",
      "Full dataset: 2019-10-23 to the 2020-03-26. Analysed data the 2019-12-27 to the 2020-01-08.\n",
      "o Trained on the data from the 2019-12-27 to the 2020-01-07 (10 days).\n",
      "o Predict from the 2020-01-07 to the 2020-01-08 (1 days).\n"
     ]
    },
    {
     "data": {
      "application/vnd.jupyter.widget-view+json": {
       "model_id": "04907e9cfc8c44e2961ca460b0035caf",
       "version_major": 2,
       "version_minor": 0
      },
      "text/plain": [
       "Canvas(toolbar=Toolbar(toolitems=[('Home', 'Reset original view', 'home', 'home'), ('Back', 'Back to previous …"
      ]
     },
     "metadata": {},
     "output_type": "display_data"
    },
    {
     "name": "stdout",
     "output_type": "stream",
     "text": [
      "\n",
      "prophet_instance nb 2\n",
      "Full dataset: 2019-10-23 to the 2020-03-26. Analysed data the 2019-12-29 to the 2020-01-08.\n",
      "o Trained on the data from the 2019-12-29 to the 2020-01-07 (8 days).\n",
      "o Predict from the 2020-01-07 to the 2020-01-08 (1 days).\n"
     ]
    },
    {
     "data": {
      "application/vnd.jupyter.widget-view+json": {
       "model_id": "a62e50691abd4822bae94f168f0c4c02",
       "version_major": 2,
       "version_minor": 0
      },
      "text/plain": [
       "Canvas(toolbar=Toolbar(toolitems=[('Home', 'Reset original view', 'home', 'home'), ('Back', 'Back to previous …"
      ]
     },
     "metadata": {},
     "output_type": "display_data"
    },
    {
     "name": "stdout",
     "output_type": "stream",
     "text": [
      "\n",
      "prophet_instance nb 3\n",
      "Full dataset: 2019-10-23 to the 2020-03-26. Analysed data the 2019-12-29 to the 2020-01-08.\n",
      "o Trained on the data from the 2019-12-29 to the 2020-01-07 (8 days).\n",
      "o Predict from the 2020-01-07 to the 2020-01-08 (1 days).\n"
     ]
    },
    {
     "data": {
      "application/vnd.jupyter.widget-view+json": {
       "model_id": "e777116a49994a85b153d3ec6ccfb4df",
       "version_major": 2,
       "version_minor": 0
      },
      "text/plain": [
       "Canvas(toolbar=Toolbar(toolitems=[('Home', 'Reset original view', 'home', 'home'), ('Back', 'Back to previous …"
      ]
     },
     "metadata": {},
     "output_type": "display_data"
    },
    {
     "name": "stdout",
     "output_type": "stream",
     "text": [
      "\n",
      "prophet_instance nb 4\n",
      "Full dataset: 2019-10-23 to the 2020-03-26. Analysed data the 2019-12-31 to the 2020-01-08.\n",
      "o Trained on the data from the 2019-12-31 to the 2020-01-07 (6 days).\n",
      "o Predict from the 2020-01-07 to the 2020-01-08 (1 days).\n"
     ]
    },
    {
     "data": {
      "application/vnd.jupyter.widget-view+json": {
       "model_id": "e699c55e3a0a4422b2223378dc796b9f",
       "version_major": 2,
       "version_minor": 0
      },
      "text/plain": [
       "Canvas(toolbar=Toolbar(toolitems=[('Home', 'Reset original view', 'home', 'home'), ('Back', 'Back to previous …"
      ]
     },
     "metadata": {},
     "output_type": "display_data"
    },
    {
     "name": "stdout",
     "output_type": "stream",
     "text": [
      "\n",
      "prophet_instance nb 5\n",
      "Full dataset: 2019-10-23 to the 2020-03-26. Analysed data the 2019-12-31 to the 2020-01-08.\n",
      "o Trained on the data from the 2019-12-31 to the 2020-01-07 (6 days).\n",
      "o Predict from the 2020-01-07 to the 2020-01-08 (1 days).\n"
     ]
    },
    {
     "data": {
      "application/vnd.jupyter.widget-view+json": {
       "model_id": "a60a553ed8b04c37bc56dedeb4592fc9",
       "version_major": 2,
       "version_minor": 0
      },
      "text/plain": [
       "Canvas(toolbar=Toolbar(toolitems=[('Home', 'Reset original view', 'home', 'home'), ('Back', 'Back to previous …"
      ]
     },
     "metadata": {},
     "output_type": "display_data"
    },
    {
     "name": "stdout",
     "output_type": "stream",
     "text": [
      "Time elapsed: 11 minutes.\n",
      "Saving the best model\n",
      "\n",
      "prophet_instance nb 0\n",
      "Full dataset: 2019-10-23 to the 2020-03-26. Analysed data the 2019-12-27 to the 2020-01-08.\n",
      "o Trained on the data from the 2019-12-27 to the 2020-01-07 (10 days).\n",
      "o Predict from the 2020-01-07 to the 2020-01-08 (1 days).\n"
     ]
    },
    {
     "data": {
      "application/vnd.jupyter.widget-view+json": {
       "model_id": "06ef227bdc1f4c6198de1b8667a0d6fe",
       "version_major": 2,
       "version_minor": 0
      },
      "text/plain": [
       "Canvas(toolbar=Toolbar(toolitems=[('Home', 'Reset original view', 'home', 'home'), ('Back', 'Back to previous …"
      ]
     },
     "metadata": {},
     "output_type": "display_data"
    },
    {
     "name": "stdout",
     "output_type": "stream",
     "text": [
      "Full analysis completed in 11 minutes.\n",
      "\n",
      "prophet_instance nb 0\n",
      "Full dataset: 2019-10-23 to the 2020-03-26. Analysed data the 2020-03-03 to the 2020-03-15.\n",
      "o Trained on the data from the 2020-03-03 to the 2020-03-14 (10 days).\n",
      "o Predict from the 2020-03-14 to the 2020-03-15 (1 days).\n"
     ]
    },
    {
     "data": {
      "application/vnd.jupyter.widget-view+json": {
       "model_id": "3fb4a2d598964ab3a661f0b5b91bb7ce",
       "version_major": 2,
       "version_minor": 0
      },
      "text/plain": [
       "Canvas(toolbar=Toolbar(toolitems=[('Home', 'Reset original view', 'home', 'home'), ('Back', 'Back to previous …"
      ]
     },
     "metadata": {},
     "output_type": "display_data"
    },
    {
     "name": "stdout",
     "output_type": "stream",
     "text": [
      "\n",
      "prophet_instance nb 1\n",
      "Full dataset: 2019-10-23 to the 2020-03-26. Analysed data the 2020-03-03 to the 2020-03-15.\n",
      "o Trained on the data from the 2020-03-03 to the 2020-03-14 (10 days).\n",
      "o Predict from the 2020-03-14 to the 2020-03-15 (1 days).\n"
     ]
    },
    {
     "data": {
      "application/vnd.jupyter.widget-view+json": {
       "model_id": "2db61897a968435ba2a62233732b9ac8",
       "version_major": 2,
       "version_minor": 0
      },
      "text/plain": [
       "Canvas(toolbar=Toolbar(toolitems=[('Home', 'Reset original view', 'home', 'home'), ('Back', 'Back to previous …"
      ]
     },
     "metadata": {},
     "output_type": "display_data"
    },
    {
     "name": "stdout",
     "output_type": "stream",
     "text": [
      "\n",
      "prophet_instance nb 2\n",
      "Full dataset: 2019-10-23 to the 2020-03-26. Analysed data the 2020-03-05 to the 2020-03-15.\n",
      "o Trained on the data from the 2020-03-05 to the 2020-03-14 (8 days).\n",
      "o Predict from the 2020-03-14 to the 2020-03-15 (1 days).\n"
     ]
    },
    {
     "data": {
      "application/vnd.jupyter.widget-view+json": {
       "model_id": "fef02cafa75a4eeb9938a3cf98ebb637",
       "version_major": 2,
       "version_minor": 0
      },
      "text/plain": [
       "Canvas(toolbar=Toolbar(toolitems=[('Home', 'Reset original view', 'home', 'home'), ('Back', 'Back to previous …"
      ]
     },
     "metadata": {},
     "output_type": "display_data"
    },
    {
     "name": "stdout",
     "output_type": "stream",
     "text": [
      "\n",
      "prophet_instance nb 3\n",
      "Full dataset: 2019-10-23 to the 2020-03-26. Analysed data the 2020-03-05 to the 2020-03-15.\n",
      "o Trained on the data from the 2020-03-05 to the 2020-03-14 (8 days).\n",
      "o Predict from the 2020-03-14 to the 2020-03-15 (1 days).\n"
     ]
    },
    {
     "data": {
      "application/vnd.jupyter.widget-view+json": {
       "model_id": "ae6e55f723564a1da0705c5a5fe6af58",
       "version_major": 2,
       "version_minor": 0
      },
      "text/plain": [
       "Canvas(toolbar=Toolbar(toolitems=[('Home', 'Reset original view', 'home', 'home'), ('Back', 'Back to previous …"
      ]
     },
     "metadata": {},
     "output_type": "display_data"
    },
    {
     "name": "stdout",
     "output_type": "stream",
     "text": [
      "\n",
      "prophet_instance nb 4\n",
      "Full dataset: 2019-10-23 to the 2020-03-26. Analysed data the 2020-03-07 to the 2020-03-15.\n",
      "o Trained on the data from the 2020-03-07 to the 2020-03-14 (6 days).\n",
      "o Predict from the 2020-03-14 to the 2020-03-15 (1 days).\n"
     ]
    },
    {
     "data": {
      "application/vnd.jupyter.widget-view+json": {
       "model_id": "199023b1c94f457ab99ff15c49a1c990",
       "version_major": 2,
       "version_minor": 0
      },
      "text/plain": [
       "Canvas(toolbar=Toolbar(toolitems=[('Home', 'Reset original view', 'home', 'home'), ('Back', 'Back to previous …"
      ]
     },
     "metadata": {},
     "output_type": "display_data"
    },
    {
     "name": "stdout",
     "output_type": "stream",
     "text": [
      "\n",
      "prophet_instance nb 5\n",
      "Full dataset: 2019-10-23 to the 2020-03-26. Analysed data the 2020-03-07 to the 2020-03-15.\n",
      "o Trained on the data from the 2020-03-07 to the 2020-03-14 (6 days).\n",
      "o Predict from the 2020-03-14 to the 2020-03-15 (1 days).\n"
     ]
    },
    {
     "data": {
      "application/vnd.jupyter.widget-view+json": {
       "model_id": "08c1c999531141cfba7c829b6b84efb0",
       "version_major": 2,
       "version_minor": 0
      },
      "text/plain": [
       "Canvas(toolbar=Toolbar(toolitems=[('Home', 'Reset original view', 'home', 'home'), ('Back', 'Back to previous …"
      ]
     },
     "metadata": {},
     "output_type": "display_data"
    },
    {
     "name": "stdout",
     "output_type": "stream",
     "text": [
      "Time elapsed: 14 minutes.\n",
      "Saving the best model\n",
      "\n",
      "prophet_instance nb 0\n",
      "Full dataset: 2019-10-23 to the 2020-03-26. Analysed data the 2020-03-03 to the 2020-03-15.\n",
      "o Trained on the data from the 2020-03-03 to the 2020-03-14 (10 days).\n",
      "o Predict from the 2020-03-14 to the 2020-03-15 (1 days).\n"
     ]
    },
    {
     "data": {
      "application/vnd.jupyter.widget-view+json": {
       "model_id": "4779b51d19d347baa7ce5432273c1860",
       "version_major": 2,
       "version_minor": 0
      },
      "text/plain": [
       "Canvas(toolbar=Toolbar(toolitems=[('Home', 'Reset original view', 'home', 'home'), ('Back', 'Back to previous …"
      ]
     },
     "metadata": {},
     "output_type": "display_data"
    },
    {
     "name": "stdout",
     "output_type": "stream",
     "text": [
      "Full analysis completed in 14 minutes.\n",
      "\n",
      "prophet_instance nb 0\n",
      "Full dataset: 2019-10-23 to the 2020-03-26. Analysed data the 2019-11-05 to the 2019-11-17.\n",
      "o Trained on the data from the 2019-11-05 to the 2019-11-16 (10 days).\n",
      "o Predict from the 2019-11-16 to the 2019-11-17 (1 days).\n"
     ]
    },
    {
     "data": {
      "application/vnd.jupyter.widget-view+json": {
       "model_id": "9b6522eac90145a38a61f2049fd8c401",
       "version_major": 2,
       "version_minor": 0
      },
      "text/plain": [
       "Canvas(toolbar=Toolbar(toolitems=[('Home', 'Reset original view', 'home', 'home'), ('Back', 'Back to previous …"
      ]
     },
     "metadata": {},
     "output_type": "display_data"
    },
    {
     "name": "stdout",
     "output_type": "stream",
     "text": [
      "\n",
      "prophet_instance nb 1\n",
      "Full dataset: 2019-10-23 to the 2020-03-26. Analysed data the 2019-11-05 to the 2019-11-17.\n",
      "o Trained on the data from the 2019-11-05 to the 2019-11-16 (10 days).\n",
      "o Predict from the 2019-11-16 to the 2019-11-17 (1 days).\n"
     ]
    },
    {
     "data": {
      "application/vnd.jupyter.widget-view+json": {
       "model_id": "5217e70123bf4555991e2556f8bc7ced",
       "version_major": 2,
       "version_minor": 0
      },
      "text/plain": [
       "Canvas(toolbar=Toolbar(toolitems=[('Home', 'Reset original view', 'home', 'home'), ('Back', 'Back to previous …"
      ]
     },
     "metadata": {},
     "output_type": "display_data"
    },
    {
     "name": "stdout",
     "output_type": "stream",
     "text": [
      "\n",
      "prophet_instance nb 2\n",
      "Full dataset: 2019-10-23 to the 2020-03-26. Analysed data the 2019-11-07 to the 2019-11-17.\n",
      "o Trained on the data from the 2019-11-07 to the 2019-11-16 (8 days).\n",
      "o Predict from the 2019-11-16 to the 2019-11-17 (1 days).\n"
     ]
    },
    {
     "data": {
      "application/vnd.jupyter.widget-view+json": {
       "model_id": "08a2bf1932414baba744ad221239581d",
       "version_major": 2,
       "version_minor": 0
      },
      "text/plain": [
       "Canvas(toolbar=Toolbar(toolitems=[('Home', 'Reset original view', 'home', 'home'), ('Back', 'Back to previous …"
      ]
     },
     "metadata": {},
     "output_type": "display_data"
    },
    {
     "name": "stdout",
     "output_type": "stream",
     "text": [
      "\n",
      "prophet_instance nb 3\n",
      "Full dataset: 2019-10-23 to the 2020-03-26. Analysed data the 2019-11-07 to the 2019-11-17.\n",
      "o Trained on the data from the 2019-11-07 to the 2019-11-16 (8 days).\n",
      "o Predict from the 2019-11-16 to the 2019-11-17 (1 days).\n"
     ]
    },
    {
     "data": {
      "application/vnd.jupyter.widget-view+json": {
       "model_id": "48ab011b322040029a4a9fef9f453448",
       "version_major": 2,
       "version_minor": 0
      },
      "text/plain": [
       "Canvas(toolbar=Toolbar(toolitems=[('Home', 'Reset original view', 'home', 'home'), ('Back', 'Back to previous …"
      ]
     },
     "metadata": {},
     "output_type": "display_data"
    },
    {
     "name": "stdout",
     "output_type": "stream",
     "text": [
      "\n",
      "prophet_instance nb 4\n",
      "Full dataset: 2019-10-23 to the 2020-03-26. Analysed data the 2019-11-09 to the 2019-11-17.\n",
      "o Trained on the data from the 2019-11-09 to the 2019-11-16 (6 days).\n",
      "o Predict from the 2019-11-16 to the 2019-11-17 (1 days).\n"
     ]
    },
    {
     "data": {
      "application/vnd.jupyter.widget-view+json": {
       "model_id": "4dbeccefff874d8d828c06b3a68263e3",
       "version_major": 2,
       "version_minor": 0
      },
      "text/plain": [
       "Canvas(toolbar=Toolbar(toolitems=[('Home', 'Reset original view', 'home', 'home'), ('Back', 'Back to previous …"
      ]
     },
     "metadata": {},
     "output_type": "display_data"
    },
    {
     "name": "stdout",
     "output_type": "stream",
     "text": [
      "\n",
      "prophet_instance nb 5\n",
      "Full dataset: 2019-10-23 to the 2020-03-26. Analysed data the 2019-11-09 to the 2019-11-17.\n",
      "o Trained on the data from the 2019-11-09 to the 2019-11-16 (6 days).\n",
      "o Predict from the 2019-11-16 to the 2019-11-17 (1 days).\n"
     ]
    },
    {
     "data": {
      "application/vnd.jupyter.widget-view+json": {
       "model_id": "0c72ecd997114d3c8d84a8b007fb3758",
       "version_major": 2,
       "version_minor": 0
      },
      "text/plain": [
       "Canvas(toolbar=Toolbar(toolitems=[('Home', 'Reset original view', 'home', 'home'), ('Back', 'Back to previous …"
      ]
     },
     "metadata": {},
     "output_type": "display_data"
    },
    {
     "name": "stdout",
     "output_type": "stream",
     "text": [
      "Time elapsed: 17 minutes.\n",
      "Saving the best model\n",
      "\n",
      "prophet_instance nb 0\n",
      "Full dataset: 2019-10-23 to the 2020-03-26. Analysed data the 2019-11-07 to the 2019-11-17.\n",
      "o Trained on the data from the 2019-11-07 to the 2019-11-16 (8 days).\n",
      "o Predict from the 2019-11-16 to the 2019-11-17 (1 days).\n"
     ]
    },
    {
     "data": {
      "application/vnd.jupyter.widget-view+json": {
       "model_id": "960eb6e6cf8244e79ac16e4b366298f7",
       "version_major": 2,
       "version_minor": 0
      },
      "text/plain": [
       "Canvas(toolbar=Toolbar(toolitems=[('Home', 'Reset original view', 'home', 'home'), ('Back', 'Back to previous …"
      ]
     },
     "metadata": {},
     "output_type": "display_data"
    },
    {
     "name": "stdout",
     "output_type": "stream",
     "text": [
      "Full analysis completed in 17 minutes.\n",
      "\n",
      "prophet_instance nb 0\n",
      "Full dataset: 2019-10-23 to the 2020-03-26. Analysed data the 2019-12-21 to the 2020-01-02.\n",
      "o Trained on the data from the 2019-12-21 to the 2020-01-01 (10 days).\n",
      "o Predict from the 2020-01-01 to the 2020-01-02 (1 days).\n"
     ]
    },
    {
     "data": {
      "application/vnd.jupyter.widget-view+json": {
       "model_id": "e6ad7f564e904dc5bc9fbe635d07ab90",
       "version_major": 2,
       "version_minor": 0
      },
      "text/plain": [
       "Canvas(toolbar=Toolbar(toolitems=[('Home', 'Reset original view', 'home', 'home'), ('Back', 'Back to previous …"
      ]
     },
     "metadata": {},
     "output_type": "display_data"
    },
    {
     "name": "stdout",
     "output_type": "stream",
     "text": [
      "\n",
      "prophet_instance nb 1\n",
      "Full dataset: 2019-10-23 to the 2020-03-26. Analysed data the 2019-12-21 to the 2020-01-02.\n",
      "o Trained on the data from the 2019-12-21 to the 2020-01-01 (10 days).\n",
      "o Predict from the 2020-01-01 to the 2020-01-02 (1 days).\n"
     ]
    },
    {
     "data": {
      "application/vnd.jupyter.widget-view+json": {
       "model_id": "516f7c8c23084943aef7b35c3f47d5ce",
       "version_major": 2,
       "version_minor": 0
      },
      "text/plain": [
       "Canvas(toolbar=Toolbar(toolitems=[('Home', 'Reset original view', 'home', 'home'), ('Back', 'Back to previous …"
      ]
     },
     "metadata": {},
     "output_type": "display_data"
    },
    {
     "name": "stdout",
     "output_type": "stream",
     "text": [
      "\n",
      "prophet_instance nb 2\n",
      "Full dataset: 2019-10-23 to the 2020-03-26. Analysed data the 2019-12-23 to the 2020-01-02.\n",
      "o Trained on the data from the 2019-12-23 to the 2020-01-01 (8 days).\n",
      "o Predict from the 2020-01-01 to the 2020-01-02 (1 days).\n"
     ]
    },
    {
     "data": {
      "application/vnd.jupyter.widget-view+json": {
       "model_id": "d45893f2dc1e48d59cf70b277c0b56c8",
       "version_major": 2,
       "version_minor": 0
      },
      "text/plain": [
       "Canvas(toolbar=Toolbar(toolitems=[('Home', 'Reset original view', 'home', 'home'), ('Back', 'Back to previous …"
      ]
     },
     "metadata": {},
     "output_type": "display_data"
    },
    {
     "name": "stdout",
     "output_type": "stream",
     "text": [
      "\n",
      "prophet_instance nb 3\n",
      "Full dataset: 2019-10-23 to the 2020-03-26. Analysed data the 2019-12-23 to the 2020-01-02.\n",
      "o Trained on the data from the 2019-12-23 to the 2020-01-01 (8 days).\n",
      "o Predict from the 2020-01-01 to the 2020-01-02 (1 days).\n"
     ]
    },
    {
     "data": {
      "application/vnd.jupyter.widget-view+json": {
       "model_id": "ebd87219dcf646dd9b3e9aed2334acf8",
       "version_major": 2,
       "version_minor": 0
      },
      "text/plain": [
       "Canvas(toolbar=Toolbar(toolitems=[('Home', 'Reset original view', 'home', 'home'), ('Back', 'Back to previous …"
      ]
     },
     "metadata": {},
     "output_type": "display_data"
    },
    {
     "name": "stdout",
     "output_type": "stream",
     "text": [
      "\n",
      "prophet_instance nb 4\n",
      "Full dataset: 2019-10-23 to the 2020-03-26. Analysed data the 2019-12-25 to the 2020-01-02.\n",
      "o Trained on the data from the 2019-12-25 to the 2020-01-01 (6 days).\n",
      "o Predict from the 2020-01-01 to the 2020-01-02 (1 days).\n"
     ]
    },
    {
     "data": {
      "application/vnd.jupyter.widget-view+json": {
       "model_id": "739319777a3b4b85944a3ff3e1047362",
       "version_major": 2,
       "version_minor": 0
      },
      "text/plain": [
       "Canvas(toolbar=Toolbar(toolitems=[('Home', 'Reset original view', 'home', 'home'), ('Back', 'Back to previous …"
      ]
     },
     "metadata": {},
     "output_type": "display_data"
    },
    {
     "name": "stdout",
     "output_type": "stream",
     "text": [
      "\n",
      "prophet_instance nb 5\n",
      "Full dataset: 2019-10-23 to the 2020-03-26. Analysed data the 2019-12-25 to the 2020-01-02.\n",
      "o Trained on the data from the 2019-12-25 to the 2020-01-01 (6 days).\n",
      "o Predict from the 2020-01-01 to the 2020-01-02 (1 days).\n"
     ]
    },
    {
     "data": {
      "application/vnd.jupyter.widget-view+json": {
       "model_id": "f442d0bb5b9c4e0c83ef0a1f119ebd23",
       "version_major": 2,
       "version_minor": 0
      },
      "text/plain": [
       "Canvas(toolbar=Toolbar(toolitems=[('Home', 'Reset original view', 'home', 'home'), ('Back', 'Back to previous …"
      ]
     },
     "metadata": {},
     "output_type": "display_data"
    },
    {
     "name": "stdout",
     "output_type": "stream",
     "text": [
      "Time elapsed: 20 minutes.\n",
      "Saving the best model\n",
      "\n",
      "prophet_instance nb 0\n",
      "Full dataset: 2019-10-23 to the 2020-03-26. Analysed data the 2019-12-25 to the 2020-01-02.\n",
      "o Trained on the data from the 2019-12-25 to the 2020-01-01 (6 days).\n",
      "o Predict from the 2020-01-01 to the 2020-01-02 (1 days).\n"
     ]
    },
    {
     "data": {
      "application/vnd.jupyter.widget-view+json": {
       "model_id": "319c1388b5af461a8e9dd6dbc0cceacd",
       "version_major": 2,
       "version_minor": 0
      },
      "text/plain": [
       "Canvas(toolbar=Toolbar(toolitems=[('Home', 'Reset original view', 'home', 'home'), ('Back', 'Back to previous …"
      ]
     },
     "metadata": {},
     "output_type": "display_data"
    },
    {
     "name": "stdout",
     "output_type": "stream",
     "text": [
      "Full analysis completed in 20 minutes.\n",
      "\n",
      "prophet_instance nb 0\n",
      "Full dataset: 2019-10-23 to the 2020-03-26. Analysed data the 2020-03-12 to the 2020-03-24.\n",
      "o Trained on the data from the 2020-03-12 to the 2020-03-23 (10 days).\n",
      "o Predict from the 2020-03-23 to the 2020-03-24 (1 days).\n"
     ]
    },
    {
     "data": {
      "application/vnd.jupyter.widget-view+json": {
       "model_id": "2c2ddec6e3ec44b7b26f62813a18e953",
       "version_major": 2,
       "version_minor": 0
      },
      "text/plain": [
       "Canvas(toolbar=Toolbar(toolitems=[('Home', 'Reset original view', 'home', 'home'), ('Back', 'Back to previous …"
      ]
     },
     "metadata": {},
     "output_type": "display_data"
    },
    {
     "name": "stdout",
     "output_type": "stream",
     "text": [
      "\n",
      "prophet_instance nb 1\n",
      "Full dataset: 2019-10-23 to the 2020-03-26. Analysed data the 2020-03-12 to the 2020-03-24.\n",
      "o Trained on the data from the 2020-03-12 to the 2020-03-23 (10 days).\n",
      "o Predict from the 2020-03-23 to the 2020-03-24 (1 days).\n"
     ]
    },
    {
     "data": {
      "application/vnd.jupyter.widget-view+json": {
       "model_id": "47bd86a1a2314a2982c565ddb89e1173",
       "version_major": 2,
       "version_minor": 0
      },
      "text/plain": [
       "Canvas(toolbar=Toolbar(toolitems=[('Home', 'Reset original view', 'home', 'home'), ('Back', 'Back to previous …"
      ]
     },
     "metadata": {},
     "output_type": "display_data"
    },
    {
     "name": "stdout",
     "output_type": "stream",
     "text": [
      "\n",
      "prophet_instance nb 2\n",
      "Full dataset: 2019-10-23 to the 2020-03-26. Analysed data the 2020-03-14 to the 2020-03-24.\n",
      "o Trained on the data from the 2020-03-14 to the 2020-03-23 (8 days).\n",
      "o Predict from the 2020-03-23 to the 2020-03-24 (1 days).\n"
     ]
    },
    {
     "data": {
      "application/vnd.jupyter.widget-view+json": {
       "model_id": "493fe63ba4eb43dd831d7da826f0c4d0",
       "version_major": 2,
       "version_minor": 0
      },
      "text/plain": [
       "Canvas(toolbar=Toolbar(toolitems=[('Home', 'Reset original view', 'home', 'home'), ('Back', 'Back to previous …"
      ]
     },
     "metadata": {},
     "output_type": "display_data"
    },
    {
     "name": "stdout",
     "output_type": "stream",
     "text": [
      "\n",
      "prophet_instance nb 3\n",
      "Full dataset: 2019-10-23 to the 2020-03-26. Analysed data the 2020-03-14 to the 2020-03-24.\n",
      "o Trained on the data from the 2020-03-14 to the 2020-03-23 (8 days).\n",
      "o Predict from the 2020-03-23 to the 2020-03-24 (1 days).\n"
     ]
    },
    {
     "data": {
      "application/vnd.jupyter.widget-view+json": {
       "model_id": "9f1b202f490f4a64a5b9bd3f04b07faf",
       "version_major": 2,
       "version_minor": 0
      },
      "text/plain": [
       "Canvas(toolbar=Toolbar(toolitems=[('Home', 'Reset original view', 'home', 'home'), ('Back', 'Back to previous …"
      ]
     },
     "metadata": {},
     "output_type": "display_data"
    },
    {
     "name": "stdout",
     "output_type": "stream",
     "text": [
      "\n",
      "prophet_instance nb 4\n",
      "Full dataset: 2019-10-23 to the 2020-03-26. Analysed data the 2020-03-16 to the 2020-03-24.\n",
      "o Trained on the data from the 2020-03-16 to the 2020-03-23 (6 days).\n",
      "o Predict from the 2020-03-23 to the 2020-03-24 (1 days).\n"
     ]
    },
    {
     "data": {
      "application/vnd.jupyter.widget-view+json": {
       "model_id": "ae736feafc36424aa5829ee3c3e1d3c8",
       "version_major": 2,
       "version_minor": 0
      },
      "text/plain": [
       "Canvas(toolbar=Toolbar(toolitems=[('Home', 'Reset original view', 'home', 'home'), ('Back', 'Back to previous …"
      ]
     },
     "metadata": {},
     "output_type": "display_data"
    },
    {
     "name": "stdout",
     "output_type": "stream",
     "text": [
      "\n",
      "prophet_instance nb 5\n",
      "Full dataset: 2019-10-23 to the 2020-03-26. Analysed data the 2020-03-16 to the 2020-03-24.\n",
      "o Trained on the data from the 2020-03-16 to the 2020-03-23 (6 days).\n",
      "o Predict from the 2020-03-23 to the 2020-03-24 (1 days).\n"
     ]
    },
    {
     "data": {
      "application/vnd.jupyter.widget-view+json": {
       "model_id": "574f710471be43c5a313feb0b62ce8b7",
       "version_major": 2,
       "version_minor": 0
      },
      "text/plain": [
       "Canvas(toolbar=Toolbar(toolitems=[('Home', 'Reset original view', 'home', 'home'), ('Back', 'Back to previous …"
      ]
     },
     "metadata": {},
     "output_type": "display_data"
    },
    {
     "name": "stdout",
     "output_type": "stream",
     "text": [
      "Time elapsed: 23 minutes.\n",
      "Saving the best model\n",
      "\n",
      "prophet_instance nb 0\n",
      "Full dataset: 2019-10-23 to the 2020-03-26. Analysed data the 2020-03-14 to the 2020-03-24.\n",
      "o Trained on the data from the 2020-03-14 to the 2020-03-23 (8 days).\n",
      "o Predict from the 2020-03-23 to the 2020-03-24 (1 days).\n"
     ]
    },
    {
     "data": {
      "application/vnd.jupyter.widget-view+json": {
       "model_id": "7958bdb94e134f47961d6465b2ba551a",
       "version_major": 2,
       "version_minor": 0
      },
      "text/plain": [
       "Canvas(toolbar=Toolbar(toolitems=[('Home', 'Reset original view', 'home', 'home'), ('Back', 'Back to previous …"
      ]
     },
     "metadata": {},
     "output_type": "display_data"
    },
    {
     "name": "stdout",
     "output_type": "stream",
     "text": [
      "Full analysis completed in 23 minutes.\n",
      "\n",
      "prophet_instance nb 0\n",
      "Full dataset: 2019-10-23 to the 2020-03-26. Analysed data the 2020-01-06 to the 2020-01-18.\n",
      "o Trained on the data from the 2020-01-06 to the 2020-01-17 (10 days).\n",
      "o Predict from the 2020-01-17 to the 2020-01-18 (1 days).\n"
     ]
    },
    {
     "data": {
      "application/vnd.jupyter.widget-view+json": {
       "model_id": "36cc00b683a34974b4ef2dac2b0fb873",
       "version_major": 2,
       "version_minor": 0
      },
      "text/plain": [
       "Canvas(toolbar=Toolbar(toolitems=[('Home', 'Reset original view', 'home', 'home'), ('Back', 'Back to previous …"
      ]
     },
     "metadata": {},
     "output_type": "display_data"
    },
    {
     "name": "stdout",
     "output_type": "stream",
     "text": [
      "\n",
      "prophet_instance nb 1\n",
      "Full dataset: 2019-10-23 to the 2020-03-26. Analysed data the 2020-01-06 to the 2020-01-18.\n",
      "o Trained on the data from the 2020-01-06 to the 2020-01-17 (10 days).\n",
      "o Predict from the 2020-01-17 to the 2020-01-18 (1 days).\n"
     ]
    },
    {
     "data": {
      "application/vnd.jupyter.widget-view+json": {
       "model_id": "334d4be518884d3d96766ed4f2435d22",
       "version_major": 2,
       "version_minor": 0
      },
      "text/plain": [
       "Canvas(toolbar=Toolbar(toolitems=[('Home', 'Reset original view', 'home', 'home'), ('Back', 'Back to previous …"
      ]
     },
     "metadata": {},
     "output_type": "display_data"
    },
    {
     "name": "stdout",
     "output_type": "stream",
     "text": [
      "\n",
      "prophet_instance nb 2\n",
      "Full dataset: 2019-10-23 to the 2020-03-26. Analysed data the 2020-01-08 to the 2020-01-18.\n",
      "o Trained on the data from the 2020-01-08 to the 2020-01-17 (8 days).\n",
      "o Predict from the 2020-01-17 to the 2020-01-18 (1 days).\n"
     ]
    },
    {
     "data": {
      "application/vnd.jupyter.widget-view+json": {
       "model_id": "ce4af7baedd749f099721e4c76bc81eb",
       "version_major": 2,
       "version_minor": 0
      },
      "text/plain": [
       "Canvas(toolbar=Toolbar(toolitems=[('Home', 'Reset original view', 'home', 'home'), ('Back', 'Back to previous …"
      ]
     },
     "metadata": {},
     "output_type": "display_data"
    },
    {
     "name": "stdout",
     "output_type": "stream",
     "text": [
      "\n",
      "prophet_instance nb 3\n",
      "Full dataset: 2019-10-23 to the 2020-03-26. Analysed data the 2020-01-08 to the 2020-01-18.\n",
      "o Trained on the data from the 2020-01-08 to the 2020-01-17 (8 days).\n",
      "o Predict from the 2020-01-17 to the 2020-01-18 (1 days).\n"
     ]
    },
    {
     "data": {
      "application/vnd.jupyter.widget-view+json": {
       "model_id": "3a2d42e2250f4f1aaae112576fc67179",
       "version_major": 2,
       "version_minor": 0
      },
      "text/plain": [
       "Canvas(toolbar=Toolbar(toolitems=[('Home', 'Reset original view', 'home', 'home'), ('Back', 'Back to previous …"
      ]
     },
     "metadata": {},
     "output_type": "display_data"
    },
    {
     "name": "stdout",
     "output_type": "stream",
     "text": [
      "\n",
      "prophet_instance nb 4\n",
      "Full dataset: 2019-10-23 to the 2020-03-26. Analysed data the 2020-01-10 to the 2020-01-18.\n",
      "o Trained on the data from the 2020-01-10 to the 2020-01-17 (6 days).\n",
      "o Predict from the 2020-01-17 to the 2020-01-18 (1 days).\n"
     ]
    },
    {
     "data": {
      "application/vnd.jupyter.widget-view+json": {
       "model_id": "a63d4229d9ea4aaa8d9b7acc76892be7",
       "version_major": 2,
       "version_minor": 0
      },
      "text/plain": [
       "Canvas(toolbar=Toolbar(toolitems=[('Home', 'Reset original view', 'home', 'home'), ('Back', 'Back to previous …"
      ]
     },
     "metadata": {},
     "output_type": "display_data"
    },
    {
     "name": "stdout",
     "output_type": "stream",
     "text": [
      "\n",
      "prophet_instance nb 5\n",
      "Full dataset: 2019-10-23 to the 2020-03-26. Analysed data the 2020-01-10 to the 2020-01-18.\n",
      "o Trained on the data from the 2020-01-10 to the 2020-01-17 (6 days).\n",
      "o Predict from the 2020-01-17 to the 2020-01-18 (1 days).\n"
     ]
    },
    {
     "data": {
      "application/vnd.jupyter.widget-view+json": {
       "model_id": "95957020db184132b432ab656f2f2f1a",
       "version_major": 2,
       "version_minor": 0
      },
      "text/plain": [
       "Canvas(toolbar=Toolbar(toolitems=[('Home', 'Reset original view', 'home', 'home'), ('Back', 'Back to previous …"
      ]
     },
     "metadata": {},
     "output_type": "display_data"
    },
    {
     "name": "stdout",
     "output_type": "stream",
     "text": [
      "Time elapsed: 25 minutes.\n",
      "Saving the best model\n",
      "\n",
      "prophet_instance nb 0\n",
      "Full dataset: 2019-10-23 to the 2020-03-26. Analysed data the 2020-01-08 to the 2020-01-18.\n",
      "o Trained on the data from the 2020-01-08 to the 2020-01-17 (8 days).\n",
      "o Predict from the 2020-01-17 to the 2020-01-18 (1 days).\n"
     ]
    },
    {
     "data": {
      "application/vnd.jupyter.widget-view+json": {
       "model_id": "fb80541a8c4b4a578be77fcc6cc94db1",
       "version_major": 2,
       "version_minor": 0
      },
      "text/plain": [
       "Canvas(toolbar=Toolbar(toolitems=[('Home', 'Reset original view', 'home', 'home'), ('Back', 'Back to previous …"
      ]
     },
     "metadata": {},
     "output_type": "display_data"
    },
    {
     "name": "stdout",
     "output_type": "stream",
     "text": [
      "Full analysis completed in 26 minutes.\n",
      "\n",
      "prophet_instance nb 0\n",
      "Full dataset: 2019-10-23 to the 2020-03-26. Analysed data the 2019-12-08 to the 2019-12-20.\n",
      "o Trained on the data from the 2019-12-08 to the 2019-12-19 (10 days).\n",
      "o Predict from the 2019-12-19 to the 2019-12-20 (1 days).\n"
     ]
    },
    {
     "data": {
      "application/vnd.jupyter.widget-view+json": {
       "model_id": "ee863d9408374d75a7f64d248d6e15ab",
       "version_major": 2,
       "version_minor": 0
      },
      "text/plain": [
       "Canvas(toolbar=Toolbar(toolitems=[('Home', 'Reset original view', 'home', 'home'), ('Back', 'Back to previous …"
      ]
     },
     "metadata": {},
     "output_type": "display_data"
    },
    {
     "name": "stdout",
     "output_type": "stream",
     "text": [
      "\n",
      "prophet_instance nb 1\n",
      "Full dataset: 2019-10-23 to the 2020-03-26. Analysed data the 2019-12-08 to the 2019-12-20.\n",
      "o Trained on the data from the 2019-12-08 to the 2019-12-19 (10 days).\n",
      "o Predict from the 2019-12-19 to the 2019-12-20 (1 days).\n"
     ]
    },
    {
     "data": {
      "application/vnd.jupyter.widget-view+json": {
       "model_id": "5cf56dc707c3471992ab29c76ff4e76a",
       "version_major": 2,
       "version_minor": 0
      },
      "text/plain": [
       "Canvas(toolbar=Toolbar(toolitems=[('Home', 'Reset original view', 'home', 'home'), ('Back', 'Back to previous …"
      ]
     },
     "metadata": {},
     "output_type": "display_data"
    },
    {
     "name": "stdout",
     "output_type": "stream",
     "text": [
      "\n",
      "prophet_instance nb 2\n",
      "Full dataset: 2019-10-23 to the 2020-03-26. Analysed data the 2019-12-10 to the 2019-12-20.\n",
      "o Trained on the data from the 2019-12-10 to the 2019-12-19 (8 days).\n",
      "o Predict from the 2019-12-19 to the 2019-12-20 (1 days).\n"
     ]
    },
    {
     "data": {
      "application/vnd.jupyter.widget-view+json": {
       "model_id": "cc187bd0b7cf460b97c7ce919d5685e7",
       "version_major": 2,
       "version_minor": 0
      },
      "text/plain": [
       "Canvas(toolbar=Toolbar(toolitems=[('Home', 'Reset original view', 'home', 'home'), ('Back', 'Back to previous …"
      ]
     },
     "metadata": {},
     "output_type": "display_data"
    },
    {
     "name": "stdout",
     "output_type": "stream",
     "text": [
      "\n",
      "prophet_instance nb 3\n",
      "Full dataset: 2019-10-23 to the 2020-03-26. Analysed data the 2019-12-10 to the 2019-12-20.\n",
      "o Trained on the data from the 2019-12-10 to the 2019-12-19 (8 days).\n",
      "o Predict from the 2019-12-19 to the 2019-12-20 (1 days).\n"
     ]
    },
    {
     "data": {
      "application/vnd.jupyter.widget-view+json": {
       "model_id": "85ec29d0d0a7407c96ee2da8b9d04afb",
       "version_major": 2,
       "version_minor": 0
      },
      "text/plain": [
       "Canvas(toolbar=Toolbar(toolitems=[('Home', 'Reset original view', 'home', 'home'), ('Back', 'Back to previous …"
      ]
     },
     "metadata": {},
     "output_type": "display_data"
    },
    {
     "name": "stdout",
     "output_type": "stream",
     "text": [
      "\n",
      "prophet_instance nb 4\n",
      "Full dataset: 2019-10-23 to the 2020-03-26. Analysed data the 2019-12-12 to the 2019-12-20.\n",
      "o Trained on the data from the 2019-12-12 to the 2019-12-19 (6 days).\n",
      "o Predict from the 2019-12-19 to the 2019-12-20 (1 days).\n"
     ]
    },
    {
     "data": {
      "application/vnd.jupyter.widget-view+json": {
       "model_id": "660233dedb7d49d79c893f01149798a1",
       "version_major": 2,
       "version_minor": 0
      },
      "text/plain": [
       "Canvas(toolbar=Toolbar(toolitems=[('Home', 'Reset original view', 'home', 'home'), ('Back', 'Back to previous …"
      ]
     },
     "metadata": {},
     "output_type": "display_data"
    },
    {
     "name": "stdout",
     "output_type": "stream",
     "text": [
      "\n",
      "prophet_instance nb 5\n",
      "Full dataset: 2019-10-23 to the 2020-03-26. Analysed data the 2019-12-12 to the 2019-12-20.\n",
      "o Trained on the data from the 2019-12-12 to the 2019-12-19 (6 days).\n",
      "o Predict from the 2019-12-19 to the 2019-12-20 (1 days).\n"
     ]
    },
    {
     "data": {
      "application/vnd.jupyter.widget-view+json": {
       "model_id": "7733983ccec34b0fb22d80178d53783b",
       "version_major": 2,
       "version_minor": 0
      },
      "text/plain": [
       "Canvas(toolbar=Toolbar(toolitems=[('Home', 'Reset original view', 'home', 'home'), ('Back', 'Back to previous …"
      ]
     },
     "metadata": {},
     "output_type": "display_data"
    },
    {
     "name": "stdout",
     "output_type": "stream",
     "text": [
      "Time elapsed: 28 minutes.\n",
      "Saving the best model\n",
      "\n",
      "prophet_instance nb 0\n",
      "Full dataset: 2019-10-23 to the 2020-03-26. Analysed data the 2019-12-10 to the 2019-12-20.\n",
      "o Trained on the data from the 2019-12-10 to the 2019-12-19 (8 days).\n",
      "o Predict from the 2019-12-19 to the 2019-12-20 (1 days).\n"
     ]
    },
    {
     "data": {
      "application/vnd.jupyter.widget-view+json": {
       "model_id": "69c34560d8bc441c9755c496c759bd7d",
       "version_major": 2,
       "version_minor": 0
      },
      "text/plain": [
       "Canvas(toolbar=Toolbar(toolitems=[('Home', 'Reset original view', 'home', 'home'), ('Back', 'Back to previous …"
      ]
     },
     "metadata": {},
     "output_type": "display_data"
    },
    {
     "name": "stdout",
     "output_type": "stream",
     "text": [
      "Full analysis completed in 29 minutes.\n",
      "Check report:\n",
      "##############################################\n",
      "['Device contained in the dataset: device49']\n",
      "['Tenant using the device: tenant08']\n",
      "\n",
      "Data types:\n",
      "device                                object\n",
      "tenant                                object\n",
      "ds             datetime64[ns, Europe/Zurich]\n",
      "light                                float64\n",
      "temperature                          float64\n",
      "humidity                             float64\n",
      "co2                                  float64\n",
      "dtype: object\n",
      "\n",
      "Available data from the 2019-10-23 to the 2020-03-26.\n",
      "\n",
      "prophet_instance nb 0\n",
      "Full dataset: 2019-10-23 to the 2020-03-26. Analysed data the 2019-12-25 to the 2020-01-06.\n",
      "o Trained on the data from the 2019-12-25 to the 2020-01-05 (10 days).\n",
      "o Predict from the 2020-01-05 to the 2020-01-06 (1 days).\n"
     ]
    },
    {
     "data": {
      "application/vnd.jupyter.widget-view+json": {
       "model_id": "10c2efa0abbf498299dd5e142530df81",
       "version_major": 2,
       "version_minor": 0
      },
      "text/plain": [
       "Canvas(toolbar=Toolbar(toolitems=[('Home', 'Reset original view', 'home', 'home'), ('Back', 'Back to previous …"
      ]
     },
     "metadata": {},
     "output_type": "display_data"
    },
    {
     "name": "stdout",
     "output_type": "stream",
     "text": [
      "\n",
      "prophet_instance nb 1\n",
      "Full dataset: 2019-10-23 to the 2020-03-26. Analysed data the 2019-12-25 to the 2020-01-06.\n",
      "o Trained on the data from the 2019-12-25 to the 2020-01-05 (10 days).\n",
      "o Predict from the 2020-01-05 to the 2020-01-06 (1 days).\n"
     ]
    },
    {
     "data": {
      "application/vnd.jupyter.widget-view+json": {
       "model_id": "1f5c067548fa48a89bc608ce81db3e42",
       "version_major": 2,
       "version_minor": 0
      },
      "text/plain": [
       "Canvas(toolbar=Toolbar(toolitems=[('Home', 'Reset original view', 'home', 'home'), ('Back', 'Back to previous …"
      ]
     },
     "metadata": {},
     "output_type": "display_data"
    },
    {
     "name": "stdout",
     "output_type": "stream",
     "text": [
      "\n",
      "prophet_instance nb 2\n",
      "Full dataset: 2019-10-23 to the 2020-03-26. Analysed data the 2019-12-27 to the 2020-01-06.\n",
      "o Trained on the data from the 2019-12-27 to the 2020-01-05 (8 days).\n",
      "o Predict from the 2020-01-05 to the 2020-01-06 (1 days).\n"
     ]
    },
    {
     "data": {
      "application/vnd.jupyter.widget-view+json": {
       "model_id": "af430a96b44b4960aac177ee7bef7258",
       "version_major": 2,
       "version_minor": 0
      },
      "text/plain": [
       "Canvas(toolbar=Toolbar(toolitems=[('Home', 'Reset original view', 'home', 'home'), ('Back', 'Back to previous …"
      ]
     },
     "metadata": {},
     "output_type": "display_data"
    },
    {
     "name": "stdout",
     "output_type": "stream",
     "text": [
      "\n",
      "prophet_instance nb 3\n",
      "Full dataset: 2019-10-23 to the 2020-03-26. Analysed data the 2019-12-27 to the 2020-01-06.\n",
      "o Trained on the data from the 2019-12-27 to the 2020-01-05 (8 days).\n",
      "o Predict from the 2020-01-05 to the 2020-01-06 (1 days).\n"
     ]
    },
    {
     "data": {
      "application/vnd.jupyter.widget-view+json": {
       "model_id": "68e78863d64049068be65e407b240221",
       "version_major": 2,
       "version_minor": 0
      },
      "text/plain": [
       "Canvas(toolbar=Toolbar(toolitems=[('Home', 'Reset original view', 'home', 'home'), ('Back', 'Back to previous …"
      ]
     },
     "metadata": {},
     "output_type": "display_data"
    },
    {
     "name": "stdout",
     "output_type": "stream",
     "text": [
      "\n",
      "prophet_instance nb 4\n",
      "Full dataset: 2019-10-23 to the 2020-03-26. Analysed data the 2019-12-29 to the 2020-01-06.\n",
      "o Trained on the data from the 2019-12-29 to the 2020-01-05 (6 days).\n",
      "o Predict from the 2020-01-05 to the 2020-01-06 (1 days).\n"
     ]
    },
    {
     "data": {
      "application/vnd.jupyter.widget-view+json": {
       "model_id": "bd895aac8438468983a6d288296024ca",
       "version_major": 2,
       "version_minor": 0
      },
      "text/plain": [
       "Canvas(toolbar=Toolbar(toolitems=[('Home', 'Reset original view', 'home', 'home'), ('Back', 'Back to previous …"
      ]
     },
     "metadata": {},
     "output_type": "display_data"
    },
    {
     "name": "stdout",
     "output_type": "stream",
     "text": [
      "\n",
      "prophet_instance nb 5\n",
      "Full dataset: 2019-10-23 to the 2020-03-26. Analysed data the 2019-12-29 to the 2020-01-06.\n",
      "o Trained on the data from the 2019-12-29 to the 2020-01-05 (6 days).\n",
      "o Predict from the 2020-01-05 to the 2020-01-06 (1 days).\n"
     ]
    },
    {
     "data": {
      "application/vnd.jupyter.widget-view+json": {
       "model_id": "2995a5e652bb4f0a8bfade9e13399e3f",
       "version_major": 2,
       "version_minor": 0
      },
      "text/plain": [
       "Canvas(toolbar=Toolbar(toolitems=[('Home', 'Reset original view', 'home', 'home'), ('Back', 'Back to previous …"
      ]
     },
     "metadata": {},
     "output_type": "display_data"
    },
    {
     "name": "stdout",
     "output_type": "stream",
     "text": [
      "Time elapsed: 4 minutes.\n",
      "Saving the best model\n",
      "\n",
      "prophet_instance nb 0\n",
      "Full dataset: 2019-10-23 to the 2020-03-26. Analysed data the 2019-12-29 to the 2020-01-06.\n",
      "o Trained on the data from the 2019-12-29 to the 2020-01-05 (6 days).\n",
      "o Predict from the 2020-01-05 to the 2020-01-06 (1 days).\n"
     ]
    },
    {
     "data": {
      "application/vnd.jupyter.widget-view+json": {
       "model_id": "aecf13a48dcf470dac54bbb934b1248d",
       "version_major": 2,
       "version_minor": 0
      },
      "text/plain": [
       "Canvas(toolbar=Toolbar(toolitems=[('Home', 'Reset original view', 'home', 'home'), ('Back', 'Back to previous …"
      ]
     },
     "metadata": {},
     "output_type": "display_data"
    },
    {
     "name": "stdout",
     "output_type": "stream",
     "text": [
      "Full analysis completed in 4 minutes.\n",
      "\n",
      "prophet_instance nb 0\n",
      "Full dataset: 2019-10-23 to the 2020-03-26. Analysed data the 2019-12-01 to the 2019-12-13.\n",
      "o Trained on the data from the 2019-12-01 to the 2019-12-12 (10 days).\n",
      "o Predict from the 2019-12-12 to the 2019-12-13 (1 days).\n"
     ]
    },
    {
     "data": {
      "application/vnd.jupyter.widget-view+json": {
       "model_id": "0b5232e62d44481a97c1f4688b0ce964",
       "version_major": 2,
       "version_minor": 0
      },
      "text/plain": [
       "Canvas(toolbar=Toolbar(toolitems=[('Home', 'Reset original view', 'home', 'home'), ('Back', 'Back to previous …"
      ]
     },
     "metadata": {},
     "output_type": "display_data"
    },
    {
     "name": "stdout",
     "output_type": "stream",
     "text": [
      "\n",
      "prophet_instance nb 1\n",
      "Full dataset: 2019-10-23 to the 2020-03-26. Analysed data the 2019-12-01 to the 2019-12-13.\n",
      "o Trained on the data from the 2019-12-01 to the 2019-12-12 (10 days).\n",
      "o Predict from the 2019-12-12 to the 2019-12-13 (1 days).\n"
     ]
    },
    {
     "data": {
      "application/vnd.jupyter.widget-view+json": {
       "model_id": "49dc8927e33645d1b42bec29ee0915d8",
       "version_major": 2,
       "version_minor": 0
      },
      "text/plain": [
       "Canvas(toolbar=Toolbar(toolitems=[('Home', 'Reset original view', 'home', 'home'), ('Back', 'Back to previous …"
      ]
     },
     "metadata": {},
     "output_type": "display_data"
    },
    {
     "name": "stdout",
     "output_type": "stream",
     "text": [
      "\n",
      "prophet_instance nb 2\n",
      "Full dataset: 2019-10-23 to the 2020-03-26. Analysed data the 2019-12-03 to the 2019-12-13.\n",
      "o Trained on the data from the 2019-12-03 to the 2019-12-12 (8 days).\n",
      "o Predict from the 2019-12-12 to the 2019-12-13 (1 days).\n"
     ]
    },
    {
     "data": {
      "application/vnd.jupyter.widget-view+json": {
       "model_id": "9f91191428ff4d0faf705552a52bf0fd",
       "version_major": 2,
       "version_minor": 0
      },
      "text/plain": [
       "Canvas(toolbar=Toolbar(toolitems=[('Home', 'Reset original view', 'home', 'home'), ('Back', 'Back to previous …"
      ]
     },
     "metadata": {},
     "output_type": "display_data"
    },
    {
     "name": "stdout",
     "output_type": "stream",
     "text": [
      "\n",
      "prophet_instance nb 3\n",
      "Full dataset: 2019-10-23 to the 2020-03-26. Analysed data the 2019-12-03 to the 2019-12-13.\n",
      "o Trained on the data from the 2019-12-03 to the 2019-12-12 (8 days).\n",
      "o Predict from the 2019-12-12 to the 2019-12-13 (1 days).\n"
     ]
    },
    {
     "data": {
      "application/vnd.jupyter.widget-view+json": {
       "model_id": "d0aeb07d654342f9acfb5f9bfdd97523",
       "version_major": 2,
       "version_minor": 0
      },
      "text/plain": [
       "Canvas(toolbar=Toolbar(toolitems=[('Home', 'Reset original view', 'home', 'home'), ('Back', 'Back to previous …"
      ]
     },
     "metadata": {},
     "output_type": "display_data"
    },
    {
     "name": "stdout",
     "output_type": "stream",
     "text": [
      "\n",
      "prophet_instance nb 4\n",
      "Full dataset: 2019-10-23 to the 2020-03-26. Analysed data the 2019-12-05 to the 2019-12-13.\n",
      "o Trained on the data from the 2019-12-05 to the 2019-12-12 (6 days).\n",
      "o Predict from the 2019-12-12 to the 2019-12-13 (1 days).\n"
     ]
    },
    {
     "data": {
      "application/vnd.jupyter.widget-view+json": {
       "model_id": "b85619c5538843b6b017f5d8713a7f9d",
       "version_major": 2,
       "version_minor": 0
      },
      "text/plain": [
       "Canvas(toolbar=Toolbar(toolitems=[('Home', 'Reset original view', 'home', 'home'), ('Back', 'Back to previous …"
      ]
     },
     "metadata": {},
     "output_type": "display_data"
    },
    {
     "name": "stdout",
     "output_type": "stream",
     "text": [
      "\n",
      "prophet_instance nb 5\n",
      "Full dataset: 2019-10-23 to the 2020-03-26. Analysed data the 2019-12-05 to the 2019-12-13.\n",
      "o Trained on the data from the 2019-12-05 to the 2019-12-12 (6 days).\n",
      "o Predict from the 2019-12-12 to the 2019-12-13 (1 days).\n"
     ]
    },
    {
     "data": {
      "application/vnd.jupyter.widget-view+json": {
       "model_id": "37e11d1f58564d8b8185805627419050",
       "version_major": 2,
       "version_minor": 0
      },
      "text/plain": [
       "Canvas(toolbar=Toolbar(toolitems=[('Home', 'Reset original view', 'home', 'home'), ('Back', 'Back to previous …"
      ]
     },
     "metadata": {},
     "output_type": "display_data"
    },
    {
     "name": "stdout",
     "output_type": "stream",
     "text": [
      "Time elapsed: 7 minutes.\n",
      "Saving the best model\n",
      "\n",
      "prophet_instance nb 0\n",
      "Full dataset: 2019-10-23 to the 2020-03-26. Analysed data the 2019-12-05 to the 2019-12-13.\n",
      "o Trained on the data from the 2019-12-05 to the 2019-12-12 (6 days).\n",
      "o Predict from the 2019-12-12 to the 2019-12-13 (1 days).\n"
     ]
    },
    {
     "data": {
      "application/vnd.jupyter.widget-view+json": {
       "model_id": "6f4d37eea06b4fe49c63379f9df74f5e",
       "version_major": 2,
       "version_minor": 0
      },
      "text/plain": [
       "Canvas(toolbar=Toolbar(toolitems=[('Home', 'Reset original view', 'home', 'home'), ('Back', 'Back to previous …"
      ]
     },
     "metadata": {},
     "output_type": "display_data"
    },
    {
     "name": "stdout",
     "output_type": "stream",
     "text": [
      "Full analysis completed in 7 minutes.\n",
      "\n",
      "prophet_instance nb 0\n",
      "Full dataset: 2019-10-23 to the 2020-03-26. Analysed data the 2019-11-30 to the 2019-12-12.\n",
      "o Trained on the data from the 2019-11-30 to the 2019-12-11 (10 days).\n",
      "o Predict from the 2019-12-11 to the 2019-12-12 (1 days).\n"
     ]
    },
    {
     "data": {
      "application/vnd.jupyter.widget-view+json": {
       "model_id": "810821b9d357469886dd2e4fe5c4786d",
       "version_major": 2,
       "version_minor": 0
      },
      "text/plain": [
       "Canvas(toolbar=Toolbar(toolitems=[('Home', 'Reset original view', 'home', 'home'), ('Back', 'Back to previous …"
      ]
     },
     "metadata": {},
     "output_type": "display_data"
    },
    {
     "name": "stdout",
     "output_type": "stream",
     "text": [
      "\n",
      "prophet_instance nb 1\n",
      "Full dataset: 2019-10-23 to the 2020-03-26. Analysed data the 2019-11-30 to the 2019-12-12.\n",
      "o Trained on the data from the 2019-11-30 to the 2019-12-11 (10 days).\n",
      "o Predict from the 2019-12-11 to the 2019-12-12 (1 days).\n"
     ]
    },
    {
     "data": {
      "application/vnd.jupyter.widget-view+json": {
       "model_id": "cf4f3e11e9834a9f9cc5d091e3595db9",
       "version_major": 2,
       "version_minor": 0
      },
      "text/plain": [
       "Canvas(toolbar=Toolbar(toolitems=[('Home', 'Reset original view', 'home', 'home'), ('Back', 'Back to previous …"
      ]
     },
     "metadata": {},
     "output_type": "display_data"
    },
    {
     "name": "stdout",
     "output_type": "stream",
     "text": [
      "\n",
      "prophet_instance nb 2\n",
      "Full dataset: 2019-10-23 to the 2020-03-26. Analysed data the 2019-12-02 to the 2019-12-12.\n",
      "o Trained on the data from the 2019-12-02 to the 2019-12-11 (8 days).\n",
      "o Predict from the 2019-12-11 to the 2019-12-12 (1 days).\n"
     ]
    },
    {
     "data": {
      "application/vnd.jupyter.widget-view+json": {
       "model_id": "587eef8feefc446aab8d3063f5899516",
       "version_major": 2,
       "version_minor": 0
      },
      "text/plain": [
       "Canvas(toolbar=Toolbar(toolitems=[('Home', 'Reset original view', 'home', 'home'), ('Back', 'Back to previous …"
      ]
     },
     "metadata": {},
     "output_type": "display_data"
    },
    {
     "name": "stdout",
     "output_type": "stream",
     "text": [
      "\n",
      "prophet_instance nb 3\n",
      "Full dataset: 2019-10-23 to the 2020-03-26. Analysed data the 2019-12-02 to the 2019-12-12.\n",
      "o Trained on the data from the 2019-12-02 to the 2019-12-11 (8 days).\n",
      "o Predict from the 2019-12-11 to the 2019-12-12 (1 days).\n"
     ]
    },
    {
     "data": {
      "application/vnd.jupyter.widget-view+json": {
       "model_id": "6d9ff4703cdd4fcb96cb9e53420ed7bf",
       "version_major": 2,
       "version_minor": 0
      },
      "text/plain": [
       "Canvas(toolbar=Toolbar(toolitems=[('Home', 'Reset original view', 'home', 'home'), ('Back', 'Back to previous …"
      ]
     },
     "metadata": {},
     "output_type": "display_data"
    },
    {
     "name": "stdout",
     "output_type": "stream",
     "text": [
      "\n",
      "prophet_instance nb 4\n",
      "Full dataset: 2019-10-23 to the 2020-03-26. Analysed data the 2019-12-04 to the 2019-12-12.\n",
      "o Trained on the data from the 2019-12-04 to the 2019-12-11 (6 days).\n",
      "o Predict from the 2019-12-11 to the 2019-12-12 (1 days).\n"
     ]
    },
    {
     "data": {
      "application/vnd.jupyter.widget-view+json": {
       "model_id": "52bba1894de24d47ad0f79c52a145083",
       "version_major": 2,
       "version_minor": 0
      },
      "text/plain": [
       "Canvas(toolbar=Toolbar(toolitems=[('Home', 'Reset original view', 'home', 'home'), ('Back', 'Back to previous …"
      ]
     },
     "metadata": {},
     "output_type": "display_data"
    },
    {
     "name": "stdout",
     "output_type": "stream",
     "text": [
      "\n",
      "prophet_instance nb 5\n",
      "Full dataset: 2019-10-23 to the 2020-03-26. Analysed data the 2019-12-04 to the 2019-12-12.\n",
      "o Trained on the data from the 2019-12-04 to the 2019-12-11 (6 days).\n",
      "o Predict from the 2019-12-11 to the 2019-12-12 (1 days).\n"
     ]
    },
    {
     "data": {
      "application/vnd.jupyter.widget-view+json": {
       "model_id": "24041e2c3d234d71b88f7b9d8501bee4",
       "version_major": 2,
       "version_minor": 0
      },
      "text/plain": [
       "Canvas(toolbar=Toolbar(toolitems=[('Home', 'Reset original view', 'home', 'home'), ('Back', 'Back to previous …"
      ]
     },
     "metadata": {},
     "output_type": "display_data"
    },
    {
     "name": "stdout",
     "output_type": "stream",
     "text": [
      "Time elapsed: 9 minutes.\n",
      "Saving the best model\n",
      "\n",
      "prophet_instance nb 0\n",
      "Full dataset: 2019-10-23 to the 2020-03-26. Analysed data the 2019-12-04 to the 2019-12-12.\n",
      "o Trained on the data from the 2019-12-04 to the 2019-12-11 (6 days).\n",
      "o Predict from the 2019-12-11 to the 2019-12-12 (1 days).\n"
     ]
    },
    {
     "data": {
      "application/vnd.jupyter.widget-view+json": {
       "model_id": "f8e1813eb5c14124ae3099e092de535c",
       "version_major": 2,
       "version_minor": 0
      },
      "text/plain": [
       "Canvas(toolbar=Toolbar(toolitems=[('Home', 'Reset original view', 'home', 'home'), ('Back', 'Back to previous …"
      ]
     },
     "metadata": {},
     "output_type": "display_data"
    },
    {
     "name": "stdout",
     "output_type": "stream",
     "text": [
      "Full analysis completed in 10 minutes.\n",
      "\n",
      "prophet_instance nb 0\n",
      "Full dataset: 2019-10-23 to the 2020-03-26. Analysed data the 2020-01-27 to the 2020-02-08.\n",
      "o Trained on the data from the 2020-01-27 to the 2020-02-07 (10 days).\n",
      "o Predict from the 2020-02-07 to the 2020-02-08 (1 days).\n"
     ]
    },
    {
     "data": {
      "application/vnd.jupyter.widget-view+json": {
       "model_id": "15a7c20d71824786b18afe13227314e1",
       "version_major": 2,
       "version_minor": 0
      },
      "text/plain": [
       "Canvas(toolbar=Toolbar(toolitems=[('Home', 'Reset original view', 'home', 'home'), ('Back', 'Back to previous …"
      ]
     },
     "metadata": {},
     "output_type": "display_data"
    },
    {
     "name": "stdout",
     "output_type": "stream",
     "text": [
      "\n",
      "prophet_instance nb 1\n",
      "Full dataset: 2019-10-23 to the 2020-03-26. Analysed data the 2020-01-27 to the 2020-02-08.\n",
      "o Trained on the data from the 2020-01-27 to the 2020-02-07 (10 days).\n",
      "o Predict from the 2020-02-07 to the 2020-02-08 (1 days).\n"
     ]
    },
    {
     "data": {
      "application/vnd.jupyter.widget-view+json": {
       "model_id": "f4a72c96d5454758bef1e1b05a6ab78f",
       "version_major": 2,
       "version_minor": 0
      },
      "text/plain": [
       "Canvas(toolbar=Toolbar(toolitems=[('Home', 'Reset original view', 'home', 'home'), ('Back', 'Back to previous …"
      ]
     },
     "metadata": {},
     "output_type": "display_data"
    },
    {
     "name": "stdout",
     "output_type": "stream",
     "text": [
      "\n",
      "prophet_instance nb 2\n",
      "Full dataset: 2019-10-23 to the 2020-03-26. Analysed data the 2020-01-29 to the 2020-02-08.\n",
      "o Trained on the data from the 2020-01-29 to the 2020-02-07 (8 days).\n",
      "o Predict from the 2020-02-07 to the 2020-02-08 (1 days).\n"
     ]
    },
    {
     "data": {
      "application/vnd.jupyter.widget-view+json": {
       "model_id": "4238583bf9894590927c894a45a4ab5b",
       "version_major": 2,
       "version_minor": 0
      },
      "text/plain": [
       "Canvas(toolbar=Toolbar(toolitems=[('Home', 'Reset original view', 'home', 'home'), ('Back', 'Back to previous …"
      ]
     },
     "metadata": {},
     "output_type": "display_data"
    },
    {
     "name": "stdout",
     "output_type": "stream",
     "text": [
      "\n",
      "prophet_instance nb 3\n",
      "Full dataset: 2019-10-23 to the 2020-03-26. Analysed data the 2020-01-29 to the 2020-02-08.\n",
      "o Trained on the data from the 2020-01-29 to the 2020-02-07 (8 days).\n",
      "o Predict from the 2020-02-07 to the 2020-02-08 (1 days).\n"
     ]
    },
    {
     "data": {
      "application/vnd.jupyter.widget-view+json": {
       "model_id": "83845efc0a2e45338299067c6afe3375",
       "version_major": 2,
       "version_minor": 0
      },
      "text/plain": [
       "Canvas(toolbar=Toolbar(toolitems=[('Home', 'Reset original view', 'home', 'home'), ('Back', 'Back to previous …"
      ]
     },
     "metadata": {},
     "output_type": "display_data"
    },
    {
     "name": "stdout",
     "output_type": "stream",
     "text": [
      "\n",
      "prophet_instance nb 4\n",
      "Full dataset: 2019-10-23 to the 2020-03-26. Analysed data the 2020-01-31 to the 2020-02-08.\n",
      "o Trained on the data from the 2020-01-31 to the 2020-02-07 (6 days).\n",
      "o Predict from the 2020-02-07 to the 2020-02-08 (1 days).\n"
     ]
    },
    {
     "data": {
      "application/vnd.jupyter.widget-view+json": {
       "model_id": "21049a8c6c5a4445a4b4cfd835e3ecde",
       "version_major": 2,
       "version_minor": 0
      },
      "text/plain": [
       "Canvas(toolbar=Toolbar(toolitems=[('Home', 'Reset original view', 'home', 'home'), ('Back', 'Back to previous …"
      ]
     },
     "metadata": {},
     "output_type": "display_data"
    },
    {
     "name": "stdout",
     "output_type": "stream",
     "text": [
      "\n",
      "prophet_instance nb 5\n",
      "Full dataset: 2019-10-23 to the 2020-03-26. Analysed data the 2020-01-31 to the 2020-02-08.\n",
      "o Trained on the data from the 2020-01-31 to the 2020-02-07 (6 days).\n",
      "o Predict from the 2020-02-07 to the 2020-02-08 (1 days).\n"
     ]
    },
    {
     "data": {
      "application/vnd.jupyter.widget-view+json": {
       "model_id": "46d8ed13421b4a7a8c268cdd67f26f16",
       "version_major": 2,
       "version_minor": 0
      },
      "text/plain": [
       "Canvas(toolbar=Toolbar(toolitems=[('Home', 'Reset original view', 'home', 'home'), ('Back', 'Back to previous …"
      ]
     },
     "metadata": {},
     "output_type": "display_data"
    },
    {
     "name": "stdout",
     "output_type": "stream",
     "text": [
      "Time elapsed: 13 minutes.\n",
      "Saving the best model\n",
      "\n",
      "prophet_instance nb 0\n",
      "Full dataset: 2019-10-23 to the 2020-03-26. Analysed data the 2020-01-31 to the 2020-02-08.\n",
      "o Trained on the data from the 2020-01-31 to the 2020-02-07 (6 days).\n",
      "o Predict from the 2020-02-07 to the 2020-02-08 (1 days).\n"
     ]
    },
    {
     "data": {
      "application/vnd.jupyter.widget-view+json": {
       "model_id": "4aa29ab94c7644f388ee5ce2b7793f0d",
       "version_major": 2,
       "version_minor": 0
      },
      "text/plain": [
       "Canvas(toolbar=Toolbar(toolitems=[('Home', 'Reset original view', 'home', 'home'), ('Back', 'Back to previous …"
      ]
     },
     "metadata": {},
     "output_type": "display_data"
    },
    {
     "name": "stdout",
     "output_type": "stream",
     "text": [
      "Full analysis completed in 13 minutes.\n",
      "\n",
      "prophet_instance nb 0\n",
      "Full dataset: 2019-10-23 to the 2020-03-26. Analysed data the 2020-01-18 to the 2020-01-30.\n",
      "o Trained on the data from the 2020-01-18 to the 2020-01-29 (10 days).\n",
      "o Predict from the 2020-01-29 to the 2020-01-30 (1 days).\n"
     ]
    },
    {
     "data": {
      "application/vnd.jupyter.widget-view+json": {
       "model_id": "41922b308c224e8596b9c97a11a4d672",
       "version_major": 2,
       "version_minor": 0
      },
      "text/plain": [
       "Canvas(toolbar=Toolbar(toolitems=[('Home', 'Reset original view', 'home', 'home'), ('Back', 'Back to previous …"
      ]
     },
     "metadata": {},
     "output_type": "display_data"
    },
    {
     "name": "stdout",
     "output_type": "stream",
     "text": [
      "\n",
      "prophet_instance nb 1\n",
      "Full dataset: 2019-10-23 to the 2020-03-26. Analysed data the 2020-01-18 to the 2020-01-30.\n",
      "o Trained on the data from the 2020-01-18 to the 2020-01-29 (10 days).\n",
      "o Predict from the 2020-01-29 to the 2020-01-30 (1 days).\n"
     ]
    },
    {
     "data": {
      "application/vnd.jupyter.widget-view+json": {
       "model_id": "cd2af1b7028744b48f03c55a1cd110ab",
       "version_major": 2,
       "version_minor": 0
      },
      "text/plain": [
       "Canvas(toolbar=Toolbar(toolitems=[('Home', 'Reset original view', 'home', 'home'), ('Back', 'Back to previous …"
      ]
     },
     "metadata": {},
     "output_type": "display_data"
    },
    {
     "name": "stdout",
     "output_type": "stream",
     "text": [
      "\n",
      "prophet_instance nb 2\n",
      "Full dataset: 2019-10-23 to the 2020-03-26. Analysed data the 2020-01-20 to the 2020-01-30.\n",
      "o Trained on the data from the 2020-01-20 to the 2020-01-29 (8 days).\n",
      "o Predict from the 2020-01-29 to the 2020-01-30 (1 days).\n"
     ]
    },
    {
     "data": {
      "application/vnd.jupyter.widget-view+json": {
       "model_id": "4398725e4db74069bcc7f57080d944cd",
       "version_major": 2,
       "version_minor": 0
      },
      "text/plain": [
       "Canvas(toolbar=Toolbar(toolitems=[('Home', 'Reset original view', 'home', 'home'), ('Back', 'Back to previous …"
      ]
     },
     "metadata": {},
     "output_type": "display_data"
    },
    {
     "name": "stdout",
     "output_type": "stream",
     "text": [
      "\n",
      "prophet_instance nb 3\n",
      "Full dataset: 2019-10-23 to the 2020-03-26. Analysed data the 2020-01-20 to the 2020-01-30.\n",
      "o Trained on the data from the 2020-01-20 to the 2020-01-29 (8 days).\n",
      "o Predict from the 2020-01-29 to the 2020-01-30 (1 days).\n"
     ]
    },
    {
     "data": {
      "application/vnd.jupyter.widget-view+json": {
       "model_id": "94d1017241f44f9b8c9f36ba16b48eda",
       "version_major": 2,
       "version_minor": 0
      },
      "text/plain": [
       "Canvas(toolbar=Toolbar(toolitems=[('Home', 'Reset original view', 'home', 'home'), ('Back', 'Back to previous …"
      ]
     },
     "metadata": {},
     "output_type": "display_data"
    },
    {
     "name": "stdout",
     "output_type": "stream",
     "text": [
      "\n",
      "prophet_instance nb 4\n",
      "Full dataset: 2019-10-23 to the 2020-03-26. Analysed data the 2020-01-22 to the 2020-01-30.\n",
      "o Trained on the data from the 2020-01-22 to the 2020-01-29 (6 days).\n",
      "o Predict from the 2020-01-29 to the 2020-01-30 (1 days).\n"
     ]
    },
    {
     "data": {
      "application/vnd.jupyter.widget-view+json": {
       "model_id": "7e611d276fe24dc2b44b0872d4d08704",
       "version_major": 2,
       "version_minor": 0
      },
      "text/plain": [
       "Canvas(toolbar=Toolbar(toolitems=[('Home', 'Reset original view', 'home', 'home'), ('Back', 'Back to previous …"
      ]
     },
     "metadata": {},
     "output_type": "display_data"
    },
    {
     "name": "stdout",
     "output_type": "stream",
     "text": [
      "\n",
      "prophet_instance nb 5\n",
      "Full dataset: 2019-10-23 to the 2020-03-26. Analysed data the 2020-01-22 to the 2020-01-30.\n",
      "o Trained on the data from the 2020-01-22 to the 2020-01-29 (6 days).\n",
      "o Predict from the 2020-01-29 to the 2020-01-30 (1 days).\n"
     ]
    },
    {
     "data": {
      "application/vnd.jupyter.widget-view+json": {
       "model_id": "5e2288e684734d859342e37096dfb7fe",
       "version_major": 2,
       "version_minor": 0
      },
      "text/plain": [
       "Canvas(toolbar=Toolbar(toolitems=[('Home', 'Reset original view', 'home', 'home'), ('Back', 'Back to previous …"
      ]
     },
     "metadata": {},
     "output_type": "display_data"
    },
    {
     "name": "stdout",
     "output_type": "stream",
     "text": [
      "Time elapsed: 15 minutes.\n",
      "Saving the best model\n",
      "\n",
      "prophet_instance nb 0\n",
      "Full dataset: 2019-10-23 to the 2020-03-26. Analysed data the 2020-01-18 to the 2020-01-30.\n",
      "o Trained on the data from the 2020-01-18 to the 2020-01-29 (10 days).\n",
      "o Predict from the 2020-01-29 to the 2020-01-30 (1 days).\n"
     ]
    },
    {
     "data": {
      "application/vnd.jupyter.widget-view+json": {
       "model_id": "1d5120f4d21349f2bcb92bec67394373",
       "version_major": 2,
       "version_minor": 0
      },
      "text/plain": [
       "Canvas(toolbar=Toolbar(toolitems=[('Home', 'Reset original view', 'home', 'home'), ('Back', 'Back to previous …"
      ]
     },
     "metadata": {},
     "output_type": "display_data"
    },
    {
     "name": "stdout",
     "output_type": "stream",
     "text": [
      "Full analysis completed in 16 minutes.\n",
      "\n",
      "prophet_instance nb 0\n",
      "Full dataset: 2019-10-23 to the 2020-03-26. Analysed data the 2019-10-23 to the 2019-11-04.\n",
      "o Trained on the data from the 2019-10-23 to the 2019-11-03 (10 days).\n",
      "o Predict from the 2019-11-03 to the 2019-11-04 (1 days).\n"
     ]
    },
    {
     "data": {
      "application/vnd.jupyter.widget-view+json": {
       "model_id": "cc78c068afdb4105b1fda1800453e996",
       "version_major": 2,
       "version_minor": 0
      },
      "text/plain": [
       "Canvas(toolbar=Toolbar(toolitems=[('Home', 'Reset original view', 'home', 'home'), ('Back', 'Back to previous …"
      ]
     },
     "metadata": {},
     "output_type": "display_data"
    },
    {
     "name": "stdout",
     "output_type": "stream",
     "text": [
      "\n",
      "prophet_instance nb 1\n",
      "Full dataset: 2019-10-23 to the 2020-03-26. Analysed data the 2019-10-23 to the 2019-11-04.\n",
      "o Trained on the data from the 2019-10-23 to the 2019-11-03 (10 days).\n",
      "o Predict from the 2019-11-03 to the 2019-11-04 (1 days).\n"
     ]
    },
    {
     "data": {
      "application/vnd.jupyter.widget-view+json": {
       "model_id": "67f2247416b44ba7ba697cd86c638932",
       "version_major": 2,
       "version_minor": 0
      },
      "text/plain": [
       "Canvas(toolbar=Toolbar(toolitems=[('Home', 'Reset original view', 'home', 'home'), ('Back', 'Back to previous …"
      ]
     },
     "metadata": {},
     "output_type": "display_data"
    },
    {
     "name": "stdout",
     "output_type": "stream",
     "text": [
      "\n",
      "prophet_instance nb 2\n",
      "Full dataset: 2019-10-23 to the 2020-03-26. Analysed data the 2019-10-25 to the 2019-11-04.\n",
      "o Trained on the data from the 2019-10-25 to the 2019-11-03 (8 days).\n",
      "o Predict from the 2019-11-03 to the 2019-11-04 (1 days).\n"
     ]
    },
    {
     "data": {
      "application/vnd.jupyter.widget-view+json": {
       "model_id": "17793499f7fc422ab95039c121505fe4",
       "version_major": 2,
       "version_minor": 0
      },
      "text/plain": [
       "Canvas(toolbar=Toolbar(toolitems=[('Home', 'Reset original view', 'home', 'home'), ('Back', 'Back to previous …"
      ]
     },
     "metadata": {},
     "output_type": "display_data"
    },
    {
     "name": "stdout",
     "output_type": "stream",
     "text": [
      "\n",
      "prophet_instance nb 3\n",
      "Full dataset: 2019-10-23 to the 2020-03-26. Analysed data the 2019-10-25 to the 2019-11-04.\n",
      "o Trained on the data from the 2019-10-25 to the 2019-11-03 (8 days).\n",
      "o Predict from the 2019-11-03 to the 2019-11-04 (1 days).\n"
     ]
    },
    {
     "data": {
      "application/vnd.jupyter.widget-view+json": {
       "model_id": "e39f449b86d84e2883514f2841bd27a4",
       "version_major": 2,
       "version_minor": 0
      },
      "text/plain": [
       "Canvas(toolbar=Toolbar(toolitems=[('Home', 'Reset original view', 'home', 'home'), ('Back', 'Back to previous …"
      ]
     },
     "metadata": {},
     "output_type": "display_data"
    },
    {
     "name": "stdout",
     "output_type": "stream",
     "text": [
      "\n",
      "prophet_instance nb 4\n",
      "Full dataset: 2019-10-23 to the 2020-03-26. Analysed data the 2019-10-27 to the 2019-11-04.\n",
      "o Trained on the data from the 2019-10-27 to the 2019-11-03 (6 days).\n",
      "o Predict from the 2019-11-03 to the 2019-11-04 (1 days).\n"
     ]
    },
    {
     "data": {
      "application/vnd.jupyter.widget-view+json": {
       "model_id": "81e687aaa769426aaf2e2f94bc8ed1e3",
       "version_major": 2,
       "version_minor": 0
      },
      "text/plain": [
       "Canvas(toolbar=Toolbar(toolitems=[('Home', 'Reset original view', 'home', 'home'), ('Back', 'Back to previous …"
      ]
     },
     "metadata": {},
     "output_type": "display_data"
    },
    {
     "name": "stdout",
     "output_type": "stream",
     "text": [
      "\n",
      "prophet_instance nb 5\n",
      "Full dataset: 2019-10-23 to the 2020-03-26. Analysed data the 2019-10-27 to the 2019-11-04.\n",
      "o Trained on the data from the 2019-10-27 to the 2019-11-03 (6 days).\n",
      "o Predict from the 2019-11-03 to the 2019-11-04 (1 days).\n"
     ]
    },
    {
     "data": {
      "application/vnd.jupyter.widget-view+json": {
       "model_id": "2fefa9478d7141c887a2b68f03f1a0b4",
       "version_major": 2,
       "version_minor": 0
      },
      "text/plain": [
       "Canvas(toolbar=Toolbar(toolitems=[('Home', 'Reset original view', 'home', 'home'), ('Back', 'Back to previous …"
      ]
     },
     "metadata": {},
     "output_type": "display_data"
    },
    {
     "name": "stdout",
     "output_type": "stream",
     "text": [
      "Time elapsed: 18 minutes.\n",
      "Saving the best model\n",
      "\n",
      "prophet_instance nb 0\n",
      "Full dataset: 2019-10-23 to the 2020-03-26. Analysed data the 2019-10-27 to the 2019-11-04.\n",
      "o Trained on the data from the 2019-10-27 to the 2019-11-03 (6 days).\n",
      "o Predict from the 2019-11-03 to the 2019-11-04 (1 days).\n"
     ]
    },
    {
     "data": {
      "application/vnd.jupyter.widget-view+json": {
       "model_id": "e6655876e62a4c81971987c298c4c747",
       "version_major": 2,
       "version_minor": 0
      },
      "text/plain": [
       "Canvas(toolbar=Toolbar(toolitems=[('Home', 'Reset original view', 'home', 'home'), ('Back', 'Back to previous …"
      ]
     },
     "metadata": {},
     "output_type": "display_data"
    },
    {
     "name": "stdout",
     "output_type": "stream",
     "text": [
      "Full analysis completed in 19 minutes.\n",
      "\n",
      "prophet_instance nb 0\n",
      "Full dataset: 2019-10-23 to the 2020-03-26. Analysed data the 2020-02-06 to the 2020-02-18.\n",
      "o Trained on the data from the 2020-02-06 to the 2020-02-17 (10 days).\n",
      "o Predict from the 2020-02-17 to the 2020-02-18 (1 days).\n"
     ]
    },
    {
     "data": {
      "application/vnd.jupyter.widget-view+json": {
       "model_id": "d2e6b0df6f294975a89e9a5b3070b234",
       "version_major": 2,
       "version_minor": 0
      },
      "text/plain": [
       "Canvas(toolbar=Toolbar(toolitems=[('Home', 'Reset original view', 'home', 'home'), ('Back', 'Back to previous …"
      ]
     },
     "metadata": {},
     "output_type": "display_data"
    },
    {
     "name": "stdout",
     "output_type": "stream",
     "text": [
      "\n",
      "prophet_instance nb 1\n",
      "Full dataset: 2019-10-23 to the 2020-03-26. Analysed data the 2020-02-06 to the 2020-02-18.\n",
      "o Trained on the data from the 2020-02-06 to the 2020-02-17 (10 days).\n",
      "o Predict from the 2020-02-17 to the 2020-02-18 (1 days).\n"
     ]
    },
    {
     "data": {
      "application/vnd.jupyter.widget-view+json": {
       "model_id": "7663d67df067490ebb1c3d72049161e2",
       "version_major": 2,
       "version_minor": 0
      },
      "text/plain": [
       "Canvas(toolbar=Toolbar(toolitems=[('Home', 'Reset original view', 'home', 'home'), ('Back', 'Back to previous …"
      ]
     },
     "metadata": {},
     "output_type": "display_data"
    },
    {
     "name": "stdout",
     "output_type": "stream",
     "text": [
      "\n",
      "prophet_instance nb 2\n",
      "Full dataset: 2019-10-23 to the 2020-03-26. Analysed data the 2020-02-08 to the 2020-02-18.\n",
      "o Trained on the data from the 2020-02-08 to the 2020-02-17 (8 days).\n",
      "o Predict from the 2020-02-17 to the 2020-02-18 (1 days).\n"
     ]
    },
    {
     "data": {
      "application/vnd.jupyter.widget-view+json": {
       "model_id": "8fdd3be59a594ea1ac31d53bf7b856bd",
       "version_major": 2,
       "version_minor": 0
      },
      "text/plain": [
       "Canvas(toolbar=Toolbar(toolitems=[('Home', 'Reset original view', 'home', 'home'), ('Back', 'Back to previous …"
      ]
     },
     "metadata": {},
     "output_type": "display_data"
    },
    {
     "name": "stdout",
     "output_type": "stream",
     "text": [
      "\n",
      "prophet_instance nb 3\n",
      "Full dataset: 2019-10-23 to the 2020-03-26. Analysed data the 2020-02-08 to the 2020-02-18.\n",
      "o Trained on the data from the 2020-02-08 to the 2020-02-17 (8 days).\n",
      "o Predict from the 2020-02-17 to the 2020-02-18 (1 days).\n"
     ]
    },
    {
     "data": {
      "application/vnd.jupyter.widget-view+json": {
       "model_id": "0e2a6868beec4a70bc27f7e370cd9eda",
       "version_major": 2,
       "version_minor": 0
      },
      "text/plain": [
       "Canvas(toolbar=Toolbar(toolitems=[('Home', 'Reset original view', 'home', 'home'), ('Back', 'Back to previous …"
      ]
     },
     "metadata": {},
     "output_type": "display_data"
    },
    {
     "name": "stdout",
     "output_type": "stream",
     "text": [
      "\n",
      "prophet_instance nb 4\n",
      "Full dataset: 2019-10-23 to the 2020-03-26. Analysed data the 2020-02-10 to the 2020-02-18.\n",
      "o Trained on the data from the 2020-02-10 to the 2020-02-17 (6 days).\n",
      "o Predict from the 2020-02-17 to the 2020-02-18 (1 days).\n"
     ]
    },
    {
     "data": {
      "application/vnd.jupyter.widget-view+json": {
       "model_id": "37dd4ba6c6d84eff820d65ca0ad33699",
       "version_major": 2,
       "version_minor": 0
      },
      "text/plain": [
       "Canvas(toolbar=Toolbar(toolitems=[('Home', 'Reset original view', 'home', 'home'), ('Back', 'Back to previous …"
      ]
     },
     "metadata": {},
     "output_type": "display_data"
    },
    {
     "name": "stdout",
     "output_type": "stream",
     "text": [
      "\n",
      "prophet_instance nb 5\n",
      "Full dataset: 2019-10-23 to the 2020-03-26. Analysed data the 2020-02-10 to the 2020-02-18.\n",
      "o Trained on the data from the 2020-02-10 to the 2020-02-17 (6 days).\n",
      "o Predict from the 2020-02-17 to the 2020-02-18 (1 days).\n"
     ]
    },
    {
     "data": {
      "application/vnd.jupyter.widget-view+json": {
       "model_id": "487af55d98b3421a86ed9fa413c62878",
       "version_major": 2,
       "version_minor": 0
      },
      "text/plain": [
       "Canvas(toolbar=Toolbar(toolitems=[('Home', 'Reset original view', 'home', 'home'), ('Back', 'Back to previous …"
      ]
     },
     "metadata": {},
     "output_type": "display_data"
    },
    {
     "name": "stdout",
     "output_type": "stream",
     "text": [
      "Time elapsed: 20 minutes.\n",
      "Saving the best model\n",
      "\n",
      "prophet_instance nb 0\n",
      "Full dataset: 2019-10-23 to the 2020-03-26. Analysed data the 2020-02-10 to the 2020-02-18.\n",
      "o Trained on the data from the 2020-02-10 to the 2020-02-17 (6 days).\n",
      "o Predict from the 2020-02-17 to the 2020-02-18 (1 days).\n"
     ]
    },
    {
     "data": {
      "application/vnd.jupyter.widget-view+json": {
       "model_id": "6ffd4ab6dbff4e4a8b1a82406d7b46a4",
       "version_major": 2,
       "version_minor": 0
      },
      "text/plain": [
       "Canvas(toolbar=Toolbar(toolitems=[('Home', 'Reset original view', 'home', 'home'), ('Back', 'Back to previous …"
      ]
     },
     "metadata": {},
     "output_type": "display_data"
    },
    {
     "name": "stdout",
     "output_type": "stream",
     "text": [
      "Full analysis completed in 21 minutes.\n",
      "\n",
      "prophet_instance nb 0\n",
      "Full dataset: 2019-10-23 to the 2020-03-26. Analysed data the 2020-01-16 to the 2020-01-28.\n",
      "o Trained on the data from the 2020-01-16 to the 2020-01-27 (10 days).\n",
      "o Predict from the 2020-01-27 to the 2020-01-28 (1 days).\n"
     ]
    },
    {
     "data": {
      "application/vnd.jupyter.widget-view+json": {
       "model_id": "8416e834cda24f619a492da3c45f1652",
       "version_major": 2,
       "version_minor": 0
      },
      "text/plain": [
       "Canvas(toolbar=Toolbar(toolitems=[('Home', 'Reset original view', 'home', 'home'), ('Back', 'Back to previous …"
      ]
     },
     "metadata": {},
     "output_type": "display_data"
    },
    {
     "name": "stdout",
     "output_type": "stream",
     "text": [
      "\n",
      "prophet_instance nb 1\n",
      "Full dataset: 2019-10-23 to the 2020-03-26. Analysed data the 2020-01-16 to the 2020-01-28.\n",
      "o Trained on the data from the 2020-01-16 to the 2020-01-27 (10 days).\n",
      "o Predict from the 2020-01-27 to the 2020-01-28 (1 days).\n"
     ]
    },
    {
     "data": {
      "application/vnd.jupyter.widget-view+json": {
       "model_id": "d08e7f578e7b490fb62419446dc2ca22",
       "version_major": 2,
       "version_minor": 0
      },
      "text/plain": [
       "Canvas(toolbar=Toolbar(toolitems=[('Home', 'Reset original view', 'home', 'home'), ('Back', 'Back to previous …"
      ]
     },
     "metadata": {},
     "output_type": "display_data"
    },
    {
     "name": "stdout",
     "output_type": "stream",
     "text": [
      "\n",
      "prophet_instance nb 2\n",
      "Full dataset: 2019-10-23 to the 2020-03-26. Analysed data the 2020-01-18 to the 2020-01-28.\n",
      "o Trained on the data from the 2020-01-18 to the 2020-01-27 (8 days).\n",
      "o Predict from the 2020-01-27 to the 2020-01-28 (1 days).\n"
     ]
    },
    {
     "data": {
      "application/vnd.jupyter.widget-view+json": {
       "model_id": "9e35332e481b48b3a75327b874ce4c57",
       "version_major": 2,
       "version_minor": 0
      },
      "text/plain": [
       "Canvas(toolbar=Toolbar(toolitems=[('Home', 'Reset original view', 'home', 'home'), ('Back', 'Back to previous …"
      ]
     },
     "metadata": {},
     "output_type": "display_data"
    },
    {
     "name": "stdout",
     "output_type": "stream",
     "text": [
      "\n",
      "prophet_instance nb 3\n",
      "Full dataset: 2019-10-23 to the 2020-03-26. Analysed data the 2020-01-18 to the 2020-01-28.\n",
      "o Trained on the data from the 2020-01-18 to the 2020-01-27 (8 days).\n",
      "o Predict from the 2020-01-27 to the 2020-01-28 (1 days).\n"
     ]
    },
    {
     "data": {
      "application/vnd.jupyter.widget-view+json": {
       "model_id": "e83a0547bd4b43d392bfd552d74a5e0d",
       "version_major": 2,
       "version_minor": 0
      },
      "text/plain": [
       "Canvas(toolbar=Toolbar(toolitems=[('Home', 'Reset original view', 'home', 'home'), ('Back', 'Back to previous …"
      ]
     },
     "metadata": {},
     "output_type": "display_data"
    },
    {
     "name": "stdout",
     "output_type": "stream",
     "text": [
      "\n",
      "prophet_instance nb 4\n",
      "Full dataset: 2019-10-23 to the 2020-03-26. Analysed data the 2020-01-20 to the 2020-01-28.\n",
      "o Trained on the data from the 2020-01-20 to the 2020-01-27 (6 days).\n",
      "o Predict from the 2020-01-27 to the 2020-01-28 (1 days).\n"
     ]
    },
    {
     "data": {
      "application/vnd.jupyter.widget-view+json": {
       "model_id": "505253e9846947f296b4f4a2e9ff749f",
       "version_major": 2,
       "version_minor": 0
      },
      "text/plain": [
       "Canvas(toolbar=Toolbar(toolitems=[('Home', 'Reset original view', 'home', 'home'), ('Back', 'Back to previous …"
      ]
     },
     "metadata": {},
     "output_type": "display_data"
    },
    {
     "name": "stdout",
     "output_type": "stream",
     "text": [
      "\n",
      "prophet_instance nb 5\n",
      "Full dataset: 2019-10-23 to the 2020-03-26. Analysed data the 2020-01-20 to the 2020-01-28.\n",
      "o Trained on the data from the 2020-01-20 to the 2020-01-27 (6 days).\n",
      "o Predict from the 2020-01-27 to the 2020-01-28 (1 days).\n"
     ]
    },
    {
     "data": {
      "application/vnd.jupyter.widget-view+json": {
       "model_id": "54ea6d52aabd44789a56f4b47b178c0a",
       "version_major": 2,
       "version_minor": 0
      },
      "text/plain": [
       "Canvas(toolbar=Toolbar(toolitems=[('Home', 'Reset original view', 'home', 'home'), ('Back', 'Back to previous …"
      ]
     },
     "metadata": {},
     "output_type": "display_data"
    },
    {
     "name": "stdout",
     "output_type": "stream",
     "text": [
      "Time elapsed: 24 minutes.\n",
      "Saving the best model\n",
      "\n",
      "prophet_instance nb 0\n",
      "Full dataset: 2019-10-23 to the 2020-03-26. Analysed data the 2020-01-20 to the 2020-01-28.\n",
      "o Trained on the data from the 2020-01-20 to the 2020-01-27 (6 days).\n",
      "o Predict from the 2020-01-27 to the 2020-01-28 (1 days).\n"
     ]
    },
    {
     "data": {
      "application/vnd.jupyter.widget-view+json": {
       "model_id": "6590e425fdf5467f88a5f2185b553191",
       "version_major": 2,
       "version_minor": 0
      },
      "text/plain": [
       "Canvas(toolbar=Toolbar(toolitems=[('Home', 'Reset original view', 'home', 'home'), ('Back', 'Back to previous …"
      ]
     },
     "metadata": {},
     "output_type": "display_data"
    },
    {
     "name": "stdout",
     "output_type": "stream",
     "text": [
      "Full analysis completed in 24 minutes.\n",
      "\n",
      "prophet_instance nb 0\n",
      "Full dataset: 2019-10-23 to the 2020-03-26. Analysed data the 2019-11-25 to the 2019-12-07.\n",
      "o Trained on the data from the 2019-11-25 to the 2019-12-06 (10 days).\n",
      "o Predict from the 2019-12-06 to the 2019-12-07 (1 days).\n"
     ]
    },
    {
     "data": {
      "application/vnd.jupyter.widget-view+json": {
       "model_id": "b1652cb7fe674abb92f334875b1b9537",
       "version_major": 2,
       "version_minor": 0
      },
      "text/plain": [
       "Canvas(toolbar=Toolbar(toolitems=[('Home', 'Reset original view', 'home', 'home'), ('Back', 'Back to previous …"
      ]
     },
     "metadata": {},
     "output_type": "display_data"
    },
    {
     "name": "stdout",
     "output_type": "stream",
     "text": [
      "\n",
      "prophet_instance nb 1\n",
      "Full dataset: 2019-10-23 to the 2020-03-26. Analysed data the 2019-11-25 to the 2019-12-07.\n",
      "o Trained on the data from the 2019-11-25 to the 2019-12-06 (10 days).\n",
      "o Predict from the 2019-12-06 to the 2019-12-07 (1 days).\n"
     ]
    },
    {
     "data": {
      "application/vnd.jupyter.widget-view+json": {
       "model_id": "3c3d68b7c27f4210b4d1bdb2a99fc7b7",
       "version_major": 2,
       "version_minor": 0
      },
      "text/plain": [
       "Canvas(toolbar=Toolbar(toolitems=[('Home', 'Reset original view', 'home', 'home'), ('Back', 'Back to previous …"
      ]
     },
     "metadata": {},
     "output_type": "display_data"
    },
    {
     "name": "stdout",
     "output_type": "stream",
     "text": [
      "\n",
      "prophet_instance nb 2\n",
      "Full dataset: 2019-10-23 to the 2020-03-26. Analysed data the 2019-11-27 to the 2019-12-07.\n",
      "o Trained on the data from the 2019-11-27 to the 2019-12-06 (8 days).\n",
      "o Predict from the 2019-12-06 to the 2019-12-07 (1 days).\n"
     ]
    },
    {
     "data": {
      "application/vnd.jupyter.widget-view+json": {
       "model_id": "9536b72ac7654fde884cd593dcadade0",
       "version_major": 2,
       "version_minor": 0
      },
      "text/plain": [
       "Canvas(toolbar=Toolbar(toolitems=[('Home', 'Reset original view', 'home', 'home'), ('Back', 'Back to previous …"
      ]
     },
     "metadata": {},
     "output_type": "display_data"
    },
    {
     "name": "stdout",
     "output_type": "stream",
     "text": [
      "\n",
      "prophet_instance nb 3\n",
      "Full dataset: 2019-10-23 to the 2020-03-26. Analysed data the 2019-11-27 to the 2019-12-07.\n",
      "o Trained on the data from the 2019-11-27 to the 2019-12-06 (8 days).\n",
      "o Predict from the 2019-12-06 to the 2019-12-07 (1 days).\n"
     ]
    },
    {
     "data": {
      "application/vnd.jupyter.widget-view+json": {
       "model_id": "9a5310986fcc4c638dda165749abd95e",
       "version_major": 2,
       "version_minor": 0
      },
      "text/plain": [
       "Canvas(toolbar=Toolbar(toolitems=[('Home', 'Reset original view', 'home', 'home'), ('Back', 'Back to previous …"
      ]
     },
     "metadata": {},
     "output_type": "display_data"
    },
    {
     "name": "stdout",
     "output_type": "stream",
     "text": [
      "\n",
      "prophet_instance nb 4\n",
      "Full dataset: 2019-10-23 to the 2020-03-26. Analysed data the 2019-11-29 to the 2019-12-07.\n",
      "o Trained on the data from the 2019-11-29 to the 2019-12-06 (6 days).\n",
      "o Predict from the 2019-12-06 to the 2019-12-07 (1 days).\n"
     ]
    },
    {
     "data": {
      "application/vnd.jupyter.widget-view+json": {
       "model_id": "90426d28c34b4a41865691ba6062c00c",
       "version_major": 2,
       "version_minor": 0
      },
      "text/plain": [
       "Canvas(toolbar=Toolbar(toolitems=[('Home', 'Reset original view', 'home', 'home'), ('Back', 'Back to previous …"
      ]
     },
     "metadata": {},
     "output_type": "display_data"
    },
    {
     "name": "stdout",
     "output_type": "stream",
     "text": [
      "\n",
      "prophet_instance nb 5\n",
      "Full dataset: 2019-10-23 to the 2020-03-26. Analysed data the 2019-11-29 to the 2019-12-07.\n",
      "o Trained on the data from the 2019-11-29 to the 2019-12-06 (6 days).\n",
      "o Predict from the 2019-12-06 to the 2019-12-07 (1 days).\n"
     ]
    },
    {
     "data": {
      "application/vnd.jupyter.widget-view+json": {
       "model_id": "a0527745cba44750b8ae7a10e95d321f",
       "version_major": 2,
       "version_minor": 0
      },
      "text/plain": [
       "Canvas(toolbar=Toolbar(toolitems=[('Home', 'Reset original view', 'home', 'home'), ('Back', 'Back to previous …"
      ]
     },
     "metadata": {},
     "output_type": "display_data"
    },
    {
     "name": "stdout",
     "output_type": "stream",
     "text": [
      "Time elapsed: 27 minutes.\n",
      "Saving the best model\n",
      "\n",
      "prophet_instance nb 0\n",
      "Full dataset: 2019-10-23 to the 2020-03-26. Analysed data the 2019-11-25 to the 2019-12-07.\n",
      "o Trained on the data from the 2019-11-25 to the 2019-12-06 (10 days).\n",
      "o Predict from the 2019-12-06 to the 2019-12-07 (1 days).\n"
     ]
    },
    {
     "data": {
      "application/vnd.jupyter.widget-view+json": {
       "model_id": "985491ddfa0c4779bc1ea6135b6b317c",
       "version_major": 2,
       "version_minor": 0
      },
      "text/plain": [
       "Canvas(toolbar=Toolbar(toolitems=[('Home', 'Reset original view', 'home', 'home'), ('Back', 'Back to previous …"
      ]
     },
     "metadata": {},
     "output_type": "display_data"
    },
    {
     "name": "stdout",
     "output_type": "stream",
     "text": [
      "Full analysis completed in 27 minutes.\n",
      "\n",
      "prophet_instance nb 0\n",
      "Full dataset: 2019-10-23 to the 2020-03-26. Analysed data the 2020-02-09 to the 2020-02-21.\n",
      "o Trained on the data from the 2020-02-09 to the 2020-02-20 (10 days).\n",
      "o Predict from the 2020-02-20 to the 2020-02-21 (1 days).\n"
     ]
    },
    {
     "data": {
      "application/vnd.jupyter.widget-view+json": {
       "model_id": "f6a11533dd51401cb21121f34292c36b",
       "version_major": 2,
       "version_minor": 0
      },
      "text/plain": [
       "Canvas(toolbar=Toolbar(toolitems=[('Home', 'Reset original view', 'home', 'home'), ('Back', 'Back to previous …"
      ]
     },
     "metadata": {},
     "output_type": "display_data"
    },
    {
     "name": "stdout",
     "output_type": "stream",
     "text": [
      "\n",
      "prophet_instance nb 1\n",
      "Full dataset: 2019-10-23 to the 2020-03-26. Analysed data the 2020-02-09 to the 2020-02-21.\n",
      "o Trained on the data from the 2020-02-09 to the 2020-02-20 (10 days).\n",
      "o Predict from the 2020-02-20 to the 2020-02-21 (1 days).\n"
     ]
    },
    {
     "data": {
      "application/vnd.jupyter.widget-view+json": {
       "model_id": "814b19651a8a448b91431d7b99a560b2",
       "version_major": 2,
       "version_minor": 0
      },
      "text/plain": [
       "Canvas(toolbar=Toolbar(toolitems=[('Home', 'Reset original view', 'home', 'home'), ('Back', 'Back to previous …"
      ]
     },
     "metadata": {},
     "output_type": "display_data"
    },
    {
     "name": "stdout",
     "output_type": "stream",
     "text": [
      "\n",
      "prophet_instance nb 2\n",
      "Full dataset: 2019-10-23 to the 2020-03-26. Analysed data the 2020-02-11 to the 2020-02-21.\n",
      "o Trained on the data from the 2020-02-11 to the 2020-02-20 (8 days).\n",
      "o Predict from the 2020-02-20 to the 2020-02-21 (1 days).\n"
     ]
    },
    {
     "data": {
      "application/vnd.jupyter.widget-view+json": {
       "model_id": "12c900692acc4da1a771e1b7bcbfb522",
       "version_major": 2,
       "version_minor": 0
      },
      "text/plain": [
       "Canvas(toolbar=Toolbar(toolitems=[('Home', 'Reset original view', 'home', 'home'), ('Back', 'Back to previous …"
      ]
     },
     "metadata": {},
     "output_type": "display_data"
    },
    {
     "name": "stdout",
     "output_type": "stream",
     "text": [
      "\n",
      "prophet_instance nb 3\n",
      "Full dataset: 2019-10-23 to the 2020-03-26. Analysed data the 2020-02-11 to the 2020-02-21.\n",
      "o Trained on the data from the 2020-02-11 to the 2020-02-20 (8 days).\n",
      "o Predict from the 2020-02-20 to the 2020-02-21 (1 days).\n"
     ]
    },
    {
     "data": {
      "application/vnd.jupyter.widget-view+json": {
       "model_id": "03ecd3f4183e47469307b80d55b5daaf",
       "version_major": 2,
       "version_minor": 0
      },
      "text/plain": [
       "Canvas(toolbar=Toolbar(toolitems=[('Home', 'Reset original view', 'home', 'home'), ('Back', 'Back to previous …"
      ]
     },
     "metadata": {},
     "output_type": "display_data"
    },
    {
     "name": "stdout",
     "output_type": "stream",
     "text": [
      "\n",
      "prophet_instance nb 4\n",
      "Full dataset: 2019-10-23 to the 2020-03-26. Analysed data the 2020-02-13 to the 2020-02-21.\n",
      "o Trained on the data from the 2020-02-13 to the 2020-02-20 (6 days).\n",
      "o Predict from the 2020-02-20 to the 2020-02-21 (1 days).\n"
     ]
    },
    {
     "data": {
      "application/vnd.jupyter.widget-view+json": {
       "model_id": "dc1d66d751ee40e090d8da00da04450b",
       "version_major": 2,
       "version_minor": 0
      },
      "text/plain": [
       "Canvas(toolbar=Toolbar(toolitems=[('Home', 'Reset original view', 'home', 'home'), ('Back', 'Back to previous …"
      ]
     },
     "metadata": {},
     "output_type": "display_data"
    },
    {
     "name": "stdout",
     "output_type": "stream",
     "text": [
      "\n",
      "prophet_instance nb 5\n",
      "Full dataset: 2019-10-23 to the 2020-03-26. Analysed data the 2020-02-13 to the 2020-02-21.\n",
      "o Trained on the data from the 2020-02-13 to the 2020-02-20 (6 days).\n",
      "o Predict from the 2020-02-20 to the 2020-02-21 (1 days).\n"
     ]
    },
    {
     "data": {
      "application/vnd.jupyter.widget-view+json": {
       "model_id": "0a2fff7850114661864662febf9cc199",
       "version_major": 2,
       "version_minor": 0
      },
      "text/plain": [
       "Canvas(toolbar=Toolbar(toolitems=[('Home', 'Reset original view', 'home', 'home'), ('Back', 'Back to previous …"
      ]
     },
     "metadata": {},
     "output_type": "display_data"
    },
    {
     "name": "stdout",
     "output_type": "stream",
     "text": [
      "Time elapsed: 29 minutes.\n",
      "Saving the best model\n",
      "\n",
      "prophet_instance nb 0\n",
      "Full dataset: 2019-10-23 to the 2020-03-26. Analysed data the 2020-02-11 to the 2020-02-21.\n",
      "o Trained on the data from the 2020-02-11 to the 2020-02-20 (8 days).\n",
      "o Predict from the 2020-02-20 to the 2020-02-21 (1 days).\n"
     ]
    },
    {
     "data": {
      "application/vnd.jupyter.widget-view+json": {
       "model_id": "cf2c997344fc4af78ba1e9f109ae458b",
       "version_major": 2,
       "version_minor": 0
      },
      "text/plain": [
       "Canvas(toolbar=Toolbar(toolitems=[('Home', 'Reset original view', 'home', 'home'), ('Back', 'Back to previous …"
      ]
     },
     "metadata": {},
     "output_type": "display_data"
    },
    {
     "name": "stdout",
     "output_type": "stream",
     "text": [
      "Full analysis completed in 30 minutes.\n",
      "Check report:\n",
      "##############################################\n",
      "['Device contained in the dataset: device50']\n",
      "['Tenant using the device: tenant08']\n",
      "\n",
      "Data types:\n",
      "device                                object\n",
      "tenant                                object\n",
      "ds             datetime64[ns, Europe/Zurich]\n",
      "light                                float64\n",
      "temperature                          float64\n",
      "humidity                             float64\n",
      "co2                                  float64\n",
      "dtype: object\n",
      "\n",
      "Available data from the 2019-10-23 to the 2020-03-26.\n",
      "\n",
      "prophet_instance nb 0\n",
      "Full dataset: 2019-10-23 to the 2020-03-26. Analysed data the 2019-11-30 to the 2019-12-12.\n",
      "o Trained on the data from the 2019-11-30 to the 2019-12-11 (10 days).\n",
      "o Predict from the 2019-12-11 to the 2019-12-12 (1 days).\n"
     ]
    },
    {
     "data": {
      "application/vnd.jupyter.widget-view+json": {
       "model_id": "56399f8877b64f4cb2bce9b696ec8eab",
       "version_major": 2,
       "version_minor": 0
      },
      "text/plain": [
       "Canvas(toolbar=Toolbar(toolitems=[('Home', 'Reset original view', 'home', 'home'), ('Back', 'Back to previous …"
      ]
     },
     "metadata": {},
     "output_type": "display_data"
    },
    {
     "name": "stdout",
     "output_type": "stream",
     "text": [
      "\n",
      "prophet_instance nb 1\n",
      "Full dataset: 2019-10-23 to the 2020-03-26. Analysed data the 2019-11-30 to the 2019-12-12.\n",
      "o Trained on the data from the 2019-11-30 to the 2019-12-11 (10 days).\n",
      "o Predict from the 2019-12-11 to the 2019-12-12 (1 days).\n"
     ]
    },
    {
     "data": {
      "application/vnd.jupyter.widget-view+json": {
       "model_id": "9841d2150b064459950f5f784c73fa1b",
       "version_major": 2,
       "version_minor": 0
      },
      "text/plain": [
       "Canvas(toolbar=Toolbar(toolitems=[('Home', 'Reset original view', 'home', 'home'), ('Back', 'Back to previous …"
      ]
     },
     "metadata": {},
     "output_type": "display_data"
    },
    {
     "name": "stdout",
     "output_type": "stream",
     "text": [
      "\n",
      "prophet_instance nb 2\n",
      "Full dataset: 2019-10-23 to the 2020-03-26. Analysed data the 2019-12-02 to the 2019-12-12.\n",
      "o Trained on the data from the 2019-12-02 to the 2019-12-11 (8 days).\n",
      "o Predict from the 2019-12-11 to the 2019-12-12 (1 days).\n"
     ]
    },
    {
     "data": {
      "application/vnd.jupyter.widget-view+json": {
       "model_id": "8732b6af6797462e909346d789da697b",
       "version_major": 2,
       "version_minor": 0
      },
      "text/plain": [
       "Canvas(toolbar=Toolbar(toolitems=[('Home', 'Reset original view', 'home', 'home'), ('Back', 'Back to previous …"
      ]
     },
     "metadata": {},
     "output_type": "display_data"
    },
    {
     "name": "stdout",
     "output_type": "stream",
     "text": [
      "\n",
      "prophet_instance nb 3\n",
      "Full dataset: 2019-10-23 to the 2020-03-26. Analysed data the 2019-12-02 to the 2019-12-12.\n",
      "o Trained on the data from the 2019-12-02 to the 2019-12-11 (8 days).\n",
      "o Predict from the 2019-12-11 to the 2019-12-12 (1 days).\n"
     ]
    },
    {
     "data": {
      "application/vnd.jupyter.widget-view+json": {
       "model_id": "c6af8fa9c4cb4bdabb9fc4760eab21cb",
       "version_major": 2,
       "version_minor": 0
      },
      "text/plain": [
       "Canvas(toolbar=Toolbar(toolitems=[('Home', 'Reset original view', 'home', 'home'), ('Back', 'Back to previous …"
      ]
     },
     "metadata": {},
     "output_type": "display_data"
    },
    {
     "name": "stdout",
     "output_type": "stream",
     "text": [
      "\n",
      "prophet_instance nb 4\n",
      "Full dataset: 2019-10-23 to the 2020-03-26. Analysed data the 2019-12-04 to the 2019-12-12.\n",
      "o Trained on the data from the 2019-12-04 to the 2019-12-11 (6 days).\n",
      "o Predict from the 2019-12-11 to the 2019-12-12 (1 days).\n"
     ]
    },
    {
     "data": {
      "application/vnd.jupyter.widget-view+json": {
       "model_id": "05805ba05f494cd38594bc796779cba4",
       "version_major": 2,
       "version_minor": 0
      },
      "text/plain": [
       "Canvas(toolbar=Toolbar(toolitems=[('Home', 'Reset original view', 'home', 'home'), ('Back', 'Back to previous …"
      ]
     },
     "metadata": {},
     "output_type": "display_data"
    },
    {
     "name": "stdout",
     "output_type": "stream",
     "text": [
      "\n",
      "prophet_instance nb 5\n",
      "Full dataset: 2019-10-23 to the 2020-03-26. Analysed data the 2019-12-04 to the 2019-12-12.\n",
      "o Trained on the data from the 2019-12-04 to the 2019-12-11 (6 days).\n",
      "o Predict from the 2019-12-11 to the 2019-12-12 (1 days).\n"
     ]
    },
    {
     "data": {
      "application/vnd.jupyter.widget-view+json": {
       "model_id": "eddc840b250b4f95b3e13c91fa9c42a9",
       "version_major": 2,
       "version_minor": 0
      },
      "text/plain": [
       "Canvas(toolbar=Toolbar(toolitems=[('Home', 'Reset original view', 'home', 'home'), ('Back', 'Back to previous …"
      ]
     },
     "metadata": {},
     "output_type": "display_data"
    },
    {
     "name": "stdout",
     "output_type": "stream",
     "text": [
      "Time elapsed: 3 minutes.\n",
      "Saving the best model\n",
      "\n",
      "prophet_instance nb 0\n",
      "Full dataset: 2019-10-23 to the 2020-03-26. Analysed data the 2019-12-04 to the 2019-12-12.\n",
      "o Trained on the data from the 2019-12-04 to the 2019-12-11 (6 days).\n",
      "o Predict from the 2019-12-11 to the 2019-12-12 (1 days).\n"
     ]
    },
    {
     "data": {
      "application/vnd.jupyter.widget-view+json": {
       "model_id": "e98a5ccabe304cc19bce6d49948e5c26",
       "version_major": 2,
       "version_minor": 0
      },
      "text/plain": [
       "Canvas(toolbar=Toolbar(toolitems=[('Home', 'Reset original view', 'home', 'home'), ('Back', 'Back to previous …"
      ]
     },
     "metadata": {},
     "output_type": "display_data"
    },
    {
     "name": "stdout",
     "output_type": "stream",
     "text": [
      "Full analysis completed in 3 minutes.\n",
      "\n",
      "prophet_instance nb 0\n",
      "Full dataset: 2019-10-23 to the 2020-03-26. Analysed data the 2020-02-08 to the 2020-02-20.\n",
      "o Trained on the data from the 2020-02-08 to the 2020-02-19 (10 days).\n",
      "o Predict from the 2020-02-19 to the 2020-02-20 (1 days).\n"
     ]
    },
    {
     "data": {
      "application/vnd.jupyter.widget-view+json": {
       "model_id": "404bb4b51f594135972f54dc90839e5a",
       "version_major": 2,
       "version_minor": 0
      },
      "text/plain": [
       "Canvas(toolbar=Toolbar(toolitems=[('Home', 'Reset original view', 'home', 'home'), ('Back', 'Back to previous …"
      ]
     },
     "metadata": {},
     "output_type": "display_data"
    },
    {
     "name": "stdout",
     "output_type": "stream",
     "text": [
      "\n",
      "prophet_instance nb 1\n",
      "Full dataset: 2019-10-23 to the 2020-03-26. Analysed data the 2020-02-08 to the 2020-02-20.\n",
      "o Trained on the data from the 2020-02-08 to the 2020-02-19 (10 days).\n",
      "o Predict from the 2020-02-19 to the 2020-02-20 (1 days).\n"
     ]
    },
    {
     "data": {
      "application/vnd.jupyter.widget-view+json": {
       "model_id": "d76883d3c96849c4b929f4841cebd118",
       "version_major": 2,
       "version_minor": 0
      },
      "text/plain": [
       "Canvas(toolbar=Toolbar(toolitems=[('Home', 'Reset original view', 'home', 'home'), ('Back', 'Back to previous …"
      ]
     },
     "metadata": {},
     "output_type": "display_data"
    },
    {
     "name": "stdout",
     "output_type": "stream",
     "text": [
      "\n",
      "prophet_instance nb 2\n",
      "Full dataset: 2019-10-23 to the 2020-03-26. Analysed data the 2020-02-10 to the 2020-02-20.\n",
      "o Trained on the data from the 2020-02-10 to the 2020-02-19 (8 days).\n",
      "o Predict from the 2020-02-19 to the 2020-02-20 (1 days).\n"
     ]
    },
    {
     "data": {
      "application/vnd.jupyter.widget-view+json": {
       "model_id": "34f426c1d7d74af48a36eb6c41643aa6",
       "version_major": 2,
       "version_minor": 0
      },
      "text/plain": [
       "Canvas(toolbar=Toolbar(toolitems=[('Home', 'Reset original view', 'home', 'home'), ('Back', 'Back to previous …"
      ]
     },
     "metadata": {},
     "output_type": "display_data"
    },
    {
     "name": "stdout",
     "output_type": "stream",
     "text": [
      "\n",
      "prophet_instance nb 3\n",
      "Full dataset: 2019-10-23 to the 2020-03-26. Analysed data the 2020-02-10 to the 2020-02-20.\n",
      "o Trained on the data from the 2020-02-10 to the 2020-02-19 (8 days).\n",
      "o Predict from the 2020-02-19 to the 2020-02-20 (1 days).\n"
     ]
    },
    {
     "data": {
      "application/vnd.jupyter.widget-view+json": {
       "model_id": "766ef77b8bb2486497e5fbb42e80c76a",
       "version_major": 2,
       "version_minor": 0
      },
      "text/plain": [
       "Canvas(toolbar=Toolbar(toolitems=[('Home', 'Reset original view', 'home', 'home'), ('Back', 'Back to previous …"
      ]
     },
     "metadata": {},
     "output_type": "display_data"
    },
    {
     "name": "stdout",
     "output_type": "stream",
     "text": [
      "\n",
      "prophet_instance nb 4\n",
      "Full dataset: 2019-10-23 to the 2020-03-26. Analysed data the 2020-02-12 to the 2020-02-20.\n",
      "o Trained on the data from the 2020-02-12 to the 2020-02-19 (6 days).\n",
      "o Predict from the 2020-02-19 to the 2020-02-20 (1 days).\n"
     ]
    },
    {
     "data": {
      "application/vnd.jupyter.widget-view+json": {
       "model_id": "bf75ba7473f748c2a893c837df01bb57",
       "version_major": 2,
       "version_minor": 0
      },
      "text/plain": [
       "Canvas(toolbar=Toolbar(toolitems=[('Home', 'Reset original view', 'home', 'home'), ('Back', 'Back to previous …"
      ]
     },
     "metadata": {},
     "output_type": "display_data"
    },
    {
     "name": "stdout",
     "output_type": "stream",
     "text": [
      "\n",
      "prophet_instance nb 5\n",
      "Full dataset: 2019-10-23 to the 2020-03-26. Analysed data the 2020-02-12 to the 2020-02-20.\n",
      "o Trained on the data from the 2020-02-12 to the 2020-02-19 (6 days).\n",
      "o Predict from the 2020-02-19 to the 2020-02-20 (1 days).\n"
     ]
    },
    {
     "data": {
      "application/vnd.jupyter.widget-view+json": {
       "model_id": "5563af2790534849a5a65f320924ab55",
       "version_major": 2,
       "version_minor": 0
      },
      "text/plain": [
       "Canvas(toolbar=Toolbar(toolitems=[('Home', 'Reset original view', 'home', 'home'), ('Back', 'Back to previous …"
      ]
     },
     "metadata": {},
     "output_type": "display_data"
    },
    {
     "name": "stdout",
     "output_type": "stream",
     "text": [
      "Time elapsed: 7 minutes.\n",
      "Saving the best model\n",
      "\n",
      "prophet_instance nb 0\n",
      "Full dataset: 2019-10-23 to the 2020-03-26. Analysed data the 2020-02-12 to the 2020-02-20.\n",
      "o Trained on the data from the 2020-02-12 to the 2020-02-19 (6 days).\n",
      "o Predict from the 2020-02-19 to the 2020-02-20 (1 days).\n"
     ]
    },
    {
     "data": {
      "application/vnd.jupyter.widget-view+json": {
       "model_id": "6023d2dceebc41078d83267a9721a831",
       "version_major": 2,
       "version_minor": 0
      },
      "text/plain": [
       "Canvas(toolbar=Toolbar(toolitems=[('Home', 'Reset original view', 'home', 'home'), ('Back', 'Back to previous …"
      ]
     },
     "metadata": {},
     "output_type": "display_data"
    },
    {
     "name": "stdout",
     "output_type": "stream",
     "text": [
      "Full analysis completed in 7 minutes.\n",
      "\n",
      "prophet_instance nb 0\n",
      "Full dataset: 2019-10-23 to the 2020-03-26. Analysed data the 2019-10-25 to the 2019-11-06.\n",
      "o Trained on the data from the 2019-10-25 to the 2019-11-05 (10 days).\n",
      "o Predict from the 2019-11-05 to the 2019-11-06 (1 days).\n"
     ]
    },
    {
     "data": {
      "application/vnd.jupyter.widget-view+json": {
       "model_id": "7433fb10dc3f47a493976e7a6c62e34c",
       "version_major": 2,
       "version_minor": 0
      },
      "text/plain": [
       "Canvas(toolbar=Toolbar(toolitems=[('Home', 'Reset original view', 'home', 'home'), ('Back', 'Back to previous …"
      ]
     },
     "metadata": {},
     "output_type": "display_data"
    },
    {
     "name": "stdout",
     "output_type": "stream",
     "text": [
      "\n",
      "prophet_instance nb 1\n",
      "Full dataset: 2019-10-23 to the 2020-03-26. Analysed data the 2019-10-25 to the 2019-11-06.\n",
      "o Trained on the data from the 2019-10-25 to the 2019-11-05 (10 days).\n",
      "o Predict from the 2019-11-05 to the 2019-11-06 (1 days).\n"
     ]
    },
    {
     "data": {
      "application/vnd.jupyter.widget-view+json": {
       "model_id": "684dba2e50d0486881691418a2fdc380",
       "version_major": 2,
       "version_minor": 0
      },
      "text/plain": [
       "Canvas(toolbar=Toolbar(toolitems=[('Home', 'Reset original view', 'home', 'home'), ('Back', 'Back to previous …"
      ]
     },
     "metadata": {},
     "output_type": "display_data"
    },
    {
     "name": "stdout",
     "output_type": "stream",
     "text": [
      "\n",
      "prophet_instance nb 2\n",
      "Full dataset: 2019-10-23 to the 2020-03-26. Analysed data the 2019-10-27 to the 2019-11-06.\n",
      "o Trained on the data from the 2019-10-27 to the 2019-11-05 (8 days).\n",
      "o Predict from the 2019-11-05 to the 2019-11-06 (1 days).\n"
     ]
    },
    {
     "data": {
      "application/vnd.jupyter.widget-view+json": {
       "model_id": "e6d3543f13604ddaa50dde0c92e76e67",
       "version_major": 2,
       "version_minor": 0
      },
      "text/plain": [
       "Canvas(toolbar=Toolbar(toolitems=[('Home', 'Reset original view', 'home', 'home'), ('Back', 'Back to previous …"
      ]
     },
     "metadata": {},
     "output_type": "display_data"
    },
    {
     "name": "stdout",
     "output_type": "stream",
     "text": [
      "\n",
      "prophet_instance nb 3\n",
      "Full dataset: 2019-10-23 to the 2020-03-26. Analysed data the 2019-10-27 to the 2019-11-06.\n",
      "o Trained on the data from the 2019-10-27 to the 2019-11-05 (8 days).\n",
      "o Predict from the 2019-11-05 to the 2019-11-06 (1 days).\n"
     ]
    },
    {
     "data": {
      "application/vnd.jupyter.widget-view+json": {
       "model_id": "2afc55f6f47e446995218958b8715680",
       "version_major": 2,
       "version_minor": 0
      },
      "text/plain": [
       "Canvas(toolbar=Toolbar(toolitems=[('Home', 'Reset original view', 'home', 'home'), ('Back', 'Back to previous …"
      ]
     },
     "metadata": {},
     "output_type": "display_data"
    },
    {
     "name": "stdout",
     "output_type": "stream",
     "text": [
      "\n",
      "prophet_instance nb 4\n",
      "Full dataset: 2019-10-23 to the 2020-03-26. Analysed data the 2019-10-29 to the 2019-11-06.\n",
      "o Trained on the data from the 2019-10-29 to the 2019-11-05 (6 days).\n",
      "o Predict from the 2019-11-05 to the 2019-11-06 (1 days).\n"
     ]
    },
    {
     "data": {
      "application/vnd.jupyter.widget-view+json": {
       "model_id": "8462506137194b108f3a24017a3b1fb4",
       "version_major": 2,
       "version_minor": 0
      },
      "text/plain": [
       "Canvas(toolbar=Toolbar(toolitems=[('Home', 'Reset original view', 'home', 'home'), ('Back', 'Back to previous …"
      ]
     },
     "metadata": {},
     "output_type": "display_data"
    },
    {
     "name": "stdout",
     "output_type": "stream",
     "text": [
      "\n",
      "prophet_instance nb 5\n",
      "Full dataset: 2019-10-23 to the 2020-03-26. Analysed data the 2019-10-29 to the 2019-11-06.\n",
      "o Trained on the data from the 2019-10-29 to the 2019-11-05 (6 days).\n",
      "o Predict from the 2019-11-05 to the 2019-11-06 (1 days).\n"
     ]
    },
    {
     "data": {
      "application/vnd.jupyter.widget-view+json": {
       "model_id": "505432062a8244f4a7076ca15854aa58",
       "version_major": 2,
       "version_minor": 0
      },
      "text/plain": [
       "Canvas(toolbar=Toolbar(toolitems=[('Home', 'Reset original view', 'home', 'home'), ('Back', 'Back to previous …"
      ]
     },
     "metadata": {},
     "output_type": "display_data"
    },
    {
     "name": "stdout",
     "output_type": "stream",
     "text": [
      "Time elapsed: 10 minutes.\n",
      "Saving the best model\n",
      "\n",
      "prophet_instance nb 0\n",
      "Full dataset: 2019-10-23 to the 2020-03-26. Analysed data the 2019-10-29 to the 2019-11-06.\n",
      "o Trained on the data from the 2019-10-29 to the 2019-11-05 (6 days).\n",
      "o Predict from the 2019-11-05 to the 2019-11-06 (1 days).\n"
     ]
    },
    {
     "data": {
      "application/vnd.jupyter.widget-view+json": {
       "model_id": "e5838bb4c57a4641bc0cc2d321470dae",
       "version_major": 2,
       "version_minor": 0
      },
      "text/plain": [
       "Canvas(toolbar=Toolbar(toolitems=[('Home', 'Reset original view', 'home', 'home'), ('Back', 'Back to previous …"
      ]
     },
     "metadata": {},
     "output_type": "display_data"
    },
    {
     "name": "stdout",
     "output_type": "stream",
     "text": [
      "Full analysis completed in 11 minutes.\n",
      "\n",
      "prophet_instance nb 0\n",
      "Full dataset: 2019-10-23 to the 2020-03-26. Analysed data the 2019-12-16 to the 2019-12-28.\n",
      "o Trained on the data from the 2019-12-16 to the 2019-12-27 (10 days).\n",
      "o Predict from the 2019-12-27 to the 2019-12-28 (1 days).\n"
     ]
    },
    {
     "data": {
      "application/vnd.jupyter.widget-view+json": {
       "model_id": "b2b00e9a72fc4397b282c7d022a30ab9",
       "version_major": 2,
       "version_minor": 0
      },
      "text/plain": [
       "Canvas(toolbar=Toolbar(toolitems=[('Home', 'Reset original view', 'home', 'home'), ('Back', 'Back to previous …"
      ]
     },
     "metadata": {},
     "output_type": "display_data"
    },
    {
     "name": "stdout",
     "output_type": "stream",
     "text": [
      "\n",
      "prophet_instance nb 1\n",
      "Full dataset: 2019-10-23 to the 2020-03-26. Analysed data the 2019-12-16 to the 2019-12-28.\n",
      "o Trained on the data from the 2019-12-16 to the 2019-12-27 (10 days).\n",
      "o Predict from the 2019-12-27 to the 2019-12-28 (1 days).\n"
     ]
    },
    {
     "data": {
      "application/vnd.jupyter.widget-view+json": {
       "model_id": "3439dabb77af4209bc7e0f70eafb5828",
       "version_major": 2,
       "version_minor": 0
      },
      "text/plain": [
       "Canvas(toolbar=Toolbar(toolitems=[('Home', 'Reset original view', 'home', 'home'), ('Back', 'Back to previous …"
      ]
     },
     "metadata": {},
     "output_type": "display_data"
    },
    {
     "name": "stdout",
     "output_type": "stream",
     "text": [
      "\n",
      "prophet_instance nb 2\n",
      "Full dataset: 2019-10-23 to the 2020-03-26. Analysed data the 2019-12-18 to the 2019-12-28.\n",
      "o Trained on the data from the 2019-12-18 to the 2019-12-27 (8 days).\n",
      "o Predict from the 2019-12-27 to the 2019-12-28 (1 days).\n"
     ]
    },
    {
     "data": {
      "application/vnd.jupyter.widget-view+json": {
       "model_id": "ee09a477a3124f41846c946da0165e06",
       "version_major": 2,
       "version_minor": 0
      },
      "text/plain": [
       "Canvas(toolbar=Toolbar(toolitems=[('Home', 'Reset original view', 'home', 'home'), ('Back', 'Back to previous …"
      ]
     },
     "metadata": {},
     "output_type": "display_data"
    },
    {
     "name": "stdout",
     "output_type": "stream",
     "text": [
      "\n",
      "prophet_instance nb 3\n",
      "Full dataset: 2019-10-23 to the 2020-03-26. Analysed data the 2019-12-18 to the 2019-12-28.\n",
      "o Trained on the data from the 2019-12-18 to the 2019-12-27 (8 days).\n",
      "o Predict from the 2019-12-27 to the 2019-12-28 (1 days).\n"
     ]
    },
    {
     "data": {
      "application/vnd.jupyter.widget-view+json": {
       "model_id": "1657f2c0382647d0a8247dc49ad2ee5d",
       "version_major": 2,
       "version_minor": 0
      },
      "text/plain": [
       "Canvas(toolbar=Toolbar(toolitems=[('Home', 'Reset original view', 'home', 'home'), ('Back', 'Back to previous …"
      ]
     },
     "metadata": {},
     "output_type": "display_data"
    },
    {
     "name": "stdout",
     "output_type": "stream",
     "text": [
      "\n",
      "prophet_instance nb 4\n",
      "Full dataset: 2019-10-23 to the 2020-03-26. Analysed data the 2019-12-20 to the 2019-12-28.\n",
      "o Trained on the data from the 2019-12-20 to the 2019-12-27 (6 days).\n",
      "o Predict from the 2019-12-27 to the 2019-12-28 (1 days).\n"
     ]
    },
    {
     "data": {
      "application/vnd.jupyter.widget-view+json": {
       "model_id": "6550c3d836f347529ae92793cab891df",
       "version_major": 2,
       "version_minor": 0
      },
      "text/plain": [
       "Canvas(toolbar=Toolbar(toolitems=[('Home', 'Reset original view', 'home', 'home'), ('Back', 'Back to previous …"
      ]
     },
     "metadata": {},
     "output_type": "display_data"
    },
    {
     "name": "stdout",
     "output_type": "stream",
     "text": [
      "\n",
      "prophet_instance nb 5\n",
      "Full dataset: 2019-10-23 to the 2020-03-26. Analysed data the 2019-12-20 to the 2019-12-28.\n",
      "o Trained on the data from the 2019-12-20 to the 2019-12-27 (6 days).\n",
      "o Predict from the 2019-12-27 to the 2019-12-28 (1 days).\n"
     ]
    },
    {
     "data": {
      "application/vnd.jupyter.widget-view+json": {
       "model_id": "a96c792463de458188be884104e961c5",
       "version_major": 2,
       "version_minor": 0
      },
      "text/plain": [
       "Canvas(toolbar=Toolbar(toolitems=[('Home', 'Reset original view', 'home', 'home'), ('Back', 'Back to previous …"
      ]
     },
     "metadata": {},
     "output_type": "display_data"
    },
    {
     "name": "stdout",
     "output_type": "stream",
     "text": [
      "Time elapsed: 15 minutes.\n",
      "Saving the best model\n",
      "\n",
      "prophet_instance nb 0\n",
      "Full dataset: 2019-10-23 to the 2020-03-26. Analysed data the 2019-12-16 to the 2019-12-28.\n",
      "o Trained on the data from the 2019-12-16 to the 2019-12-27 (10 days).\n",
      "o Predict from the 2019-12-27 to the 2019-12-28 (1 days).\n"
     ]
    },
    {
     "data": {
      "application/vnd.jupyter.widget-view+json": {
       "model_id": "e72aa1a94cad4e5d9258358ebb9a88a7",
       "version_major": 2,
       "version_minor": 0
      },
      "text/plain": [
       "Canvas(toolbar=Toolbar(toolitems=[('Home', 'Reset original view', 'home', 'home'), ('Back', 'Back to previous …"
      ]
     },
     "metadata": {},
     "output_type": "display_data"
    },
    {
     "name": "stdout",
     "output_type": "stream",
     "text": [
      "Full analysis completed in 15 minutes.\n",
      "\n",
      "prophet_instance nb 0\n",
      "Full dataset: 2019-10-23 to the 2020-03-26. Analysed data the 2020-01-15 to the 2020-01-27.\n",
      "o Trained on the data from the 2020-01-15 to the 2020-01-26 (10 days).\n",
      "o Predict from the 2020-01-26 to the 2020-01-27 (1 days).\n"
     ]
    },
    {
     "data": {
      "application/vnd.jupyter.widget-view+json": {
       "model_id": "eccbdb65a86f4a5c87306e43d46555e4",
       "version_major": 2,
       "version_minor": 0
      },
      "text/plain": [
       "Canvas(toolbar=Toolbar(toolitems=[('Home', 'Reset original view', 'home', 'home'), ('Back', 'Back to previous …"
      ]
     },
     "metadata": {},
     "output_type": "display_data"
    },
    {
     "name": "stdout",
     "output_type": "stream",
     "text": [
      "\n",
      "prophet_instance nb 1\n",
      "Full dataset: 2019-10-23 to the 2020-03-26. Analysed data the 2020-01-15 to the 2020-01-27.\n",
      "o Trained on the data from the 2020-01-15 to the 2020-01-26 (10 days).\n",
      "o Predict from the 2020-01-26 to the 2020-01-27 (1 days).\n"
     ]
    },
    {
     "data": {
      "application/vnd.jupyter.widget-view+json": {
       "model_id": "6692d60bf7414c269143f3658298832b",
       "version_major": 2,
       "version_minor": 0
      },
      "text/plain": [
       "Canvas(toolbar=Toolbar(toolitems=[('Home', 'Reset original view', 'home', 'home'), ('Back', 'Back to previous …"
      ]
     },
     "metadata": {},
     "output_type": "display_data"
    },
    {
     "name": "stdout",
     "output_type": "stream",
     "text": [
      "\n",
      "prophet_instance nb 2\n",
      "Full dataset: 2019-10-23 to the 2020-03-26. Analysed data the 2020-01-17 to the 2020-01-27.\n",
      "o Trained on the data from the 2020-01-17 to the 2020-01-26 (8 days).\n",
      "o Predict from the 2020-01-26 to the 2020-01-27 (1 days).\n"
     ]
    },
    {
     "data": {
      "application/vnd.jupyter.widget-view+json": {
       "model_id": "0edb1eb0c7d94df3922384dcb233af22",
       "version_major": 2,
       "version_minor": 0
      },
      "text/plain": [
       "Canvas(toolbar=Toolbar(toolitems=[('Home', 'Reset original view', 'home', 'home'), ('Back', 'Back to previous …"
      ]
     },
     "metadata": {},
     "output_type": "display_data"
    },
    {
     "name": "stdout",
     "output_type": "stream",
     "text": [
      "\n",
      "prophet_instance nb 3\n",
      "Full dataset: 2019-10-23 to the 2020-03-26. Analysed data the 2020-01-17 to the 2020-01-27.\n",
      "o Trained on the data from the 2020-01-17 to the 2020-01-26 (8 days).\n",
      "o Predict from the 2020-01-26 to the 2020-01-27 (1 days).\n"
     ]
    },
    {
     "data": {
      "application/vnd.jupyter.widget-view+json": {
       "model_id": "6b78be8ee24641baad5e8d117c80594e",
       "version_major": 2,
       "version_minor": 0
      },
      "text/plain": [
       "Canvas(toolbar=Toolbar(toolitems=[('Home', 'Reset original view', 'home', 'home'), ('Back', 'Back to previous …"
      ]
     },
     "metadata": {},
     "output_type": "display_data"
    },
    {
     "name": "stdout",
     "output_type": "stream",
     "text": [
      "\n",
      "prophet_instance nb 4\n",
      "Full dataset: 2019-10-23 to the 2020-03-26. Analysed data the 2020-01-19 to the 2020-01-27.\n",
      "o Trained on the data from the 2020-01-19 to the 2020-01-26 (6 days).\n",
      "o Predict from the 2020-01-26 to the 2020-01-27 (1 days).\n"
     ]
    },
    {
     "data": {
      "application/vnd.jupyter.widget-view+json": {
       "model_id": "8e8027bcb3a24010860bf06c85689384",
       "version_major": 2,
       "version_minor": 0
      },
      "text/plain": [
       "Canvas(toolbar=Toolbar(toolitems=[('Home', 'Reset original view', 'home', 'home'), ('Back', 'Back to previous …"
      ]
     },
     "metadata": {},
     "output_type": "display_data"
    },
    {
     "name": "stdout",
     "output_type": "stream",
     "text": [
      "\n",
      "prophet_instance nb 5\n",
      "Full dataset: 2019-10-23 to the 2020-03-26. Analysed data the 2020-01-19 to the 2020-01-27.\n",
      "o Trained on the data from the 2020-01-19 to the 2020-01-26 (6 days).\n",
      "o Predict from the 2020-01-26 to the 2020-01-27 (1 days).\n"
     ]
    },
    {
     "data": {
      "application/vnd.jupyter.widget-view+json": {
       "model_id": "0e42bfc3f69b4c658f7bb5a881cf70ab",
       "version_major": 2,
       "version_minor": 0
      },
      "text/plain": [
       "Canvas(toolbar=Toolbar(toolitems=[('Home', 'Reset original view', 'home', 'home'), ('Back', 'Back to previous …"
      ]
     },
     "metadata": {},
     "output_type": "display_data"
    },
    {
     "name": "stdout",
     "output_type": "stream",
     "text": [
      "Time elapsed: 18 minutes.\n",
      "Saving the best model\n",
      "\n",
      "prophet_instance nb 0\n",
      "Full dataset: 2019-10-23 to the 2020-03-26. Analysed data the 2020-01-19 to the 2020-01-27.\n",
      "o Trained on the data from the 2020-01-19 to the 2020-01-26 (6 days).\n",
      "o Predict from the 2020-01-26 to the 2020-01-27 (1 days).\n"
     ]
    },
    {
     "data": {
      "application/vnd.jupyter.widget-view+json": {
       "model_id": "4ca15abed7ce4eee948c7b0b6c81967c",
       "version_major": 2,
       "version_minor": 0
      },
      "text/plain": [
       "Canvas(toolbar=Toolbar(toolitems=[('Home', 'Reset original view', 'home', 'home'), ('Back', 'Back to previous …"
      ]
     },
     "metadata": {},
     "output_type": "display_data"
    },
    {
     "name": "stdout",
     "output_type": "stream",
     "text": [
      "Full analysis completed in 18 minutes.\n",
      "\n",
      "prophet_instance nb 0\n",
      "Full dataset: 2019-10-23 to the 2020-03-26. Analysed data the 2020-01-21 to the 2020-02-02.\n",
      "o Trained on the data from the 2020-01-21 to the 2020-02-01 (10 days).\n",
      "o Predict from the 2020-02-01 to the 2020-02-02 (1 days).\n"
     ]
    },
    {
     "data": {
      "application/vnd.jupyter.widget-view+json": {
       "model_id": "28286ca539124027be9118d8a3336f99",
       "version_major": 2,
       "version_minor": 0
      },
      "text/plain": [
       "Canvas(toolbar=Toolbar(toolitems=[('Home', 'Reset original view', 'home', 'home'), ('Back', 'Back to previous …"
      ]
     },
     "metadata": {},
     "output_type": "display_data"
    },
    {
     "name": "stdout",
     "output_type": "stream",
     "text": [
      "\n",
      "prophet_instance nb 1\n",
      "Full dataset: 2019-10-23 to the 2020-03-26. Analysed data the 2020-01-21 to the 2020-02-02.\n",
      "o Trained on the data from the 2020-01-21 to the 2020-02-01 (10 days).\n",
      "o Predict from the 2020-02-01 to the 2020-02-02 (1 days).\n"
     ]
    },
    {
     "data": {
      "application/vnd.jupyter.widget-view+json": {
       "model_id": "9b1fb0c0e1aa4915a73bdb309201400b",
       "version_major": 2,
       "version_minor": 0
      },
      "text/plain": [
       "Canvas(toolbar=Toolbar(toolitems=[('Home', 'Reset original view', 'home', 'home'), ('Back', 'Back to previous …"
      ]
     },
     "metadata": {},
     "output_type": "display_data"
    },
    {
     "name": "stdout",
     "output_type": "stream",
     "text": [
      "\n",
      "prophet_instance nb 2\n",
      "Full dataset: 2019-10-23 to the 2020-03-26. Analysed data the 2020-01-23 to the 2020-02-02.\n",
      "o Trained on the data from the 2020-01-23 to the 2020-02-01 (8 days).\n",
      "o Predict from the 2020-02-01 to the 2020-02-02 (1 days).\n"
     ]
    },
    {
     "data": {
      "application/vnd.jupyter.widget-view+json": {
       "model_id": "658ef5c533fb4a2b8b8d54f8ed34f121",
       "version_major": 2,
       "version_minor": 0
      },
      "text/plain": [
       "Canvas(toolbar=Toolbar(toolitems=[('Home', 'Reset original view', 'home', 'home'), ('Back', 'Back to previous …"
      ]
     },
     "metadata": {},
     "output_type": "display_data"
    },
    {
     "name": "stdout",
     "output_type": "stream",
     "text": [
      "\n",
      "prophet_instance nb 3\n",
      "Full dataset: 2019-10-23 to the 2020-03-26. Analysed data the 2020-01-23 to the 2020-02-02.\n",
      "o Trained on the data from the 2020-01-23 to the 2020-02-01 (8 days).\n",
      "o Predict from the 2020-02-01 to the 2020-02-02 (1 days).\n"
     ]
    },
    {
     "data": {
      "application/vnd.jupyter.widget-view+json": {
       "model_id": "a325df4e7b244f53a5b71b51ec850719",
       "version_major": 2,
       "version_minor": 0
      },
      "text/plain": [
       "Canvas(toolbar=Toolbar(toolitems=[('Home', 'Reset original view', 'home', 'home'), ('Back', 'Back to previous …"
      ]
     },
     "metadata": {},
     "output_type": "display_data"
    },
    {
     "name": "stdout",
     "output_type": "stream",
     "text": [
      "\n",
      "prophet_instance nb 4\n",
      "Full dataset: 2019-10-23 to the 2020-03-26. Analysed data the 2020-01-25 to the 2020-02-02.\n",
      "o Trained on the data from the 2020-01-25 to the 2020-02-01 (6 days).\n",
      "o Predict from the 2020-02-01 to the 2020-02-02 (1 days).\n"
     ]
    },
    {
     "data": {
      "application/vnd.jupyter.widget-view+json": {
       "model_id": "b3bec3c4dc814146b507ded956e4abdd",
       "version_major": 2,
       "version_minor": 0
      },
      "text/plain": [
       "Canvas(toolbar=Toolbar(toolitems=[('Home', 'Reset original view', 'home', 'home'), ('Back', 'Back to previous …"
      ]
     },
     "metadata": {},
     "output_type": "display_data"
    },
    {
     "name": "stdout",
     "output_type": "stream",
     "text": [
      "\n",
      "prophet_instance nb 5\n",
      "Full dataset: 2019-10-23 to the 2020-03-26. Analysed data the 2020-01-25 to the 2020-02-02.\n",
      "o Trained on the data from the 2020-01-25 to the 2020-02-01 (6 days).\n",
      "o Predict from the 2020-02-01 to the 2020-02-02 (1 days).\n"
     ]
    },
    {
     "data": {
      "application/vnd.jupyter.widget-view+json": {
       "model_id": "e8653d30de004880ab23c74ee12c4381",
       "version_major": 2,
       "version_minor": 0
      },
      "text/plain": [
       "Canvas(toolbar=Toolbar(toolitems=[('Home', 'Reset original view', 'home', 'home'), ('Back', 'Back to previous …"
      ]
     },
     "metadata": {},
     "output_type": "display_data"
    },
    {
     "name": "stdout",
     "output_type": "stream",
     "text": [
      "Time elapsed: 21 minutes.\n",
      "Saving the best model\n",
      "\n",
      "prophet_instance nb 0\n",
      "Full dataset: 2019-10-23 to the 2020-03-26. Analysed data the 2020-01-23 to the 2020-02-02.\n",
      "o Trained on the data from the 2020-01-23 to the 2020-02-01 (8 days).\n",
      "o Predict from the 2020-02-01 to the 2020-02-02 (1 days).\n"
     ]
    },
    {
     "data": {
      "application/vnd.jupyter.widget-view+json": {
       "model_id": "b5689412db104a51b89e6b0b7657997c",
       "version_major": 2,
       "version_minor": 0
      },
      "text/plain": [
       "Canvas(toolbar=Toolbar(toolitems=[('Home', 'Reset original view', 'home', 'home'), ('Back', 'Back to previous …"
      ]
     },
     "metadata": {},
     "output_type": "display_data"
    },
    {
     "name": "stdout",
     "output_type": "stream",
     "text": [
      "Full analysis completed in 22 minutes.\n",
      "\n",
      "prophet_instance nb 0\n",
      "Full dataset: 2019-10-23 to the 2020-03-26. Analysed data the 2020-01-25 to the 2020-02-06.\n",
      "o Trained on the data from the 2020-01-25 to the 2020-02-05 (10 days).\n",
      "o Predict from the 2020-02-05 to the 2020-02-06 (1 days).\n"
     ]
    },
    {
     "data": {
      "application/vnd.jupyter.widget-view+json": {
       "model_id": "26a3377f465f4d4b8e2de286176753f8",
       "version_major": 2,
       "version_minor": 0
      },
      "text/plain": [
       "Canvas(toolbar=Toolbar(toolitems=[('Home', 'Reset original view', 'home', 'home'), ('Back', 'Back to previous …"
      ]
     },
     "metadata": {},
     "output_type": "display_data"
    },
    {
     "name": "stdout",
     "output_type": "stream",
     "text": [
      "\n",
      "prophet_instance nb 1\n",
      "Full dataset: 2019-10-23 to the 2020-03-26. Analysed data the 2020-01-25 to the 2020-02-06.\n",
      "o Trained on the data from the 2020-01-25 to the 2020-02-05 (10 days).\n",
      "o Predict from the 2020-02-05 to the 2020-02-06 (1 days).\n"
     ]
    },
    {
     "data": {
      "application/vnd.jupyter.widget-view+json": {
       "model_id": "d3dd43ca81f34696bffe93f39e5dddca",
       "version_major": 2,
       "version_minor": 0
      },
      "text/plain": [
       "Canvas(toolbar=Toolbar(toolitems=[('Home', 'Reset original view', 'home', 'home'), ('Back', 'Back to previous …"
      ]
     },
     "metadata": {},
     "output_type": "display_data"
    },
    {
     "name": "stdout",
     "output_type": "stream",
     "text": [
      "\n",
      "prophet_instance nb 2\n",
      "Full dataset: 2019-10-23 to the 2020-03-26. Analysed data the 2020-01-27 to the 2020-02-06.\n",
      "o Trained on the data from the 2020-01-27 to the 2020-02-05 (8 days).\n",
      "o Predict from the 2020-02-05 to the 2020-02-06 (1 days).\n"
     ]
    },
    {
     "data": {
      "application/vnd.jupyter.widget-view+json": {
       "model_id": "ab1f70a50e324932a56d919094113771",
       "version_major": 2,
       "version_minor": 0
      },
      "text/plain": [
       "Canvas(toolbar=Toolbar(toolitems=[('Home', 'Reset original view', 'home', 'home'), ('Back', 'Back to previous …"
      ]
     },
     "metadata": {},
     "output_type": "display_data"
    },
    {
     "name": "stdout",
     "output_type": "stream",
     "text": [
      "\n",
      "prophet_instance nb 3\n",
      "Full dataset: 2019-10-23 to the 2020-03-26. Analysed data the 2020-01-27 to the 2020-02-06.\n",
      "o Trained on the data from the 2020-01-27 to the 2020-02-05 (8 days).\n",
      "o Predict from the 2020-02-05 to the 2020-02-06 (1 days).\n"
     ]
    },
    {
     "data": {
      "application/vnd.jupyter.widget-view+json": {
       "model_id": "f95c82093dcd46468279bb73ceedacaa",
       "version_major": 2,
       "version_minor": 0
      },
      "text/plain": [
       "Canvas(toolbar=Toolbar(toolitems=[('Home', 'Reset original view', 'home', 'home'), ('Back', 'Back to previous …"
      ]
     },
     "metadata": {},
     "output_type": "display_data"
    },
    {
     "name": "stdout",
     "output_type": "stream",
     "text": [
      "\n",
      "prophet_instance nb 4\n",
      "Full dataset: 2019-10-23 to the 2020-03-26. Analysed data the 2020-01-29 to the 2020-02-06.\n",
      "o Trained on the data from the 2020-01-29 to the 2020-02-05 (6 days).\n",
      "o Predict from the 2020-02-05 to the 2020-02-06 (1 days).\n"
     ]
    },
    {
     "data": {
      "application/vnd.jupyter.widget-view+json": {
       "model_id": "5bff51b980074a7da6aad4832f5e01bf",
       "version_major": 2,
       "version_minor": 0
      },
      "text/plain": [
       "Canvas(toolbar=Toolbar(toolitems=[('Home', 'Reset original view', 'home', 'home'), ('Back', 'Back to previous …"
      ]
     },
     "metadata": {},
     "output_type": "display_data"
    },
    {
     "name": "stdout",
     "output_type": "stream",
     "text": [
      "\n",
      "prophet_instance nb 5\n",
      "Full dataset: 2019-10-23 to the 2020-03-26. Analysed data the 2020-01-29 to the 2020-02-06.\n",
      "o Trained on the data from the 2020-01-29 to the 2020-02-05 (6 days).\n",
      "o Predict from the 2020-02-05 to the 2020-02-06 (1 days).\n"
     ]
    },
    {
     "data": {
      "application/vnd.jupyter.widget-view+json": {
       "model_id": "668517ad8c3443e79bbb679bc47a9364",
       "version_major": 2,
       "version_minor": 0
      },
      "text/plain": [
       "Canvas(toolbar=Toolbar(toolitems=[('Home', 'Reset original view', 'home', 'home'), ('Back', 'Back to previous …"
      ]
     },
     "metadata": {},
     "output_type": "display_data"
    },
    {
     "name": "stdout",
     "output_type": "stream",
     "text": [
      "Time elapsed: 25 minutes.\n",
      "Saving the best model\n",
      "\n",
      "prophet_instance nb 0\n",
      "Full dataset: 2019-10-23 to the 2020-03-26. Analysed data the 2020-01-25 to the 2020-02-06.\n",
      "o Trained on the data from the 2020-01-25 to the 2020-02-05 (10 days).\n",
      "o Predict from the 2020-02-05 to the 2020-02-06 (1 days).\n"
     ]
    },
    {
     "data": {
      "application/vnd.jupyter.widget-view+json": {
       "model_id": "4d17a05df8a8435d8984d130b6707b98",
       "version_major": 2,
       "version_minor": 0
      },
      "text/plain": [
       "Canvas(toolbar=Toolbar(toolitems=[('Home', 'Reset original view', 'home', 'home'), ('Back', 'Back to previous …"
      ]
     },
     "metadata": {},
     "output_type": "display_data"
    },
    {
     "name": "stdout",
     "output_type": "stream",
     "text": [
      "Full analysis completed in 25 minutes.\n",
      "\n",
      "prophet_instance nb 0\n",
      "Full dataset: 2019-10-23 to the 2020-03-26. Analysed data the 2020-01-06 to the 2020-01-18.\n",
      "o Trained on the data from the 2020-01-06 to the 2020-01-17 (10 days).\n",
      "o Predict from the 2020-01-17 to the 2020-01-18 (1 days).\n"
     ]
    },
    {
     "data": {
      "application/vnd.jupyter.widget-view+json": {
       "model_id": "41879cbea241488b9272014315b74435",
       "version_major": 2,
       "version_minor": 0
      },
      "text/plain": [
       "Canvas(toolbar=Toolbar(toolitems=[('Home', 'Reset original view', 'home', 'home'), ('Back', 'Back to previous …"
      ]
     },
     "metadata": {},
     "output_type": "display_data"
    },
    {
     "name": "stdout",
     "output_type": "stream",
     "text": [
      "\n",
      "prophet_instance nb 1\n",
      "Full dataset: 2019-10-23 to the 2020-03-26. Analysed data the 2020-01-06 to the 2020-01-18.\n",
      "o Trained on the data from the 2020-01-06 to the 2020-01-17 (10 days).\n",
      "o Predict from the 2020-01-17 to the 2020-01-18 (1 days).\n"
     ]
    },
    {
     "data": {
      "application/vnd.jupyter.widget-view+json": {
       "model_id": "9e2fc708e13b4ab2a8f39fad852f67aa",
       "version_major": 2,
       "version_minor": 0
      },
      "text/plain": [
       "Canvas(toolbar=Toolbar(toolitems=[('Home', 'Reset original view', 'home', 'home'), ('Back', 'Back to previous …"
      ]
     },
     "metadata": {},
     "output_type": "display_data"
    },
    {
     "name": "stdout",
     "output_type": "stream",
     "text": [
      "\n",
      "prophet_instance nb 2\n",
      "Full dataset: 2019-10-23 to the 2020-03-26. Analysed data the 2020-01-08 to the 2020-01-18.\n",
      "o Trained on the data from the 2020-01-08 to the 2020-01-17 (8 days).\n",
      "o Predict from the 2020-01-17 to the 2020-01-18 (1 days).\n"
     ]
    },
    {
     "data": {
      "application/vnd.jupyter.widget-view+json": {
       "model_id": "4c75247143914f1f8aef0298d1b97cfc",
       "version_major": 2,
       "version_minor": 0
      },
      "text/plain": [
       "Canvas(toolbar=Toolbar(toolitems=[('Home', 'Reset original view', 'home', 'home'), ('Back', 'Back to previous …"
      ]
     },
     "metadata": {},
     "output_type": "display_data"
    },
    {
     "name": "stdout",
     "output_type": "stream",
     "text": [
      "\n",
      "prophet_instance nb 3\n",
      "Full dataset: 2019-10-23 to the 2020-03-26. Analysed data the 2020-01-08 to the 2020-01-18.\n",
      "o Trained on the data from the 2020-01-08 to the 2020-01-17 (8 days).\n",
      "o Predict from the 2020-01-17 to the 2020-01-18 (1 days).\n"
     ]
    },
    {
     "data": {
      "application/vnd.jupyter.widget-view+json": {
       "model_id": "64ac7f33c5994e8e91c1182b2653f453",
       "version_major": 2,
       "version_minor": 0
      },
      "text/plain": [
       "Canvas(toolbar=Toolbar(toolitems=[('Home', 'Reset original view', 'home', 'home'), ('Back', 'Back to previous …"
      ]
     },
     "metadata": {},
     "output_type": "display_data"
    },
    {
     "name": "stdout",
     "output_type": "stream",
     "text": [
      "\n",
      "prophet_instance nb 4\n",
      "Full dataset: 2019-10-23 to the 2020-03-26. Analysed data the 2020-01-10 to the 2020-01-18.\n",
      "o Trained on the data from the 2020-01-10 to the 2020-01-17 (6 days).\n",
      "o Predict from the 2020-01-17 to the 2020-01-18 (1 days).\n"
     ]
    },
    {
     "data": {
      "application/vnd.jupyter.widget-view+json": {
       "model_id": "3f9dc0f6e12f4b798f1964509b108cc5",
       "version_major": 2,
       "version_minor": 0
      },
      "text/plain": [
       "Canvas(toolbar=Toolbar(toolitems=[('Home', 'Reset original view', 'home', 'home'), ('Back', 'Back to previous …"
      ]
     },
     "metadata": {},
     "output_type": "display_data"
    },
    {
     "name": "stdout",
     "output_type": "stream",
     "text": [
      "\n",
      "prophet_instance nb 5\n",
      "Full dataset: 2019-10-23 to the 2020-03-26. Analysed data the 2020-01-10 to the 2020-01-18.\n",
      "o Trained on the data from the 2020-01-10 to the 2020-01-17 (6 days).\n",
      "o Predict from the 2020-01-17 to the 2020-01-18 (1 days).\n"
     ]
    },
    {
     "data": {
      "application/vnd.jupyter.widget-view+json": {
       "model_id": "752d28e7a2f741688fe9e2f159ca00e9",
       "version_major": 2,
       "version_minor": 0
      },
      "text/plain": [
       "Canvas(toolbar=Toolbar(toolitems=[('Home', 'Reset original view', 'home', 'home'), ('Back', 'Back to previous …"
      ]
     },
     "metadata": {},
     "output_type": "display_data"
    },
    {
     "name": "stdout",
     "output_type": "stream",
     "text": [
      "Time elapsed: 28 minutes.\n",
      "Saving the best model\n",
      "\n",
      "prophet_instance nb 0\n",
      "Full dataset: 2019-10-23 to the 2020-03-26. Analysed data the 2020-01-08 to the 2020-01-18.\n",
      "o Trained on the data from the 2020-01-08 to the 2020-01-17 (8 days).\n",
      "o Predict from the 2020-01-17 to the 2020-01-18 (1 days).\n"
     ]
    },
    {
     "data": {
      "application/vnd.jupyter.widget-view+json": {
       "model_id": "3ee9aaa393dd458ab11c5b1c620d3c9f",
       "version_major": 2,
       "version_minor": 0
      },
      "text/plain": [
       "Canvas(toolbar=Toolbar(toolitems=[('Home', 'Reset original view', 'home', 'home'), ('Back', 'Back to previous …"
      ]
     },
     "metadata": {},
     "output_type": "display_data"
    },
    {
     "name": "stdout",
     "output_type": "stream",
     "text": [
      "Full analysis completed in 29 minutes.\n",
      "\n",
      "prophet_instance nb 0\n",
      "Full dataset: 2019-10-23 to the 2020-03-26. Analysed data the 2020-01-10 to the 2020-01-22.\n",
      "o Trained on the data from the 2020-01-10 to the 2020-01-21 (10 days).\n",
      "o Predict from the 2020-01-21 to the 2020-01-22 (1 days).\n"
     ]
    },
    {
     "data": {
      "application/vnd.jupyter.widget-view+json": {
       "model_id": "debb8cee8e604a608d70a8291ef0cff6",
       "version_major": 2,
       "version_minor": 0
      },
      "text/plain": [
       "Canvas(toolbar=Toolbar(toolitems=[('Home', 'Reset original view', 'home', 'home'), ('Back', 'Back to previous …"
      ]
     },
     "metadata": {},
     "output_type": "display_data"
    },
    {
     "name": "stdout",
     "output_type": "stream",
     "text": [
      "\n",
      "prophet_instance nb 1\n",
      "Full dataset: 2019-10-23 to the 2020-03-26. Analysed data the 2020-01-10 to the 2020-01-22.\n",
      "o Trained on the data from the 2020-01-10 to the 2020-01-21 (10 days).\n",
      "o Predict from the 2020-01-21 to the 2020-01-22 (1 days).\n"
     ]
    },
    {
     "data": {
      "application/vnd.jupyter.widget-view+json": {
       "model_id": "4e0245923a8946d2991c5af95d244f23",
       "version_major": 2,
       "version_minor": 0
      },
      "text/plain": [
       "Canvas(toolbar=Toolbar(toolitems=[('Home', 'Reset original view', 'home', 'home'), ('Back', 'Back to previous …"
      ]
     },
     "metadata": {},
     "output_type": "display_data"
    },
    {
     "name": "stdout",
     "output_type": "stream",
     "text": [
      "\n",
      "prophet_instance nb 2\n",
      "Full dataset: 2019-10-23 to the 2020-03-26. Analysed data the 2020-01-12 to the 2020-01-22.\n",
      "o Trained on the data from the 2020-01-12 to the 2020-01-21 (8 days).\n",
      "o Predict from the 2020-01-21 to the 2020-01-22 (1 days).\n"
     ]
    },
    {
     "data": {
      "application/vnd.jupyter.widget-view+json": {
       "model_id": "8d1701600cd74c6c999d18ae148b4444",
       "version_major": 2,
       "version_minor": 0
      },
      "text/plain": [
       "Canvas(toolbar=Toolbar(toolitems=[('Home', 'Reset original view', 'home', 'home'), ('Back', 'Back to previous …"
      ]
     },
     "metadata": {},
     "output_type": "display_data"
    },
    {
     "name": "stdout",
     "output_type": "stream",
     "text": [
      "\n",
      "prophet_instance nb 3\n",
      "Full dataset: 2019-10-23 to the 2020-03-26. Analysed data the 2020-01-12 to the 2020-01-22.\n",
      "o Trained on the data from the 2020-01-12 to the 2020-01-21 (8 days).\n",
      "o Predict from the 2020-01-21 to the 2020-01-22 (1 days).\n"
     ]
    },
    {
     "data": {
      "application/vnd.jupyter.widget-view+json": {
       "model_id": "079436e6e3614f1db8f41a1c1486dfcd",
       "version_major": 2,
       "version_minor": 0
      },
      "text/plain": [
       "Canvas(toolbar=Toolbar(toolitems=[('Home', 'Reset original view', 'home', 'home'), ('Back', 'Back to previous …"
      ]
     },
     "metadata": {},
     "output_type": "display_data"
    },
    {
     "name": "stdout",
     "output_type": "stream",
     "text": [
      "\n",
      "prophet_instance nb 4\n",
      "Full dataset: 2019-10-23 to the 2020-03-26. Analysed data the 2020-01-14 to the 2020-01-22.\n",
      "o Trained on the data from the 2020-01-14 to the 2020-01-21 (6 days).\n",
      "o Predict from the 2020-01-21 to the 2020-01-22 (1 days).\n"
     ]
    },
    {
     "data": {
      "application/vnd.jupyter.widget-view+json": {
       "model_id": "e79313ca2f2c4fdca16feca2501af563",
       "version_major": 2,
       "version_minor": 0
      },
      "text/plain": [
       "Canvas(toolbar=Toolbar(toolitems=[('Home', 'Reset original view', 'home', 'home'), ('Back', 'Back to previous …"
      ]
     },
     "metadata": {},
     "output_type": "display_data"
    },
    {
     "name": "stdout",
     "output_type": "stream",
     "text": [
      "\n",
      "prophet_instance nb 5\n",
      "Full dataset: 2019-10-23 to the 2020-03-26. Analysed data the 2020-01-14 to the 2020-01-22.\n",
      "o Trained on the data from the 2020-01-14 to the 2020-01-21 (6 days).\n",
      "o Predict from the 2020-01-21 to the 2020-01-22 (1 days).\n"
     ]
    },
    {
     "data": {
      "application/vnd.jupyter.widget-view+json": {
       "model_id": "b3071a57d18c4f969eec96fac2a5900e",
       "version_major": 2,
       "version_minor": 0
      },
      "text/plain": [
       "Canvas(toolbar=Toolbar(toolitems=[('Home', 'Reset original view', 'home', 'home'), ('Back', 'Back to previous …"
      ]
     },
     "metadata": {},
     "output_type": "display_data"
    },
    {
     "name": "stdout",
     "output_type": "stream",
     "text": [
      "Time elapsed: 32 minutes.\n",
      "Saving the best model\n",
      "\n",
      "prophet_instance nb 0\n",
      "Full dataset: 2019-10-23 to the 2020-03-26. Analysed data the 2020-01-12 to the 2020-01-22.\n",
      "o Trained on the data from the 2020-01-12 to the 2020-01-21 (8 days).\n",
      "o Predict from the 2020-01-21 to the 2020-01-22 (1 days).\n"
     ]
    },
    {
     "data": {
      "application/vnd.jupyter.widget-view+json": {
       "model_id": "d456dcaeff6647619e41dc3d55fa5d01",
       "version_major": 2,
       "version_minor": 0
      },
      "text/plain": [
       "Canvas(toolbar=Toolbar(toolitems=[('Home', 'Reset original view', 'home', 'home'), ('Back', 'Back to previous …"
      ]
     },
     "metadata": {},
     "output_type": "display_data"
    },
    {
     "name": "stdout",
     "output_type": "stream",
     "text": [
      "Full analysis completed in 32 minutes.\n",
      "\n",
      "prophet_instance nb 0\n",
      "Full dataset: 2019-10-23 to the 2020-03-26. Analysed data the 2019-10-27 to the 2019-11-08.\n",
      "o Trained on the data from the 2019-10-27 to the 2019-11-07 (10 days).\n",
      "o Predict from the 2019-11-07 to the 2019-11-08 (1 days).\n"
     ]
    },
    {
     "data": {
      "application/vnd.jupyter.widget-view+json": {
       "model_id": "e7e4089fc3344f00abf2b51714906e4a",
       "version_major": 2,
       "version_minor": 0
      },
      "text/plain": [
       "Canvas(toolbar=Toolbar(toolitems=[('Home', 'Reset original view', 'home', 'home'), ('Back', 'Back to previous …"
      ]
     },
     "metadata": {},
     "output_type": "display_data"
    },
    {
     "name": "stdout",
     "output_type": "stream",
     "text": [
      "\n",
      "prophet_instance nb 1\n",
      "Full dataset: 2019-10-23 to the 2020-03-26. Analysed data the 2019-10-27 to the 2019-11-08.\n",
      "o Trained on the data from the 2019-10-27 to the 2019-11-07 (10 days).\n",
      "o Predict from the 2019-11-07 to the 2019-11-08 (1 days).\n"
     ]
    },
    {
     "data": {
      "application/vnd.jupyter.widget-view+json": {
       "model_id": "e8e111cdbadd487f89ad8023e46eb161",
       "version_major": 2,
       "version_minor": 0
      },
      "text/plain": [
       "Canvas(toolbar=Toolbar(toolitems=[('Home', 'Reset original view', 'home', 'home'), ('Back', 'Back to previous …"
      ]
     },
     "metadata": {},
     "output_type": "display_data"
    },
    {
     "name": "stdout",
     "output_type": "stream",
     "text": [
      "\n",
      "prophet_instance nb 2\n",
      "Full dataset: 2019-10-23 to the 2020-03-26. Analysed data the 2019-10-29 to the 2019-11-08.\n",
      "o Trained on the data from the 2019-10-29 to the 2019-11-07 (8 days).\n",
      "o Predict from the 2019-11-07 to the 2019-11-08 (1 days).\n"
     ]
    },
    {
     "data": {
      "application/vnd.jupyter.widget-view+json": {
       "model_id": "a2386a9ad6f346dcbf820b5b9c598eea",
       "version_major": 2,
       "version_minor": 0
      },
      "text/plain": [
       "Canvas(toolbar=Toolbar(toolitems=[('Home', 'Reset original view', 'home', 'home'), ('Back', 'Back to previous …"
      ]
     },
     "metadata": {},
     "output_type": "display_data"
    },
    {
     "name": "stdout",
     "output_type": "stream",
     "text": [
      "\n",
      "prophet_instance nb 3\n",
      "Full dataset: 2019-10-23 to the 2020-03-26. Analysed data the 2019-10-29 to the 2019-11-08.\n",
      "o Trained on the data from the 2019-10-29 to the 2019-11-07 (8 days).\n",
      "o Predict from the 2019-11-07 to the 2019-11-08 (1 days).\n"
     ]
    },
    {
     "data": {
      "application/vnd.jupyter.widget-view+json": {
       "model_id": "970f866b35ba46968dec4c139f9ada30",
       "version_major": 2,
       "version_minor": 0
      },
      "text/plain": [
       "Canvas(toolbar=Toolbar(toolitems=[('Home', 'Reset original view', 'home', 'home'), ('Back', 'Back to previous …"
      ]
     },
     "metadata": {},
     "output_type": "display_data"
    },
    {
     "name": "stdout",
     "output_type": "stream",
     "text": [
      "\n",
      "prophet_instance nb 4\n",
      "Full dataset: 2019-10-23 to the 2020-03-26. Analysed data the 2019-10-31 to the 2019-11-08.\n",
      "o Trained on the data from the 2019-10-31 to the 2019-11-07 (6 days).\n",
      "o Predict from the 2019-11-07 to the 2019-11-08 (1 days).\n"
     ]
    },
    {
     "data": {
      "application/vnd.jupyter.widget-view+json": {
       "model_id": "9501e8760bce4bcfa2ddedcf23d7a159",
       "version_major": 2,
       "version_minor": 0
      },
      "text/plain": [
       "Canvas(toolbar=Toolbar(toolitems=[('Home', 'Reset original view', 'home', 'home'), ('Back', 'Back to previous …"
      ]
     },
     "metadata": {},
     "output_type": "display_data"
    },
    {
     "name": "stdout",
     "output_type": "stream",
     "text": [
      "\n",
      "prophet_instance nb 5\n",
      "Full dataset: 2019-10-23 to the 2020-03-26. Analysed data the 2019-10-31 to the 2019-11-08.\n",
      "o Trained on the data from the 2019-10-31 to the 2019-11-07 (6 days).\n",
      "o Predict from the 2019-11-07 to the 2019-11-08 (1 days).\n"
     ]
    },
    {
     "data": {
      "application/vnd.jupyter.widget-view+json": {
       "model_id": "1fa988e0917f47a195553ce55c0f063c",
       "version_major": 2,
       "version_minor": 0
      },
      "text/plain": [
       "Canvas(toolbar=Toolbar(toolitems=[('Home', 'Reset original view', 'home', 'home'), ('Back', 'Back to previous …"
      ]
     },
     "metadata": {},
     "output_type": "display_data"
    },
    {
     "name": "stdout",
     "output_type": "stream",
     "text": [
      "Time elapsed: 34 minutes.\n",
      "Saving the best model\n",
      "\n",
      "prophet_instance nb 0\n",
      "Full dataset: 2019-10-23 to the 2020-03-26. Analysed data the 2019-10-31 to the 2019-11-08.\n",
      "o Trained on the data from the 2019-10-31 to the 2019-11-07 (6 days).\n",
      "o Predict from the 2019-11-07 to the 2019-11-08 (1 days).\n"
     ]
    },
    {
     "data": {
      "application/vnd.jupyter.widget-view+json": {
       "model_id": "ef48479e60984482bc3fd7a8633a2ac4",
       "version_major": 2,
       "version_minor": 0
      },
      "text/plain": [
       "Canvas(toolbar=Toolbar(toolitems=[('Home', 'Reset original view', 'home', 'home'), ('Back', 'Back to previous …"
      ]
     },
     "metadata": {},
     "output_type": "display_data"
    },
    {
     "name": "stdout",
     "output_type": "stream",
     "text": [
      "Full analysis completed in 35 minutes.\n",
      "Check report:\n",
      "##############################################\n",
      "['Device contained in the dataset: device51']\n",
      "['Tenant using the device: tenant08']\n",
      "\n",
      "Data types:\n",
      "device                                object\n",
      "tenant                                object\n",
      "ds             datetime64[ns, Europe/Zurich]\n",
      "light                                float64\n",
      "temperature                          float64\n",
      "humidity                             float64\n",
      "co2                                  float64\n",
      "dtype: object\n",
      "\n",
      "Available data from the 2019-10-30 to the 2020-03-26.\n",
      "\n",
      "prophet_instance nb 0\n",
      "Full dataset: 2019-10-30 to the 2020-03-26. Analysed data the 2020-01-09 to the 2020-01-21.\n",
      "o Trained on the data from the 2020-01-09 to the 2020-01-20 (10 days).\n",
      "o Predict from the 2020-01-20 to the 2020-01-21 (1 days).\n"
     ]
    },
    {
     "data": {
      "application/vnd.jupyter.widget-view+json": {
       "model_id": "57a1516d54e2476593b1083b1ee82693",
       "version_major": 2,
       "version_minor": 0
      },
      "text/plain": [
       "Canvas(toolbar=Toolbar(toolitems=[('Home', 'Reset original view', 'home', 'home'), ('Back', 'Back to previous …"
      ]
     },
     "metadata": {},
     "output_type": "display_data"
    },
    {
     "name": "stdout",
     "output_type": "stream",
     "text": [
      "\n",
      "prophet_instance nb 1\n",
      "Full dataset: 2019-10-30 to the 2020-03-26. Analysed data the 2020-01-09 to the 2020-01-21.\n",
      "o Trained on the data from the 2020-01-09 to the 2020-01-20 (10 days).\n",
      "o Predict from the 2020-01-20 to the 2020-01-21 (1 days).\n"
     ]
    },
    {
     "data": {
      "application/vnd.jupyter.widget-view+json": {
       "model_id": "daccd19e88ac463f984ff19e2df31c21",
       "version_major": 2,
       "version_minor": 0
      },
      "text/plain": [
       "Canvas(toolbar=Toolbar(toolitems=[('Home', 'Reset original view', 'home', 'home'), ('Back', 'Back to previous …"
      ]
     },
     "metadata": {},
     "output_type": "display_data"
    },
    {
     "name": "stdout",
     "output_type": "stream",
     "text": [
      "\n",
      "prophet_instance nb 2\n",
      "Full dataset: 2019-10-30 to the 2020-03-26. Analysed data the 2020-01-11 to the 2020-01-21.\n",
      "o Trained on the data from the 2020-01-11 to the 2020-01-20 (8 days).\n",
      "o Predict from the 2020-01-20 to the 2020-01-21 (1 days).\n"
     ]
    },
    {
     "data": {
      "application/vnd.jupyter.widget-view+json": {
       "model_id": "cb4a2ec20af245d3a5ffa3a2cdc234e6",
       "version_major": 2,
       "version_minor": 0
      },
      "text/plain": [
       "Canvas(toolbar=Toolbar(toolitems=[('Home', 'Reset original view', 'home', 'home'), ('Back', 'Back to previous …"
      ]
     },
     "metadata": {},
     "output_type": "display_data"
    },
    {
     "name": "stdout",
     "output_type": "stream",
     "text": [
      "\n",
      "prophet_instance nb 3\n",
      "Full dataset: 2019-10-30 to the 2020-03-26. Analysed data the 2020-01-11 to the 2020-01-21.\n",
      "o Trained on the data from the 2020-01-11 to the 2020-01-20 (8 days).\n",
      "o Predict from the 2020-01-20 to the 2020-01-21 (1 days).\n"
     ]
    },
    {
     "data": {
      "application/vnd.jupyter.widget-view+json": {
       "model_id": "3064cf9a015a4802aab02d059dfee16f",
       "version_major": 2,
       "version_minor": 0
      },
      "text/plain": [
       "Canvas(toolbar=Toolbar(toolitems=[('Home', 'Reset original view', 'home', 'home'), ('Back', 'Back to previous …"
      ]
     },
     "metadata": {},
     "output_type": "display_data"
    },
    {
     "name": "stdout",
     "output_type": "stream",
     "text": [
      "\n",
      "prophet_instance nb 4\n",
      "Full dataset: 2019-10-30 to the 2020-03-26. Analysed data the 2020-01-13 to the 2020-01-21.\n",
      "o Trained on the data from the 2020-01-13 to the 2020-01-20 (6 days).\n",
      "o Predict from the 2020-01-20 to the 2020-01-21 (1 days).\n"
     ]
    },
    {
     "data": {
      "application/vnd.jupyter.widget-view+json": {
       "model_id": "bb9fc04120d9453d96ec1c85fce22e47",
       "version_major": 2,
       "version_minor": 0
      },
      "text/plain": [
       "Canvas(toolbar=Toolbar(toolitems=[('Home', 'Reset original view', 'home', 'home'), ('Back', 'Back to previous …"
      ]
     },
     "metadata": {},
     "output_type": "display_data"
    },
    {
     "name": "stdout",
     "output_type": "stream",
     "text": [
      "\n",
      "prophet_instance nb 5\n",
      "Full dataset: 2019-10-30 to the 2020-03-26. Analysed data the 2020-01-13 to the 2020-01-21.\n",
      "o Trained on the data from the 2020-01-13 to the 2020-01-20 (6 days).\n",
      "o Predict from the 2020-01-20 to the 2020-01-21 (1 days).\n"
     ]
    },
    {
     "data": {
      "application/vnd.jupyter.widget-view+json": {
       "model_id": "dea77fa6cef74533b744870d782fccf0",
       "version_major": 2,
       "version_minor": 0
      },
      "text/plain": [
       "Canvas(toolbar=Toolbar(toolitems=[('Home', 'Reset original view', 'home', 'home'), ('Back', 'Back to previous …"
      ]
     },
     "metadata": {},
     "output_type": "display_data"
    },
    {
     "name": "stdout",
     "output_type": "stream",
     "text": [
      "Time elapsed: 4 minutes.\n",
      "Saving the best model\n",
      "\n",
      "prophet_instance nb 0\n",
      "Full dataset: 2019-10-30 to the 2020-03-26. Analysed data the 2020-01-09 to the 2020-01-21.\n",
      "o Trained on the data from the 2020-01-09 to the 2020-01-20 (10 days).\n",
      "o Predict from the 2020-01-20 to the 2020-01-21 (1 days).\n"
     ]
    },
    {
     "data": {
      "application/vnd.jupyter.widget-view+json": {
       "model_id": "d8b6ab80235d4879afe7457fc5ac049e",
       "version_major": 2,
       "version_minor": 0
      },
      "text/plain": [
       "Canvas(toolbar=Toolbar(toolitems=[('Home', 'Reset original view', 'home', 'home'), ('Back', 'Back to previous …"
      ]
     },
     "metadata": {},
     "output_type": "display_data"
    },
    {
     "name": "stdout",
     "output_type": "stream",
     "text": [
      "Full analysis completed in 4 minutes.\n",
      "\n",
      "prophet_instance nb 0\n",
      "Full dataset: 2019-10-30 to the 2020-03-26. Analysed data the 2020-02-15 to the 2020-02-27.\n",
      "o Trained on the data from the 2020-02-15 to the 2020-02-26 (10 days).\n",
      "o Predict from the 2020-02-26 to the 2020-02-27 (1 days).\n"
     ]
    },
    {
     "data": {
      "application/vnd.jupyter.widget-view+json": {
       "model_id": "80d69961690645649e20135092c8b44e",
       "version_major": 2,
       "version_minor": 0
      },
      "text/plain": [
       "Canvas(toolbar=Toolbar(toolitems=[('Home', 'Reset original view', 'home', 'home'), ('Back', 'Back to previous …"
      ]
     },
     "metadata": {},
     "output_type": "display_data"
    },
    {
     "name": "stdout",
     "output_type": "stream",
     "text": [
      "\n",
      "prophet_instance nb 1\n",
      "Full dataset: 2019-10-30 to the 2020-03-26. Analysed data the 2020-02-15 to the 2020-02-27.\n",
      "o Trained on the data from the 2020-02-15 to the 2020-02-26 (10 days).\n",
      "o Predict from the 2020-02-26 to the 2020-02-27 (1 days).\n"
     ]
    },
    {
     "data": {
      "application/vnd.jupyter.widget-view+json": {
       "model_id": "2f414b4881a748cab8e57b3f6c08bdc3",
       "version_major": 2,
       "version_minor": 0
      },
      "text/plain": [
       "Canvas(toolbar=Toolbar(toolitems=[('Home', 'Reset original view', 'home', 'home'), ('Back', 'Back to previous …"
      ]
     },
     "metadata": {},
     "output_type": "display_data"
    },
    {
     "name": "stdout",
     "output_type": "stream",
     "text": [
      "\n",
      "prophet_instance nb 2\n",
      "Full dataset: 2019-10-30 to the 2020-03-26. Analysed data the 2020-02-17 to the 2020-02-27.\n",
      "o Trained on the data from the 2020-02-17 to the 2020-02-26 (8 days).\n",
      "o Predict from the 2020-02-26 to the 2020-02-27 (1 days).\n"
     ]
    },
    {
     "data": {
      "application/vnd.jupyter.widget-view+json": {
       "model_id": "cbd93a65ded247368488abee4773eb87",
       "version_major": 2,
       "version_minor": 0
      },
      "text/plain": [
       "Canvas(toolbar=Toolbar(toolitems=[('Home', 'Reset original view', 'home', 'home'), ('Back', 'Back to previous …"
      ]
     },
     "metadata": {},
     "output_type": "display_data"
    },
    {
     "name": "stdout",
     "output_type": "stream",
     "text": [
      "\n",
      "prophet_instance nb 3\n",
      "Full dataset: 2019-10-30 to the 2020-03-26. Analysed data the 2020-02-17 to the 2020-02-27.\n",
      "o Trained on the data from the 2020-02-17 to the 2020-02-26 (8 days).\n",
      "o Predict from the 2020-02-26 to the 2020-02-27 (1 days).\n"
     ]
    },
    {
     "data": {
      "application/vnd.jupyter.widget-view+json": {
       "model_id": "6c36cf338e98480b84fc618940cd1a87",
       "version_major": 2,
       "version_minor": 0
      },
      "text/plain": [
       "Canvas(toolbar=Toolbar(toolitems=[('Home', 'Reset original view', 'home', 'home'), ('Back', 'Back to previous …"
      ]
     },
     "metadata": {},
     "output_type": "display_data"
    },
    {
     "name": "stdout",
     "output_type": "stream",
     "text": [
      "\n",
      "prophet_instance nb 4\n",
      "Full dataset: 2019-10-30 to the 2020-03-26. Analysed data the 2020-02-19 to the 2020-02-27.\n",
      "o Trained on the data from the 2020-02-19 to the 2020-02-26 (6 days).\n",
      "o Predict from the 2020-02-26 to the 2020-02-27 (1 days).\n"
     ]
    },
    {
     "data": {
      "application/vnd.jupyter.widget-view+json": {
       "model_id": "e3737e353b8e4b9086fcfd844481374f",
       "version_major": 2,
       "version_minor": 0
      },
      "text/plain": [
       "Canvas(toolbar=Toolbar(toolitems=[('Home', 'Reset original view', 'home', 'home'), ('Back', 'Back to previous …"
      ]
     },
     "metadata": {},
     "output_type": "display_data"
    },
    {
     "name": "stdout",
     "output_type": "stream",
     "text": [
      "\n",
      "prophet_instance nb 5\n",
      "Full dataset: 2019-10-30 to the 2020-03-26. Analysed data the 2020-02-19 to the 2020-02-27.\n",
      "o Trained on the data from the 2020-02-19 to the 2020-02-26 (6 days).\n",
      "o Predict from the 2020-02-26 to the 2020-02-27 (1 days).\n"
     ]
    },
    {
     "data": {
      "application/vnd.jupyter.widget-view+json": {
       "model_id": "784bec47d6e94ea0ab77561f612e113b",
       "version_major": 2,
       "version_minor": 0
      },
      "text/plain": [
       "Canvas(toolbar=Toolbar(toolitems=[('Home', 'Reset original view', 'home', 'home'), ('Back', 'Back to previous …"
      ]
     },
     "metadata": {},
     "output_type": "display_data"
    },
    {
     "name": "stdout",
     "output_type": "stream",
     "text": [
      "Time elapsed: 6 minutes.\n",
      "Saving the best model\n",
      "\n",
      "prophet_instance nb 0\n",
      "Full dataset: 2019-10-30 to the 2020-03-26. Analysed data the 2020-02-15 to the 2020-02-27.\n",
      "o Trained on the data from the 2020-02-15 to the 2020-02-26 (10 days).\n",
      "o Predict from the 2020-02-26 to the 2020-02-27 (1 days).\n"
     ]
    },
    {
     "data": {
      "application/vnd.jupyter.widget-view+json": {
       "model_id": "32941478657c4c358dba8774fd8dfce4",
       "version_major": 2,
       "version_minor": 0
      },
      "text/plain": [
       "Canvas(toolbar=Toolbar(toolitems=[('Home', 'Reset original view', 'home', 'home'), ('Back', 'Back to previous …"
      ]
     },
     "metadata": {},
     "output_type": "display_data"
    },
    {
     "name": "stdout",
     "output_type": "stream",
     "text": [
      "Full analysis completed in 7 minutes.\n",
      "\n",
      "prophet_instance nb 0\n",
      "Full dataset: 2019-10-30 to the 2020-03-26. Analysed data the 2020-03-03 to the 2020-03-15.\n",
      "o Trained on the data from the 2020-03-03 to the 2020-03-14 (10 days).\n",
      "o Predict from the 2020-03-14 to the 2020-03-15 (1 days).\n"
     ]
    },
    {
     "data": {
      "application/vnd.jupyter.widget-view+json": {
       "model_id": "b52cf3d1870e471e9b0b21a5647425e0",
       "version_major": 2,
       "version_minor": 0
      },
      "text/plain": [
       "Canvas(toolbar=Toolbar(toolitems=[('Home', 'Reset original view', 'home', 'home'), ('Back', 'Back to previous …"
      ]
     },
     "metadata": {},
     "output_type": "display_data"
    },
    {
     "name": "stdout",
     "output_type": "stream",
     "text": [
      "\n",
      "prophet_instance nb 1\n",
      "Full dataset: 2019-10-30 to the 2020-03-26. Analysed data the 2020-03-03 to the 2020-03-15.\n",
      "o Trained on the data from the 2020-03-03 to the 2020-03-14 (10 days).\n",
      "o Predict from the 2020-03-14 to the 2020-03-15 (1 days).\n"
     ]
    },
    {
     "data": {
      "application/vnd.jupyter.widget-view+json": {
       "model_id": "f956dbdcf4aa4f63b9dcfc44e9591679",
       "version_major": 2,
       "version_minor": 0
      },
      "text/plain": [
       "Canvas(toolbar=Toolbar(toolitems=[('Home', 'Reset original view', 'home', 'home'), ('Back', 'Back to previous …"
      ]
     },
     "metadata": {},
     "output_type": "display_data"
    },
    {
     "name": "stdout",
     "output_type": "stream",
     "text": [
      "\n",
      "prophet_instance nb 2\n",
      "Full dataset: 2019-10-30 to the 2020-03-26. Analysed data the 2020-03-05 to the 2020-03-15.\n",
      "o Trained on the data from the 2020-03-05 to the 2020-03-14 (8 days).\n",
      "o Predict from the 2020-03-14 to the 2020-03-15 (1 days).\n"
     ]
    },
    {
     "data": {
      "application/vnd.jupyter.widget-view+json": {
       "model_id": "f450b31332984667ad0b323880cdf5ea",
       "version_major": 2,
       "version_minor": 0
      },
      "text/plain": [
       "Canvas(toolbar=Toolbar(toolitems=[('Home', 'Reset original view', 'home', 'home'), ('Back', 'Back to previous …"
      ]
     },
     "metadata": {},
     "output_type": "display_data"
    },
    {
     "name": "stdout",
     "output_type": "stream",
     "text": [
      "\n",
      "prophet_instance nb 3\n",
      "Full dataset: 2019-10-30 to the 2020-03-26. Analysed data the 2020-03-05 to the 2020-03-15.\n",
      "o Trained on the data from the 2020-03-05 to the 2020-03-14 (8 days).\n",
      "o Predict from the 2020-03-14 to the 2020-03-15 (1 days).\n"
     ]
    },
    {
     "data": {
      "application/vnd.jupyter.widget-view+json": {
       "model_id": "707a646c271343f1ad1b36ed9cb07b82",
       "version_major": 2,
       "version_minor": 0
      },
      "text/plain": [
       "Canvas(toolbar=Toolbar(toolitems=[('Home', 'Reset original view', 'home', 'home'), ('Back', 'Back to previous …"
      ]
     },
     "metadata": {},
     "output_type": "display_data"
    },
    {
     "name": "stdout",
     "output_type": "stream",
     "text": [
      "\n",
      "prophet_instance nb 4\n",
      "Full dataset: 2019-10-30 to the 2020-03-26. Analysed data the 2020-03-07 to the 2020-03-15.\n",
      "o Trained on the data from the 2020-03-07 to the 2020-03-14 (6 days).\n",
      "o Predict from the 2020-03-14 to the 2020-03-15 (1 days).\n"
     ]
    },
    {
     "data": {
      "application/vnd.jupyter.widget-view+json": {
       "model_id": "968ef4b4f7484ed9b58b02ea177493ed",
       "version_major": 2,
       "version_minor": 0
      },
      "text/plain": [
       "Canvas(toolbar=Toolbar(toolitems=[('Home', 'Reset original view', 'home', 'home'), ('Back', 'Back to previous …"
      ]
     },
     "metadata": {},
     "output_type": "display_data"
    },
    {
     "name": "stdout",
     "output_type": "stream",
     "text": [
      "\n",
      "prophet_instance nb 5\n",
      "Full dataset: 2019-10-30 to the 2020-03-26. Analysed data the 2020-03-07 to the 2020-03-15.\n",
      "o Trained on the data from the 2020-03-07 to the 2020-03-14 (6 days).\n",
      "o Predict from the 2020-03-14 to the 2020-03-15 (1 days).\n"
     ]
    },
    {
     "data": {
      "application/vnd.jupyter.widget-view+json": {
       "model_id": "f0e50b85cac84d6f87c4da6b61573c81",
       "version_major": 2,
       "version_minor": 0
      },
      "text/plain": [
       "Canvas(toolbar=Toolbar(toolitems=[('Home', 'Reset original view', 'home', 'home'), ('Back', 'Back to previous …"
      ]
     },
     "metadata": {},
     "output_type": "display_data"
    },
    {
     "name": "stdout",
     "output_type": "stream",
     "text": [
      "Time elapsed: 9 minutes.\n",
      "Saving the best model\n",
      "\n",
      "prophet_instance nb 0\n",
      "Full dataset: 2019-10-30 to the 2020-03-26. Analysed data the 2020-03-03 to the 2020-03-15.\n",
      "o Trained on the data from the 2020-03-03 to the 2020-03-14 (10 days).\n",
      "o Predict from the 2020-03-14 to the 2020-03-15 (1 days).\n"
     ]
    },
    {
     "data": {
      "application/vnd.jupyter.widget-view+json": {
       "model_id": "03854659f926459598577a4b3b039a3a",
       "version_major": 2,
       "version_minor": 0
      },
      "text/plain": [
       "Canvas(toolbar=Toolbar(toolitems=[('Home', 'Reset original view', 'home', 'home'), ('Back', 'Back to previous …"
      ]
     },
     "metadata": {},
     "output_type": "display_data"
    },
    {
     "name": "stdout",
     "output_type": "stream",
     "text": [
      "Full analysis completed in 9 minutes.\n",
      "\n",
      "prophet_instance nb 0\n",
      "Full dataset: 2019-10-30 to the 2020-03-26. Analysed data the 2020-03-14 to the 2020-03-26.\n",
      "o Trained on the data from the 2020-03-14 to the 2020-03-25 (10 days).\n",
      "o Predict from the 2020-03-25 to the 2020-03-26 (1 days).\n"
     ]
    },
    {
     "data": {
      "application/vnd.jupyter.widget-view+json": {
       "model_id": "9a68355a287347e599aa70c0cd58833b",
       "version_major": 2,
       "version_minor": 0
      },
      "text/plain": [
       "Canvas(toolbar=Toolbar(toolitems=[('Home', 'Reset original view', 'home', 'home'), ('Back', 'Back to previous …"
      ]
     },
     "metadata": {},
     "output_type": "display_data"
    },
    {
     "name": "stdout",
     "output_type": "stream",
     "text": [
      "\n",
      "prophet_instance nb 1\n",
      "Full dataset: 2019-10-30 to the 2020-03-26. Analysed data the 2020-03-14 to the 2020-03-26.\n",
      "o Trained on the data from the 2020-03-14 to the 2020-03-25 (10 days).\n",
      "o Predict from the 2020-03-25 to the 2020-03-26 (1 days).\n"
     ]
    },
    {
     "data": {
      "application/vnd.jupyter.widget-view+json": {
       "model_id": "320c601602af49ac808c4b70c245074f",
       "version_major": 2,
       "version_minor": 0
      },
      "text/plain": [
       "Canvas(toolbar=Toolbar(toolitems=[('Home', 'Reset original view', 'home', 'home'), ('Back', 'Back to previous …"
      ]
     },
     "metadata": {},
     "output_type": "display_data"
    },
    {
     "name": "stdout",
     "output_type": "stream",
     "text": [
      "\n",
      "prophet_instance nb 2\n",
      "Full dataset: 2019-10-30 to the 2020-03-26. Analysed data the 2020-03-16 to the 2020-03-26.\n",
      "o Trained on the data from the 2020-03-16 to the 2020-03-25 (8 days).\n",
      "o Predict from the 2020-03-25 to the 2020-03-26 (1 days).\n"
     ]
    },
    {
     "data": {
      "application/vnd.jupyter.widget-view+json": {
       "model_id": "aa8b070f22dc47aa9a7e32a6c506835f",
       "version_major": 2,
       "version_minor": 0
      },
      "text/plain": [
       "Canvas(toolbar=Toolbar(toolitems=[('Home', 'Reset original view', 'home', 'home'), ('Back', 'Back to previous …"
      ]
     },
     "metadata": {},
     "output_type": "display_data"
    },
    {
     "name": "stdout",
     "output_type": "stream",
     "text": [
      "\n",
      "prophet_instance nb 3\n",
      "Full dataset: 2019-10-30 to the 2020-03-26. Analysed data the 2020-03-16 to the 2020-03-26.\n",
      "o Trained on the data from the 2020-03-16 to the 2020-03-25 (8 days).\n",
      "o Predict from the 2020-03-25 to the 2020-03-26 (1 days).\n"
     ]
    },
    {
     "data": {
      "application/vnd.jupyter.widget-view+json": {
       "model_id": "18e589ce0344434fad66c078ed56e9ff",
       "version_major": 2,
       "version_minor": 0
      },
      "text/plain": [
       "Canvas(toolbar=Toolbar(toolitems=[('Home', 'Reset original view', 'home', 'home'), ('Back', 'Back to previous …"
      ]
     },
     "metadata": {},
     "output_type": "display_data"
    },
    {
     "name": "stdout",
     "output_type": "stream",
     "text": [
      "\n",
      "prophet_instance nb 4\n",
      "Full dataset: 2019-10-30 to the 2020-03-26. Analysed data the 2020-03-18 to the 2020-03-26.\n",
      "o Trained on the data from the 2020-03-18 to the 2020-03-25 (6 days).\n",
      "o Predict from the 2020-03-25 to the 2020-03-26 (1 days).\n"
     ]
    },
    {
     "data": {
      "application/vnd.jupyter.widget-view+json": {
       "model_id": "cfe85fa4f29e49259763b5461da1c8fa",
       "version_major": 2,
       "version_minor": 0
      },
      "text/plain": [
       "Canvas(toolbar=Toolbar(toolitems=[('Home', 'Reset original view', 'home', 'home'), ('Back', 'Back to previous …"
      ]
     },
     "metadata": {},
     "output_type": "display_data"
    },
    {
     "name": "stdout",
     "output_type": "stream",
     "text": [
      "\n",
      "prophet_instance nb 5\n",
      "Full dataset: 2019-10-30 to the 2020-03-26. Analysed data the 2020-03-18 to the 2020-03-26.\n",
      "o Trained on the data from the 2020-03-18 to the 2020-03-25 (6 days).\n",
      "o Predict from the 2020-03-25 to the 2020-03-26 (1 days).\n"
     ]
    },
    {
     "data": {
      "application/vnd.jupyter.widget-view+json": {
       "model_id": "07c1bd26bdba4a37860e00e5ab851ed4",
       "version_major": 2,
       "version_minor": 0
      },
      "text/plain": [
       "Canvas(toolbar=Toolbar(toolitems=[('Home', 'Reset original view', 'home', 'home'), ('Back', 'Back to previous …"
      ]
     },
     "metadata": {},
     "output_type": "display_data"
    },
    {
     "name": "stdout",
     "output_type": "stream",
     "text": [
      "Time elapsed: 12 minutes.\n",
      "Saving the best model\n",
      "\n",
      "prophet_instance nb 0\n",
      "Full dataset: 2019-10-30 to the 2020-03-26. Analysed data the 2020-03-18 to the 2020-03-26.\n",
      "o Trained on the data from the 2020-03-18 to the 2020-03-25 (6 days).\n",
      "o Predict from the 2020-03-25 to the 2020-03-26 (1 days).\n"
     ]
    },
    {
     "data": {
      "application/vnd.jupyter.widget-view+json": {
       "model_id": "e4d49f26f75148f5b411663bf202de26",
       "version_major": 2,
       "version_minor": 0
      },
      "text/plain": [
       "Canvas(toolbar=Toolbar(toolitems=[('Home', 'Reset original view', 'home', 'home'), ('Back', 'Back to previous …"
      ]
     },
     "metadata": {},
     "output_type": "display_data"
    },
    {
     "name": "stdout",
     "output_type": "stream",
     "text": [
      "Full analysis completed in 12 minutes.\n",
      "\n",
      "prophet_instance nb 0\n",
      "Full dataset: 2019-10-30 to the 2020-03-26. Analysed data the 2019-11-16 to the 2019-11-28.\n",
      "o Trained on the data from the 2019-11-16 to the 2019-11-27 (10 days).\n",
      "o Predict from the 2019-11-27 to the 2019-11-28 (1 days).\n"
     ]
    },
    {
     "data": {
      "application/vnd.jupyter.widget-view+json": {
       "model_id": "a16587ed8b5d4c7bb0fbdf177daa1da4",
       "version_major": 2,
       "version_minor": 0
      },
      "text/plain": [
       "Canvas(toolbar=Toolbar(toolitems=[('Home', 'Reset original view', 'home', 'home'), ('Back', 'Back to previous …"
      ]
     },
     "metadata": {},
     "output_type": "display_data"
    },
    {
     "name": "stdout",
     "output_type": "stream",
     "text": [
      "\n",
      "prophet_instance nb 1\n",
      "Full dataset: 2019-10-30 to the 2020-03-26. Analysed data the 2019-11-16 to the 2019-11-28.\n",
      "o Trained on the data from the 2019-11-16 to the 2019-11-27 (10 days).\n",
      "o Predict from the 2019-11-27 to the 2019-11-28 (1 days).\n"
     ]
    },
    {
     "data": {
      "application/vnd.jupyter.widget-view+json": {
       "model_id": "192b5e08f5cd42b49c8c81b9dc1920fc",
       "version_major": 2,
       "version_minor": 0
      },
      "text/plain": [
       "Canvas(toolbar=Toolbar(toolitems=[('Home', 'Reset original view', 'home', 'home'), ('Back', 'Back to previous …"
      ]
     },
     "metadata": {},
     "output_type": "display_data"
    },
    {
     "name": "stdout",
     "output_type": "stream",
     "text": [
      "\n",
      "prophet_instance nb 2\n",
      "Full dataset: 2019-10-30 to the 2020-03-26. Analysed data the 2019-11-18 to the 2019-11-28.\n",
      "o Trained on the data from the 2019-11-18 to the 2019-11-27 (8 days).\n",
      "o Predict from the 2019-11-27 to the 2019-11-28 (1 days).\n"
     ]
    },
    {
     "data": {
      "application/vnd.jupyter.widget-view+json": {
       "model_id": "a0710ec4c6a14bdbb342da7e51d4bc07",
       "version_major": 2,
       "version_minor": 0
      },
      "text/plain": [
       "Canvas(toolbar=Toolbar(toolitems=[('Home', 'Reset original view', 'home', 'home'), ('Back', 'Back to previous …"
      ]
     },
     "metadata": {},
     "output_type": "display_data"
    },
    {
     "name": "stdout",
     "output_type": "stream",
     "text": [
      "\n",
      "prophet_instance nb 3\n",
      "Full dataset: 2019-10-30 to the 2020-03-26. Analysed data the 2019-11-18 to the 2019-11-28.\n",
      "o Trained on the data from the 2019-11-18 to the 2019-11-27 (8 days).\n",
      "o Predict from the 2019-11-27 to the 2019-11-28 (1 days).\n"
     ]
    },
    {
     "data": {
      "application/vnd.jupyter.widget-view+json": {
       "model_id": "2e3065d32ea34f81a320ec8e787aa711",
       "version_major": 2,
       "version_minor": 0
      },
      "text/plain": [
       "Canvas(toolbar=Toolbar(toolitems=[('Home', 'Reset original view', 'home', 'home'), ('Back', 'Back to previous …"
      ]
     },
     "metadata": {},
     "output_type": "display_data"
    },
    {
     "name": "stdout",
     "output_type": "stream",
     "text": [
      "\n",
      "prophet_instance nb 4\n",
      "Full dataset: 2019-10-30 to the 2020-03-26. Analysed data the 2019-11-20 to the 2019-11-28.\n",
      "o Trained on the data from the 2019-11-20 to the 2019-11-27 (6 days).\n",
      "o Predict from the 2019-11-27 to the 2019-11-28 (1 days).\n"
     ]
    },
    {
     "data": {
      "application/vnd.jupyter.widget-view+json": {
       "model_id": "4dae2a89c3cc4b92a2924adc005eb1bb",
       "version_major": 2,
       "version_minor": 0
      },
      "text/plain": [
       "Canvas(toolbar=Toolbar(toolitems=[('Home', 'Reset original view', 'home', 'home'), ('Back', 'Back to previous …"
      ]
     },
     "metadata": {},
     "output_type": "display_data"
    },
    {
     "name": "stdout",
     "output_type": "stream",
     "text": [
      "\n",
      "prophet_instance nb 5\n",
      "Full dataset: 2019-10-30 to the 2020-03-26. Analysed data the 2019-11-20 to the 2019-11-28.\n",
      "o Trained on the data from the 2019-11-20 to the 2019-11-27 (6 days).\n",
      "o Predict from the 2019-11-27 to the 2019-11-28 (1 days).\n"
     ]
    },
    {
     "data": {
      "application/vnd.jupyter.widget-view+json": {
       "model_id": "13e89f99916e4678a9d098ad17c26a8e",
       "version_major": 2,
       "version_minor": 0
      },
      "text/plain": [
       "Canvas(toolbar=Toolbar(toolitems=[('Home', 'Reset original view', 'home', 'home'), ('Back', 'Back to previous …"
      ]
     },
     "metadata": {},
     "output_type": "display_data"
    },
    {
     "name": "stdout",
     "output_type": "stream",
     "text": [
      "Time elapsed: 16 minutes.\n",
      "Saving the best model\n",
      "\n",
      "prophet_instance nb 0\n",
      "Full dataset: 2019-10-30 to the 2020-03-26. Analysed data the 2019-11-20 to the 2019-11-28.\n",
      "o Trained on the data from the 2019-11-20 to the 2019-11-27 (6 days).\n",
      "o Predict from the 2019-11-27 to the 2019-11-28 (1 days).\n"
     ]
    },
    {
     "data": {
      "application/vnd.jupyter.widget-view+json": {
       "model_id": "fd9b4fd69cba454f986944bfd5ae4848",
       "version_major": 2,
       "version_minor": 0
      },
      "text/plain": [
       "Canvas(toolbar=Toolbar(toolitems=[('Home', 'Reset original view', 'home', 'home'), ('Back', 'Back to previous …"
      ]
     },
     "metadata": {},
     "output_type": "display_data"
    },
    {
     "name": "stdout",
     "output_type": "stream",
     "text": [
      "Full analysis completed in 16 minutes.\n",
      "\n",
      "prophet_instance nb 0\n",
      "Full dataset: 2019-10-30 to the 2020-03-26. Analysed data the 2020-02-05 to the 2020-02-17.\n",
      "o Trained on the data from the 2020-02-05 to the 2020-02-16 (10 days).\n",
      "o Predict from the 2020-02-16 to the 2020-02-17 (1 days).\n"
     ]
    },
    {
     "data": {
      "application/vnd.jupyter.widget-view+json": {
       "model_id": "8f3eb93567db4cb9b3e9b68a2c8f8a8b",
       "version_major": 2,
       "version_minor": 0
      },
      "text/plain": [
       "Canvas(toolbar=Toolbar(toolitems=[('Home', 'Reset original view', 'home', 'home'), ('Back', 'Back to previous …"
      ]
     },
     "metadata": {},
     "output_type": "display_data"
    },
    {
     "name": "stdout",
     "output_type": "stream",
     "text": [
      "\n",
      "prophet_instance nb 1\n",
      "Full dataset: 2019-10-30 to the 2020-03-26. Analysed data the 2020-02-05 to the 2020-02-17.\n",
      "o Trained on the data from the 2020-02-05 to the 2020-02-16 (10 days).\n",
      "o Predict from the 2020-02-16 to the 2020-02-17 (1 days).\n"
     ]
    },
    {
     "data": {
      "application/vnd.jupyter.widget-view+json": {
       "model_id": "1be30c96cba14a358a6fbf6814f4d943",
       "version_major": 2,
       "version_minor": 0
      },
      "text/plain": [
       "Canvas(toolbar=Toolbar(toolitems=[('Home', 'Reset original view', 'home', 'home'), ('Back', 'Back to previous …"
      ]
     },
     "metadata": {},
     "output_type": "display_data"
    },
    {
     "name": "stdout",
     "output_type": "stream",
     "text": [
      "\n",
      "prophet_instance nb 2\n",
      "Full dataset: 2019-10-30 to the 2020-03-26. Analysed data the 2020-02-07 to the 2020-02-17.\n",
      "o Trained on the data from the 2020-02-07 to the 2020-02-16 (8 days).\n",
      "o Predict from the 2020-02-16 to the 2020-02-17 (1 days).\n"
     ]
    },
    {
     "data": {
      "application/vnd.jupyter.widget-view+json": {
       "model_id": "7af65446ad0a454db6210ae9675dd40f",
       "version_major": 2,
       "version_minor": 0
      },
      "text/plain": [
       "Canvas(toolbar=Toolbar(toolitems=[('Home', 'Reset original view', 'home', 'home'), ('Back', 'Back to previous …"
      ]
     },
     "metadata": {},
     "output_type": "display_data"
    },
    {
     "name": "stdout",
     "output_type": "stream",
     "text": [
      "\n",
      "prophet_instance nb 3\n",
      "Full dataset: 2019-10-30 to the 2020-03-26. Analysed data the 2020-02-07 to the 2020-02-17.\n",
      "o Trained on the data from the 2020-02-07 to the 2020-02-16 (8 days).\n",
      "o Predict from the 2020-02-16 to the 2020-02-17 (1 days).\n"
     ]
    },
    {
     "data": {
      "application/vnd.jupyter.widget-view+json": {
       "model_id": "482e667305674ca5a517c0c4b9d5a261",
       "version_major": 2,
       "version_minor": 0
      },
      "text/plain": [
       "Canvas(toolbar=Toolbar(toolitems=[('Home', 'Reset original view', 'home', 'home'), ('Back', 'Back to previous …"
      ]
     },
     "metadata": {},
     "output_type": "display_data"
    },
    {
     "name": "stdout",
     "output_type": "stream",
     "text": [
      "\n",
      "prophet_instance nb 4\n",
      "Full dataset: 2019-10-30 to the 2020-03-26. Analysed data the 2020-02-09 to the 2020-02-17.\n",
      "o Trained on the data from the 2020-02-09 to the 2020-02-16 (6 days).\n",
      "o Predict from the 2020-02-16 to the 2020-02-17 (1 days).\n"
     ]
    },
    {
     "data": {
      "application/vnd.jupyter.widget-view+json": {
       "model_id": "ae1784c43b1f4614b9f7bc0184b2abd9",
       "version_major": 2,
       "version_minor": 0
      },
      "text/plain": [
       "Canvas(toolbar=Toolbar(toolitems=[('Home', 'Reset original view', 'home', 'home'), ('Back', 'Back to previous …"
      ]
     },
     "metadata": {},
     "output_type": "display_data"
    },
    {
     "name": "stdout",
     "output_type": "stream",
     "text": [
      "\n",
      "prophet_instance nb 5\n",
      "Full dataset: 2019-10-30 to the 2020-03-26. Analysed data the 2020-02-09 to the 2020-02-17.\n",
      "o Trained on the data from the 2020-02-09 to the 2020-02-16 (6 days).\n",
      "o Predict from the 2020-02-16 to the 2020-02-17 (1 days).\n"
     ]
    },
    {
     "data": {
      "application/vnd.jupyter.widget-view+json": {
       "model_id": "6c61b71d067f4ae08b8b09607c6bd7be",
       "version_major": 2,
       "version_minor": 0
      },
      "text/plain": [
       "Canvas(toolbar=Toolbar(toolitems=[('Home', 'Reset original view', 'home', 'home'), ('Back', 'Back to previous …"
      ]
     },
     "metadata": {},
     "output_type": "display_data"
    },
    {
     "name": "stdout",
     "output_type": "stream",
     "text": [
      "Time elapsed: 19 minutes.\n",
      "Saving the best model\n",
      "\n",
      "prophet_instance nb 0\n",
      "Full dataset: 2019-10-30 to the 2020-03-26. Analysed data the 2020-02-07 to the 2020-02-17.\n",
      "o Trained on the data from the 2020-02-07 to the 2020-02-16 (8 days).\n",
      "o Predict from the 2020-02-16 to the 2020-02-17 (1 days).\n"
     ]
    },
    {
     "data": {
      "application/vnd.jupyter.widget-view+json": {
       "model_id": "af901dbab8354d91ab7218a795203fe5",
       "version_major": 2,
       "version_minor": 0
      },
      "text/plain": [
       "Canvas(toolbar=Toolbar(toolitems=[('Home', 'Reset original view', 'home', 'home'), ('Back', 'Back to previous …"
      ]
     },
     "metadata": {},
     "output_type": "display_data"
    },
    {
     "name": "stdout",
     "output_type": "stream",
     "text": [
      "Full analysis completed in 19 minutes.\n",
      "\n",
      "prophet_instance nb 0\n",
      "Full dataset: 2019-10-30 to the 2020-03-26. Analysed data the 2019-12-05 to the 2019-12-17.\n",
      "o Trained on the data from the 2019-12-05 to the 2019-12-16 (10 days).\n",
      "o Predict from the 2019-12-16 to the 2019-12-17 (1 days).\n"
     ]
    },
    {
     "data": {
      "application/vnd.jupyter.widget-view+json": {
       "model_id": "ac6ed57850f043d68a841107a02f9dce",
       "version_major": 2,
       "version_minor": 0
      },
      "text/plain": [
       "Canvas(toolbar=Toolbar(toolitems=[('Home', 'Reset original view', 'home', 'home'), ('Back', 'Back to previous …"
      ]
     },
     "metadata": {},
     "output_type": "display_data"
    },
    {
     "name": "stdout",
     "output_type": "stream",
     "text": [
      "\n",
      "prophet_instance nb 1\n",
      "Full dataset: 2019-10-30 to the 2020-03-26. Analysed data the 2019-12-05 to the 2019-12-17.\n",
      "o Trained on the data from the 2019-12-05 to the 2019-12-16 (10 days).\n",
      "o Predict from the 2019-12-16 to the 2019-12-17 (1 days).\n"
     ]
    },
    {
     "data": {
      "application/vnd.jupyter.widget-view+json": {
       "model_id": "98ffe0478a15424394cf4407ae3f9d47",
       "version_major": 2,
       "version_minor": 0
      },
      "text/plain": [
       "Canvas(toolbar=Toolbar(toolitems=[('Home', 'Reset original view', 'home', 'home'), ('Back', 'Back to previous …"
      ]
     },
     "metadata": {},
     "output_type": "display_data"
    },
    {
     "name": "stdout",
     "output_type": "stream",
     "text": [
      "\n",
      "prophet_instance nb 2\n",
      "Full dataset: 2019-10-30 to the 2020-03-26. Analysed data the 2019-12-07 to the 2019-12-17.\n",
      "o Trained on the data from the 2019-12-07 to the 2019-12-16 (8 days).\n",
      "o Predict from the 2019-12-16 to the 2019-12-17 (1 days).\n"
     ]
    },
    {
     "data": {
      "application/vnd.jupyter.widget-view+json": {
       "model_id": "03b4d4bc6cd34431aa811dcb8baf5d37",
       "version_major": 2,
       "version_minor": 0
      },
      "text/plain": [
       "Canvas(toolbar=Toolbar(toolitems=[('Home', 'Reset original view', 'home', 'home'), ('Back', 'Back to previous …"
      ]
     },
     "metadata": {},
     "output_type": "display_data"
    },
    {
     "name": "stdout",
     "output_type": "stream",
     "text": [
      "\n",
      "prophet_instance nb 3\n",
      "Full dataset: 2019-10-30 to the 2020-03-26. Analysed data the 2019-12-07 to the 2019-12-17.\n",
      "o Trained on the data from the 2019-12-07 to the 2019-12-16 (8 days).\n",
      "o Predict from the 2019-12-16 to the 2019-12-17 (1 days).\n"
     ]
    },
    {
     "data": {
      "application/vnd.jupyter.widget-view+json": {
       "model_id": "c24fe6d5659b429ba79f8fe216cee6df",
       "version_major": 2,
       "version_minor": 0
      },
      "text/plain": [
       "Canvas(toolbar=Toolbar(toolitems=[('Home', 'Reset original view', 'home', 'home'), ('Back', 'Back to previous …"
      ]
     },
     "metadata": {},
     "output_type": "display_data"
    },
    {
     "name": "stdout",
     "output_type": "stream",
     "text": [
      "\n",
      "prophet_instance nb 4\n",
      "Full dataset: 2019-10-30 to the 2020-03-26. Analysed data the 2019-12-09 to the 2019-12-17.\n",
      "o Trained on the data from the 2019-12-09 to the 2019-12-16 (6 days).\n",
      "o Predict from the 2019-12-16 to the 2019-12-17 (1 days).\n"
     ]
    },
    {
     "data": {
      "application/vnd.jupyter.widget-view+json": {
       "model_id": "52603ccc70424e5b854cc4d31b6aea71",
       "version_major": 2,
       "version_minor": 0
      },
      "text/plain": [
       "Canvas(toolbar=Toolbar(toolitems=[('Home', 'Reset original view', 'home', 'home'), ('Back', 'Back to previous …"
      ]
     },
     "metadata": {},
     "output_type": "display_data"
    },
    {
     "name": "stdout",
     "output_type": "stream",
     "text": [
      "\n",
      "prophet_instance nb 5\n",
      "Full dataset: 2019-10-30 to the 2020-03-26. Analysed data the 2019-12-09 to the 2019-12-17.\n",
      "o Trained on the data from the 2019-12-09 to the 2019-12-16 (6 days).\n",
      "o Predict from the 2019-12-16 to the 2019-12-17 (1 days).\n"
     ]
    },
    {
     "data": {
      "application/vnd.jupyter.widget-view+json": {
       "model_id": "18c8b8b4d18e48e69b9dc8c2c02cd2d2",
       "version_major": 2,
       "version_minor": 0
      },
      "text/plain": [
       "Canvas(toolbar=Toolbar(toolitems=[('Home', 'Reset original view', 'home', 'home'), ('Back', 'Back to previous …"
      ]
     },
     "metadata": {},
     "output_type": "display_data"
    },
    {
     "name": "stdout",
     "output_type": "stream",
     "text": [
      "Time elapsed: 22 minutes.\n",
      "Saving the best model\n",
      "\n",
      "prophet_instance nb 0\n",
      "Full dataset: 2019-10-30 to the 2020-03-26. Analysed data the 2019-12-05 to the 2019-12-17.\n",
      "o Trained on the data from the 2019-12-05 to the 2019-12-16 (10 days).\n",
      "o Predict from the 2019-12-16 to the 2019-12-17 (1 days).\n"
     ]
    },
    {
     "data": {
      "application/vnd.jupyter.widget-view+json": {
       "model_id": "55c2627b0f684b61bef3980755149eae",
       "version_major": 2,
       "version_minor": 0
      },
      "text/plain": [
       "Canvas(toolbar=Toolbar(toolitems=[('Home', 'Reset original view', 'home', 'home'), ('Back', 'Back to previous …"
      ]
     },
     "metadata": {},
     "output_type": "display_data"
    },
    {
     "name": "stdout",
     "output_type": "stream",
     "text": [
      "Full analysis completed in 23 minutes.\n",
      "\n",
      "prophet_instance nb 0\n",
      "Full dataset: 2019-10-30 to the 2020-03-26. Analysed data the 2019-11-17 to the 2019-11-29.\n",
      "o Trained on the data from the 2019-11-17 to the 2019-11-28 (10 days).\n",
      "o Predict from the 2019-11-28 to the 2019-11-29 (1 days).\n"
     ]
    },
    {
     "data": {
      "application/vnd.jupyter.widget-view+json": {
       "model_id": "35c888911f08438a8f224737fa8636ea",
       "version_major": 2,
       "version_minor": 0
      },
      "text/plain": [
       "Canvas(toolbar=Toolbar(toolitems=[('Home', 'Reset original view', 'home', 'home'), ('Back', 'Back to previous …"
      ]
     },
     "metadata": {},
     "output_type": "display_data"
    },
    {
     "name": "stdout",
     "output_type": "stream",
     "text": [
      "\n",
      "prophet_instance nb 1\n",
      "Full dataset: 2019-10-30 to the 2020-03-26. Analysed data the 2019-11-17 to the 2019-11-29.\n",
      "o Trained on the data from the 2019-11-17 to the 2019-11-28 (10 days).\n",
      "o Predict from the 2019-11-28 to the 2019-11-29 (1 days).\n"
     ]
    },
    {
     "data": {
      "application/vnd.jupyter.widget-view+json": {
       "model_id": "6f1cd56d0d634258929a4e234708c97c",
       "version_major": 2,
       "version_minor": 0
      },
      "text/plain": [
       "Canvas(toolbar=Toolbar(toolitems=[('Home', 'Reset original view', 'home', 'home'), ('Back', 'Back to previous …"
      ]
     },
     "metadata": {},
     "output_type": "display_data"
    },
    {
     "name": "stdout",
     "output_type": "stream",
     "text": [
      "\n",
      "prophet_instance nb 2\n",
      "Full dataset: 2019-10-30 to the 2020-03-26. Analysed data the 2019-11-19 to the 2019-11-29.\n",
      "o Trained on the data from the 2019-11-19 to the 2019-11-28 (8 days).\n",
      "o Predict from the 2019-11-28 to the 2019-11-29 (1 days).\n"
     ]
    },
    {
     "data": {
      "application/vnd.jupyter.widget-view+json": {
       "model_id": "ec0eae3a98944917964d973011971484",
       "version_major": 2,
       "version_minor": 0
      },
      "text/plain": [
       "Canvas(toolbar=Toolbar(toolitems=[('Home', 'Reset original view', 'home', 'home'), ('Back', 'Back to previous …"
      ]
     },
     "metadata": {},
     "output_type": "display_data"
    },
    {
     "name": "stdout",
     "output_type": "stream",
     "text": [
      "\n",
      "prophet_instance nb 3\n",
      "Full dataset: 2019-10-30 to the 2020-03-26. Analysed data the 2019-11-19 to the 2019-11-29.\n",
      "o Trained on the data from the 2019-11-19 to the 2019-11-28 (8 days).\n",
      "o Predict from the 2019-11-28 to the 2019-11-29 (1 days).\n"
     ]
    },
    {
     "data": {
      "application/vnd.jupyter.widget-view+json": {
       "model_id": "97047049a9464212be76dfbe6f50b488",
       "version_major": 2,
       "version_minor": 0
      },
      "text/plain": [
       "Canvas(toolbar=Toolbar(toolitems=[('Home', 'Reset original view', 'home', 'home'), ('Back', 'Back to previous …"
      ]
     },
     "metadata": {},
     "output_type": "display_data"
    },
    {
     "name": "stdout",
     "output_type": "stream",
     "text": [
      "\n",
      "prophet_instance nb 4\n",
      "Full dataset: 2019-10-30 to the 2020-03-26. Analysed data the 2019-11-21 to the 2019-11-29.\n",
      "o Trained on the data from the 2019-11-21 to the 2019-11-28 (6 days).\n",
      "o Predict from the 2019-11-28 to the 2019-11-29 (1 days).\n"
     ]
    },
    {
     "data": {
      "application/vnd.jupyter.widget-view+json": {
       "model_id": "29bd948a6b9346c281b112e81b2ce7a3",
       "version_major": 2,
       "version_minor": 0
      },
      "text/plain": [
       "Canvas(toolbar=Toolbar(toolitems=[('Home', 'Reset original view', 'home', 'home'), ('Back', 'Back to previous …"
      ]
     },
     "metadata": {},
     "output_type": "display_data"
    },
    {
     "name": "stdout",
     "output_type": "stream",
     "text": [
      "\n",
      "prophet_instance nb 5\n",
      "Full dataset: 2019-10-30 to the 2020-03-26. Analysed data the 2019-11-21 to the 2019-11-29.\n",
      "o Trained on the data from the 2019-11-21 to the 2019-11-28 (6 days).\n",
      "o Predict from the 2019-11-28 to the 2019-11-29 (1 days).\n"
     ]
    },
    {
     "data": {
      "application/vnd.jupyter.widget-view+json": {
       "model_id": "c6d530c703f24181a40de55f164502be",
       "version_major": 2,
       "version_minor": 0
      },
      "text/plain": [
       "Canvas(toolbar=Toolbar(toolitems=[('Home', 'Reset original view', 'home', 'home'), ('Back', 'Back to previous …"
      ]
     },
     "metadata": {},
     "output_type": "display_data"
    },
    {
     "name": "stdout",
     "output_type": "stream",
     "text": [
      "Time elapsed: 27 minutes.\n",
      "Saving the best model\n",
      "\n",
      "prophet_instance nb 0\n",
      "Full dataset: 2019-10-30 to the 2020-03-26. Analysed data the 2019-11-17 to the 2019-11-29.\n",
      "o Trained on the data from the 2019-11-17 to the 2019-11-28 (10 days).\n",
      "o Predict from the 2019-11-28 to the 2019-11-29 (1 days).\n"
     ]
    },
    {
     "data": {
      "application/vnd.jupyter.widget-view+json": {
       "model_id": "ce9bf4abadbb4ce882a60143310e3f72",
       "version_major": 2,
       "version_minor": 0
      },
      "text/plain": [
       "Canvas(toolbar=Toolbar(toolitems=[('Home', 'Reset original view', 'home', 'home'), ('Back', 'Back to previous …"
      ]
     },
     "metadata": {},
     "output_type": "display_data"
    },
    {
     "name": "stdout",
     "output_type": "stream",
     "text": [
      "Full analysis completed in 27 minutes.\n",
      "\n",
      "prophet_instance nb 0\n",
      "Full dataset: 2019-10-30 to the 2020-03-26. Analysed data the 2020-02-06 to the 2020-02-18.\n",
      "o Trained on the data from the 2020-02-06 to the 2020-02-17 (10 days).\n",
      "o Predict from the 2020-02-17 to the 2020-02-18 (1 days).\n"
     ]
    },
    {
     "data": {
      "application/vnd.jupyter.widget-view+json": {
       "model_id": "2dfcc355c9b149749c2cec00017f74a0",
       "version_major": 2,
       "version_minor": 0
      },
      "text/plain": [
       "Canvas(toolbar=Toolbar(toolitems=[('Home', 'Reset original view', 'home', 'home'), ('Back', 'Back to previous …"
      ]
     },
     "metadata": {},
     "output_type": "display_data"
    },
    {
     "name": "stdout",
     "output_type": "stream",
     "text": [
      "\n",
      "prophet_instance nb 1\n",
      "Full dataset: 2019-10-30 to the 2020-03-26. Analysed data the 2020-02-06 to the 2020-02-18.\n",
      "o Trained on the data from the 2020-02-06 to the 2020-02-17 (10 days).\n",
      "o Predict from the 2020-02-17 to the 2020-02-18 (1 days).\n"
     ]
    },
    {
     "data": {
      "application/vnd.jupyter.widget-view+json": {
       "model_id": "0114128008a64b49a17d817cbd367a98",
       "version_major": 2,
       "version_minor": 0
      },
      "text/plain": [
       "Canvas(toolbar=Toolbar(toolitems=[('Home', 'Reset original view', 'home', 'home'), ('Back', 'Back to previous …"
      ]
     },
     "metadata": {},
     "output_type": "display_data"
    },
    {
     "name": "stdout",
     "output_type": "stream",
     "text": [
      "\n",
      "prophet_instance nb 2\n",
      "Full dataset: 2019-10-30 to the 2020-03-26. Analysed data the 2020-02-08 to the 2020-02-18.\n",
      "o Trained on the data from the 2020-02-08 to the 2020-02-17 (8 days).\n",
      "o Predict from the 2020-02-17 to the 2020-02-18 (1 days).\n"
     ]
    },
    {
     "data": {
      "application/vnd.jupyter.widget-view+json": {
       "model_id": "d31cbcca5469449d8928667e75d822f0",
       "version_major": 2,
       "version_minor": 0
      },
      "text/plain": [
       "Canvas(toolbar=Toolbar(toolitems=[('Home', 'Reset original view', 'home', 'home'), ('Back', 'Back to previous …"
      ]
     },
     "metadata": {},
     "output_type": "display_data"
    },
    {
     "name": "stdout",
     "output_type": "stream",
     "text": [
      "\n",
      "prophet_instance nb 3\n",
      "Full dataset: 2019-10-30 to the 2020-03-26. Analysed data the 2020-02-08 to the 2020-02-18.\n",
      "o Trained on the data from the 2020-02-08 to the 2020-02-17 (8 days).\n",
      "o Predict from the 2020-02-17 to the 2020-02-18 (1 days).\n"
     ]
    },
    {
     "data": {
      "application/vnd.jupyter.widget-view+json": {
       "model_id": "10e7cb238bd140c9b9d1154603bb304a",
       "version_major": 2,
       "version_minor": 0
      },
      "text/plain": [
       "Canvas(toolbar=Toolbar(toolitems=[('Home', 'Reset original view', 'home', 'home'), ('Back', 'Back to previous …"
      ]
     },
     "metadata": {},
     "output_type": "display_data"
    },
    {
     "name": "stdout",
     "output_type": "stream",
     "text": [
      "\n",
      "prophet_instance nb 4\n",
      "Full dataset: 2019-10-30 to the 2020-03-26. Analysed data the 2020-02-10 to the 2020-02-18.\n",
      "o Trained on the data from the 2020-02-10 to the 2020-02-17 (6 days).\n",
      "o Predict from the 2020-02-17 to the 2020-02-18 (1 days).\n"
     ]
    },
    {
     "data": {
      "application/vnd.jupyter.widget-view+json": {
       "model_id": "ea9934fe93334e3faa38a11b9acf18c7",
       "version_major": 2,
       "version_minor": 0
      },
      "text/plain": [
       "Canvas(toolbar=Toolbar(toolitems=[('Home', 'Reset original view', 'home', 'home'), ('Back', 'Back to previous …"
      ]
     },
     "metadata": {},
     "output_type": "display_data"
    },
    {
     "name": "stdout",
     "output_type": "stream",
     "text": [
      "\n",
      "prophet_instance nb 5\n",
      "Full dataset: 2019-10-30 to the 2020-03-26. Analysed data the 2020-02-10 to the 2020-02-18.\n",
      "o Trained on the data from the 2020-02-10 to the 2020-02-17 (6 days).\n",
      "o Predict from the 2020-02-17 to the 2020-02-18 (1 days).\n"
     ]
    },
    {
     "data": {
      "application/vnd.jupyter.widget-view+json": {
       "model_id": "da60b19b579d416c9a26fc55ee79217f",
       "version_major": 2,
       "version_minor": 0
      },
      "text/plain": [
       "Canvas(toolbar=Toolbar(toolitems=[('Home', 'Reset original view', 'home', 'home'), ('Back', 'Back to previous …"
      ]
     },
     "metadata": {},
     "output_type": "display_data"
    },
    {
     "name": "stdout",
     "output_type": "stream",
     "text": [
      "Time elapsed: 30 minutes.\n",
      "Saving the best model\n",
      "\n",
      "prophet_instance nb 0\n",
      "Full dataset: 2019-10-30 to the 2020-03-26. Analysed data the 2020-02-10 to the 2020-02-18.\n",
      "o Trained on the data from the 2020-02-10 to the 2020-02-17 (6 days).\n",
      "o Predict from the 2020-02-17 to the 2020-02-18 (1 days).\n"
     ]
    },
    {
     "data": {
      "application/vnd.jupyter.widget-view+json": {
       "model_id": "36b20f0a3b1c4a15876715fc89d5a999",
       "version_major": 2,
       "version_minor": 0
      },
      "text/plain": [
       "Canvas(toolbar=Toolbar(toolitems=[('Home', 'Reset original view', 'home', 'home'), ('Back', 'Back to previous …"
      ]
     },
     "metadata": {},
     "output_type": "display_data"
    },
    {
     "name": "stdout",
     "output_type": "stream",
     "text": [
      "Full analysis completed in 31 minutes.\n",
      "\n",
      "prophet_instance nb 0\n",
      "Full dataset: 2019-10-30 to the 2020-03-26. Analysed data the 2019-12-16 to the 2019-12-28.\n",
      "o Trained on the data from the 2019-12-16 to the 2019-12-27 (10 days).\n",
      "o Predict from the 2019-12-27 to the 2019-12-28 (1 days).\n"
     ]
    },
    {
     "data": {
      "application/vnd.jupyter.widget-view+json": {
       "model_id": "21778c1d5a2a4573b0de2cfc841bfa9b",
       "version_major": 2,
       "version_minor": 0
      },
      "text/plain": [
       "Canvas(toolbar=Toolbar(toolitems=[('Home', 'Reset original view', 'home', 'home'), ('Back', 'Back to previous …"
      ]
     },
     "metadata": {},
     "output_type": "display_data"
    },
    {
     "name": "stdout",
     "output_type": "stream",
     "text": [
      "\n",
      "prophet_instance nb 1\n",
      "Full dataset: 2019-10-30 to the 2020-03-26. Analysed data the 2019-12-16 to the 2019-12-28.\n",
      "o Trained on the data from the 2019-12-16 to the 2019-12-27 (10 days).\n",
      "o Predict from the 2019-12-27 to the 2019-12-28 (1 days).\n"
     ]
    },
    {
     "data": {
      "application/vnd.jupyter.widget-view+json": {
       "model_id": "43afb65340c4441c9e4c957bdff1dcdd",
       "version_major": 2,
       "version_minor": 0
      },
      "text/plain": [
       "Canvas(toolbar=Toolbar(toolitems=[('Home', 'Reset original view', 'home', 'home'), ('Back', 'Back to previous …"
      ]
     },
     "metadata": {},
     "output_type": "display_data"
    },
    {
     "name": "stdout",
     "output_type": "stream",
     "text": [
      "\n",
      "prophet_instance nb 2\n",
      "Full dataset: 2019-10-30 to the 2020-03-26. Analysed data the 2019-12-18 to the 2019-12-28.\n",
      "o Trained on the data from the 2019-12-18 to the 2019-12-27 (8 days).\n",
      "o Predict from the 2019-12-27 to the 2019-12-28 (1 days).\n"
     ]
    },
    {
     "data": {
      "application/vnd.jupyter.widget-view+json": {
       "model_id": "b533e815f13849fa9c7ac6997859834e",
       "version_major": 2,
       "version_minor": 0
      },
      "text/plain": [
       "Canvas(toolbar=Toolbar(toolitems=[('Home', 'Reset original view', 'home', 'home'), ('Back', 'Back to previous …"
      ]
     },
     "metadata": {},
     "output_type": "display_data"
    },
    {
     "name": "stdout",
     "output_type": "stream",
     "text": [
      "\n",
      "prophet_instance nb 3\n",
      "Full dataset: 2019-10-30 to the 2020-03-26. Analysed data the 2019-12-18 to the 2019-12-28.\n",
      "o Trained on the data from the 2019-12-18 to the 2019-12-27 (8 days).\n",
      "o Predict from the 2019-12-27 to the 2019-12-28 (1 days).\n"
     ]
    },
    {
     "data": {
      "application/vnd.jupyter.widget-view+json": {
       "model_id": "f32b1fe4183948c5bfd66f48f12cef16",
       "version_major": 2,
       "version_minor": 0
      },
      "text/plain": [
       "Canvas(toolbar=Toolbar(toolitems=[('Home', 'Reset original view', 'home', 'home'), ('Back', 'Back to previous …"
      ]
     },
     "metadata": {},
     "output_type": "display_data"
    },
    {
     "name": "stdout",
     "output_type": "stream",
     "text": [
      "\n",
      "prophet_instance nb 4\n",
      "Full dataset: 2019-10-30 to the 2020-03-26. Analysed data the 2019-12-20 to the 2019-12-28.\n",
      "o Trained on the data from the 2019-12-20 to the 2019-12-27 (6 days).\n",
      "o Predict from the 2019-12-27 to the 2019-12-28 (1 days).\n"
     ]
    },
    {
     "data": {
      "application/vnd.jupyter.widget-view+json": {
       "model_id": "8b954891af98492cbb7ab9d7747d7695",
       "version_major": 2,
       "version_minor": 0
      },
      "text/plain": [
       "Canvas(toolbar=Toolbar(toolitems=[('Home', 'Reset original view', 'home', 'home'), ('Back', 'Back to previous …"
      ]
     },
     "metadata": {},
     "output_type": "display_data"
    },
    {
     "name": "stdout",
     "output_type": "stream",
     "text": [
      "\n",
      "prophet_instance nb 5\n",
      "Full dataset: 2019-10-30 to the 2020-03-26. Analysed data the 2019-12-20 to the 2019-12-28.\n",
      "o Trained on the data from the 2019-12-20 to the 2019-12-27 (6 days).\n",
      "o Predict from the 2019-12-27 to the 2019-12-28 (1 days).\n"
     ]
    },
    {
     "data": {
      "application/vnd.jupyter.widget-view+json": {
       "model_id": "012e3f4ec03f4269b7bd0193a630181c",
       "version_major": 2,
       "version_minor": 0
      },
      "text/plain": [
       "Canvas(toolbar=Toolbar(toolitems=[('Home', 'Reset original view', 'home', 'home'), ('Back', 'Back to previous …"
      ]
     },
     "metadata": {},
     "output_type": "display_data"
    },
    {
     "name": "stdout",
     "output_type": "stream",
     "text": [
      "Time elapsed: 33 minutes.\n",
      "Saving the best model\n",
      "\n",
      "prophet_instance nb 0\n",
      "Full dataset: 2019-10-30 to the 2020-03-26. Analysed data the 2019-12-16 to the 2019-12-28.\n",
      "o Trained on the data from the 2019-12-16 to the 2019-12-27 (10 days).\n",
      "o Predict from the 2019-12-27 to the 2019-12-28 (1 days).\n"
     ]
    },
    {
     "data": {
      "application/vnd.jupyter.widget-view+json": {
       "model_id": "b4282f82a0414fbfaebff8625b210758",
       "version_major": 2,
       "version_minor": 0
      },
      "text/plain": [
       "Canvas(toolbar=Toolbar(toolitems=[('Home', 'Reset original view', 'home', 'home'), ('Back', 'Back to previous …"
      ]
     },
     "metadata": {},
     "output_type": "display_data"
    },
    {
     "name": "stdout",
     "output_type": "stream",
     "text": [
      "Full analysis completed in 33 minutes.\n"
     ]
    }
   ],
   "source": [
    "n_samples = 10 # Limit to 10 predictions per device.\n",
    "pred_duration = 12 # 12-day prediction\n",
    "\n",
    "for dev_nb in range(1,52):\n",
    "    device_nb = str('{:02d}'.format(dev_nb))\n",
    "    # Load the device-specific dataframe.\n",
    "    assert isinstance(device_nb, str) and len(device_nb)==2 and sum(d.isdigit() for d in device_nb)==2, 'WARNING: device_nb must be a string of 2-digits!'\n",
    "    assert int(device_nb)>=1 and int(device_nb)<=51, 'This device does not belong to the dataframe'\n",
    "    device, df_dev = load_ds(device_nb)\n",
    "    # Convert the variable device from a np.array to a string\n",
    "    regex = re.compile('[^A-Za-z0-9]')\n",
    "    device = regex.sub('', str(device))\n",
    "    \n",
    "    # Create a dataframe with the dates to use\n",
    "    dates = pd.DataFrame(columns={'date_minus_12',\n",
    "                                  'date_minus_10',\n",
    "                                  'date_minus_8',\n",
    "                                  'date_predict'})\n",
    "    dates = dates[['date_minus_12', 'date_minus_10', 'date_minus_8', 'date_predict']]\n",
    "    # List of unique dates in the dataframe\n",
    "    dates['date_minus_12'] = df_dev['ds'].unique().strftime('%Y-%m-%d')\n",
    "    dates = dates.drop_duplicates(subset=['date_minus_12'])\n",
    "    dates = dates.reset_index(drop=True)\n",
    "    # Fill the other columns and drop the 12 last columns\n",
    "    dates['date_minus_10'] = dates.iloc[2:, 0].reset_index(drop=True)\n",
    "    dates['date_minus_8'] = dates.iloc[4:, 0].reset_index(drop=True)\n",
    "    dates['date_predict'] = dates.iloc[12:, 0].reset_index(drop=True)\n",
    "    dates = dates[:-pred_duration] # Drop the 12 last rows\n",
    "    \n",
    "    # Keep only the dates with at least 12 training days\n",
    "    dates['Do_It'] = 'Do not'\n",
    "    dates['dm_12_c'] = np.nan\n",
    "    \n",
    "    for r in range(dates.shape[0]):\n",
    "        # Calculate the date_predict - pred_duration\n",
    "        date_predict = dates.iloc[r, 3]\n",
    "        date_predict = datetime.strptime(date_predict, \"%Y-%m-%d\")\n",
    "\n",
    "        date_minus_12_check = date_predict + timedelta(days=-pred_duration)\n",
    "        date_minus_12_check = datetime.strftime(date_minus_12_check, \"%Y-%m-%d\")\n",
    "        \n",
    "        # Tag the date_predict that have at least 12 training days\n",
    "        if date_minus_12_check in dates.date_predict.values or r<=11:\n",
    "            dates.iloc[r, 4] = 'yes'\n",
    "\n",
    "    dates = dates[dates.Do_It == 'yes']\n",
    "    dates.drop(['Do_It', 'dm_12_c'], axis=1)\n",
    "    \n",
    "    # Downsampling\n",
    "    if dates.shape[0]>n_samples:\n",
    "        dates = dates.sample(n=n_samples, replace=False)\n",
    "\n",
    "    # GridSearch over the (down-sampled) dataset:\n",
    "    start_time = time.time()\n",
    "    mape_table_full = pd.DataFrame()\n",
    "    \n",
    "    for r in range(dates.shape[0]):\n",
    "        # Parameters of the Grid\n",
    "        prophet_grid = {'df_dev' : [df_dev],\n",
    "                        'device' : [device],\n",
    "                        'parameter' : ['co2'],\n",
    "                        'begin' : dates.iloc[r, :3].tolist(),\n",
    "                        'end' : [dates.iloc[r, 3]],\n",
    "                        'sampling_period_min' : [1],\n",
    "                        'graph' : [1],\n",
    "                        'predict_day' : [1],\n",
    "                        'interval_width' : [0.6],\n",
    "                        'changepoint_prior_scale' : [0.01, 0.005], # list(np.arange(0.01,30,1).tolist()),\n",
    "                        'daily_fo' : [3],\n",
    "            #             'holidays_prior_scale' : list((1000,100,10,1,0.1)),\n",
    "                           }\n",
    "\n",
    "        # Run GridSearch_Prophet\n",
    "        mape_table = GridSearch_Prophet(list(ParameterGrid(prophet_grid)), metric='mape')\n",
    "        mape_table_full = mape_table_full.append(mape_table)\n",
    "\n",
    "        end_time = time.time()\n",
    "        dur_min = int((end_time - start_time)/60)\n",
    "        \n",
    "        print('Time elapsed: '+ str(dur_min) + \" minutes.\")\n",
    "\n",
    "        # Save the best model\n",
    "        print('Saving the best model')\n",
    "        \n",
    "        best_model = {'df_dev' : [df_dev],\n",
    "                      'device' : [mape_table.iloc[0, 0]],\n",
    "                      'parameter' : [mape_table.iloc[0, 1]],\n",
    "                      'begin' : [mape_table.iloc[0, 2]],\n",
    "                      'end' : [mape_table.iloc[0, 3]],\n",
    "                      'sampling_period_min' : [mape_table.iloc[0, 4]],\n",
    "                      'graph' : [1],\n",
    "                      'predict_day' : [1],\n",
    "                      'interval_width' : [mape_table.iloc[0, 5]],\n",
    "                      'changepoint_prior_scale' : [mape_table.iloc[0, 7]], # list(np.arange(0.01,30,1).tolist()),\n",
    "                      'daily_fo' : [mape_table.iloc[0, 6]],\n",
    "#                       'holidays_prior_scale' : list((1000,100,10,1,0.1)),\n",
    "                           }\n",
    "\n",
    "        # Run GridSearch_Prophet on the best model\n",
    "        mape_table = GridSearch_Prophet(list(ParameterGrid(best_model)), metric='mape')\n",
    "\n",
    "        end_time = time.time()\n",
    "        dur_min = int((end_time - start_time)/60)\n",
    "        print('Full analysis completed in '+ str(dur_min) + ' minutes.')\n",
    "\n",
    "    # Save the full table of mape_table\n",
    "    # Store the complete mape_table if this is the last prediction\n",
    "    folder_name = '/Users/path_to_your_folder/data/processed/'\n",
    "    mape_table_name = folder_name + re.sub(\"[']\", '', str(mape_table.iloc[0, 0])) + '_mape_table_full.csv'\n",
    "    mape_table_full.to_csv(mape_table_name)"
   ]
  },
  {
   "cell_type": "code",
   "execution_count": null,
   "metadata": {},
   "outputs": [],
   "source": []
  }
 ],
 "metadata": {
  "colab": {
   "collapsed_sections": [],
   "include_colab_link": true,
   "name": "prophet_anomaly_detection",
   "provenance": []
  },
  "kernelspec": {
   "display_name": "Python 3",
   "language": "python",
   "name": "python3"
  },
  "language_info": {
   "codemirror_mode": {
    "name": "ipython",
    "version": 3
   },
   "file_extension": ".py",
   "mimetype": "text/x-python",
   "name": "python",
   "nbconvert_exporter": "python",
   "pygments_lexer": "ipython3",
   "version": "3.7.4"
  },
  "toc": {
   "base_numbering": 1,
   "nav_menu": {},
   "number_sections": true,
   "sideBar": true,
   "skip_h1_title": false,
   "title_cell": "Table of Contents",
   "title_sidebar": "Contents",
   "toc_cell": false,
   "toc_position": {},
   "toc_section_display": true,
   "toc_window_display": false
  }
 },
 "nbformat": 4,
 "nbformat_minor": 4
}
