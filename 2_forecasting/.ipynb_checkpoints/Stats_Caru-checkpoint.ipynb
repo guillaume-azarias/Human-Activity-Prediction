{
 "cells": [
  {
   "cell_type": "markdown",
   "metadata": {
    "colab_type": "text",
    "id": "view-in-github"
   },
   "source": [
    "<a href=\"https://colab.research.google.com/github/paullo0106/prophet_anomaly_detection/blob/master/prophet_anomaly_detection.ipynb\" target=\"_parent\"><img src=\"https://colab.research.google.com/assets/colab-badge.svg\" alt=\"Open In Colab\"/></a>"
   ]
  },
  {
   "cell_type": "markdown",
   "metadata": {
    "colab_type": "text",
    "id": "IdO5x8DMJrmm"
   },
   "source": [
    "# Statistical analysis of Caru's sensor data:\n",
    "\n",
    "*Tried predicting forecast with Prophet. Try here a statistical approach*\n",
    "\n",
    "### Goal of the script\n",
    "**Project Goals :** Find patterns in the sensor signals that correlate with a person's activity. \n",
    "Examples are the times someone goes to bed or wakes up in the morning, or nightly bathroom breaks. Patterns may also include unknown activities that nevertheless occur regularly across nights and persons. Create an activity report after each night.\n",
    "\n",
    "**Milestones 1 :** Normalize the data, identify patterns, detect certain activities.\n",
    "\n",
    "**Milestones 2 :** Real-time activity reporting every 15 - 30 minutes. Be able to detect an activity (and maybe the type of activity) and send a notification.\n",
    "\n",
    "### Structure of the script\n",
    "\n",
    "### Run the script\n",
    "\n",
    "### Further thoughts and improvements:\n",
    "\n",
    "> Questions:\n",
    "> Contact Guillaume Azarias at guillaume.azarias@hotmail.com"
   ]
  },
  {
   "cell_type": "markdown",
   "metadata": {},
   "source": [
    "### Import the relevant library"
   ]
  },
  {
   "cell_type": "code",
   "execution_count": 32,
   "metadata": {
    "colab": {},
    "colab_type": "code",
    "id": "tqBSZowXa-O0"
   },
   "outputs": [],
   "source": [
    "import pandas as pd\n",
    "import numpy as np\n",
    "import time\n",
    "import re\n",
    "\n",
    "import seaborn as sns\n",
    "sns.set()\n",
    "import matplotlib.pyplot as plt\n",
    "import matplotlib.patches as mpatches\n",
    "from matplotlib.dates import DateFormatter\n",
    "\n",
    "# Note that the interactive plot may not work in Jupyter lab, but only in Jupyter Notebook (conflict of javascripts)\n",
    "%matplotlib widget \n",
    "# %matplotlib inline\n",
    "\n",
    "from datetime import datetime, timedelta\n",
    "from pytz import timezone"
   ]
  },
  {
   "cell_type": "code",
   "execution_count": 33,
   "metadata": {},
   "outputs": [],
   "source": [
    "from sklearn.model_selection import ParameterGrid\n",
    "from sklearn.mixture import GaussianMixture"
   ]
  },
  {
   "cell_type": "code",
   "execution_count": 34,
   "metadata": {},
   "outputs": [],
   "source": [
    "import fbprophet\n",
    "from fbprophet import Prophet\n",
    "from fbprophet.diagnostics import cross_validation, performance_metrics\n",
    "from fbprophet.plot import plot_cross_validation_metric"
   ]
  },
  {
   "cell_type": "code",
   "execution_count": 35,
   "metadata": {},
   "outputs": [],
   "source": [
    "# Import the functions from the helper.py\n",
    "from helper import df_dev_formater, find_index, df_generator, prophet_fit, prophet_plot, get_outliers, execute_cross_validation_and_performance_loop"
   ]
  },
  {
   "cell_type": "markdown",
   "metadata": {
    "colab_type": "text",
    "id": "Gv378tcGbWDl"
   },
   "source": [
    "### Load data from the Amazon S3 bucket:\n",
    "\n",
    "[Link to the caru bucket on Amazon](https://s3.console.aws.amazon.com/s3/buckets/carudata/?region=eu-north-1&tab=overview) *(credentials required)*"
   ]
  },
  {
   "cell_type": "raw",
   "metadata": {},
   "source": [
    "import boto3, os\n",
    "import s3fs\n",
    "s3 = boto3.client('s3') # aws client object\n",
    "\n",
    "path = 's3://carudata/interim/device04_alldays.csv'\n",
    "dummy_df = pd.read_csv(path)\n",
    "dummy_df.head(2)"
   ]
  },
  {
   "cell_type": "markdown",
   "metadata": {},
   "source": [
    "### Load local file"
   ]
  },
  {
   "cell_type": "code",
   "execution_count": 4,
   "metadata": {
    "scrolled": true
   },
   "outputs": [
    {
     "name": "stdout",
     "output_type": "stream",
     "text": [
      "Check report:\n",
      "##############################################\n",
      "['Device contained in the dataset: device13']\n",
      "['Tenant using the device: tenant01']\n",
      "\n",
      "There are 967297 lines.\n",
      "Full dataset: 2019-07-18 to the 2020-03-26.\n",
      "\n",
      "Data types:\n",
      "device                                object\n",
      "tenant                                object\n",
      "ds             datetime64[ns, Europe/Zurich]\n",
      "light                                float64\n",
      "temperature                          float64\n",
      "humidity                             float64\n",
      "co2                                  float64\n",
      "dtype: object\n"
     ]
    }
   ],
   "source": [
    "device_nb = '13' # 2-digit number !\n",
    "device, df_dev = df_dev_formater(device_nb)\n",
    "\n",
    "assert device.shape[0]==1, 'No, or several devices in the df'\n",
    "\n",
    "# Check report:\n",
    "print('Check report:\\n##############################################')\n",
    "print('Device contained in the dataset: ' + device)\n",
    "print('Tenant using the device: ' + df_dev['tenant'].unique())\n",
    "print('\\nThere are ' + str(df_dev.shape[0]) + ' lines.')\n",
    "last = df_dev.shape[0] - 1\n",
    "print('Full dataset: {:%Y-%m-%d} to the {:%Y-%m-%d}.'\n",
    "          .format(df_dev['ds'][0], df_dev['ds'][last]))\n",
    "print('\\nData types:')\n",
    "print(df_dev.dtypes)"
   ]
  },
  {
   "cell_type": "markdown",
   "metadata": {},
   "source": [
    "## Data visualisation"
   ]
  },
  {
   "cell_type": "code",
   "execution_count": 41,
   "metadata": {},
   "outputs": [
    {
     "data": {
      "application/vnd.jupyter.widget-view+json": {
       "model_id": "e37af0685a75430ca0fe1c9785e84c2f",
       "version_major": 2,
       "version_minor": 0
      },
      "text/plain": [
       "Canvas(toolbar=Toolbar(toolitems=[('Home', 'Reset original view', 'home', 'home'), ('Back', 'Back to previous …"
      ]
     },
     "metadata": {},
     "output_type": "display_data"
    },
    {
     "name": "stdout",
     "output_type": "stream",
     "text": [
      "Full dataset: 2019-07-18 to the 2020-03-26. Analysed data the 2019-07-18 to the 2020-03-26.\n"
     ]
    }
   ],
   "source": [
    "df, fig, predict_n, today_index, lookback_n = df_generator(df_dev, device, 'co2', '2019-07-18', '2020-03-26',  '1T', 0.08)\n",
    "# plt.show()"
   ]
  },
  {
   "cell_type": "code",
   "execution_count": 8,
   "metadata": {},
   "outputs": [
    {
     "name": "stdout",
     "output_type": "stream",
     "text": [
      "1439\n"
     ]
    }
   ],
   "source": [
    "find_index(df, '2019-09-08', '20:30')"
   ]
  },
  {
   "cell_type": "code",
   "execution_count": 37,
   "metadata": {},
   "outputs": [
    {
     "data": {
      "application/vnd.jupyter.widget-view+json": {
       "model_id": "b16d0acf94e045418aebd823c1053e44",
       "version_major": 2,
       "version_minor": 0
      },
      "text/plain": [
       "Canvas(toolbar=Toolbar(toolitems=[('Home', 'Reset original view', 'home', 'home'), ('Back', 'Back to previous …"
      ]
     },
     "metadata": {},
     "output_type": "display_data"
    },
    {
     "name": "stdout",
     "output_type": "stream",
     "text": [
      "Full dataset: 2019-07-18 to the 2020-03-26. Analysed data the 2019-12-01 to the 2019-12-10.\n"
     ]
    }
   ],
   "source": [
    "plt.close()\n",
    "df, fig, predict_n, today_index, lookback_n = df_generator(df_dev, device, 'co2', '2019-12-01', '2019-12-10',  '5T', 0.08)"
   ]
  },
  {
   "cell_type": "code",
   "execution_count": 40,
   "metadata": {},
   "outputs": [
    {
     "name": "stdout",
     "output_type": "stream",
     "text": [
      "o Trained on the data from the 2019-12-01 to the 2019-12-10 (41 days).\n",
      "o Predict from the 2019-12-10 to the 2019-12-10 (1 days).\n"
     ]
    },
    {
     "data": {
      "application/vnd.jupyter.widget-view+json": {
       "model_id": "aa986b8d138b4370803dcd33ef434536",
       "version_major": 2,
       "version_minor": 0
      },
      "text/plain": [
       "Canvas(toolbar=Toolbar(toolitems=[('Home', 'Reset original view', 'home', 'home'), ('Back', 'Back to previous …"
      ]
     },
     "metadata": {},
     "output_type": "display_data"
    },
    {
     "name": "stderr",
     "output_type": "stream",
     "text": [
      "INFO:fbprophet:Making 10 forecasts with cutoffs between 2019-12-05 01:15:42.030000 and 2019-12-09 13:15:42.030000\n"
     ]
    },
    {
     "data": {
      "text/html": [
       "<div>\n",
       "<style scoped>\n",
       "    .dataframe tbody tr th:only-of-type {\n",
       "        vertical-align: middle;\n",
       "    }\n",
       "\n",
       "    .dataframe tbody tr th {\n",
       "        vertical-align: top;\n",
       "    }\n",
       "\n",
       "    .dataframe thead th {\n",
       "        text-align: right;\n",
       "    }\n",
       "</style>\n",
       "<table border=\"1\" class=\"dataframe\">\n",
       "  <thead>\n",
       "    <tr style=\"text-align: right;\">\n",
       "      <th></th>\n",
       "      <th>initial</th>\n",
       "      <th>horizon</th>\n",
       "      <th>period</th>\n",
       "      <th>mse</th>\n",
       "      <th>rmse</th>\n",
       "      <th>mae</th>\n",
       "      <th>mape</th>\n",
       "      <th>coverage</th>\n",
       "    </tr>\n",
       "  </thead>\n",
       "  <tbody>\n",
       "    <tr>\n",
       "      <th>0</th>\n",
       "      <td>3 days</td>\n",
       "      <td>1 days</td>\n",
       "      <td>0.5 days</td>\n",
       "      <td>13216.762866</td>\n",
       "      <td>114.964181</td>\n",
       "      <td>87.34375</td>\n",
       "      <td>0.129939</td>\n",
       "      <td>0.427401</td>\n",
       "    </tr>\n",
       "  </tbody>\n",
       "</table>\n",
       "</div>"
      ],
      "text/plain": [
       "  initial horizon    period           mse        rmse       mae      mape  \\\n",
       "0  3 days  1 days  0.5 days  13216.762866  114.964181  87.34375  0.129939   \n",
       "\n",
       "   coverage  \n",
       "0  0.427401  "
      ]
     },
     "execution_count": 40,
     "metadata": {},
     "output_type": "execute_result"
    }
   ],
   "source": [
    "# config the model\n",
    "model = Prophet(interval_width=0.6, # anomaly threshold,\n",
    "                yearly_seasonality=False, weekly_seasonality=False, daily_seasonality=False,\n",
    "                changepoint_prior_scale=0.01) # Adjusting trend flexibility. should be <0.1 low --> toward overfit\n",
    "model.add_seasonality(name='daily', period=1, fourier_order=12) # prior scale\n",
    "# model.add_seasonality(name='half_day', period=0.5, fourier_order=10)\n",
    "\n",
    "# Fit the model, flag outliers, and visualize\n",
    "assert today_index>lookback_n, 'Not enough data for prediction (lookback_n<today_index)'\n",
    "fig, forecast, model = prophet_fit(df, model, today_index, '5T', 0.08, lookback_days=lookback_n, predict_days=predict_n)   \n",
    "outliers, df_pred = get_outliers(df, forecast, today_index, predict_days=predict_n)\n",
    "prophet_plot(df, fig, today_index, predict_days=predict_n, outliers=outliers)\n",
    "plt.show()\n",
    "param_grid = {'model' : [model],\n",
    "              'initial' : ['3 days'], # If not provided, 3 * horizon is used. Same units as horizon\n",
    "              'period'  : ['0.5 days'], # Integer amount of time between cutoff dates. If not provided, 0.5 * horizon is used.\n",
    "              'horizon' : ['1 days']} # A forecast is made for every observed point between cutoff and cutoff + horizon}\n",
    "execute_cross_validation_and_performance_loop(list(ParameterGrid(param_grid)), metric = 'mape')"
   ]
  },
  {
   "cell_type": "code",
   "execution_count": null,
   "metadata": {},
   "outputs": [],
   "source": [
    "plt.close()\n",
    "df, fig, predict_n, today_index, lookback_n = df_generator(df_dev, device, 'light', '2019-11-28', '2019-12-08',  '5T', 0.08)"
   ]
  },
  {
   "cell_type": "code",
   "execution_count": null,
   "metadata": {},
   "outputs": [],
   "source": [
    "plt.close()\n",
    "df, fig, predict_n, today_index, lookback_n = df_generator(df_dev, device, 'co2', '2019-11-07', '2019-11-08',  '5T', 0.08)\n"
   ]
  },
  {
   "cell_type": "code",
   "execution_count": null,
   "metadata": {},
   "outputs": [],
   "source": [
    "plt.close()\n",
    "df, fig, predict_n, today_index, lookback_n = df_generator(df_dev, device, 'co2', '2019-11-08', '2019-11-09',  '5T', 0.08)\n"
   ]
  },
  {
   "cell_type": "code",
   "execution_count": 7,
   "metadata": {},
   "outputs": [
    {
     "data": {
      "application/vnd.jupyter.widget-view+json": {
       "model_id": "01effcdf8c3b4f85beaeaabf753619f0",
       "version_major": 2,
       "version_minor": 0
      },
      "text/plain": [
       "Canvas(toolbar=Toolbar(toolitems=[('Home', 'Reset original view', 'home', 'home'), ('Back', 'Back to previous …"
      ]
     },
     "metadata": {},
     "output_type": "display_data"
    },
    {
     "name": "stdout",
     "output_type": "stream",
     "text": [
      "True\n",
      "[532.47990335 792.64881147]\n",
      "[48.99686696 14.65875853]\n",
      "[0.59764097 0.40235903]\n"
     ]
    }
   ],
   "source": [
    "plt.close()\n",
    "y = df.iloc[:,1]\n",
    "sns.distplot(y, bins=50, kde=False, rug=True)\n",
    "plt.show()\n",
    "\n",
    "# Separate day and night\n",
    "y_np = y.to_numpy().reshape(-1, 1)\n",
    "mixture = GaussianMixture(n_components=2).fit(y_np)\n",
    "means_hat = mixture.means_.flatten()\n",
    "weights_hat = mixture.weights_.flatten()\n",
    "sds_hat = np.sqrt(mixture.covariances_).flatten()\n",
    "\n",
    "print(mixture.converged_)\n",
    "print(means_hat)\n",
    "print(sds_hat)\n",
    "print(weights_hat)"
   ]
  },
  {
   "cell_type": "code",
   "execution_count": 74,
   "metadata": {},
   "outputs": [
    {
     "data": {
      "text/plain": [
       "(1439, 2)"
      ]
     },
     "execution_count": 74,
     "metadata": {},
     "output_type": "execute_result"
    }
   ],
   "source": [
    "df.shape"
   ]
  },
  {
   "cell_type": "code",
   "execution_count": 10,
   "metadata": {},
   "outputs": [
    {
     "data": {
      "text/html": [
       "<div>\n",
       "<style scoped>\n",
       "    .dataframe tbody tr th:only-of-type {\n",
       "        vertical-align: middle;\n",
       "    }\n",
       "\n",
       "    .dataframe tbody tr th {\n",
       "        vertical-align: top;\n",
       "    }\n",
       "\n",
       "    .dataframe thead th {\n",
       "        text-align: right;\n",
       "    }\n",
       "</style>\n",
       "<table border=\"1\" class=\"dataframe\">\n",
       "  <thead>\n",
       "    <tr style=\"text-align: right;\">\n",
       "      <th></th>\n",
       "      <th>ds</th>\n",
       "      <th>y</th>\n",
       "    </tr>\n",
       "  </thead>\n",
       "  <tbody>\n",
       "    <tr>\n",
       "      <th>0</th>\n",
       "      <td>2019-11-08 21:00:53.857000+01:00</td>\n",
       "      <td>789.379944</td>\n",
       "    </tr>\n",
       "    <tr>\n",
       "      <th>1</th>\n",
       "      <td>2019-11-08 21:01:53.957000+01:00</td>\n",
       "      <td>787.441162</td>\n",
       "    </tr>\n",
       "  </tbody>\n",
       "</table>\n",
       "</div>"
      ],
      "text/plain": [
       "                                ds           y\n",
       "0 2019-11-08 21:00:53.857000+01:00  789.379944\n",
       "1 2019-11-08 21:01:53.957000+01:00  787.441162"
      ]
     },
     "execution_count": 10,
     "metadata": {},
     "output_type": "execute_result"
    }
   ],
   "source": [
    "df_index = df.reset_index(drop=True)\n",
    "df_index.head(2)"
   ]
  },
  {
   "cell_type": "markdown",
   "metadata": {},
   "source": [
    "### Moving average\n",
    "https://medium.com/schkn/why-use-k-means-for-time-series-data-part-one-a8f19964f538\n",
    "\n",
    "Taking advantage of the GaussianMixture result:\n",
    "![First quartile](https://external-content.duckduckgo.com/iu/?u=http%3A%2F%2Fwww.mathematicsdictionary.com%2Fenglish%2Fvmd%2Fimages%2Fi%2Finterquartilerange.gif&f=1&nofb=1)\n",
    "\n",
    "GaussianMixture does not determine the median. I used the *mean - 2(sd)* instead of *median - 2(sd)*."
   ]
  },
  {
   "cell_type": "code",
   "execution_count": 14,
   "metadata": {},
   "outputs": [
    {
     "data": {
      "text/plain": [
       "483.4830363932725"
      ]
     },
     "execution_count": 14,
     "metadata": {},
     "output_type": "execute_result"
    }
   ],
   "source": [
    "mean_of_night = means_hat[0]\n",
    "sd_of_day = sds_hat[0]\n",
    "\n",
    "threshold_night = mean_of_night - sd_of_day\n",
    "threshold_night"
   ]
  },
  {
   "cell_type": "code",
   "execution_count": null,
   "metadata": {},
   "outputs": [],
   "source": []
  },
  {
   "cell_type": "code",
   "execution_count": null,
   "metadata": {},
   "outputs": [],
   "source": []
  },
  {
   "cell_type": "code",
   "execution_count": null,
   "metadata": {},
   "outputs": [],
   "source": []
  },
  {
   "cell_type": "code",
   "execution_count": null,
   "metadata": {},
   "outputs": [],
   "source": []
  },
  {
   "cell_type": "code",
   "execution_count": null,
   "metadata": {},
   "outputs": [],
   "source": []
  },
  {
   "cell_type": "code",
   "execution_count": null,
   "metadata": {},
   "outputs": [],
   "source": []
  },
  {
   "cell_type": "code",
   "execution_count": null,
   "metadata": {},
   "outputs": [],
   "source": []
  },
  {
   "cell_type": "markdown",
   "metadata": {},
   "source": [
    "### t-test based detection of day/night change"
   ]
  },
  {
   "cell_type": "markdown",
   "metadata": {},
   "source": [
    "*If a is a group of point on 6 hours is statistically different from a group of point on 6 hours\n",
    "and the first group of point on 6 hours is not statistically different from night\n",
    "and the second group of point on 6 hours is not statistically different from day\n",
    "then it is the time when the person woke up.*\n",
    "\n",
    "**Does not work.**"
   ]
  },
  {
   "cell_type": "code",
   "execution_count": 131,
   "metadata": {},
   "outputs": [
    {
     "data": {
      "application/vnd.jupyter.widget-view+json": {
       "model_id": "3912e9699ff84430b2f7438c4830c8a5",
       "version_major": 2,
       "version_minor": 0
      },
      "text/plain": [
       "Canvas(toolbar=Toolbar(toolitems=[('Home', 'Reset original view', 'home', 'home'), ('Back', 'Back to previous …"
      ]
     },
     "metadata": {},
     "output_type": "display_data"
    },
    {
     "name": "stdout",
     "output_type": "stream",
     "text": [
      "Full dataset: 2019-07-18 to the 2020-03-26. Analysed data the 2019-11-08 to the 2019-11-09.\n",
      "2019-11-08 21:14:55.283000+01:00\n",
      "2019-11-09 00:14:53.671000+01:00\n",
      "0.52\n",
      "2019-11-09 00:14:53.671000+01:00\n",
      "2019-11-09 03:14:52.013000+01:00\n",
      "0.00\n",
      "2019-11-09 03:14:52.013000+01:00\n",
      "2019-11-09 06:14:50.234000+01:00\n",
      "0.00\n",
      "2019-11-09 06:14:50.234000+01:00\n",
      "2019-11-09 09:14:48.475000+01:00\n",
      "0.03\n",
      "2019-11-09 09:14:48.475000+01:00\n",
      "2019-11-09 12:14:46.845000+01:00\n",
      "0.83\n",
      "2019-11-09 12:14:46.845000+01:00\n",
      "2019-11-09 15:14:45.228000+01:00\n",
      "0.09\n"
     ]
    }
   ],
   "source": [
    "df, fig, predict_n, today_index, lookback_n = df_generator(df_dev, device, 'co2', '2019-11-08', '2019-11-09',  '15T', 0.08)\n",
    "df_index = df.reset_index(drop=True)\n",
    "df_index.shape[0]\n",
    "\n",
    "from scipy import stats\n",
    "period = 12\n",
    "for i in range(0, df_index.shape[0], period):\n",
    "    if i+2*period<df_index.shape[0]-1:\n",
    "        print(df_index.iloc[i, 0])\n",
    "        print(df_index.iloc[i+period, 0])\n",
    "        a = df_index.iloc[i:i+period-1, 1]\n",
    "        b = df_index.iloc[i+period:i+2*period-1, 1]\n",
    "        val, t = stats.ttest_rel(a,b)\n",
    "        formatted_t = \"{:.2f}\".format(t)\n",
    "        print(formatted_t)"
   ]
  },
  {
   "cell_type": "code",
   "execution_count": 123,
   "metadata": {},
   "outputs": [],
   "source": [
    "df_index.shape[0]\n",
    "\n",
    "from scipy import stats\n",
    "period = 50\n",
    "for i in range(0, df_index.shape[0], period):\n",
    "    if i+2*period<df_index.shape[0]-1:\n",
    "        print(df_index.iloc[i, 0])\n",
    "        print(df_index.iloc[i+period, 0])\n",
    "        a = df_index.iloc[i:i+period-1, 1]\n",
    "        b = df_index.iloc[i+period:i+2*period-1, 1]\n",
    "        val, t = stats.ttest_rel(a,b)\n",
    "        formatted_t = \"{:.2E}\".format(t)\n",
    "        print(formatted_t)"
   ]
  },
  {
   "cell_type": "code",
   "execution_count": 124,
   "metadata": {},
   "outputs": [
    {
     "data": {
      "text/plain": [
       "47"
      ]
     },
     "execution_count": 124,
     "metadata": {},
     "output_type": "execute_result"
    }
   ],
   "source": [
    "df_index.shape[0]"
   ]
  },
  {
   "cell_type": "code",
   "execution_count": null,
   "metadata": {},
   "outputs": [],
   "source": []
  }
 ],
 "metadata": {
  "colab": {
   "collapsed_sections": [],
   "include_colab_link": true,
   "name": "prophet_anomaly_detection",
   "provenance": []
  },
  "kernelspec": {
   "display_name": "Python 3",
   "language": "python",
   "name": "python3"
  },
  "language_info": {
   "codemirror_mode": {
    "name": "ipython",
    "version": 3
   },
   "file_extension": ".py",
   "mimetype": "text/x-python",
   "name": "python",
   "nbconvert_exporter": "python",
   "pygments_lexer": "ipython3",
   "version": "3.7.4"
  }
 },
 "nbformat": 4,
 "nbformat_minor": 4
}
