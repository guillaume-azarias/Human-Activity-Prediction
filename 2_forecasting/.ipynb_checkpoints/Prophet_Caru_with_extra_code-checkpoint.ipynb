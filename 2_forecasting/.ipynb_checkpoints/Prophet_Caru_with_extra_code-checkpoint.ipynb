{
 "cells": [
  {
   "cell_type": "markdown",
   "metadata": {
    "colab_type": "text",
    "id": "view-in-github"
   },
   "source": [
    "<a href=\"https://colab.research.google.com/github/paullo0106/prophet_anomaly_detection/blob/master/prophet_anomaly_detection.ipynb\" target=\"_parent\"><img src=\"https://colab.research.google.com/assets/colab-badge.svg\" alt=\"Open In Colab\"/></a>"
   ]
  },
  {
   "cell_type": "markdown",
   "metadata": {
    "colab_type": "text",
    "id": "IdO5x8DMJrmm"
   },
   "source": [
    "# Anomaly detection using Facebook Prophet:\n",
    "\n",
    "*This notebook is based on the following [tutorial](https://medium.com/analytics-vidhya/time-series-forecast-anomaly-detection-with-facebook-prophet-558136be4b8d) written by Paul Lo. It makes use of the open-source project [Prophet](https://facebook.github.io/prophet/), a forecasting procedure implemented in R and Python, based on the paper of [Taylor and Letham, 2017](https://peerj.com/preprints/3190/).*\n",
    "\n",
    "**Goal of the script:**\n",
    "\n",
    "Here, we aim to the detect activity of resident over time, defined pattern as a **transient**, reversible and significant change in one single parameter(s).\n",
    "Examples of patterns:\n",
    "* Someone goes to bed (CO2 decreases or increases and stay stable)\n",
    "* Someone wakes up in the morning\n",
    "* Someone wakes up nightly for a bathroom breaks\n",
    "* Unknown activities that nevertheless occur regularly\n",
    "\n",
    "**Motivations to use a forecasting method to detect activity:**\n",
    "\n",
    "In the notebook Data_Exploration_Guillaume.ipynb, I plotted the data in 2 and 3 dimensions. The limitations were the following:\n",
    "- 2D plotting could be used to detect transient changes in time series, but the significant changes between day and night baselines make the detection difficult.\n",
    "- 3D plotting and k-means clustering between three parameters (light, CO$_{2}$, temperature or humidity) might provide information on the physical relationships between the parameters, but not on the activity of the resident.\n",
    "\n",
    "Since ederly people tends to have the same rythm every day (e.g. wakes up, has a walk, goes to bed at the same time of the day), we reasoned that the trend in CO$_{2}$ should be quite similar between days or weekdays. This seasonality is well handled by the algorith [Prophet](https://facebook.github.io/prophet/) from Facebook, dedicated to perform 'time series forecasting' from seasonal data.\n",
    "\n",
    "![Prophet_figure.png](Prophet_figure.png)\n",
    "\n",
    "We took advantage of the continuous recording of CO$_{2}$ from Caru’s sensor, to model the activity patterns of resident. The data from the ten last days of recording were used to make a model of the typical activity pattern of the resident. For instance, if the sensor is located in the bedroom of the resident, the model will predict that the CO$_{2}$ will increase and stay stable from the time the resident goes to bed until he wakes up and leaves the bedroom.\n",
    "\n",
    "A GridSearch function was designed to optimize the model by tuning the hyperparameters. The GridSearch returned a table containing the tested parameters and sorted according to the **Mean Average Percentage Error**. Then the optimized model is used to predict how the activity pattern of today should be. The predicted pattern from the model is shown in blue. By comparing the predicted results with the latest measurements, we detect how often, and when, a resident had an unusual activity. Unusual activity is detected in red in the graph.\n",
    "\n",
    "\n",
    "**Structure of the script:**\n",
    "\n",
    "This script is designed to:\n",
    "1. Load a device-specific dataset:\n",
    "    - either located in the folder ../data/interim of the repository\n",
    "    - or located in an Amazon S3 bucket.\n",
    "2. Pre-visualize one part of the device-specific dataset and choose:\n",
    "    - the parameter to study\n",
    "    - begin and end of dataframe\n",
    "    - the period of data averaging (example: use one point every 1min instead of 1 point every 20sec)\n",
    "3. Training a Prophet model:\n",
    "    * **Run a single instance** with specific parameters of Prophet\n",
    "    * **Hyperparameter tuning**: execute a GridSearch to test several ranges of parameters of Prophet. This returns a table of the tested parameters and the median of the mean average percentage error calculated on the predicted data. Since the data varies from one device to the other, this function helps to determine the best \"device-specific\" parameters for prediction. As an example, I ran 4 tests using the device 33:\n",
    "        * Test 1: Testing different sampling periods, changepoint_prior_scale and daily_fo of the Prophet model\n",
    "        * Test 2: Testing different shorter sampling periods, changepoint_prior_scale and daily_fo of the Prophet model\n",
    "        * Test 3:  Testing with different training period duration, changepoint_prior_scale and daily_fo of the Prophet model\n",
    "        * Test 4: Testing different training periods, daily_fo of the Prophet model\n",
    "\n",
    "\n",
    "\n",
    "**Run the script:**\n",
    "\n",
    "How to run the script:\n",
    "* Load the script in jupyter notebook (not jupyter lab because the interactive plots are not shown in jupyter lab)\n",
    "* **To load the data:** Choose your device number.\n",
    "* **To visualize the data before analysis:** Look at the data using df_generator. The arguments are:\n",
    "```python\n",
    "df, predict_n, today_index, lookback_n = df_generator(\n",
    "                df_dev, # device-specific dataframe\n",
    "                parameter, # String. among 'light', 'temperature', 'humidity', 'co2'\n",
    "                begin, # String. Day of the beginning of the new dataframe\n",
    "                end, # String. Day of the end of the new dataframe\n",
    "                sampling_period_st, # String. Duration of bin for data downsampling\n",
    "                sampling_period_num, # Float. Duration of bin for data downsampling\n",
    "                graph=None, # Set to None to show the graph and a value not to show it\n",
    "                predict_day=1 # Number of days predicted. 1 by default\n",
    ")\n",
    "```\n",
    "* **To predict the data:** Use and customize the cell containing:\n",
    "```python\n",
    "df_p, df_pred = prophet(\n",
    "                df_dev,\n",
    "                device,\n",
    "                parameter='co2',\n",
    "                begin='2019-03-26',\n",
    "                end='2019-04-03',\n",
    "                sampling_period_min=5,\n",
    "                graph=1, \n",
    "                predict_day=1,\n",
    "                interval_width=0.6, # Anomaly threshold\n",
    "                changepoint_prior_scale=0.01, # Adjusting trend flexibility\n",
    "                daily_fo = 12 # Fourier order defined for the seasonality\n",
    ")\n",
    "```\n",
    "* **Hyperparameter tuning:** Use and customize the cell containing:\n",
    "\n",
    "```python\n",
    "# Define the parameters to test\n",
    "prophet_grid = {'df_dev' : [df_dev],\n",
    "                'device' : [device],\n",
    "                'parameter' : ['co2'],\n",
    "                'begin' : ['2019-03-22', '2019-03-24'],\n",
    "                'end' : ['2019-04-03'],\n",
    "                'sampling_period_min' : [1, 5, 30],\n",
    "                'graph' : [1],\n",
    "                'predict_day' : [1],\n",
    "                'interval_width' : [0.6],\n",
    "                'changepoint_prior_scale' : list((0.01, 15)),\n",
    "                'daily_fo' : [3, 9, 18],\n",
    "               }\n",
    "\n",
    "# Run GridSearch_Prophet\n",
    "mape_table = GridSearch_Prophet(list(ParameterGrid(prophet_grid)), metric='mape')\n",
    "```\n",
    "\n",
    "**Further thoughts and improvements:**\n",
    "\n",
    "* Forecasting events such as human activity using Caru's sensor data are difficults because:\n",
    "1. They don't occur regularly. In this sense Dynamic Time Warping may help, but does not provide definitely absolutely clean results.\n",
    "2. The baselines exhibit trends of a significant amplitudes (see humidity data for instance). When the amplitude of events is smaller than the trend, transient activities.\n",
    "* If the time allows, take advantage of the following [tutorial](https://towardsdatascience.com/implementing-facebook-prophet-efficiently-c241305405a3) for Prophet optimization.\n",
    "* Once the activity pattern are identified, the script should be continued to cluster activity pattern (make use of the dataframe **df_pred** produced by get_outliers, it contains all the data necessary to do it).\n",
    "* Outlook of the next milestones:\n",
    "    1. times someone goes to bed or wakes up in the morning\n",
    "    2. nightly bathroom breaks\n",
    "    3. Identify the wrong days\n",
    "        * Make prediction over the 7 last days.\n",
    "        * Count the outliers over the next day.\n",
    "        * When the number of outlier is greater than the mean of outlier + 2SD, outline the day.\n",
    "\n",
    "> Questions:\n",
    "> Contact Guillaume Azarias at guillaume.azarias@hotmail.com"
   ]
  },
  {
   "cell_type": "markdown",
   "metadata": {},
   "source": [
    "## 1 - Import the relevant library"
   ]
  },
  {
   "cell_type": "code",
   "execution_count": 1,
   "metadata": {
    "colab": {},
    "colab_type": "code",
    "id": "tqBSZowXa-O0"
   },
   "outputs": [],
   "source": [
    "import pandas as pd\n",
    "import numpy as np\n",
    "import time\n",
    "import re\n",
    "\n",
    "import seaborn as sns\n",
    "sns.set()\n",
    "import matplotlib.pyplot as plt\n",
    "from matplotlib.dates import DateFormatter\n",
    "\n",
    "# Note that the interactive plot may not work in Jupyter lab, but only in Jupyter Notebook (conflict of javascripts)\n",
    "%matplotlib widget \n",
    "\n",
    "from datetime import datetime, timedelta\n",
    "from pytz import timezone"
   ]
  },
  {
   "cell_type": "code",
   "execution_count": 2,
   "metadata": {
    "colab": {},
    "colab_type": "code",
    "id": "n8FSgHwCa6bi"
   },
   "outputs": [],
   "source": [
    "import fbprophet\n",
    "from fbprophet import Prophet\n",
    "from fbprophet.diagnostics import cross_validation, performance_metrics\n",
    "from fbprophet.plot import plot_cross_validation_metric"
   ]
  },
  {
   "cell_type": "code",
   "execution_count": 3,
   "metadata": {
    "colab": {
     "base_uri": "https://localhost:8080/",
     "height": 34
    },
    "colab_type": "code",
    "id": "rKZsaWFTa9Km",
    "outputId": "15c0d68c-89da-4503-b0c4-98703d9a789a"
   },
   "outputs": [
    {
     "data": {
      "text/plain": [
       "'0.6'"
      ]
     },
     "execution_count": 3,
     "metadata": {},
     "output_type": "execute_result"
    }
   ],
   "source": [
    "fbprophet.__version__"
   ]
  },
  {
   "cell_type": "code",
   "execution_count": 4,
   "metadata": {},
   "outputs": [],
   "source": [
    "from sklearn.model_selection import ParameterGrid\n",
    "import itertools\n",
    "from random import sample"
   ]
  },
  {
   "cell_type": "code",
   "execution_count": 5,
   "metadata": {},
   "outputs": [],
   "source": [
    "# Import the functions from the helper.py\n",
    "from helper import load_ds, df_dev_formater, find_index, df_generator, prophet_fit, prophet_plot, get_outliers, execute_cross_validation_and_performance_loop, prophet, GridSearch_Prophet"
   ]
  },
  {
   "cell_type": "markdown",
   "metadata": {},
   "source": [
    "## Load a device-specific dataset\n",
    "\n",
    "**Note on the dataframe**\n",
    "- To speed up the processing, this script was designed to work with a device-specific dataframe that should be located in the folder ../data/interim. The user enters the number of the device in a two-digit string format ('01', '02'... '51') and follows the instructions.\n",
    "- If the device-specific dataframes do not exist yet, it will be automatically generated. This script expects to find the following files in the folder ../Data/raw:'\n",
    "        * 20200331_propulsionlab_caru_data_part1.csv\n",
    "        * 20200331_propulsionlab_caru_data_part2.csv\n",
    "        * 20200331_propulsionlab_caru_data_part3.csv\n",
    "        * 20200331_propulsionlab_caru_data_part4.csv\n",
    "        * 20200331_propulsionlab_caru_data_part5.csv"
   ]
  },
  {
   "cell_type": "markdown",
   "metadata": {
    "colab_type": "text",
    "id": "Gv378tcGbWDl"
   },
   "source": [
    "### Possibility 1: Load data from the Amazon S3 bucket:\n",
    "\n",
    "This is a function to be able to use a cloud to store data such as AWS. Here is the\n",
    "[link to the caru bucket on Amazon](https://s3.console.aws.amazon.com/s3/buckets/carudata/?region=eu-north-1&tab=overview) *(credentials required)*"
   ]
  },
  {
   "cell_type": "raw",
   "metadata": {},
   "source": [
    "import boto3, os\n",
    "import s3fs\n",
    "s3 = boto3.client('s3') # aws client object"
   ]
  },
  {
   "cell_type": "raw",
   "metadata": {},
   "source": [
    "path = 's3://carudata/interim/device04_alldays.csv'"
   ]
  },
  {
   "cell_type": "raw",
   "metadata": {},
   "source": [
    "dummy_df = pd.read_csv(path)"
   ]
  },
  {
   "cell_type": "raw",
   "metadata": {},
   "source": [
    "dummy_df.head(2)"
   ]
  },
  {
   "cell_type": "markdown",
   "metadata": {},
   "source": [
    "### Possibility 2:  Load a local file"
   ]
  },
  {
   "cell_type": "code",
   "execution_count": 7,
   "metadata": {},
   "outputs": [
    {
     "name": "stdout",
     "output_type": "stream",
     "text": [
      "Check report:\n",
      "##############################################\n",
      "['Device contained in the dataset: device33']\n",
      "['Tenant using the device: tenant09']\n",
      "\n",
      "Data types:\n",
      "device                                object\n",
      "tenant                                object\n",
      "ds             datetime64[ns, Europe/Zurich]\n",
      "light                                float64\n",
      "temperature                          float64\n",
      "humidity                             float64\n",
      "co2                                  float64\n",
      "dtype: object\n",
      "\n",
      "Available data from the 2019-03-07 to the 2019-05-01.\n",
      "\n",
      "Showing the dataframe. Use it to find the time window you would like to investigate:\n"
     ]
    },
    {
     "data": {
      "application/vnd.jupyter.widget-view+json": {
       "model_id": "36520f73f8cc45cd9e277b4276c7f4a9",
       "version_major": 2,
       "version_minor": 0
      },
      "text/plain": [
       "Canvas(toolbar=Toolbar(toolitems=[('Home', 'Reset original view', 'home', 'home'), ('Back', 'Back to previous …"
      ]
     },
     "metadata": {},
     "output_type": "display_data"
    },
    {
     "name": "stdout",
     "output_type": "stream",
     "text": [
      "Full dataset: 2019-03-07 to the 2019-05-01. Analysed data the 2019-03-07 to the 2019-05-01.\n"
     ]
    }
   ],
   "source": [
    "# Enter the number of the device as a string with two digits and execute the cell\n",
    "device_nb = '33'\n",
    "\n",
    "# Load the device-specific dataframe. Show the most important information\n",
    "assert isinstance(device_nb, str) and len(device_nb)==2 and sum(d.isdigit() for d in device_nb)==2, 'WARNING: device_nb must be a string of 2-digits!'\n",
    "assert int(device_nb)>=1 and int(device_nb)<=51, 'This device does not belong to the dataframe'\n",
    "device, df_dev = load_ds(device_nb)\n",
    "\n",
    "# Convert the variable device from a np.array to a string\n",
    "regex = re.compile('[^A-Za-z0-9]')\n",
    "device = regex.sub('', str(device))\n",
    "\n",
    "# Show the full device-specific dataframe\n",
    "print('\\nShowing the dataframe. Use it to find the time window you would like to investigate:')\n",
    "start = df_dev['ds'][0].strftime('%Y-%m-%d')\n",
    "last = df_dev['ds'][df_dev.shape[0]-1].strftime('%Y-%m-%d')\n",
    "df, predict_n, today_index, lookback_n = df_generator(df_dev, device, 'co2', start, last,  '1T', 0.016)\n",
    "plt.show()"
   ]
  },
  {
   "cell_type": "markdown",
   "metadata": {},
   "source": [
    "## Data visualisation"
   ]
  },
  {
   "cell_type": "code",
   "execution_count": 7,
   "metadata": {},
   "outputs": [
    {
     "data": {
      "application/vnd.jupyter.widget-view+json": {
       "model_id": "e8bf0be65cfb4dbb994979abed5bb57f",
       "version_major": 2,
       "version_minor": 0
      },
      "text/plain": [
       "Canvas(toolbar=Toolbar(toolitems=[('Home', 'Reset original view', 'home', 'home'), ('Back', 'Back to previous …"
      ]
     },
     "metadata": {},
     "output_type": "display_data"
    },
    {
     "name": "stdout",
     "output_type": "stream",
     "text": [
      "Full dataset: 2019-03-07 to the 2019-05-01. Analysed data the 2019-03-26 to the 2019-04-03.\n"
     ]
    }
   ],
   "source": [
    "start = '2019-03-26'\n",
    "last = '2019-04-03'\n",
    "df, predict_n, today_index, lookback_n = df_generator(df_dev, device, 'co2', start, last,  '5T', 0.08)"
   ]
  },
  {
   "cell_type": "code",
   "execution_count": 8,
   "metadata": {},
   "outputs": [
    {
     "name": "stdout",
     "output_type": "stream",
     "text": [
      "2291\n"
     ]
    }
   ],
   "source": [
    "find_index(df, '2019-03-08', '20:30')"
   ]
  },
  {
   "cell_type": "markdown",
   "metadata": {
    "colab_type": "text",
    "id": "_2FVJ7cvKTjl"
   },
   "source": [
    "## Model training"
   ]
  },
  {
   "cell_type": "markdown",
   "metadata": {},
   "source": [
    "### Running a Prophet instance"
   ]
  },
  {
   "cell_type": "code",
   "execution_count": 9,
   "metadata": {},
   "outputs": [
    {
     "name": "stdout",
     "output_type": "stream",
     "text": [
      "Full dataset: 2019-03-07 to the 2019-05-01. Analysed data the 2019-03-26 to the 2019-04-03.\n",
      "o Trained on the data from the 2019-03-26 to the 2019-04-02 (6 days).\n",
      "o Predict from the 2019-04-02 to the 2019-04-03 (1 days).\n"
     ]
    },
    {
     "data": {
      "application/vnd.jupyter.widget-view+json": {
       "model_id": "42c8ea9484f34d1f95092192527cd5fe",
       "version_major": 2,
       "version_minor": 0
      },
      "text/plain": [
       "Canvas(toolbar=Toolbar(toolitems=[('Home', 'Reset original view', 'home', 'home'), ('Back', 'Back to previous …"
      ]
     },
     "metadata": {},
     "output_type": "display_data"
    },
    {
     "name": "stderr",
     "output_type": "stream",
     "text": [
      "INFO:fbprophet:Making 2 forecasts with cutoffs between 2019-04-01 06:54:43.412000 and 2019-04-01 18:54:43.412000\n"
     ]
    }
   ],
   "source": [
    "# Single instance check\n",
    "df_p, df_pred = prophet(\n",
    "            df_dev,\n",
    "            device,\n",
    "            parameter='co2',\n",
    "            begin='2019-03-26',\n",
    "            end='2019-04-03',\n",
    "            sampling_period_min=5,\n",
    "            graph=1, \n",
    "            predict_day=1,\n",
    "            interval_width=0.6,\n",
    "            changepoint_prior_scale=0.01,\n",
    "            daily_fo = 12\n",
    ")"
   ]
  },
  {
   "cell_type": "markdown",
   "metadata": {},
   "source": [
    "**Plotting the Cross validation performance metrics over time**"
   ]
  },
  {
   "cell_type": "code",
   "execution_count": 10,
   "metadata": {},
   "outputs": [
    {
     "data": {
      "text/plain": [
       "horizon     timedelta64[ns]\n",
       "mse                 float64\n",
       "rmse                float64\n",
       "mae                 float64\n",
       "mape                float64\n",
       "mdape               float64\n",
       "coverage            float64\n",
       "dtype: object"
      ]
     },
     "execution_count": 10,
     "metadata": {},
     "output_type": "execute_result"
    }
   ],
   "source": [
    "df_p.dtypes"
   ]
  },
  {
   "cell_type": "code",
   "execution_count": 14,
   "metadata": {},
   "outputs": [
    {
     "data": {
      "application/vnd.jupyter.widget-view+json": {
       "model_id": "b0460a76d8e64f95943740febe698854",
       "version_major": 2,
       "version_minor": 0
      },
      "text/plain": [
       "Canvas(toolbar=Toolbar(toolitems=[('Home', 'Reset original view', 'home', 'home'), ('Back', 'Back to previous …"
      ]
     },
     "metadata": {},
     "output_type": "display_data"
    }
   ],
   "source": [
    "today = datetime.today()\n",
    "df_p['dt'] = today + df_p['horizon']\n",
    "plt.close()\n",
    "ax = sns.lineplot(x=\"dt\", y=\"mape\", data=df_p)\n",
    "myFmt = DateFormatter(\"%H:%M\")\n",
    "ax.xaxis.set_major_formatter(myFmt)\n",
    "plt.xlabel('Daytime of the predicted day', fontsize=10)\n",
    "plt.ylabel('Mean Average Percentage Error', fontsize=10)\n",
    "plt.title('Mean Average Percentage Error of the predicted day', fontsize=10)\n",
    "plt.show()"
   ]
  },
  {
   "cell_type": "code",
   "execution_count": 16,
   "metadata": {},
   "outputs": [
    {
     "name": "stdout",
     "output_type": "stream",
     "text": [
      "Full dataset: 2019-03-07 to the 2019-05-01. Analysed data the 2019-03-24 to the 2019-04-03.\n",
      "o Trained on the data from the 2019-03-24 to the 2019-04-02 (8 days).\n",
      "o Predict from the 2019-04-02 to the 2019-04-03 (1 days).\n"
     ]
    },
    {
     "data": {
      "application/vnd.jupyter.widget-view+json": {
       "model_id": "52e367286e8e4c47abf8d3a1fba4d76a",
       "version_major": 2,
       "version_minor": 0
      },
      "text/plain": [
       "Canvas(toolbar=Toolbar(toolitems=[('Home', 'Reset original view', 'home', 'home'), ('Back', 'Back to previous …"
      ]
     },
     "metadata": {},
     "output_type": "display_data"
    },
    {
     "name": "stderr",
     "output_type": "stream",
     "text": [
      "INFO:fbprophet:Making 6 forecasts with cutoffs between 2019-03-30 06:58:44.135000 and 2019-04-01 18:58:44.135000\n"
     ]
    }
   ],
   "source": [
    "# Single instance example\n",
    "df_p, df_pred = prophet(\n",
    "            df_dev,\n",
    "            device,\n",
    "            parameter='co2',\n",
    "            begin='2019-03-24',\n",
    "            end='2019-04-03',\n",
    "            sampling_period_min=1,\n",
    "            graph=1, \n",
    "            predict_day=1,\n",
    "            interval_width=0.6,\n",
    "            changepoint_prior_scale=0.001,\n",
    "            daily_fo = 3\n",
    ")"
   ]
  },
  {
   "cell_type": "markdown",
   "metadata": {},
   "source": [
    "### Running a GridSearch of Prophet: Hyperparameter optimization\n",
    "\n",
    "**See the result analysis in ../docs/Prophet_notes.md**\n",
    "\n",
    "See this the [official Prophet documentation](https://facebook.github.io/prophet/docs/seasonality,_holiday_effects,_and_regressors.html#fourier-order-for-seasonalities) and this [tutorial](https://towardsdatascience.com/implementing-facebook-prophet-efficiently-c241305405a3) for a comprehensive guide of seasonality settings.\n",
    "\n",
    "**Parameters to optimize**\n",
    "* *interval_width*=0.9, Anomaly threshold or tolerance. If you decrease it you increase the sensitivity to detect outliers.\n",
    "* *yearly_seasonality*=False, weekly_seasonality=False, daily_seasonality=False *--> Use your own seasonility.*\n",
    "* *changepoint_prior_scale*=0.01 # Adjusting trend flexibility. low *--> toward overfit. Does not make sense to have more than 0.1. Just increasing tolerance.*\n",
    "* *model.add_seasonality*(name='daily', period=1, (you can add as many seasonalities as you want. Period (float number)in days.\n",
    "    * fourier_order=12 (it is better to use a fourier order>10)\n",
    "    * prior_scale=0.1\n",
    "* *n_changepoints* seems to be a parameter that would be helpful in this project (did not have the time to check it yet)."
   ]
  },
  {
   "cell_type": "markdown",
   "metadata": {},
   "source": [
    "**Test 1: Testing different sampling periods, changepoint_prior_scale and daily_fo of the Prophet model**"
   ]
  },
  {
   "cell_type": "code",
   "execution_count": 20,
   "metadata": {},
   "outputs": [
    {
     "name": "stdout",
     "output_type": "stream",
     "text": [
      "\n",
      "prophet_instance nb 0\n",
      "Tested model:\n",
      "Full dataset: 2019-03-07 to the 2019-05-01. Analysed data the 2019-03-22 to the 2019-04-03.\n",
      "o Trained on the data from the 2019-03-22 to the 2019-04-02 (10 days).\n",
      "o Predict from the 2019-04-02 to the 2019-04-03 (1 days).\n"
     ]
    },
    {
     "data": {
      "application/vnd.jupyter.widget-view+json": {
       "model_id": "6f6fd60ee5c54bb2bb5d74ef6708b669",
       "version_major": 2,
       "version_minor": 0
      },
      "text/plain": [
       "Canvas(toolbar=Toolbar(toolitems=[('Home', 'Reset original view', 'home', 'home'), ('Back', 'Back to previous …"
      ]
     },
     "metadata": {},
     "output_type": "display_data"
    },
    {
     "name": "stderr",
     "output_type": "stream",
     "text": [
      "INFO:fbprophet:Making 10 forecasts with cutoffs between 2019-03-28 06:58:44.135000 and 2019-04-01 18:58:44.135000\n"
     ]
    },
    {
     "name": "stdout",
     "output_type": "stream",
     "text": [
      "\n",
      "prophet_instance nb 1\n",
      "Tested model:\n",
      "Full dataset: 2019-03-07 to the 2019-05-01. Analysed data the 2019-03-22 to the 2019-04-03.\n",
      "o Trained on the data from the 2019-03-22 to the 2019-04-02 (10 days).\n",
      "o Predict from the 2019-04-02 to the 2019-04-03 (1 days).\n"
     ]
    },
    {
     "data": {
      "application/vnd.jupyter.widget-view+json": {
       "model_id": "fdd72ac331264328864d797cd1451bac",
       "version_major": 2,
       "version_minor": 0
      },
      "text/plain": [
       "Canvas(toolbar=Toolbar(toolitems=[('Home', 'Reset original view', 'home', 'home'), ('Back', 'Back to previous …"
      ]
     },
     "metadata": {},
     "output_type": "display_data"
    },
    {
     "name": "stderr",
     "output_type": "stream",
     "text": [
      "INFO:fbprophet:Making 10 forecasts with cutoffs between 2019-03-28 06:54:43.412000 and 2019-04-01 18:54:43.412000\n"
     ]
    },
    {
     "name": "stdout",
     "output_type": "stream",
     "text": [
      "\n",
      "prophet_instance nb 2\n",
      "Tested model:\n",
      "Full dataset: 2019-03-07 to the 2019-05-01. Analysed data the 2019-03-22 to the 2019-04-03.\n",
      "o Trained on the data from the 2019-03-23 to the 2019-04-02 (10 days).\n",
      "o Predict from the 2019-04-02 to the 2019-04-03 (1 days).\n"
     ]
    },
    {
     "data": {
      "application/vnd.jupyter.widget-view+json": {
       "model_id": "598d83b8e2aa42f6b967b8616755a4e3",
       "version_major": 2,
       "version_minor": 0
      },
      "text/plain": [
       "Canvas(toolbar=Toolbar(toolitems=[('Home', 'Reset original view', 'home', 'home'), ('Back', 'Back to previous …"
      ]
     },
     "metadata": {},
     "output_type": "display_data"
    },
    {
     "name": "stderr",
     "output_type": "stream",
     "text": [
      "INFO:fbprophet:Making 10 forecasts with cutoffs between 2019-03-28 06:29:58.738000 and 2019-04-01 18:29:58.738000\n"
     ]
    },
    {
     "name": "stdout",
     "output_type": "stream",
     "text": [
      "\n",
      "prophet_instance nb 3\n",
      "Tested model:\n",
      "Full dataset: 2019-03-07 to the 2019-05-01. Analysed data the 2019-03-22 to the 2019-04-03.\n",
      "o Trained on the data from the 2019-03-22 to the 2019-04-02 (10 days).\n",
      "o Predict from the 2019-04-02 to the 2019-04-03 (1 days).\n"
     ]
    },
    {
     "data": {
      "application/vnd.jupyter.widget-view+json": {
       "model_id": "5670e3ed6f0a4549ad0d7b495d1f0e74",
       "version_major": 2,
       "version_minor": 0
      },
      "text/plain": [
       "Canvas(toolbar=Toolbar(toolitems=[('Home', 'Reset original view', 'home', 'home'), ('Back', 'Back to previous …"
      ]
     },
     "metadata": {},
     "output_type": "display_data"
    },
    {
     "name": "stderr",
     "output_type": "stream",
     "text": [
      "INFO:fbprophet:Making 10 forecasts with cutoffs between 2019-03-28 06:58:44.135000 and 2019-04-01 18:58:44.135000\n"
     ]
    },
    {
     "name": "stdout",
     "output_type": "stream",
     "text": [
      "\n",
      "prophet_instance nb 4\n",
      "Tested model:\n",
      "Full dataset: 2019-03-07 to the 2019-05-01. Analysed data the 2019-03-22 to the 2019-04-03.\n",
      "o Trained on the data from the 2019-03-22 to the 2019-04-02 (10 days).\n",
      "o Predict from the 2019-04-02 to the 2019-04-03 (1 days).\n"
     ]
    },
    {
     "data": {
      "application/vnd.jupyter.widget-view+json": {
       "model_id": "e346f3baffd843b0abd155513519ac55",
       "version_major": 2,
       "version_minor": 0
      },
      "text/plain": [
       "Canvas(toolbar=Toolbar(toolitems=[('Home', 'Reset original view', 'home', 'home'), ('Back', 'Back to previous …"
      ]
     },
     "metadata": {},
     "output_type": "display_data"
    },
    {
     "name": "stderr",
     "output_type": "stream",
     "text": [
      "INFO:fbprophet:Making 10 forecasts with cutoffs between 2019-03-28 06:54:43.412000 and 2019-04-01 18:54:43.412000\n"
     ]
    },
    {
     "name": "stdout",
     "output_type": "stream",
     "text": [
      "\n",
      "prophet_instance nb 5\n",
      "Tested model:\n",
      "Full dataset: 2019-03-07 to the 2019-05-01. Analysed data the 2019-03-22 to the 2019-04-03.\n",
      "o Trained on the data from the 2019-03-23 to the 2019-04-02 (10 days).\n",
      "o Predict from the 2019-04-02 to the 2019-04-03 (1 days).\n"
     ]
    },
    {
     "data": {
      "application/vnd.jupyter.widget-view+json": {
       "model_id": "df7704dfa3db4426851732a437f77665",
       "version_major": 2,
       "version_minor": 0
      },
      "text/plain": [
       "Canvas(toolbar=Toolbar(toolitems=[('Home', 'Reset original view', 'home', 'home'), ('Back', 'Back to previous …"
      ]
     },
     "metadata": {},
     "output_type": "display_data"
    },
    {
     "name": "stderr",
     "output_type": "stream",
     "text": [
      "INFO:fbprophet:Making 10 forecasts with cutoffs between 2019-03-28 06:29:58.738000 and 2019-04-01 18:29:58.738000\n"
     ]
    },
    {
     "name": "stdout",
     "output_type": "stream",
     "text": [
      "\n",
      "prophet_instance nb 6\n",
      "Tested model:\n",
      "Full dataset: 2019-03-07 to the 2019-05-01. Analysed data the 2019-03-22 to the 2019-04-03.\n",
      "o Trained on the data from the 2019-03-22 to the 2019-04-02 (10 days).\n",
      "o Predict from the 2019-04-02 to the 2019-04-03 (1 days).\n"
     ]
    },
    {
     "data": {
      "application/vnd.jupyter.widget-view+json": {
       "model_id": "ebbea04e129f4caa84d013c670398873",
       "version_major": 2,
       "version_minor": 0
      },
      "text/plain": [
       "Canvas(toolbar=Toolbar(toolitems=[('Home', 'Reset original view', 'home', 'home'), ('Back', 'Back to previous …"
      ]
     },
     "metadata": {},
     "output_type": "display_data"
    },
    {
     "name": "stderr",
     "output_type": "stream",
     "text": [
      "INFO:fbprophet:Making 10 forecasts with cutoffs between 2019-03-28 06:58:44.135000 and 2019-04-01 18:58:44.135000\n"
     ]
    },
    {
     "name": "stdout",
     "output_type": "stream",
     "text": [
      "\n",
      "prophet_instance nb 7\n",
      "Tested model:\n",
      "Full dataset: 2019-03-07 to the 2019-05-01. Analysed data the 2019-03-22 to the 2019-04-03.\n",
      "o Trained on the data from the 2019-03-22 to the 2019-04-02 (10 days).\n",
      "o Predict from the 2019-04-02 to the 2019-04-03 (1 days).\n"
     ]
    },
    {
     "data": {
      "application/vnd.jupyter.widget-view+json": {
       "model_id": "28cbe886433740d68026464edab298f3",
       "version_major": 2,
       "version_minor": 0
      },
      "text/plain": [
       "Canvas(toolbar=Toolbar(toolitems=[('Home', 'Reset original view', 'home', 'home'), ('Back', 'Back to previous …"
      ]
     },
     "metadata": {},
     "output_type": "display_data"
    },
    {
     "name": "stderr",
     "output_type": "stream",
     "text": [
      "INFO:fbprophet:Making 10 forecasts with cutoffs between 2019-03-28 06:54:43.412000 and 2019-04-01 18:54:43.412000\n"
     ]
    },
    {
     "name": "stdout",
     "output_type": "stream",
     "text": [
      "\n",
      "prophet_instance nb 8\n",
      "Tested model:\n",
      "Full dataset: 2019-03-07 to the 2019-05-01. Analysed data the 2019-03-22 to the 2019-04-03.\n",
      "o Trained on the data from the 2019-03-23 to the 2019-04-02 (10 days).\n",
      "o Predict from the 2019-04-02 to the 2019-04-03 (1 days).\n"
     ]
    },
    {
     "data": {
      "application/vnd.jupyter.widget-view+json": {
       "model_id": "ce7f67fa478945c3bfacabbedf6456df",
       "version_major": 2,
       "version_minor": 0
      },
      "text/plain": [
       "Canvas(toolbar=Toolbar(toolitems=[('Home', 'Reset original view', 'home', 'home'), ('Back', 'Back to previous …"
      ]
     },
     "metadata": {},
     "output_type": "display_data"
    },
    {
     "name": "stderr",
     "output_type": "stream",
     "text": [
      "INFO:fbprophet:Making 10 forecasts with cutoffs between 2019-03-28 06:29:58.738000 and 2019-04-01 18:29:58.738000\n"
     ]
    },
    {
     "name": "stdout",
     "output_type": "stream",
     "text": [
      "\n",
      "prophet_instance nb 9\n",
      "Tested model:\n",
      "Full dataset: 2019-03-07 to the 2019-05-01. Analysed data the 2019-03-22 to the 2019-04-03.\n",
      "o Trained on the data from the 2019-03-22 to the 2019-04-02 (10 days).\n",
      "o Predict from the 2019-04-02 to the 2019-04-03 (1 days).\n"
     ]
    },
    {
     "data": {
      "application/vnd.jupyter.widget-view+json": {
       "model_id": "918bbe67a8984bd9bad8795f7620073c",
       "version_major": 2,
       "version_minor": 0
      },
      "text/plain": [
       "Canvas(toolbar=Toolbar(toolitems=[('Home', 'Reset original view', 'home', 'home'), ('Back', 'Back to previous …"
      ]
     },
     "metadata": {},
     "output_type": "display_data"
    },
    {
     "name": "stderr",
     "output_type": "stream",
     "text": [
      "INFO:fbprophet:Making 10 forecasts with cutoffs between 2019-03-28 06:58:44.135000 and 2019-04-01 18:58:44.135000\n"
     ]
    },
    {
     "name": "stdout",
     "output_type": "stream",
     "text": [
      "\n",
      "prophet_instance nb 10\n",
      "Tested model:\n",
      "Full dataset: 2019-03-07 to the 2019-05-01. Analysed data the 2019-03-22 to the 2019-04-03.\n",
      "o Trained on the data from the 2019-03-22 to the 2019-04-02 (10 days).\n",
      "o Predict from the 2019-04-02 to the 2019-04-03 (1 days).\n"
     ]
    },
    {
     "data": {
      "application/vnd.jupyter.widget-view+json": {
       "model_id": "b51bffa88d3344079c6aad40ceba75a1",
       "version_major": 2,
       "version_minor": 0
      },
      "text/plain": [
       "Canvas(toolbar=Toolbar(toolitems=[('Home', 'Reset original view', 'home', 'home'), ('Back', 'Back to previous …"
      ]
     },
     "metadata": {},
     "output_type": "display_data"
    },
    {
     "name": "stderr",
     "output_type": "stream",
     "text": [
      "INFO:fbprophet:Making 10 forecasts with cutoffs between 2019-03-28 06:54:43.412000 and 2019-04-01 18:54:43.412000\n"
     ]
    },
    {
     "name": "stdout",
     "output_type": "stream",
     "text": [
      "\n",
      "prophet_instance nb 11\n",
      "Tested model:\n",
      "Full dataset: 2019-03-07 to the 2019-05-01. Analysed data the 2019-03-22 to the 2019-04-03.\n",
      "o Trained on the data from the 2019-03-23 to the 2019-04-02 (10 days).\n",
      "o Predict from the 2019-04-02 to the 2019-04-03 (1 days).\n"
     ]
    },
    {
     "data": {
      "application/vnd.jupyter.widget-view+json": {
       "model_id": "31c68cb1be3f4ed3ac13f6d94a627299",
       "version_major": 2,
       "version_minor": 0
      },
      "text/plain": [
       "Canvas(toolbar=Toolbar(toolitems=[('Home', 'Reset original view', 'home', 'home'), ('Back', 'Back to previous …"
      ]
     },
     "metadata": {},
     "output_type": "display_data"
    },
    {
     "name": "stderr",
     "output_type": "stream",
     "text": [
      "INFO:fbprophet:Making 10 forecasts with cutoffs between 2019-03-28 06:29:58.738000 and 2019-04-01 18:29:58.738000\n"
     ]
    },
    {
     "name": "stdout",
     "output_type": "stream",
     "text": [
      "\n",
      "prophet_instance nb 12\n",
      "Tested model:\n",
      "Full dataset: 2019-03-07 to the 2019-05-01. Analysed data the 2019-03-22 to the 2019-04-03.\n",
      "o Trained on the data from the 2019-03-22 to the 2019-04-02 (10 days).\n",
      "o Predict from the 2019-04-02 to the 2019-04-03 (1 days).\n"
     ]
    },
    {
     "data": {
      "application/vnd.jupyter.widget-view+json": {
       "model_id": "12d80bdb1c524519a00ef2feaeea1bc3",
       "version_major": 2,
       "version_minor": 0
      },
      "text/plain": [
       "Canvas(toolbar=Toolbar(toolitems=[('Home', 'Reset original view', 'home', 'home'), ('Back', 'Back to previous …"
      ]
     },
     "metadata": {},
     "output_type": "display_data"
    },
    {
     "name": "stderr",
     "output_type": "stream",
     "text": [
      "INFO:fbprophet:Making 10 forecasts with cutoffs between 2019-03-28 06:58:44.135000 and 2019-04-01 18:58:44.135000\n"
     ]
    },
    {
     "name": "stdout",
     "output_type": "stream",
     "text": [
      "\n",
      "prophet_instance nb 13\n",
      "Tested model:\n",
      "Full dataset: 2019-03-07 to the 2019-05-01. Analysed data the 2019-03-22 to the 2019-04-03.\n",
      "o Trained on the data from the 2019-03-22 to the 2019-04-02 (10 days).\n",
      "o Predict from the 2019-04-02 to the 2019-04-03 (1 days).\n"
     ]
    },
    {
     "data": {
      "application/vnd.jupyter.widget-view+json": {
       "model_id": "aa97ea35dd034cf58cece00be5028c8c",
       "version_major": 2,
       "version_minor": 0
      },
      "text/plain": [
       "Canvas(toolbar=Toolbar(toolitems=[('Home', 'Reset original view', 'home', 'home'), ('Back', 'Back to previous …"
      ]
     },
     "metadata": {},
     "output_type": "display_data"
    },
    {
     "name": "stderr",
     "output_type": "stream",
     "text": [
      "INFO:fbprophet:Making 10 forecasts with cutoffs between 2019-03-28 06:54:43.412000 and 2019-04-01 18:54:43.412000\n"
     ]
    },
    {
     "name": "stdout",
     "output_type": "stream",
     "text": [
      "\n",
      "prophet_instance nb 14\n",
      "Tested model:\n",
      "Full dataset: 2019-03-07 to the 2019-05-01. Analysed data the 2019-03-22 to the 2019-04-03.\n",
      "o Trained on the data from the 2019-03-23 to the 2019-04-02 (10 days).\n",
      "o Predict from the 2019-04-02 to the 2019-04-03 (1 days).\n"
     ]
    },
    {
     "data": {
      "application/vnd.jupyter.widget-view+json": {
       "model_id": "6bd083214f7141c18e720c76f1037e3c",
       "version_major": 2,
       "version_minor": 0
      },
      "text/plain": [
       "Canvas(toolbar=Toolbar(toolitems=[('Home', 'Reset original view', 'home', 'home'), ('Back', 'Back to previous …"
      ]
     },
     "metadata": {},
     "output_type": "display_data"
    },
    {
     "name": "stderr",
     "output_type": "stream",
     "text": [
      "INFO:fbprophet:Making 10 forecasts with cutoffs between 2019-03-28 06:29:58.738000 and 2019-04-01 18:29:58.738000\n"
     ]
    },
    {
     "name": "stdout",
     "output_type": "stream",
     "text": [
      "\n",
      "prophet_instance nb 15\n",
      "Tested model:\n",
      "Full dataset: 2019-03-07 to the 2019-05-01. Analysed data the 2019-03-22 to the 2019-04-03.\n",
      "o Trained on the data from the 2019-03-22 to the 2019-04-02 (10 days).\n",
      "o Predict from the 2019-04-02 to the 2019-04-03 (1 days).\n"
     ]
    },
    {
     "data": {
      "application/vnd.jupyter.widget-view+json": {
       "model_id": "c59d3eff31954124a222b7cf74d56858",
       "version_major": 2,
       "version_minor": 0
      },
      "text/plain": [
       "Canvas(toolbar=Toolbar(toolitems=[('Home', 'Reset original view', 'home', 'home'), ('Back', 'Back to previous …"
      ]
     },
     "metadata": {},
     "output_type": "display_data"
    },
    {
     "name": "stderr",
     "output_type": "stream",
     "text": [
      "INFO:fbprophet:Making 10 forecasts with cutoffs between 2019-03-28 06:58:44.135000 and 2019-04-01 18:58:44.135000\n"
     ]
    },
    {
     "name": "stdout",
     "output_type": "stream",
     "text": [
      "\n",
      "prophet_instance nb 16\n",
      "Tested model:\n",
      "Full dataset: 2019-03-07 to the 2019-05-01. Analysed data the 2019-03-22 to the 2019-04-03.\n",
      "o Trained on the data from the 2019-03-22 to the 2019-04-02 (10 days).\n",
      "o Predict from the 2019-04-02 to the 2019-04-03 (1 days).\n"
     ]
    },
    {
     "data": {
      "application/vnd.jupyter.widget-view+json": {
       "model_id": "b1acb58ebe384e70969e4a4f98549474",
       "version_major": 2,
       "version_minor": 0
      },
      "text/plain": [
       "Canvas(toolbar=Toolbar(toolitems=[('Home', 'Reset original view', 'home', 'home'), ('Back', 'Back to previous …"
      ]
     },
     "metadata": {},
     "output_type": "display_data"
    },
    {
     "name": "stderr",
     "output_type": "stream",
     "text": [
      "INFO:fbprophet:Making 10 forecasts with cutoffs between 2019-03-28 06:54:43.412000 and 2019-04-01 18:54:43.412000\n"
     ]
    },
    {
     "name": "stdout",
     "output_type": "stream",
     "text": [
      "\n",
      "prophet_instance nb 17\n",
      "Tested model:\n",
      "Full dataset: 2019-03-07 to the 2019-05-01. Analysed data the 2019-03-22 to the 2019-04-03.\n",
      "o Trained on the data from the 2019-03-23 to the 2019-04-02 (10 days).\n",
      "o Predict from the 2019-04-02 to the 2019-04-03 (1 days).\n"
     ]
    },
    {
     "data": {
      "application/vnd.jupyter.widget-view+json": {
       "model_id": "42858899ae33458e9a50bcc65cc3478e",
       "version_major": 2,
       "version_minor": 0
      },
      "text/plain": [
       "Canvas(toolbar=Toolbar(toolitems=[('Home', 'Reset original view', 'home', 'home'), ('Back', 'Back to previous …"
      ]
     },
     "metadata": {},
     "output_type": "display_data"
    },
    {
     "name": "stderr",
     "output_type": "stream",
     "text": [
      "INFO:fbprophet:Making 10 forecasts with cutoffs between 2019-03-28 06:29:58.738000 and 2019-04-01 18:29:58.738000\n"
     ]
    },
    {
     "name": "stdout",
     "output_type": "stream",
     "text": [
      "\n",
      "prophet_instance nb 18\n",
      "Tested model:\n",
      "Full dataset: 2019-03-07 to the 2019-05-01. Analysed data the 2019-03-24 to the 2019-04-03.\n",
      "o Trained on the data from the 2019-03-24 to the 2019-04-02 (8 days).\n",
      "o Predict from the 2019-04-02 to the 2019-04-03 (1 days).\n"
     ]
    },
    {
     "data": {
      "application/vnd.jupyter.widget-view+json": {
       "model_id": "23c58890093144f8a2ec627536cb3d78",
       "version_major": 2,
       "version_minor": 0
      },
      "text/plain": [
       "Canvas(toolbar=Toolbar(toolitems=[('Home', 'Reset original view', 'home', 'home'), ('Back', 'Back to previous …"
      ]
     },
     "metadata": {},
     "output_type": "display_data"
    },
    {
     "name": "stderr",
     "output_type": "stream",
     "text": [
      "INFO:fbprophet:Making 6 forecasts with cutoffs between 2019-03-30 06:58:44.135000 and 2019-04-01 18:58:44.135000\n"
     ]
    },
    {
     "name": "stdout",
     "output_type": "stream",
     "text": [
      "\n",
      "prophet_instance nb 19\n",
      "Tested model:\n",
      "Full dataset: 2019-03-07 to the 2019-05-01. Analysed data the 2019-03-24 to the 2019-04-03.\n",
      "o Trained on the data from the 2019-03-24 to the 2019-04-02 (8 days).\n",
      "o Predict from the 2019-04-02 to the 2019-04-03 (1 days).\n"
     ]
    },
    {
     "data": {
      "application/vnd.jupyter.widget-view+json": {
       "model_id": "8ac7eb784379411282993b6833d24015",
       "version_major": 2,
       "version_minor": 0
      },
      "text/plain": [
       "Canvas(toolbar=Toolbar(toolitems=[('Home', 'Reset original view', 'home', 'home'), ('Back', 'Back to previous …"
      ]
     },
     "metadata": {},
     "output_type": "display_data"
    },
    {
     "name": "stderr",
     "output_type": "stream",
     "text": [
      "INFO:fbprophet:Making 6 forecasts with cutoffs between 2019-03-30 06:54:43.412000 and 2019-04-01 18:54:43.412000\n"
     ]
    },
    {
     "name": "stdout",
     "output_type": "stream",
     "text": [
      "\n",
      "prophet_instance nb 20\n",
      "Tested model:\n",
      "Full dataset: 2019-03-07 to the 2019-05-01. Analysed data the 2019-03-24 to the 2019-04-03.\n",
      "o Trained on the data from the 2019-03-24 to the 2019-04-02 (8 days).\n",
      "o Predict from the 2019-04-02 to the 2019-04-03 (1 days).\n"
     ]
    },
    {
     "data": {
      "application/vnd.jupyter.widget-view+json": {
       "model_id": "b2ccf6a5992e4979a7ec8c3a1d13a57e",
       "version_major": 2,
       "version_minor": 0
      },
      "text/plain": [
       "Canvas(toolbar=Toolbar(toolitems=[('Home', 'Reset original view', 'home', 'home'), ('Back', 'Back to previous …"
      ]
     },
     "metadata": {},
     "output_type": "display_data"
    },
    {
     "name": "stderr",
     "output_type": "stream",
     "text": [
      "INFO:fbprophet:Making 6 forecasts with cutoffs between 2019-03-30 06:29:58.738000 and 2019-04-01 18:29:58.738000\n"
     ]
    },
    {
     "name": "stdout",
     "output_type": "stream",
     "text": [
      "\n",
      "prophet_instance nb 21\n",
      "Tested model:\n",
      "Full dataset: 2019-03-07 to the 2019-05-01. Analysed data the 2019-03-24 to the 2019-04-03.\n",
      "o Trained on the data from the 2019-03-24 to the 2019-04-02 (8 days).\n",
      "o Predict from the 2019-04-02 to the 2019-04-03 (1 days).\n"
     ]
    },
    {
     "data": {
      "application/vnd.jupyter.widget-view+json": {
       "model_id": "b674fdb270534417beaea7065f3667f9",
       "version_major": 2,
       "version_minor": 0
      },
      "text/plain": [
       "Canvas(toolbar=Toolbar(toolitems=[('Home', 'Reset original view', 'home', 'home'), ('Back', 'Back to previous …"
      ]
     },
     "metadata": {},
     "output_type": "display_data"
    },
    {
     "name": "stderr",
     "output_type": "stream",
     "text": [
      "INFO:fbprophet:Making 6 forecasts with cutoffs between 2019-03-30 06:58:44.135000 and 2019-04-01 18:58:44.135000\n"
     ]
    },
    {
     "name": "stdout",
     "output_type": "stream",
     "text": [
      "\n",
      "prophet_instance nb 22\n",
      "Tested model:\n",
      "Full dataset: 2019-03-07 to the 2019-05-01. Analysed data the 2019-03-24 to the 2019-04-03.\n",
      "o Trained on the data from the 2019-03-24 to the 2019-04-02 (8 days).\n",
      "o Predict from the 2019-04-02 to the 2019-04-03 (1 days).\n"
     ]
    },
    {
     "data": {
      "application/vnd.jupyter.widget-view+json": {
       "model_id": "8f0d2cfbcd9a42bca2171eca4f424e84",
       "version_major": 2,
       "version_minor": 0
      },
      "text/plain": [
       "Canvas(toolbar=Toolbar(toolitems=[('Home', 'Reset original view', 'home', 'home'), ('Back', 'Back to previous …"
      ]
     },
     "metadata": {},
     "output_type": "display_data"
    },
    {
     "name": "stderr",
     "output_type": "stream",
     "text": [
      "INFO:fbprophet:Making 6 forecasts with cutoffs between 2019-03-30 06:54:43.412000 and 2019-04-01 18:54:43.412000\n"
     ]
    },
    {
     "name": "stdout",
     "output_type": "stream",
     "text": [
      "\n",
      "prophet_instance nb 23\n",
      "Tested model:\n",
      "Full dataset: 2019-03-07 to the 2019-05-01. Analysed data the 2019-03-24 to the 2019-04-03.\n",
      "o Trained on the data from the 2019-03-24 to the 2019-04-02 (8 days).\n",
      "o Predict from the 2019-04-02 to the 2019-04-03 (1 days).\n"
     ]
    },
    {
     "data": {
      "application/vnd.jupyter.widget-view+json": {
       "model_id": "8c2936fd090e4b2b8a4cc765a068fead",
       "version_major": 2,
       "version_minor": 0
      },
      "text/plain": [
       "Canvas(toolbar=Toolbar(toolitems=[('Home', 'Reset original view', 'home', 'home'), ('Back', 'Back to previous …"
      ]
     },
     "metadata": {},
     "output_type": "display_data"
    },
    {
     "name": "stderr",
     "output_type": "stream",
     "text": [
      "INFO:fbprophet:Making 6 forecasts with cutoffs between 2019-03-30 06:29:58.738000 and 2019-04-01 18:29:58.738000\n"
     ]
    },
    {
     "name": "stdout",
     "output_type": "stream",
     "text": [
      "\n",
      "prophet_instance nb 24\n",
      "Tested model:\n",
      "Full dataset: 2019-03-07 to the 2019-05-01. Analysed data the 2019-03-24 to the 2019-04-03.\n",
      "o Trained on the data from the 2019-03-24 to the 2019-04-02 (8 days).\n",
      "o Predict from the 2019-04-02 to the 2019-04-03 (1 days).\n"
     ]
    },
    {
     "data": {
      "application/vnd.jupyter.widget-view+json": {
       "model_id": "ff25c0fd2f424d8e9ec604dcb84a603b",
       "version_major": 2,
       "version_minor": 0
      },
      "text/plain": [
       "Canvas(toolbar=Toolbar(toolitems=[('Home', 'Reset original view', 'home', 'home'), ('Back', 'Back to previous …"
      ]
     },
     "metadata": {},
     "output_type": "display_data"
    },
    {
     "name": "stderr",
     "output_type": "stream",
     "text": [
      "INFO:fbprophet:Making 6 forecasts with cutoffs between 2019-03-30 06:58:44.135000 and 2019-04-01 18:58:44.135000\n"
     ]
    },
    {
     "name": "stdout",
     "output_type": "stream",
     "text": [
      "\n",
      "prophet_instance nb 25\n",
      "Tested model:\n",
      "Full dataset: 2019-03-07 to the 2019-05-01. Analysed data the 2019-03-24 to the 2019-04-03.\n",
      "o Trained on the data from the 2019-03-24 to the 2019-04-02 (8 days).\n",
      "o Predict from the 2019-04-02 to the 2019-04-03 (1 days).\n"
     ]
    },
    {
     "data": {
      "application/vnd.jupyter.widget-view+json": {
       "model_id": "bf042692ad8a427c9a3c1bd68dde96a1",
       "version_major": 2,
       "version_minor": 0
      },
      "text/plain": [
       "Canvas(toolbar=Toolbar(toolitems=[('Home', 'Reset original view', 'home', 'home'), ('Back', 'Back to previous …"
      ]
     },
     "metadata": {},
     "output_type": "display_data"
    },
    {
     "name": "stderr",
     "output_type": "stream",
     "text": [
      "INFO:fbprophet:Making 6 forecasts with cutoffs between 2019-03-30 06:54:43.412000 and 2019-04-01 18:54:43.412000\n"
     ]
    },
    {
     "name": "stdout",
     "output_type": "stream",
     "text": [
      "\n",
      "prophet_instance nb 26\n",
      "Tested model:\n",
      "Full dataset: 2019-03-07 to the 2019-05-01. Analysed data the 2019-03-24 to the 2019-04-03.\n",
      "o Trained on the data from the 2019-03-24 to the 2019-04-02 (8 days).\n",
      "o Predict from the 2019-04-02 to the 2019-04-03 (1 days).\n"
     ]
    },
    {
     "data": {
      "application/vnd.jupyter.widget-view+json": {
       "model_id": "07289dc82ae940a2aadf4b686030f193",
       "version_major": 2,
       "version_minor": 0
      },
      "text/plain": [
       "Canvas(toolbar=Toolbar(toolitems=[('Home', 'Reset original view', 'home', 'home'), ('Back', 'Back to previous …"
      ]
     },
     "metadata": {},
     "output_type": "display_data"
    },
    {
     "name": "stderr",
     "output_type": "stream",
     "text": [
      "INFO:fbprophet:Making 6 forecasts with cutoffs between 2019-03-30 06:29:58.738000 and 2019-04-01 18:29:58.738000\n"
     ]
    },
    {
     "name": "stdout",
     "output_type": "stream",
     "text": [
      "\n",
      "prophet_instance nb 27\n",
      "Tested model:\n",
      "Full dataset: 2019-03-07 to the 2019-05-01. Analysed data the 2019-03-24 to the 2019-04-03.\n",
      "o Trained on the data from the 2019-03-24 to the 2019-04-02 (8 days).\n",
      "o Predict from the 2019-04-02 to the 2019-04-03 (1 days).\n"
     ]
    },
    {
     "data": {
      "application/vnd.jupyter.widget-view+json": {
       "model_id": "251a21d3dff94d99a55f0b886999df5a",
       "version_major": 2,
       "version_minor": 0
      },
      "text/plain": [
       "Canvas(toolbar=Toolbar(toolitems=[('Home', 'Reset original view', 'home', 'home'), ('Back', 'Back to previous …"
      ]
     },
     "metadata": {},
     "output_type": "display_data"
    },
    {
     "name": "stderr",
     "output_type": "stream",
     "text": [
      "INFO:fbprophet:Making 6 forecasts with cutoffs between 2019-03-30 06:58:44.135000 and 2019-04-01 18:58:44.135000\n"
     ]
    },
    {
     "name": "stdout",
     "output_type": "stream",
     "text": [
      "\n",
      "prophet_instance nb 28\n",
      "Tested model:\n",
      "Full dataset: 2019-03-07 to the 2019-05-01. Analysed data the 2019-03-24 to the 2019-04-03.\n",
      "o Trained on the data from the 2019-03-24 to the 2019-04-02 (8 days).\n",
      "o Predict from the 2019-04-02 to the 2019-04-03 (1 days).\n"
     ]
    },
    {
     "data": {
      "application/vnd.jupyter.widget-view+json": {
       "model_id": "1fe6bee576b249d8bd27b6c9bc01e3b2",
       "version_major": 2,
       "version_minor": 0
      },
      "text/plain": [
       "Canvas(toolbar=Toolbar(toolitems=[('Home', 'Reset original view', 'home', 'home'), ('Back', 'Back to previous …"
      ]
     },
     "metadata": {},
     "output_type": "display_data"
    },
    {
     "name": "stderr",
     "output_type": "stream",
     "text": [
      "INFO:fbprophet:Making 6 forecasts with cutoffs between 2019-03-30 06:54:43.412000 and 2019-04-01 18:54:43.412000\n"
     ]
    },
    {
     "name": "stdout",
     "output_type": "stream",
     "text": [
      "\n",
      "prophet_instance nb 29\n",
      "Tested model:\n",
      "Full dataset: 2019-03-07 to the 2019-05-01. Analysed data the 2019-03-24 to the 2019-04-03.\n",
      "o Trained on the data from the 2019-03-24 to the 2019-04-02 (8 days).\n",
      "o Predict from the 2019-04-02 to the 2019-04-03 (1 days).\n"
     ]
    },
    {
     "data": {
      "application/vnd.jupyter.widget-view+json": {
       "model_id": "62ef58a4962540b19511daf600b2b83d",
       "version_major": 2,
       "version_minor": 0
      },
      "text/plain": [
       "Canvas(toolbar=Toolbar(toolitems=[('Home', 'Reset original view', 'home', 'home'), ('Back', 'Back to previous …"
      ]
     },
     "metadata": {},
     "output_type": "display_data"
    },
    {
     "name": "stderr",
     "output_type": "stream",
     "text": [
      "INFO:fbprophet:Making 6 forecasts with cutoffs between 2019-03-30 06:29:58.738000 and 2019-04-01 18:29:58.738000\n"
     ]
    },
    {
     "name": "stdout",
     "output_type": "stream",
     "text": [
      "\n",
      "prophet_instance nb 30\n",
      "Tested model:\n",
      "Full dataset: 2019-03-07 to the 2019-05-01. Analysed data the 2019-03-24 to the 2019-04-03.\n",
      "o Trained on the data from the 2019-03-24 to the 2019-04-02 (8 days).\n",
      "o Predict from the 2019-04-02 to the 2019-04-03 (1 days).\n"
     ]
    },
    {
     "data": {
      "application/vnd.jupyter.widget-view+json": {
       "model_id": "e05a6e06e6ed447e920e9e9087f8e7b1",
       "version_major": 2,
       "version_minor": 0
      },
      "text/plain": [
       "Canvas(toolbar=Toolbar(toolitems=[('Home', 'Reset original view', 'home', 'home'), ('Back', 'Back to previous …"
      ]
     },
     "metadata": {},
     "output_type": "display_data"
    },
    {
     "name": "stderr",
     "output_type": "stream",
     "text": [
      "INFO:fbprophet:Making 6 forecasts with cutoffs between 2019-03-30 06:58:44.135000 and 2019-04-01 18:58:44.135000\n"
     ]
    },
    {
     "name": "stdout",
     "output_type": "stream",
     "text": [
      "\n",
      "prophet_instance nb 31\n",
      "Tested model:\n",
      "Full dataset: 2019-03-07 to the 2019-05-01. Analysed data the 2019-03-24 to the 2019-04-03.\n",
      "o Trained on the data from the 2019-03-24 to the 2019-04-02 (8 days).\n",
      "o Predict from the 2019-04-02 to the 2019-04-03 (1 days).\n"
     ]
    },
    {
     "data": {
      "application/vnd.jupyter.widget-view+json": {
       "model_id": "504b2ede53c34bd48e7143cb9805801e",
       "version_major": 2,
       "version_minor": 0
      },
      "text/plain": [
       "Canvas(toolbar=Toolbar(toolitems=[('Home', 'Reset original view', 'home', 'home'), ('Back', 'Back to previous …"
      ]
     },
     "metadata": {},
     "output_type": "display_data"
    },
    {
     "name": "stderr",
     "output_type": "stream",
     "text": [
      "INFO:fbprophet:Making 6 forecasts with cutoffs between 2019-03-30 06:54:43.412000 and 2019-04-01 18:54:43.412000\n"
     ]
    },
    {
     "name": "stdout",
     "output_type": "stream",
     "text": [
      "\n",
      "prophet_instance nb 32\n",
      "Tested model:\n",
      "Full dataset: 2019-03-07 to the 2019-05-01. Analysed data the 2019-03-24 to the 2019-04-03.\n",
      "o Trained on the data from the 2019-03-24 to the 2019-04-02 (8 days).\n",
      "o Predict from the 2019-04-02 to the 2019-04-03 (1 days).\n"
     ]
    },
    {
     "data": {
      "application/vnd.jupyter.widget-view+json": {
       "model_id": "e889b25a876341669b5235227db08156",
       "version_major": 2,
       "version_minor": 0
      },
      "text/plain": [
       "Canvas(toolbar=Toolbar(toolitems=[('Home', 'Reset original view', 'home', 'home'), ('Back', 'Back to previous …"
      ]
     },
     "metadata": {},
     "output_type": "display_data"
    },
    {
     "name": "stderr",
     "output_type": "stream",
     "text": [
      "INFO:fbprophet:Making 6 forecasts with cutoffs between 2019-03-30 06:29:58.738000 and 2019-04-01 18:29:58.738000\n"
     ]
    },
    {
     "name": "stdout",
     "output_type": "stream",
     "text": [
      "\n",
      "prophet_instance nb 33\n",
      "Tested model:\n",
      "Full dataset: 2019-03-07 to the 2019-05-01. Analysed data the 2019-03-24 to the 2019-04-03.\n",
      "o Trained on the data from the 2019-03-24 to the 2019-04-02 (8 days).\n",
      "o Predict from the 2019-04-02 to the 2019-04-03 (1 days).\n"
     ]
    },
    {
     "data": {
      "application/vnd.jupyter.widget-view+json": {
       "model_id": "9e678537857c4eaf9193d01ba1bb90bf",
       "version_major": 2,
       "version_minor": 0
      },
      "text/plain": [
       "Canvas(toolbar=Toolbar(toolitems=[('Home', 'Reset original view', 'home', 'home'), ('Back', 'Back to previous …"
      ]
     },
     "metadata": {},
     "output_type": "display_data"
    },
    {
     "name": "stderr",
     "output_type": "stream",
     "text": [
      "INFO:fbprophet:Making 6 forecasts with cutoffs between 2019-03-30 06:58:44.135000 and 2019-04-01 18:58:44.135000\n"
     ]
    },
    {
     "name": "stdout",
     "output_type": "stream",
     "text": [
      "\n",
      "prophet_instance nb 34\n",
      "Tested model:\n",
      "Full dataset: 2019-03-07 to the 2019-05-01. Analysed data the 2019-03-24 to the 2019-04-03.\n",
      "o Trained on the data from the 2019-03-24 to the 2019-04-02 (8 days).\n",
      "o Predict from the 2019-04-02 to the 2019-04-03 (1 days).\n"
     ]
    },
    {
     "data": {
      "application/vnd.jupyter.widget-view+json": {
       "model_id": "31656918de5a4c7cb87c8b55ea714346",
       "version_major": 2,
       "version_minor": 0
      },
      "text/plain": [
       "Canvas(toolbar=Toolbar(toolitems=[('Home', 'Reset original view', 'home', 'home'), ('Back', 'Back to previous …"
      ]
     },
     "metadata": {},
     "output_type": "display_data"
    },
    {
     "name": "stderr",
     "output_type": "stream",
     "text": [
      "INFO:fbprophet:Making 6 forecasts with cutoffs between 2019-03-30 06:54:43.412000 and 2019-04-01 18:54:43.412000\n"
     ]
    },
    {
     "name": "stdout",
     "output_type": "stream",
     "text": [
      "\n",
      "prophet_instance nb 35\n",
      "Tested model:\n",
      "Full dataset: 2019-03-07 to the 2019-05-01. Analysed data the 2019-03-24 to the 2019-04-03.\n",
      "o Trained on the data from the 2019-03-24 to the 2019-04-02 (8 days).\n",
      "o Predict from the 2019-04-02 to the 2019-04-03 (1 days).\n"
     ]
    },
    {
     "data": {
      "application/vnd.jupyter.widget-view+json": {
       "model_id": "c91ce4a39c9d48f4bd7ae7aa361b5ad5",
       "version_major": 2,
       "version_minor": 0
      },
      "text/plain": [
       "Canvas(toolbar=Toolbar(toolitems=[('Home', 'Reset original view', 'home', 'home'), ('Back', 'Back to previous …"
      ]
     },
     "metadata": {},
     "output_type": "display_data"
    },
    {
     "name": "stderr",
     "output_type": "stream",
     "text": [
      "INFO:fbprophet:Making 6 forecasts with cutoffs between 2019-03-30 06:29:58.738000 and 2019-04-01 18:29:58.738000\n"
     ]
    },
    {
     "name": "stdout",
     "output_type": "stream",
     "text": [
      "GridSearch finished 98 minutes.\n"
     ]
    }
   ],
   "source": [
    "# GridSearch.\n",
    "start_time = time.time()\n",
    "\n",
    "# Parameters\n",
    "prophet_grid = {'df_dev' : [df_dev],\n",
    "                'device' : [device],\n",
    "                'parameter' : ['co2'],\n",
    "                'begin' : ['2019-03-22', '2019-03-24'],\n",
    "                'end' : ['2019-04-03'],\n",
    "                'sampling_period_min' : [1, 5, 30],\n",
    "                'graph' : [1],\n",
    "                'predict_day' : [1],\n",
    "                'interval_width' : [0.6],\n",
    "                'changepoint_prior_scale' : list((0.01, 15)), # list(np.arange(0.01,30,1).tolist()),\n",
    "                'daily_fo' : [3, 9, 18],\n",
    "#                 'holidays_prior_scale' : list((1000,100,10,1,0.1)),\n",
    "               }\n",
    "\n",
    "# Run GridSearch_Prophet\n",
    "mape_table = GridSearch_Prophet(list(ParameterGrid(prophet_grid)), metric='mape')\n",
    "\n",
    "\n",
    "end_time = time.time()\n",
    "dur_min = int((end_time - start_time)/60)\n",
    "\n",
    "\n",
    "print('GridSearch finished '+ str(dur_min) + \" minutes.\")\n"
   ]
  },
  {
   "cell_type": "code",
   "execution_count": 30,
   "metadata": {},
   "outputs": [
    {
     "data": {
      "text/plain": [
       "36"
      ]
     },
     "execution_count": 30,
     "metadata": {},
     "output_type": "execute_result"
    }
   ],
   "source": [
    "# Almost 3min per model on average\n",
    "mape_table.shape[0]"
   ]
  },
  {
   "cell_type": "code",
   "execution_count": 22,
   "metadata": {},
   "outputs": [],
   "source": [
    "mape_table.to_csv('dev33_co2_2019-04-03_SP_IW_FO_CPS.csv')"
   ]
  },
  {
   "cell_type": "code",
   "execution_count": 24,
   "metadata": {},
   "outputs": [
    {
     "data": {
      "text/html": [
       "<div>\n",
       "<style scoped>\n",
       "    .dataframe tbody tr th:only-of-type {\n",
       "        vertical-align: middle;\n",
       "    }\n",
       "\n",
       "    .dataframe tbody tr th {\n",
       "        vertical-align: top;\n",
       "    }\n",
       "\n",
       "    .dataframe thead th {\n",
       "        text-align: right;\n",
       "    }\n",
       "</style>\n",
       "<table border=\"1\" class=\"dataframe\">\n",
       "  <thead>\n",
       "    <tr style=\"text-align: right;\">\n",
       "      <th></th>\n",
       "      <th>device</th>\n",
       "      <th>parameter</th>\n",
       "      <th>begin</th>\n",
       "      <th>end</th>\n",
       "      <th>sampling_period_min</th>\n",
       "      <th>interval_width</th>\n",
       "      <th>daily_fo</th>\n",
       "      <th>changepoint_prior_scale</th>\n",
       "      <th>mape_average</th>\n",
       "    </tr>\n",
       "  </thead>\n",
       "  <tbody>\n",
       "    <tr>\n",
       "      <th>11</th>\n",
       "      <td>[device33]</td>\n",
       "      <td>co2</td>\n",
       "      <td>2019-03-22</td>\n",
       "      <td>2019-04-03</td>\n",
       "      <td>30</td>\n",
       "      <td>0.6</td>\n",
       "      <td>3</td>\n",
       "      <td>15.00</td>\n",
       "      <td>0.116839</td>\n",
       "    </tr>\n",
       "    <tr>\n",
       "      <th>10</th>\n",
       "      <td>[device33]</td>\n",
       "      <td>co2</td>\n",
       "      <td>2019-03-22</td>\n",
       "      <td>2019-04-03</td>\n",
       "      <td>5</td>\n",
       "      <td>0.6</td>\n",
       "      <td>3</td>\n",
       "      <td>15.00</td>\n",
       "      <td>0.122786</td>\n",
       "    </tr>\n",
       "    <tr>\n",
       "      <th>9</th>\n",
       "      <td>[device33]</td>\n",
       "      <td>co2</td>\n",
       "      <td>2019-03-22</td>\n",
       "      <td>2019-04-03</td>\n",
       "      <td>1</td>\n",
       "      <td>0.6</td>\n",
       "      <td>3</td>\n",
       "      <td>15.00</td>\n",
       "      <td>0.123446</td>\n",
       "    </tr>\n",
       "    <tr>\n",
       "      <th>0</th>\n",
       "      <td>[device33]</td>\n",
       "      <td>co2</td>\n",
       "      <td>2019-03-22</td>\n",
       "      <td>2019-04-03</td>\n",
       "      <td>1</td>\n",
       "      <td>0.6</td>\n",
       "      <td>3</td>\n",
       "      <td>0.01</td>\n",
       "      <td>0.123622</td>\n",
       "    </tr>\n",
       "    <tr>\n",
       "      <th>17</th>\n",
       "      <td>[device33]</td>\n",
       "      <td>co2</td>\n",
       "      <td>2019-03-22</td>\n",
       "      <td>2019-04-03</td>\n",
       "      <td>30</td>\n",
       "      <td>0.6</td>\n",
       "      <td>18</td>\n",
       "      <td>15.00</td>\n",
       "      <td>0.128037</td>\n",
       "    </tr>\n",
       "    <tr>\n",
       "      <th>29</th>\n",
       "      <td>[device33]</td>\n",
       "      <td>co2</td>\n",
       "      <td>2019-03-24</td>\n",
       "      <td>2019-04-03</td>\n",
       "      <td>30</td>\n",
       "      <td>0.6</td>\n",
       "      <td>3</td>\n",
       "      <td>15.00</td>\n",
       "      <td>0.128436</td>\n",
       "    </tr>\n",
       "    <tr>\n",
       "      <th>14</th>\n",
       "      <td>[device33]</td>\n",
       "      <td>co2</td>\n",
       "      <td>2019-03-22</td>\n",
       "      <td>2019-04-03</td>\n",
       "      <td>30</td>\n",
       "      <td>0.6</td>\n",
       "      <td>9</td>\n",
       "      <td>15.00</td>\n",
       "      <td>0.128777</td>\n",
       "    </tr>\n",
       "    <tr>\n",
       "      <th>15</th>\n",
       "      <td>[device33]</td>\n",
       "      <td>co2</td>\n",
       "      <td>2019-03-22</td>\n",
       "      <td>2019-04-03</td>\n",
       "      <td>1</td>\n",
       "      <td>0.6</td>\n",
       "      <td>18</td>\n",
       "      <td>15.00</td>\n",
       "      <td>0.129947</td>\n",
       "    </tr>\n",
       "    <tr>\n",
       "      <th>16</th>\n",
       "      <td>[device33]</td>\n",
       "      <td>co2</td>\n",
       "      <td>2019-03-22</td>\n",
       "      <td>2019-04-03</td>\n",
       "      <td>5</td>\n",
       "      <td>0.6</td>\n",
       "      <td>18</td>\n",
       "      <td>15.00</td>\n",
       "      <td>0.130079</td>\n",
       "    </tr>\n",
       "    <tr>\n",
       "      <th>32</th>\n",
       "      <td>[device33]</td>\n",
       "      <td>co2</td>\n",
       "      <td>2019-03-24</td>\n",
       "      <td>2019-04-03</td>\n",
       "      <td>30</td>\n",
       "      <td>0.6</td>\n",
       "      <td>9</td>\n",
       "      <td>15.00</td>\n",
       "      <td>0.131068</td>\n",
       "    </tr>\n",
       "    <tr>\n",
       "      <th>6</th>\n",
       "      <td>[device33]</td>\n",
       "      <td>co2</td>\n",
       "      <td>2019-03-22</td>\n",
       "      <td>2019-04-03</td>\n",
       "      <td>1</td>\n",
       "      <td>0.6</td>\n",
       "      <td>18</td>\n",
       "      <td>0.01</td>\n",
       "      <td>0.131181</td>\n",
       "    </tr>\n",
       "    <tr>\n",
       "      <th>3</th>\n",
       "      <td>[device33]</td>\n",
       "      <td>co2</td>\n",
       "      <td>2019-03-22</td>\n",
       "      <td>2019-04-03</td>\n",
       "      <td>1</td>\n",
       "      <td>0.6</td>\n",
       "      <td>9</td>\n",
       "      <td>0.01</td>\n",
       "      <td>0.131206</td>\n",
       "    </tr>\n",
       "    <tr>\n",
       "      <th>12</th>\n",
       "      <td>[device33]</td>\n",
       "      <td>co2</td>\n",
       "      <td>2019-03-22</td>\n",
       "      <td>2019-04-03</td>\n",
       "      <td>1</td>\n",
       "      <td>0.6</td>\n",
       "      <td>9</td>\n",
       "      <td>15.00</td>\n",
       "      <td>0.131724</td>\n",
       "    </tr>\n",
       "    <tr>\n",
       "      <th>13</th>\n",
       "      <td>[device33]</td>\n",
       "      <td>co2</td>\n",
       "      <td>2019-03-22</td>\n",
       "      <td>2019-04-03</td>\n",
       "      <td>5</td>\n",
       "      <td>0.6</td>\n",
       "      <td>9</td>\n",
       "      <td>15.00</td>\n",
       "      <td>0.132151</td>\n",
       "    </tr>\n",
       "    <tr>\n",
       "      <th>28</th>\n",
       "      <td>[device33]</td>\n",
       "      <td>co2</td>\n",
       "      <td>2019-03-24</td>\n",
       "      <td>2019-04-03</td>\n",
       "      <td>5</td>\n",
       "      <td>0.6</td>\n",
       "      <td>3</td>\n",
       "      <td>15.00</td>\n",
       "      <td>0.132411</td>\n",
       "    </tr>\n",
       "    <tr>\n",
       "      <th>27</th>\n",
       "      <td>[device33]</td>\n",
       "      <td>co2</td>\n",
       "      <td>2019-03-24</td>\n",
       "      <td>2019-04-03</td>\n",
       "      <td>1</td>\n",
       "      <td>0.6</td>\n",
       "      <td>3</td>\n",
       "      <td>15.00</td>\n",
       "      <td>0.133811</td>\n",
       "    </tr>\n",
       "    <tr>\n",
       "      <th>35</th>\n",
       "      <td>[device33]</td>\n",
       "      <td>co2</td>\n",
       "      <td>2019-03-24</td>\n",
       "      <td>2019-04-03</td>\n",
       "      <td>30</td>\n",
       "      <td>0.6</td>\n",
       "      <td>18</td>\n",
       "      <td>15.00</td>\n",
       "      <td>0.135064</td>\n",
       "    </tr>\n",
       "    <tr>\n",
       "      <th>33</th>\n",
       "      <td>[device33]</td>\n",
       "      <td>co2</td>\n",
       "      <td>2019-03-24</td>\n",
       "      <td>2019-04-03</td>\n",
       "      <td>1</td>\n",
       "      <td>0.6</td>\n",
       "      <td>18</td>\n",
       "      <td>15.00</td>\n",
       "      <td>0.135390</td>\n",
       "    </tr>\n",
       "    <tr>\n",
       "      <th>34</th>\n",
       "      <td>[device33]</td>\n",
       "      <td>co2</td>\n",
       "      <td>2019-03-24</td>\n",
       "      <td>2019-04-03</td>\n",
       "      <td>5</td>\n",
       "      <td>0.6</td>\n",
       "      <td>18</td>\n",
       "      <td>15.00</td>\n",
       "      <td>0.135410</td>\n",
       "    </tr>\n",
       "    <tr>\n",
       "      <th>30</th>\n",
       "      <td>[device33]</td>\n",
       "      <td>co2</td>\n",
       "      <td>2019-03-24</td>\n",
       "      <td>2019-04-03</td>\n",
       "      <td>1</td>\n",
       "      <td>0.6</td>\n",
       "      <td>9</td>\n",
       "      <td>15.00</td>\n",
       "      <td>0.136047</td>\n",
       "    </tr>\n",
       "    <tr>\n",
       "      <th>31</th>\n",
       "      <td>[device33]</td>\n",
       "      <td>co2</td>\n",
       "      <td>2019-03-24</td>\n",
       "      <td>2019-04-03</td>\n",
       "      <td>5</td>\n",
       "      <td>0.6</td>\n",
       "      <td>9</td>\n",
       "      <td>15.00</td>\n",
       "      <td>0.136209</td>\n",
       "    </tr>\n",
       "    <tr>\n",
       "      <th>18</th>\n",
       "      <td>[device33]</td>\n",
       "      <td>co2</td>\n",
       "      <td>2019-03-24</td>\n",
       "      <td>2019-04-03</td>\n",
       "      <td>1</td>\n",
       "      <td>0.6</td>\n",
       "      <td>3</td>\n",
       "      <td>0.01</td>\n",
       "      <td>0.155955</td>\n",
       "    </tr>\n",
       "    <tr>\n",
       "      <th>1</th>\n",
       "      <td>[device33]</td>\n",
       "      <td>co2</td>\n",
       "      <td>2019-03-22</td>\n",
       "      <td>2019-04-03</td>\n",
       "      <td>5</td>\n",
       "      <td>0.6</td>\n",
       "      <td>3</td>\n",
       "      <td>0.01</td>\n",
       "      <td>0.158268</td>\n",
       "    </tr>\n",
       "    <tr>\n",
       "      <th>7</th>\n",
       "      <td>[device33]</td>\n",
       "      <td>co2</td>\n",
       "      <td>2019-03-22</td>\n",
       "      <td>2019-04-03</td>\n",
       "      <td>5</td>\n",
       "      <td>0.6</td>\n",
       "      <td>18</td>\n",
       "      <td>0.01</td>\n",
       "      <td>0.158508</td>\n",
       "    </tr>\n",
       "    <tr>\n",
       "      <th>21</th>\n",
       "      <td>[device33]</td>\n",
       "      <td>co2</td>\n",
       "      <td>2019-03-24</td>\n",
       "      <td>2019-04-03</td>\n",
       "      <td>1</td>\n",
       "      <td>0.6</td>\n",
       "      <td>9</td>\n",
       "      <td>0.01</td>\n",
       "      <td>0.159407</td>\n",
       "    </tr>\n",
       "    <tr>\n",
       "      <th>4</th>\n",
       "      <td>[device33]</td>\n",
       "      <td>co2</td>\n",
       "      <td>2019-03-22</td>\n",
       "      <td>2019-04-03</td>\n",
       "      <td>5</td>\n",
       "      <td>0.6</td>\n",
       "      <td>9</td>\n",
       "      <td>0.01</td>\n",
       "      <td>0.159636</td>\n",
       "    </tr>\n",
       "    <tr>\n",
       "      <th>24</th>\n",
       "      <td>[device33]</td>\n",
       "      <td>co2</td>\n",
       "      <td>2019-03-24</td>\n",
       "      <td>2019-04-03</td>\n",
       "      <td>1</td>\n",
       "      <td>0.6</td>\n",
       "      <td>18</td>\n",
       "      <td>0.01</td>\n",
       "      <td>0.160435</td>\n",
       "    </tr>\n",
       "    <tr>\n",
       "      <th>22</th>\n",
       "      <td>[device33]</td>\n",
       "      <td>co2</td>\n",
       "      <td>2019-03-24</td>\n",
       "      <td>2019-04-03</td>\n",
       "      <td>5</td>\n",
       "      <td>0.6</td>\n",
       "      <td>9</td>\n",
       "      <td>0.01</td>\n",
       "      <td>0.174364</td>\n",
       "    </tr>\n",
       "    <tr>\n",
       "      <th>25</th>\n",
       "      <td>[device33]</td>\n",
       "      <td>co2</td>\n",
       "      <td>2019-03-24</td>\n",
       "      <td>2019-04-03</td>\n",
       "      <td>5</td>\n",
       "      <td>0.6</td>\n",
       "      <td>18</td>\n",
       "      <td>0.01</td>\n",
       "      <td>0.174383</td>\n",
       "    </tr>\n",
       "    <tr>\n",
       "      <th>19</th>\n",
       "      <td>[device33]</td>\n",
       "      <td>co2</td>\n",
       "      <td>2019-03-24</td>\n",
       "      <td>2019-04-03</td>\n",
       "      <td>5</td>\n",
       "      <td>0.6</td>\n",
       "      <td>3</td>\n",
       "      <td>0.01</td>\n",
       "      <td>0.176853</td>\n",
       "    </tr>\n",
       "    <tr>\n",
       "      <th>2</th>\n",
       "      <td>[device33]</td>\n",
       "      <td>co2</td>\n",
       "      <td>2019-03-22</td>\n",
       "      <td>2019-04-03</td>\n",
       "      <td>30</td>\n",
       "      <td>0.6</td>\n",
       "      <td>3</td>\n",
       "      <td>0.01</td>\n",
       "      <td>0.189457</td>\n",
       "    </tr>\n",
       "    <tr>\n",
       "      <th>5</th>\n",
       "      <td>[device33]</td>\n",
       "      <td>co2</td>\n",
       "      <td>2019-03-22</td>\n",
       "      <td>2019-04-03</td>\n",
       "      <td>30</td>\n",
       "      <td>0.6</td>\n",
       "      <td>9</td>\n",
       "      <td>0.01</td>\n",
       "      <td>0.201878</td>\n",
       "    </tr>\n",
       "    <tr>\n",
       "      <th>8</th>\n",
       "      <td>[device33]</td>\n",
       "      <td>co2</td>\n",
       "      <td>2019-03-22</td>\n",
       "      <td>2019-04-03</td>\n",
       "      <td>30</td>\n",
       "      <td>0.6</td>\n",
       "      <td>18</td>\n",
       "      <td>0.01</td>\n",
       "      <td>0.202137</td>\n",
       "    </tr>\n",
       "    <tr>\n",
       "      <th>20</th>\n",
       "      <td>[device33]</td>\n",
       "      <td>co2</td>\n",
       "      <td>2019-03-24</td>\n",
       "      <td>2019-04-03</td>\n",
       "      <td>30</td>\n",
       "      <td>0.6</td>\n",
       "      <td>3</td>\n",
       "      <td>0.01</td>\n",
       "      <td>0.283187</td>\n",
       "    </tr>\n",
       "    <tr>\n",
       "      <th>26</th>\n",
       "      <td>[device33]</td>\n",
       "      <td>co2</td>\n",
       "      <td>2019-03-24</td>\n",
       "      <td>2019-04-03</td>\n",
       "      <td>30</td>\n",
       "      <td>0.6</td>\n",
       "      <td>18</td>\n",
       "      <td>0.01</td>\n",
       "      <td>0.284897</td>\n",
       "    </tr>\n",
       "    <tr>\n",
       "      <th>23</th>\n",
       "      <td>[device33]</td>\n",
       "      <td>co2</td>\n",
       "      <td>2019-03-24</td>\n",
       "      <td>2019-04-03</td>\n",
       "      <td>30</td>\n",
       "      <td>0.6</td>\n",
       "      <td>9</td>\n",
       "      <td>0.01</td>\n",
       "      <td>0.286086</td>\n",
       "    </tr>\n",
       "  </tbody>\n",
       "</table>\n",
       "</div>"
      ],
      "text/plain": [
       "        device parameter       begin         end  sampling_period_min  \\\n",
       "11  [device33]       co2  2019-03-22  2019-04-03                   30   \n",
       "10  [device33]       co2  2019-03-22  2019-04-03                    5   \n",
       "9   [device33]       co2  2019-03-22  2019-04-03                    1   \n",
       "0   [device33]       co2  2019-03-22  2019-04-03                    1   \n",
       "17  [device33]       co2  2019-03-22  2019-04-03                   30   \n",
       "29  [device33]       co2  2019-03-24  2019-04-03                   30   \n",
       "14  [device33]       co2  2019-03-22  2019-04-03                   30   \n",
       "15  [device33]       co2  2019-03-22  2019-04-03                    1   \n",
       "16  [device33]       co2  2019-03-22  2019-04-03                    5   \n",
       "32  [device33]       co2  2019-03-24  2019-04-03                   30   \n",
       "6   [device33]       co2  2019-03-22  2019-04-03                    1   \n",
       "3   [device33]       co2  2019-03-22  2019-04-03                    1   \n",
       "12  [device33]       co2  2019-03-22  2019-04-03                    1   \n",
       "13  [device33]       co2  2019-03-22  2019-04-03                    5   \n",
       "28  [device33]       co2  2019-03-24  2019-04-03                    5   \n",
       "27  [device33]       co2  2019-03-24  2019-04-03                    1   \n",
       "35  [device33]       co2  2019-03-24  2019-04-03                   30   \n",
       "33  [device33]       co2  2019-03-24  2019-04-03                    1   \n",
       "34  [device33]       co2  2019-03-24  2019-04-03                    5   \n",
       "30  [device33]       co2  2019-03-24  2019-04-03                    1   \n",
       "31  [device33]       co2  2019-03-24  2019-04-03                    5   \n",
       "18  [device33]       co2  2019-03-24  2019-04-03                    1   \n",
       "1   [device33]       co2  2019-03-22  2019-04-03                    5   \n",
       "7   [device33]       co2  2019-03-22  2019-04-03                    5   \n",
       "21  [device33]       co2  2019-03-24  2019-04-03                    1   \n",
       "4   [device33]       co2  2019-03-22  2019-04-03                    5   \n",
       "24  [device33]       co2  2019-03-24  2019-04-03                    1   \n",
       "22  [device33]       co2  2019-03-24  2019-04-03                    5   \n",
       "25  [device33]       co2  2019-03-24  2019-04-03                    5   \n",
       "19  [device33]       co2  2019-03-24  2019-04-03                    5   \n",
       "2   [device33]       co2  2019-03-22  2019-04-03                   30   \n",
       "5   [device33]       co2  2019-03-22  2019-04-03                   30   \n",
       "8   [device33]       co2  2019-03-22  2019-04-03                   30   \n",
       "20  [device33]       co2  2019-03-24  2019-04-03                   30   \n",
       "26  [device33]       co2  2019-03-24  2019-04-03                   30   \n",
       "23  [device33]       co2  2019-03-24  2019-04-03                   30   \n",
       "\n",
       "    interval_width  daily_fo  changepoint_prior_scale  mape_average  \n",
       "11             0.6         3                    15.00      0.116839  \n",
       "10             0.6         3                    15.00      0.122786  \n",
       "9              0.6         3                    15.00      0.123446  \n",
       "0              0.6         3                     0.01      0.123622  \n",
       "17             0.6        18                    15.00      0.128037  \n",
       "29             0.6         3                    15.00      0.128436  \n",
       "14             0.6         9                    15.00      0.128777  \n",
       "15             0.6        18                    15.00      0.129947  \n",
       "16             0.6        18                    15.00      0.130079  \n",
       "32             0.6         9                    15.00      0.131068  \n",
       "6              0.6        18                     0.01      0.131181  \n",
       "3              0.6         9                     0.01      0.131206  \n",
       "12             0.6         9                    15.00      0.131724  \n",
       "13             0.6         9                    15.00      0.132151  \n",
       "28             0.6         3                    15.00      0.132411  \n",
       "27             0.6         3                    15.00      0.133811  \n",
       "35             0.6        18                    15.00      0.135064  \n",
       "33             0.6        18                    15.00      0.135390  \n",
       "34             0.6        18                    15.00      0.135410  \n",
       "30             0.6         9                    15.00      0.136047  \n",
       "31             0.6         9                    15.00      0.136209  \n",
       "18             0.6         3                     0.01      0.155955  \n",
       "1              0.6         3                     0.01      0.158268  \n",
       "7              0.6        18                     0.01      0.158508  \n",
       "21             0.6         9                     0.01      0.159407  \n",
       "4              0.6         9                     0.01      0.159636  \n",
       "24             0.6        18                     0.01      0.160435  \n",
       "22             0.6         9                     0.01      0.174364  \n",
       "25             0.6        18                     0.01      0.174383  \n",
       "19             0.6         3                     0.01      0.176853  \n",
       "2              0.6         3                     0.01      0.189457  \n",
       "5              0.6         9                     0.01      0.201878  \n",
       "8              0.6        18                     0.01      0.202137  \n",
       "20             0.6         3                     0.01      0.283187  \n",
       "26             0.6        18                     0.01      0.284897  \n",
       "23             0.6         9                     0.01      0.286086  "
      ]
     },
     "execution_count": 24,
     "metadata": {},
     "output_type": "execute_result"
    }
   ],
   "source": [
    "mape_table.sort_values('mape_average')"
   ]
  },
  {
   "cell_type": "code",
   "execution_count": 41,
   "metadata": {},
   "outputs": [],
   "source": [
    "mape_table.to_csv('dev33_co2_2019-04-03_SP_IW_FO_CPS_2.csv')"
   ]
  },
  {
   "cell_type": "markdown",
   "metadata": {},
   "source": [
    "**Conclusions**\n",
    "\n",
    "'changepoint_prior_scale' (CPS)\n",
    "\t- greater than 1 just make a aberrantly wide prediction: 15 IS NOT GOOD !\n",
    "\t- Higher than 1 significantly decreases the accuracy!\n",
    "\t- try changepoint_prior_scale : 0.001, 0.01, 0.1\n",
    "\n",
    "'sampling_period_min' : [1, 5, 30]:\n",
    "\t- you miss events with 30min, but are faster\n",
    "\t- try 1, 2 and 5\n",
    "\n",
    "'begin':\n",
    "\t- 10 days is better than 6 days but much longer analysis\n",
    "\t- Keep 6 days and may be for the final round increase the number of days\n",
    "\n",
    "'daily_fo' : [3, 9, 18]\n",
    "\t- Lower is definitely better than greater! \n",
    "\t- try 2, 3, 6"
   ]
  },
  {
   "cell_type": "markdown",
   "metadata": {},
   "source": [
    "**Test 2: Testing different shorter sampling periods, changepoint_prior_scale and daily_fo of the Prophet model**"
   ]
  },
  {
   "cell_type": "code",
   "execution_count": 42,
   "metadata": {},
   "outputs": [
    {
     "data": {
      "text/html": [
       "<div>\n",
       "<style scoped>\n",
       "    .dataframe tbody tr th:only-of-type {\n",
       "        vertical-align: middle;\n",
       "    }\n",
       "\n",
       "    .dataframe tbody tr th {\n",
       "        vertical-align: top;\n",
       "    }\n",
       "\n",
       "    .dataframe thead th {\n",
       "        text-align: right;\n",
       "    }\n",
       "</style>\n",
       "<table border=\"1\" class=\"dataframe\">\n",
       "  <thead>\n",
       "    <tr style=\"text-align: right;\">\n",
       "      <th></th>\n",
       "      <th>device</th>\n",
       "      <th>parameter</th>\n",
       "      <th>begin</th>\n",
       "      <th>end</th>\n",
       "      <th>sampling_period_min</th>\n",
       "      <th>interval_width</th>\n",
       "      <th>daily_fo</th>\n",
       "      <th>changepoint_prior_scale</th>\n",
       "      <th>mape_average</th>\n",
       "    </tr>\n",
       "  </thead>\n",
       "  <tbody>\n",
       "    <tr>\n",
       "      <th>18</th>\n",
       "      <td>[device33]</td>\n",
       "      <td>co2</td>\n",
       "      <td>2019-03-24</td>\n",
       "      <td>2019-04-03</td>\n",
       "      <td>1</td>\n",
       "      <td>0.6</td>\n",
       "      <td>2</td>\n",
       "      <td>0.100</td>\n",
       "      <td>0.135834</td>\n",
       "    </tr>\n",
       "    <tr>\n",
       "      <th>24</th>\n",
       "      <td>[device33]</td>\n",
       "      <td>co2</td>\n",
       "      <td>2019-03-24</td>\n",
       "      <td>2019-04-03</td>\n",
       "      <td>1</td>\n",
       "      <td>0.6</td>\n",
       "      <td>6</td>\n",
       "      <td>0.100</td>\n",
       "      <td>0.136738</td>\n",
       "    </tr>\n",
       "    <tr>\n",
       "      <th>21</th>\n",
       "      <td>[device33]</td>\n",
       "      <td>co2</td>\n",
       "      <td>2019-03-24</td>\n",
       "      <td>2019-04-03</td>\n",
       "      <td>1</td>\n",
       "      <td>0.6</td>\n",
       "      <td>3</td>\n",
       "      <td>0.100</td>\n",
       "      <td>0.138159</td>\n",
       "    </tr>\n",
       "    <tr>\n",
       "      <th>19</th>\n",
       "      <td>[device33]</td>\n",
       "      <td>co2</td>\n",
       "      <td>2019-03-24</td>\n",
       "      <td>2019-04-03</td>\n",
       "      <td>2</td>\n",
       "      <td>0.6</td>\n",
       "      <td>2</td>\n",
       "      <td>0.100</td>\n",
       "      <td>0.141241</td>\n",
       "    </tr>\n",
       "    <tr>\n",
       "      <th>25</th>\n",
       "      <td>[device33]</td>\n",
       "      <td>co2</td>\n",
       "      <td>2019-03-24</td>\n",
       "      <td>2019-04-03</td>\n",
       "      <td>2</td>\n",
       "      <td>0.6</td>\n",
       "      <td>6</td>\n",
       "      <td>0.100</td>\n",
       "      <td>0.142547</td>\n",
       "    </tr>\n",
       "    <tr>\n",
       "      <th>22</th>\n",
       "      <td>[device33]</td>\n",
       "      <td>co2</td>\n",
       "      <td>2019-03-24</td>\n",
       "      <td>2019-04-03</td>\n",
       "      <td>2</td>\n",
       "      <td>0.6</td>\n",
       "      <td>3</td>\n",
       "      <td>0.100</td>\n",
       "      <td>0.143527</td>\n",
       "    </tr>\n",
       "    <tr>\n",
       "      <th>23</th>\n",
       "      <td>[device33]</td>\n",
       "      <td>co2</td>\n",
       "      <td>2019-03-24</td>\n",
       "      <td>2019-04-03</td>\n",
       "      <td>5</td>\n",
       "      <td>0.6</td>\n",
       "      <td>3</td>\n",
       "      <td>0.100</td>\n",
       "      <td>0.148306</td>\n",
       "    </tr>\n",
       "    <tr>\n",
       "      <th>26</th>\n",
       "      <td>[device33]</td>\n",
       "      <td>co2</td>\n",
       "      <td>2019-03-24</td>\n",
       "      <td>2019-04-03</td>\n",
       "      <td>5</td>\n",
       "      <td>0.6</td>\n",
       "      <td>6</td>\n",
       "      <td>0.100</td>\n",
       "      <td>0.148327</td>\n",
       "    </tr>\n",
       "    <tr>\n",
       "      <th>12</th>\n",
       "      <td>[device33]</td>\n",
       "      <td>co2</td>\n",
       "      <td>2019-03-24</td>\n",
       "      <td>2019-04-03</td>\n",
       "      <td>1</td>\n",
       "      <td>0.6</td>\n",
       "      <td>3</td>\n",
       "      <td>0.010</td>\n",
       "      <td>0.155955</td>\n",
       "    </tr>\n",
       "    <tr>\n",
       "      <th>15</th>\n",
       "      <td>[device33]</td>\n",
       "      <td>co2</td>\n",
       "      <td>2019-03-24</td>\n",
       "      <td>2019-04-03</td>\n",
       "      <td>1</td>\n",
       "      <td>0.6</td>\n",
       "      <td>6</td>\n",
       "      <td>0.010</td>\n",
       "      <td>0.157499</td>\n",
       "    </tr>\n",
       "    <tr>\n",
       "      <th>20</th>\n",
       "      <td>[device33]</td>\n",
       "      <td>co2</td>\n",
       "      <td>2019-03-24</td>\n",
       "      <td>2019-04-03</td>\n",
       "      <td>5</td>\n",
       "      <td>0.6</td>\n",
       "      <td>2</td>\n",
       "      <td>0.100</td>\n",
       "      <td>0.158190</td>\n",
       "    </tr>\n",
       "    <tr>\n",
       "      <th>13</th>\n",
       "      <td>[device33]</td>\n",
       "      <td>co2</td>\n",
       "      <td>2019-03-24</td>\n",
       "      <td>2019-04-03</td>\n",
       "      <td>2</td>\n",
       "      <td>0.6</td>\n",
       "      <td>3</td>\n",
       "      <td>0.010</td>\n",
       "      <td>0.159424</td>\n",
       "    </tr>\n",
       "    <tr>\n",
       "      <th>16</th>\n",
       "      <td>[device33]</td>\n",
       "      <td>co2</td>\n",
       "      <td>2019-03-24</td>\n",
       "      <td>2019-04-03</td>\n",
       "      <td>2</td>\n",
       "      <td>0.6</td>\n",
       "      <td>6</td>\n",
       "      <td>0.010</td>\n",
       "      <td>0.164198</td>\n",
       "    </tr>\n",
       "    <tr>\n",
       "      <th>9</th>\n",
       "      <td>[device33]</td>\n",
       "      <td>co2</td>\n",
       "      <td>2019-03-24</td>\n",
       "      <td>2019-04-03</td>\n",
       "      <td>1</td>\n",
       "      <td>0.6</td>\n",
       "      <td>2</td>\n",
       "      <td>0.010</td>\n",
       "      <td>0.166598</td>\n",
       "    </tr>\n",
       "    <tr>\n",
       "      <th>10</th>\n",
       "      <td>[device33]</td>\n",
       "      <td>co2</td>\n",
       "      <td>2019-03-24</td>\n",
       "      <td>2019-04-03</td>\n",
       "      <td>2</td>\n",
       "      <td>0.6</td>\n",
       "      <td>2</td>\n",
       "      <td>0.010</td>\n",
       "      <td>0.170126</td>\n",
       "    </tr>\n",
       "    <tr>\n",
       "      <th>14</th>\n",
       "      <td>[device33]</td>\n",
       "      <td>co2</td>\n",
       "      <td>2019-03-24</td>\n",
       "      <td>2019-04-03</td>\n",
       "      <td>5</td>\n",
       "      <td>0.6</td>\n",
       "      <td>3</td>\n",
       "      <td>0.010</td>\n",
       "      <td>0.176853</td>\n",
       "    </tr>\n",
       "    <tr>\n",
       "      <th>17</th>\n",
       "      <td>[device33]</td>\n",
       "      <td>co2</td>\n",
       "      <td>2019-03-24</td>\n",
       "      <td>2019-04-03</td>\n",
       "      <td>5</td>\n",
       "      <td>0.6</td>\n",
       "      <td>6</td>\n",
       "      <td>0.010</td>\n",
       "      <td>0.178404</td>\n",
       "    </tr>\n",
       "    <tr>\n",
       "      <th>11</th>\n",
       "      <td>[device33]</td>\n",
       "      <td>co2</td>\n",
       "      <td>2019-03-24</td>\n",
       "      <td>2019-04-03</td>\n",
       "      <td>5</td>\n",
       "      <td>0.6</td>\n",
       "      <td>2</td>\n",
       "      <td>0.010</td>\n",
       "      <td>0.182095</td>\n",
       "    </tr>\n",
       "    <tr>\n",
       "      <th>3</th>\n",
       "      <td>[device33]</td>\n",
       "      <td>co2</td>\n",
       "      <td>2019-03-24</td>\n",
       "      <td>2019-04-03</td>\n",
       "      <td>1</td>\n",
       "      <td>0.6</td>\n",
       "      <td>3</td>\n",
       "      <td>0.001</td>\n",
       "      <td>0.182858</td>\n",
       "    </tr>\n",
       "    <tr>\n",
       "      <th>6</th>\n",
       "      <td>[device33]</td>\n",
       "      <td>co2</td>\n",
       "      <td>2019-03-24</td>\n",
       "      <td>2019-04-03</td>\n",
       "      <td>1</td>\n",
       "      <td>0.6</td>\n",
       "      <td>6</td>\n",
       "      <td>0.001</td>\n",
       "      <td>0.187764</td>\n",
       "    </tr>\n",
       "    <tr>\n",
       "      <th>0</th>\n",
       "      <td>[device33]</td>\n",
       "      <td>co2</td>\n",
       "      <td>2019-03-24</td>\n",
       "      <td>2019-04-03</td>\n",
       "      <td>1</td>\n",
       "      <td>0.6</td>\n",
       "      <td>2</td>\n",
       "      <td>0.001</td>\n",
       "      <td>0.197815</td>\n",
       "    </tr>\n",
       "    <tr>\n",
       "      <th>1</th>\n",
       "      <td>[device33]</td>\n",
       "      <td>co2</td>\n",
       "      <td>2019-03-24</td>\n",
       "      <td>2019-04-03</td>\n",
       "      <td>2</td>\n",
       "      <td>0.6</td>\n",
       "      <td>2</td>\n",
       "      <td>0.001</td>\n",
       "      <td>0.233153</td>\n",
       "    </tr>\n",
       "    <tr>\n",
       "      <th>7</th>\n",
       "      <td>[device33]</td>\n",
       "      <td>co2</td>\n",
       "      <td>2019-03-24</td>\n",
       "      <td>2019-04-03</td>\n",
       "      <td>2</td>\n",
       "      <td>0.6</td>\n",
       "      <td>6</td>\n",
       "      <td>0.001</td>\n",
       "      <td>0.241893</td>\n",
       "    </tr>\n",
       "    <tr>\n",
       "      <th>4</th>\n",
       "      <td>[device33]</td>\n",
       "      <td>co2</td>\n",
       "      <td>2019-03-24</td>\n",
       "      <td>2019-04-03</td>\n",
       "      <td>2</td>\n",
       "      <td>0.6</td>\n",
       "      <td>3</td>\n",
       "      <td>0.001</td>\n",
       "      <td>0.243747</td>\n",
       "    </tr>\n",
       "    <tr>\n",
       "      <th>2</th>\n",
       "      <td>[device33]</td>\n",
       "      <td>co2</td>\n",
       "      <td>2019-03-24</td>\n",
       "      <td>2019-04-03</td>\n",
       "      <td>5</td>\n",
       "      <td>0.6</td>\n",
       "      <td>2</td>\n",
       "      <td>0.001</td>\n",
       "      <td>0.250573</td>\n",
       "    </tr>\n",
       "    <tr>\n",
       "      <th>5</th>\n",
       "      <td>[device33]</td>\n",
       "      <td>co2</td>\n",
       "      <td>2019-03-24</td>\n",
       "      <td>2019-04-03</td>\n",
       "      <td>5</td>\n",
       "      <td>0.6</td>\n",
       "      <td>3</td>\n",
       "      <td>0.001</td>\n",
       "      <td>0.259491</td>\n",
       "    </tr>\n",
       "    <tr>\n",
       "      <th>8</th>\n",
       "      <td>[device33]</td>\n",
       "      <td>co2</td>\n",
       "      <td>2019-03-24</td>\n",
       "      <td>2019-04-03</td>\n",
       "      <td>5</td>\n",
       "      <td>0.6</td>\n",
       "      <td>6</td>\n",
       "      <td>0.001</td>\n",
       "      <td>0.280115</td>\n",
       "    </tr>\n",
       "  </tbody>\n",
       "</table>\n",
       "</div>"
      ],
      "text/plain": [
       "        device parameter       begin         end  sampling_period_min  \\\n",
       "18  [device33]       co2  2019-03-24  2019-04-03                    1   \n",
       "24  [device33]       co2  2019-03-24  2019-04-03                    1   \n",
       "21  [device33]       co2  2019-03-24  2019-04-03                    1   \n",
       "19  [device33]       co2  2019-03-24  2019-04-03                    2   \n",
       "25  [device33]       co2  2019-03-24  2019-04-03                    2   \n",
       "22  [device33]       co2  2019-03-24  2019-04-03                    2   \n",
       "23  [device33]       co2  2019-03-24  2019-04-03                    5   \n",
       "26  [device33]       co2  2019-03-24  2019-04-03                    5   \n",
       "12  [device33]       co2  2019-03-24  2019-04-03                    1   \n",
       "15  [device33]       co2  2019-03-24  2019-04-03                    1   \n",
       "20  [device33]       co2  2019-03-24  2019-04-03                    5   \n",
       "13  [device33]       co2  2019-03-24  2019-04-03                    2   \n",
       "16  [device33]       co2  2019-03-24  2019-04-03                    2   \n",
       "9   [device33]       co2  2019-03-24  2019-04-03                    1   \n",
       "10  [device33]       co2  2019-03-24  2019-04-03                    2   \n",
       "14  [device33]       co2  2019-03-24  2019-04-03                    5   \n",
       "17  [device33]       co2  2019-03-24  2019-04-03                    5   \n",
       "11  [device33]       co2  2019-03-24  2019-04-03                    5   \n",
       "3   [device33]       co2  2019-03-24  2019-04-03                    1   \n",
       "6   [device33]       co2  2019-03-24  2019-04-03                    1   \n",
       "0   [device33]       co2  2019-03-24  2019-04-03                    1   \n",
       "1   [device33]       co2  2019-03-24  2019-04-03                    2   \n",
       "7   [device33]       co2  2019-03-24  2019-04-03                    2   \n",
       "4   [device33]       co2  2019-03-24  2019-04-03                    2   \n",
       "2   [device33]       co2  2019-03-24  2019-04-03                    5   \n",
       "5   [device33]       co2  2019-03-24  2019-04-03                    5   \n",
       "8   [device33]       co2  2019-03-24  2019-04-03                    5   \n",
       "\n",
       "    interval_width  daily_fo  changepoint_prior_scale  mape_average  \n",
       "18             0.6         2                    0.100      0.135834  \n",
       "24             0.6         6                    0.100      0.136738  \n",
       "21             0.6         3                    0.100      0.138159  \n",
       "19             0.6         2                    0.100      0.141241  \n",
       "25             0.6         6                    0.100      0.142547  \n",
       "22             0.6         3                    0.100      0.143527  \n",
       "23             0.6         3                    0.100      0.148306  \n",
       "26             0.6         6                    0.100      0.148327  \n",
       "12             0.6         3                    0.010      0.155955  \n",
       "15             0.6         6                    0.010      0.157499  \n",
       "20             0.6         2                    0.100      0.158190  \n",
       "13             0.6         3                    0.010      0.159424  \n",
       "16             0.6         6                    0.010      0.164198  \n",
       "9              0.6         2                    0.010      0.166598  \n",
       "10             0.6         2                    0.010      0.170126  \n",
       "14             0.6         3                    0.010      0.176853  \n",
       "17             0.6         6                    0.010      0.178404  \n",
       "11             0.6         2                    0.010      0.182095  \n",
       "3              0.6         3                    0.001      0.182858  \n",
       "6              0.6         6                    0.001      0.187764  \n",
       "0              0.6         2                    0.001      0.197815  \n",
       "1              0.6         2                    0.001      0.233153  \n",
       "7              0.6         6                    0.001      0.241893  \n",
       "4              0.6         3                    0.001      0.243747  \n",
       "2              0.6         2                    0.001      0.250573  \n",
       "5              0.6         3                    0.001      0.259491  \n",
       "8              0.6         6                    0.001      0.280115  "
      ]
     },
     "execution_count": 42,
     "metadata": {},
     "output_type": "execute_result"
    }
   ],
   "source": [
    "mape_table.sort_values('mape_average')"
   ]
  },
  {
   "cell_type": "markdown",
   "metadata": {},
   "source": [
    "**Conclusions**\n",
    "\n",
    "'sampling_period_min' : [1, 2, 5]:\n",
    "\t- the smaller is the better: use 1\n",
    "\n",
    "'changepoint_prior_scale' : [0.001, 0.01, 0.1]\n",
    "\t- 0.1 is too large ! The prediction goes wide and the prediction is meaningless.\n",
    "\t- 0.001 seems to give visually better results than 0.01 even if the median mape is lower for 0.01 than 0.01\n",
    "\t- Keep both 0.01 and 0.001\n",
    "\n",
    "'daily_fo' : [2, 3, 6]:\n",
    "\t- Would choose 3. The dynamic is not only binary. choose 3 or 6. 6."
   ]
  },
  {
   "cell_type": "markdown",
   "metadata": {},
   "source": [
    "**Test 3: Testing with different training period duration, changepoint_prior_scale and daily_fo of the Prophet model**"
   ]
  },
  {
   "cell_type": "code",
   "execution_count": 47,
   "metadata": {},
   "outputs": [
    {
     "name": "stdout",
     "output_type": "stream",
     "text": [
      "\n",
      "prophet_instance nb 0\n",
      "Tested model:\n",
      "Full dataset: 2019-03-07 to the 2019-05-01. Analysed data the 2019-03-22 to the 2019-04-03.\n",
      "o Trained on the data from the 2019-03-22 to the 2019-04-02 (10 days).\n",
      "o Predict from the 2019-04-02 to the 2019-04-03 (1 days).\n"
     ]
    },
    {
     "data": {
      "application/vnd.jupyter.widget-view+json": {
       "model_id": "08c9d5296bc7475681e219ed2aca5f68",
       "version_major": 2,
       "version_minor": 0
      },
      "text/plain": [
       "Canvas(toolbar=Toolbar(toolitems=[('Home', 'Reset original view', 'home', 'home'), ('Back', 'Back to previous …"
      ]
     },
     "metadata": {},
     "output_type": "display_data"
    },
    {
     "name": "stderr",
     "output_type": "stream",
     "text": [
      "INFO:fbprophet:Making 10 forecasts with cutoffs between 2019-03-28 06:58:44.135000 and 2019-04-01 18:58:44.135000\n"
     ]
    },
    {
     "name": "stdout",
     "output_type": "stream",
     "text": [
      "\n",
      "prophet_instance nb 1\n",
      "Tested model:\n",
      "Full dataset: 2019-03-07 to the 2019-05-01. Analysed data the 2019-03-22 to the 2019-04-03.\n",
      "o Trained on the data from the 2019-03-22 to the 2019-04-02 (10 days).\n",
      "o Predict from the 2019-04-02 to the 2019-04-03 (1 days).\n"
     ]
    },
    {
     "data": {
      "application/vnd.jupyter.widget-view+json": {
       "model_id": "7e5e1a9bb8d54f84a6fd487cb3a16f66",
       "version_major": 2,
       "version_minor": 0
      },
      "text/plain": [
       "Canvas(toolbar=Toolbar(toolitems=[('Home', 'Reset original view', 'home', 'home'), ('Back', 'Back to previous …"
      ]
     },
     "metadata": {},
     "output_type": "display_data"
    },
    {
     "name": "stderr",
     "output_type": "stream",
     "text": [
      "INFO:fbprophet:Making 10 forecasts with cutoffs between 2019-03-28 06:58:44.135000 and 2019-04-01 18:58:44.135000\n"
     ]
    },
    {
     "name": "stdout",
     "output_type": "stream",
     "text": [
      "\n",
      "prophet_instance nb 2\n",
      "Tested model:\n",
      "Full dataset: 2019-03-07 to the 2019-05-01. Analysed data the 2019-03-22 to the 2019-04-03.\n",
      "o Trained on the data from the 2019-03-22 to the 2019-04-02 (10 days).\n",
      "o Predict from the 2019-04-02 to the 2019-04-03 (1 days).\n"
     ]
    },
    {
     "data": {
      "application/vnd.jupyter.widget-view+json": {
       "model_id": "1e249c4c1a3b4a48886c3a707a9671eb",
       "version_major": 2,
       "version_minor": 0
      },
      "text/plain": [
       "Canvas(toolbar=Toolbar(toolitems=[('Home', 'Reset original view', 'home', 'home'), ('Back', 'Back to previous …"
      ]
     },
     "metadata": {},
     "output_type": "display_data"
    },
    {
     "name": "stderr",
     "output_type": "stream",
     "text": [
      "INFO:fbprophet:Making 10 forecasts with cutoffs between 2019-03-28 06:58:44.135000 and 2019-04-01 18:58:44.135000\n"
     ]
    },
    {
     "name": "stdout",
     "output_type": "stream",
     "text": [
      "\n",
      "prophet_instance nb 3\n",
      "Tested model:\n",
      "Full dataset: 2019-03-07 to the 2019-05-01. Analysed data the 2019-03-22 to the 2019-04-03.\n",
      "o Trained on the data from the 2019-03-22 to the 2019-04-02 (10 days).\n",
      "o Predict from the 2019-04-02 to the 2019-04-03 (1 days).\n"
     ]
    },
    {
     "data": {
      "application/vnd.jupyter.widget-view+json": {
       "model_id": "db0adbef643244bb9746e3009e059369",
       "version_major": 2,
       "version_minor": 0
      },
      "text/plain": [
       "Canvas(toolbar=Toolbar(toolitems=[('Home', 'Reset original view', 'home', 'home'), ('Back', 'Back to previous …"
      ]
     },
     "metadata": {},
     "output_type": "display_data"
    },
    {
     "name": "stderr",
     "output_type": "stream",
     "text": [
      "INFO:fbprophet:Making 10 forecasts with cutoffs between 2019-03-28 06:58:44.135000 and 2019-04-01 18:58:44.135000\n"
     ]
    },
    {
     "name": "stdout",
     "output_type": "stream",
     "text": [
      "\n",
      "prophet_instance nb 4\n",
      "Tested model:\n",
      "Full dataset: 2019-03-07 to the 2019-05-01. Analysed data the 2019-03-22 to the 2019-04-03.\n",
      "o Trained on the data from the 2019-03-22 to the 2019-04-02 (10 days).\n",
      "o Predict from the 2019-04-02 to the 2019-04-03 (1 days).\n"
     ]
    },
    {
     "data": {
      "application/vnd.jupyter.widget-view+json": {
       "model_id": "e26cb0b3a9d348f88e575c9ea311a8ba",
       "version_major": 2,
       "version_minor": 0
      },
      "text/plain": [
       "Canvas(toolbar=Toolbar(toolitems=[('Home', 'Reset original view', 'home', 'home'), ('Back', 'Back to previous …"
      ]
     },
     "metadata": {},
     "output_type": "display_data"
    },
    {
     "name": "stderr",
     "output_type": "stream",
     "text": [
      "INFO:fbprophet:Making 10 forecasts with cutoffs between 2019-03-28 06:58:44.135000 and 2019-04-01 18:58:44.135000\n"
     ]
    },
    {
     "name": "stdout",
     "output_type": "stream",
     "text": [
      "\n",
      "prophet_instance nb 5\n",
      "Tested model:\n",
      "Full dataset: 2019-03-07 to the 2019-05-01. Analysed data the 2019-03-22 to the 2019-04-03.\n",
      "o Trained on the data from the 2019-03-22 to the 2019-04-02 (10 days).\n",
      "o Predict from the 2019-04-02 to the 2019-04-03 (1 days).\n"
     ]
    },
    {
     "data": {
      "application/vnd.jupyter.widget-view+json": {
       "model_id": "64b9bb0500dd463d86c05ebe1a2b2fca",
       "version_major": 2,
       "version_minor": 0
      },
      "text/plain": [
       "Canvas(toolbar=Toolbar(toolitems=[('Home', 'Reset original view', 'home', 'home'), ('Back', 'Back to previous …"
      ]
     },
     "metadata": {},
     "output_type": "display_data"
    },
    {
     "name": "stderr",
     "output_type": "stream",
     "text": [
      "INFO:fbprophet:Making 10 forecasts with cutoffs between 2019-03-28 06:58:44.135000 and 2019-04-01 18:58:44.135000\n"
     ]
    },
    {
     "name": "stdout",
     "output_type": "stream",
     "text": [
      "\n",
      "prophet_instance nb 6\n",
      "Tested model:\n",
      "Full dataset: 2019-03-07 to the 2019-05-01. Analysed data the 2019-03-24 to the 2019-04-03.\n",
      "o Trained on the data from the 2019-03-24 to the 2019-04-02 (8 days).\n",
      "o Predict from the 2019-04-02 to the 2019-04-03 (1 days).\n"
     ]
    },
    {
     "data": {
      "application/vnd.jupyter.widget-view+json": {
       "model_id": "8edea62a35c24c33bae8905cba004758",
       "version_major": 2,
       "version_minor": 0
      },
      "text/plain": [
       "Canvas(toolbar=Toolbar(toolitems=[('Home', 'Reset original view', 'home', 'home'), ('Back', 'Back to previous …"
      ]
     },
     "metadata": {},
     "output_type": "display_data"
    },
    {
     "name": "stderr",
     "output_type": "stream",
     "text": [
      "INFO:fbprophet:Making 6 forecasts with cutoffs between 2019-03-30 06:58:44.135000 and 2019-04-01 18:58:44.135000\n"
     ]
    },
    {
     "name": "stdout",
     "output_type": "stream",
     "text": [
      "\n",
      "prophet_instance nb 7\n",
      "Tested model:\n",
      "Full dataset: 2019-03-07 to the 2019-05-01. Analysed data the 2019-03-24 to the 2019-04-03.\n",
      "o Trained on the data from the 2019-03-24 to the 2019-04-02 (8 days).\n",
      "o Predict from the 2019-04-02 to the 2019-04-03 (1 days).\n"
     ]
    },
    {
     "data": {
      "application/vnd.jupyter.widget-view+json": {
       "model_id": "4307c33fddb24817a9221981409dbb91",
       "version_major": 2,
       "version_minor": 0
      },
      "text/plain": [
       "Canvas(toolbar=Toolbar(toolitems=[('Home', 'Reset original view', 'home', 'home'), ('Back', 'Back to previous …"
      ]
     },
     "metadata": {},
     "output_type": "display_data"
    },
    {
     "name": "stderr",
     "output_type": "stream",
     "text": [
      "INFO:fbprophet:Making 6 forecasts with cutoffs between 2019-03-30 06:58:44.135000 and 2019-04-01 18:58:44.135000\n"
     ]
    },
    {
     "name": "stdout",
     "output_type": "stream",
     "text": [
      "\n",
      "prophet_instance nb 8\n",
      "Tested model:\n",
      "Full dataset: 2019-03-07 to the 2019-05-01. Analysed data the 2019-03-24 to the 2019-04-03.\n",
      "o Trained on the data from the 2019-03-24 to the 2019-04-02 (8 days).\n",
      "o Predict from the 2019-04-02 to the 2019-04-03 (1 days).\n"
     ]
    },
    {
     "data": {
      "application/vnd.jupyter.widget-view+json": {
       "model_id": "52bb2370293443b78867a4b4f3edfde4",
       "version_major": 2,
       "version_minor": 0
      },
      "text/plain": [
       "Canvas(toolbar=Toolbar(toolitems=[('Home', 'Reset original view', 'home', 'home'), ('Back', 'Back to previous …"
      ]
     },
     "metadata": {},
     "output_type": "display_data"
    },
    {
     "name": "stderr",
     "output_type": "stream",
     "text": [
      "INFO:fbprophet:Making 6 forecasts with cutoffs between 2019-03-30 06:58:44.135000 and 2019-04-01 18:58:44.135000\n"
     ]
    },
    {
     "name": "stdout",
     "output_type": "stream",
     "text": [
      "\n",
      "prophet_instance nb 9\n",
      "Tested model:\n",
      "Full dataset: 2019-03-07 to the 2019-05-01. Analysed data the 2019-03-24 to the 2019-04-03.\n",
      "o Trained on the data from the 2019-03-24 to the 2019-04-02 (8 days).\n",
      "o Predict from the 2019-04-02 to the 2019-04-03 (1 days).\n"
     ]
    },
    {
     "data": {
      "application/vnd.jupyter.widget-view+json": {
       "model_id": "4716435efe2f4e08bf24af156e59df86",
       "version_major": 2,
       "version_minor": 0
      },
      "text/plain": [
       "Canvas(toolbar=Toolbar(toolitems=[('Home', 'Reset original view', 'home', 'home'), ('Back', 'Back to previous …"
      ]
     },
     "metadata": {},
     "output_type": "display_data"
    },
    {
     "name": "stderr",
     "output_type": "stream",
     "text": [
      "INFO:fbprophet:Making 6 forecasts with cutoffs between 2019-03-30 06:58:44.135000 and 2019-04-01 18:58:44.135000\n"
     ]
    },
    {
     "name": "stdout",
     "output_type": "stream",
     "text": [
      "\n",
      "prophet_instance nb 10\n",
      "Tested model:\n",
      "Full dataset: 2019-03-07 to the 2019-05-01. Analysed data the 2019-03-24 to the 2019-04-03.\n",
      "o Trained on the data from the 2019-03-24 to the 2019-04-02 (8 days).\n",
      "o Predict from the 2019-04-02 to the 2019-04-03 (1 days).\n"
     ]
    },
    {
     "data": {
      "application/vnd.jupyter.widget-view+json": {
       "model_id": "92a925b71f3b48e19b2049b1da23c79c",
       "version_major": 2,
       "version_minor": 0
      },
      "text/plain": [
       "Canvas(toolbar=Toolbar(toolitems=[('Home', 'Reset original view', 'home', 'home'), ('Back', 'Back to previous …"
      ]
     },
     "metadata": {},
     "output_type": "display_data"
    },
    {
     "name": "stderr",
     "output_type": "stream",
     "text": [
      "INFO:fbprophet:Making 6 forecasts with cutoffs between 2019-03-30 06:58:44.135000 and 2019-04-01 18:58:44.135000\n"
     ]
    },
    {
     "name": "stdout",
     "output_type": "stream",
     "text": [
      "\n",
      "prophet_instance nb 11\n",
      "Tested model:\n",
      "Full dataset: 2019-03-07 to the 2019-05-01. Analysed data the 2019-03-24 to the 2019-04-03.\n",
      "o Trained on the data from the 2019-03-24 to the 2019-04-02 (8 days).\n",
      "o Predict from the 2019-04-02 to the 2019-04-03 (1 days).\n"
     ]
    },
    {
     "data": {
      "application/vnd.jupyter.widget-view+json": {
       "model_id": "32cdae06198440d9a0e5a54c27ea837a",
       "version_major": 2,
       "version_minor": 0
      },
      "text/plain": [
       "Canvas(toolbar=Toolbar(toolitems=[('Home', 'Reset original view', 'home', 'home'), ('Back', 'Back to previous …"
      ]
     },
     "metadata": {},
     "output_type": "display_data"
    },
    {
     "name": "stderr",
     "output_type": "stream",
     "text": [
      "INFO:fbprophet:Making 6 forecasts with cutoffs between 2019-03-30 06:58:44.135000 and 2019-04-01 18:58:44.135000\n"
     ]
    },
    {
     "name": "stdout",
     "output_type": "stream",
     "text": [
      "\n",
      "prophet_instance nb 12\n",
      "Tested model:\n",
      "Full dataset: 2019-03-07 to the 2019-05-01. Analysed data the 2019-03-26 to the 2019-04-03.\n",
      "o Trained on the data from the 2019-03-26 to the 2019-04-02 (6 days).\n",
      "o Predict from the 2019-04-02 to the 2019-04-03 (1 days).\n"
     ]
    },
    {
     "data": {
      "application/vnd.jupyter.widget-view+json": {
       "model_id": "1f7b8a3a3e104c8d9b2511ee9d15604c",
       "version_major": 2,
       "version_minor": 0
      },
      "text/plain": [
       "Canvas(toolbar=Toolbar(toolitems=[('Home', 'Reset original view', 'home', 'home'), ('Back', 'Back to previous …"
      ]
     },
     "metadata": {},
     "output_type": "display_data"
    },
    {
     "name": "stderr",
     "output_type": "stream",
     "text": [
      "INFO:fbprophet:Making 2 forecasts with cutoffs between 2019-04-01 06:58:44.135000 and 2019-04-01 18:58:44.135000\n"
     ]
    },
    {
     "name": "stdout",
     "output_type": "stream",
     "text": [
      "\n",
      "prophet_instance nb 13\n",
      "Tested model:\n",
      "Full dataset: 2019-03-07 to the 2019-05-01. Analysed data the 2019-03-26 to the 2019-04-03.\n",
      "o Trained on the data from the 2019-03-26 to the 2019-04-02 (6 days).\n",
      "o Predict from the 2019-04-02 to the 2019-04-03 (1 days).\n"
     ]
    },
    {
     "data": {
      "application/vnd.jupyter.widget-view+json": {
       "model_id": "9eeb03ae4f3b410db8a4e4689a69b09d",
       "version_major": 2,
       "version_minor": 0
      },
      "text/plain": [
       "Canvas(toolbar=Toolbar(toolitems=[('Home', 'Reset original view', 'home', 'home'), ('Back', 'Back to previous …"
      ]
     },
     "metadata": {},
     "output_type": "display_data"
    },
    {
     "name": "stderr",
     "output_type": "stream",
     "text": [
      "INFO:fbprophet:Making 2 forecasts with cutoffs between 2019-04-01 06:58:44.135000 and 2019-04-01 18:58:44.135000\n"
     ]
    },
    {
     "name": "stdout",
     "output_type": "stream",
     "text": [
      "\n",
      "prophet_instance nb 14\n",
      "Tested model:\n",
      "Full dataset: 2019-03-07 to the 2019-05-01. Analysed data the 2019-03-26 to the 2019-04-03.\n",
      "o Trained on the data from the 2019-03-26 to the 2019-04-02 (6 days).\n",
      "o Predict from the 2019-04-02 to the 2019-04-03 (1 days).\n"
     ]
    },
    {
     "data": {
      "application/vnd.jupyter.widget-view+json": {
       "model_id": "c1273bb1c8b6476fbdb5be653b2e821e",
       "version_major": 2,
       "version_minor": 0
      },
      "text/plain": [
       "Canvas(toolbar=Toolbar(toolitems=[('Home', 'Reset original view', 'home', 'home'), ('Back', 'Back to previous …"
      ]
     },
     "metadata": {},
     "output_type": "display_data"
    },
    {
     "name": "stderr",
     "output_type": "stream",
     "text": [
      "INFO:fbprophet:Making 2 forecasts with cutoffs between 2019-04-01 06:58:44.135000 and 2019-04-01 18:58:44.135000\n"
     ]
    },
    {
     "name": "stdout",
     "output_type": "stream",
     "text": [
      "\n",
      "prophet_instance nb 15\n",
      "Tested model:\n",
      "Full dataset: 2019-03-07 to the 2019-05-01. Analysed data the 2019-03-26 to the 2019-04-03.\n",
      "o Trained on the data from the 2019-03-26 to the 2019-04-02 (6 days).\n",
      "o Predict from the 2019-04-02 to the 2019-04-03 (1 days).\n"
     ]
    },
    {
     "data": {
      "application/vnd.jupyter.widget-view+json": {
       "model_id": "5312175844094132b5c18f4a49359a2a",
       "version_major": 2,
       "version_minor": 0
      },
      "text/plain": [
       "Canvas(toolbar=Toolbar(toolitems=[('Home', 'Reset original view', 'home', 'home'), ('Back', 'Back to previous …"
      ]
     },
     "metadata": {},
     "output_type": "display_data"
    },
    {
     "name": "stderr",
     "output_type": "stream",
     "text": [
      "INFO:fbprophet:Making 2 forecasts with cutoffs between 2019-04-01 06:58:44.135000 and 2019-04-01 18:58:44.135000\n"
     ]
    },
    {
     "name": "stdout",
     "output_type": "stream",
     "text": [
      "\n",
      "prophet_instance nb 16\n",
      "Tested model:\n",
      "Full dataset: 2019-03-07 to the 2019-05-01. Analysed data the 2019-03-26 to the 2019-04-03.\n",
      "o Trained on the data from the 2019-03-26 to the 2019-04-02 (6 days).\n",
      "o Predict from the 2019-04-02 to the 2019-04-03 (1 days).\n"
     ]
    },
    {
     "data": {
      "application/vnd.jupyter.widget-view+json": {
       "model_id": "89f19db21fb64a168d95b845e31cca3e",
       "version_major": 2,
       "version_minor": 0
      },
      "text/plain": [
       "Canvas(toolbar=Toolbar(toolitems=[('Home', 'Reset original view', 'home', 'home'), ('Back', 'Back to previous …"
      ]
     },
     "metadata": {},
     "output_type": "display_data"
    },
    {
     "name": "stderr",
     "output_type": "stream",
     "text": [
      "INFO:fbprophet:Making 2 forecasts with cutoffs between 2019-04-01 06:58:44.135000 and 2019-04-01 18:58:44.135000\n"
     ]
    },
    {
     "name": "stdout",
     "output_type": "stream",
     "text": [
      "\n",
      "prophet_instance nb 17\n",
      "Tested model:\n",
      "Full dataset: 2019-03-07 to the 2019-05-01. Analysed data the 2019-03-26 to the 2019-04-03.\n",
      "o Trained on the data from the 2019-03-26 to the 2019-04-02 (6 days).\n",
      "o Predict from the 2019-04-02 to the 2019-04-03 (1 days).\n"
     ]
    },
    {
     "data": {
      "application/vnd.jupyter.widget-view+json": {
       "model_id": "371dd83d66534b4c86ab1569b5b1d0f1",
       "version_major": 2,
       "version_minor": 0
      },
      "text/plain": [
       "Canvas(toolbar=Toolbar(toolitems=[('Home', 'Reset original view', 'home', 'home'), ('Back', 'Back to previous …"
      ]
     },
     "metadata": {},
     "output_type": "display_data"
    },
    {
     "name": "stderr",
     "output_type": "stream",
     "text": [
      "INFO:fbprophet:Making 2 forecasts with cutoffs between 2019-04-01 06:58:44.135000 and 2019-04-01 18:58:44.135000\n"
     ]
    },
    {
     "name": "stdout",
     "output_type": "stream",
     "text": [
      "GridSearch finished 78 minutes.\n"
     ]
    },
    {
     "data": {
      "text/html": [
       "<div>\n",
       "<style scoped>\n",
       "    .dataframe tbody tr th:only-of-type {\n",
       "        vertical-align: middle;\n",
       "    }\n",
       "\n",
       "    .dataframe tbody tr th {\n",
       "        vertical-align: top;\n",
       "    }\n",
       "\n",
       "    .dataframe thead th {\n",
       "        text-align: right;\n",
       "    }\n",
       "</style>\n",
       "<table border=\"1\" class=\"dataframe\">\n",
       "  <thead>\n",
       "    <tr style=\"text-align: right;\">\n",
       "      <th></th>\n",
       "      <th>device</th>\n",
       "      <th>parameter</th>\n",
       "      <th>begin</th>\n",
       "      <th>end</th>\n",
       "      <th>sampling_period_min</th>\n",
       "      <th>interval_width</th>\n",
       "      <th>daily_fo</th>\n",
       "      <th>changepoint_prior_scale</th>\n",
       "      <th>mape_average</th>\n",
       "    </tr>\n",
       "  </thead>\n",
       "  <tbody>\n",
       "    <tr>\n",
       "      <th>3</th>\n",
       "      <td>[device33]</td>\n",
       "      <td>co2</td>\n",
       "      <td>2019-03-22</td>\n",
       "      <td>2019-04-03</td>\n",
       "      <td>1</td>\n",
       "      <td>0.6</td>\n",
       "      <td>3</td>\n",
       "      <td>0.010</td>\n",
       "      <td>0.123622</td>\n",
       "    </tr>\n",
       "    <tr>\n",
       "      <th>4</th>\n",
       "      <td>[device33]</td>\n",
       "      <td>co2</td>\n",
       "      <td>2019-03-22</td>\n",
       "      <td>2019-04-03</td>\n",
       "      <td>1</td>\n",
       "      <td>0.6</td>\n",
       "      <td>6</td>\n",
       "      <td>0.010</td>\n",
       "      <td>0.130818</td>\n",
       "    </tr>\n",
       "    <tr>\n",
       "      <th>5</th>\n",
       "      <td>[device33]</td>\n",
       "      <td>co2</td>\n",
       "      <td>2019-03-22</td>\n",
       "      <td>2019-04-03</td>\n",
       "      <td>1</td>\n",
       "      <td>0.6</td>\n",
       "      <td>9</td>\n",
       "      <td>0.010</td>\n",
       "      <td>0.131206</td>\n",
       "    </tr>\n",
       "    <tr>\n",
       "      <th>9</th>\n",
       "      <td>[device33]</td>\n",
       "      <td>co2</td>\n",
       "      <td>2019-03-24</td>\n",
       "      <td>2019-04-03</td>\n",
       "      <td>1</td>\n",
       "      <td>0.6</td>\n",
       "      <td>3</td>\n",
       "      <td>0.010</td>\n",
       "      <td>0.155955</td>\n",
       "    </tr>\n",
       "    <tr>\n",
       "      <th>10</th>\n",
       "      <td>[device33]</td>\n",
       "      <td>co2</td>\n",
       "      <td>2019-03-24</td>\n",
       "      <td>2019-04-03</td>\n",
       "      <td>1</td>\n",
       "      <td>0.6</td>\n",
       "      <td>6</td>\n",
       "      <td>0.010</td>\n",
       "      <td>0.157499</td>\n",
       "    </tr>\n",
       "    <tr>\n",
       "      <th>11</th>\n",
       "      <td>[device33]</td>\n",
       "      <td>co2</td>\n",
       "      <td>2019-03-24</td>\n",
       "      <td>2019-04-03</td>\n",
       "      <td>1</td>\n",
       "      <td>0.6</td>\n",
       "      <td>9</td>\n",
       "      <td>0.010</td>\n",
       "      <td>0.159407</td>\n",
       "    </tr>\n",
       "    <tr>\n",
       "      <th>12</th>\n",
       "      <td>[device33]</td>\n",
       "      <td>co2</td>\n",
       "      <td>2019-03-26</td>\n",
       "      <td>2019-04-03</td>\n",
       "      <td>1</td>\n",
       "      <td>0.6</td>\n",
       "      <td>3</td>\n",
       "      <td>0.001</td>\n",
       "      <td>0.172320</td>\n",
       "    </tr>\n",
       "    <tr>\n",
       "      <th>14</th>\n",
       "      <td>[device33]</td>\n",
       "      <td>co2</td>\n",
       "      <td>2019-03-26</td>\n",
       "      <td>2019-04-03</td>\n",
       "      <td>1</td>\n",
       "      <td>0.6</td>\n",
       "      <td>9</td>\n",
       "      <td>0.001</td>\n",
       "      <td>0.172851</td>\n",
       "    </tr>\n",
       "    <tr>\n",
       "      <th>13</th>\n",
       "      <td>[device33]</td>\n",
       "      <td>co2</td>\n",
       "      <td>2019-03-26</td>\n",
       "      <td>2019-04-03</td>\n",
       "      <td>1</td>\n",
       "      <td>0.6</td>\n",
       "      <td>6</td>\n",
       "      <td>0.001</td>\n",
       "      <td>0.173043</td>\n",
       "    </tr>\n",
       "    <tr>\n",
       "      <th>6</th>\n",
       "      <td>[device33]</td>\n",
       "      <td>co2</td>\n",
       "      <td>2019-03-24</td>\n",
       "      <td>2019-04-03</td>\n",
       "      <td>1</td>\n",
       "      <td>0.6</td>\n",
       "      <td>3</td>\n",
       "      <td>0.001</td>\n",
       "      <td>0.182858</td>\n",
       "    </tr>\n",
       "    <tr>\n",
       "      <th>8</th>\n",
       "      <td>[device33]</td>\n",
       "      <td>co2</td>\n",
       "      <td>2019-03-24</td>\n",
       "      <td>2019-04-03</td>\n",
       "      <td>1</td>\n",
       "      <td>0.6</td>\n",
       "      <td>9</td>\n",
       "      <td>0.001</td>\n",
       "      <td>0.185840</td>\n",
       "    </tr>\n",
       "    <tr>\n",
       "      <th>0</th>\n",
       "      <td>[device33]</td>\n",
       "      <td>co2</td>\n",
       "      <td>2019-03-22</td>\n",
       "      <td>2019-04-03</td>\n",
       "      <td>1</td>\n",
       "      <td>0.6</td>\n",
       "      <td>3</td>\n",
       "      <td>0.001</td>\n",
       "      <td>0.187156</td>\n",
       "    </tr>\n",
       "    <tr>\n",
       "      <th>7</th>\n",
       "      <td>[device33]</td>\n",
       "      <td>co2</td>\n",
       "      <td>2019-03-24</td>\n",
       "      <td>2019-04-03</td>\n",
       "      <td>1</td>\n",
       "      <td>0.6</td>\n",
       "      <td>6</td>\n",
       "      <td>0.001</td>\n",
       "      <td>0.187764</td>\n",
       "    </tr>\n",
       "    <tr>\n",
       "      <th>1</th>\n",
       "      <td>[device33]</td>\n",
       "      <td>co2</td>\n",
       "      <td>2019-03-22</td>\n",
       "      <td>2019-04-03</td>\n",
       "      <td>1</td>\n",
       "      <td>0.6</td>\n",
       "      <td>6</td>\n",
       "      <td>0.001</td>\n",
       "      <td>0.189748</td>\n",
       "    </tr>\n",
       "    <tr>\n",
       "      <th>2</th>\n",
       "      <td>[device33]</td>\n",
       "      <td>co2</td>\n",
       "      <td>2019-03-22</td>\n",
       "      <td>2019-04-03</td>\n",
       "      <td>1</td>\n",
       "      <td>0.6</td>\n",
       "      <td>9</td>\n",
       "      <td>0.001</td>\n",
       "      <td>0.190005</td>\n",
       "    </tr>\n",
       "    <tr>\n",
       "      <th>17</th>\n",
       "      <td>[device33]</td>\n",
       "      <td>co2</td>\n",
       "      <td>2019-03-26</td>\n",
       "      <td>2019-04-03</td>\n",
       "      <td>1</td>\n",
       "      <td>0.6</td>\n",
       "      <td>9</td>\n",
       "      <td>0.010</td>\n",
       "      <td>0.205245</td>\n",
       "    </tr>\n",
       "    <tr>\n",
       "      <th>16</th>\n",
       "      <td>[device33]</td>\n",
       "      <td>co2</td>\n",
       "      <td>2019-03-26</td>\n",
       "      <td>2019-04-03</td>\n",
       "      <td>1</td>\n",
       "      <td>0.6</td>\n",
       "      <td>6</td>\n",
       "      <td>0.010</td>\n",
       "      <td>0.205902</td>\n",
       "    </tr>\n",
       "    <tr>\n",
       "      <th>15</th>\n",
       "      <td>[device33]</td>\n",
       "      <td>co2</td>\n",
       "      <td>2019-03-26</td>\n",
       "      <td>2019-04-03</td>\n",
       "      <td>1</td>\n",
       "      <td>0.6</td>\n",
       "      <td>3</td>\n",
       "      <td>0.010</td>\n",
       "      <td>0.210201</td>\n",
       "    </tr>\n",
       "  </tbody>\n",
       "</table>\n",
       "</div>"
      ],
      "text/plain": [
       "        device parameter       begin         end  sampling_period_min  \\\n",
       "3   [device33]       co2  2019-03-22  2019-04-03                    1   \n",
       "4   [device33]       co2  2019-03-22  2019-04-03                    1   \n",
       "5   [device33]       co2  2019-03-22  2019-04-03                    1   \n",
       "9   [device33]       co2  2019-03-24  2019-04-03                    1   \n",
       "10  [device33]       co2  2019-03-24  2019-04-03                    1   \n",
       "11  [device33]       co2  2019-03-24  2019-04-03                    1   \n",
       "12  [device33]       co2  2019-03-26  2019-04-03                    1   \n",
       "14  [device33]       co2  2019-03-26  2019-04-03                    1   \n",
       "13  [device33]       co2  2019-03-26  2019-04-03                    1   \n",
       "6   [device33]       co2  2019-03-24  2019-04-03                    1   \n",
       "8   [device33]       co2  2019-03-24  2019-04-03                    1   \n",
       "0   [device33]       co2  2019-03-22  2019-04-03                    1   \n",
       "7   [device33]       co2  2019-03-24  2019-04-03                    1   \n",
       "1   [device33]       co2  2019-03-22  2019-04-03                    1   \n",
       "2   [device33]       co2  2019-03-22  2019-04-03                    1   \n",
       "17  [device33]       co2  2019-03-26  2019-04-03                    1   \n",
       "16  [device33]       co2  2019-03-26  2019-04-03                    1   \n",
       "15  [device33]       co2  2019-03-26  2019-04-03                    1   \n",
       "\n",
       "    interval_width  daily_fo  changepoint_prior_scale  mape_average  \n",
       "3              0.6         3                    0.010      0.123622  \n",
       "4              0.6         6                    0.010      0.130818  \n",
       "5              0.6         9                    0.010      0.131206  \n",
       "9              0.6         3                    0.010      0.155955  \n",
       "10             0.6         6                    0.010      0.157499  \n",
       "11             0.6         9                    0.010      0.159407  \n",
       "12             0.6         3                    0.001      0.172320  \n",
       "14             0.6         9                    0.001      0.172851  \n",
       "13             0.6         6                    0.001      0.173043  \n",
       "6              0.6         3                    0.001      0.182858  \n",
       "8              0.6         9                    0.001      0.185840  \n",
       "0              0.6         3                    0.001      0.187156  \n",
       "7              0.6         6                    0.001      0.187764  \n",
       "1              0.6         6                    0.001      0.189748  \n",
       "2              0.6         9                    0.001      0.190005  \n",
       "17             0.6         9                    0.010      0.205245  \n",
       "16             0.6         6                    0.010      0.205902  \n",
       "15             0.6         3                    0.010      0.210201  "
      ]
     },
     "execution_count": 47,
     "metadata": {},
     "output_type": "execute_result"
    }
   ],
   "source": [
    "# GridSearch. To do a randomSearch check below\n",
    "start_time = time.time()\n",
    "\n",
    "# Parameters\n",
    "prophet_grid = {'df_dev' : [df_dev],\n",
    "                'device' : [device],\n",
    "                'parameter' : ['co2'],\n",
    "                'begin' : ['2019-03-22', '2019-03-24', '2019-03-26'],\n",
    "                'end' : ['2019-04-03'],\n",
    "                'sampling_period_min' : [1],\n",
    "                'graph' : [1],\n",
    "                'predict_day' : [1],\n",
    "                'interval_width' : [0.6],\n",
    "                'changepoint_prior_scale' : [0.001, 0.01], # list(np.arange(0.01,30,1).tolist()),\n",
    "                'daily_fo' : [3, 6, 9],\n",
    "#                 'holidays_prior_scale' : list((1000,100,10,1,0.1)),\n",
    "               }\n",
    "\n",
    "# Run GridSearch_Prophet\n",
    "mape_table = GridSearch_Prophet(list(ParameterGrid(prophet_grid)), metric='mape')\n",
    "\n",
    "\n",
    "end_time = time.time()\n",
    "dur_min = int((end_time - start_time)/60)\n",
    "\n",
    "print('GridSearch finished '+ str(dur_min) + \" minutes.\")\n",
    "mape_table.sort_values('mape_average')"
   ]
  },
  {
   "cell_type": "code",
   "execution_count": 48,
   "metadata": {},
   "outputs": [
    {
     "data": {
      "text/html": [
       "<div>\n",
       "<style scoped>\n",
       "    .dataframe tbody tr th:only-of-type {\n",
       "        vertical-align: middle;\n",
       "    }\n",
       "\n",
       "    .dataframe tbody tr th {\n",
       "        vertical-align: top;\n",
       "    }\n",
       "\n",
       "    .dataframe thead th {\n",
       "        text-align: right;\n",
       "    }\n",
       "</style>\n",
       "<table border=\"1\" class=\"dataframe\">\n",
       "  <thead>\n",
       "    <tr style=\"text-align: right;\">\n",
       "      <th></th>\n",
       "      <th>device</th>\n",
       "      <th>parameter</th>\n",
       "      <th>begin</th>\n",
       "      <th>end</th>\n",
       "      <th>sampling_period_min</th>\n",
       "      <th>interval_width</th>\n",
       "      <th>daily_fo</th>\n",
       "      <th>changepoint_prior_scale</th>\n",
       "      <th>mape_average</th>\n",
       "    </tr>\n",
       "  </thead>\n",
       "  <tbody>\n",
       "    <tr>\n",
       "      <th>3</th>\n",
       "      <td>[device33]</td>\n",
       "      <td>co2</td>\n",
       "      <td>2019-03-22</td>\n",
       "      <td>2019-04-03</td>\n",
       "      <td>1</td>\n",
       "      <td>0.6</td>\n",
       "      <td>3</td>\n",
       "      <td>0.010</td>\n",
       "      <td>0.123622</td>\n",
       "    </tr>\n",
       "    <tr>\n",
       "      <th>4</th>\n",
       "      <td>[device33]</td>\n",
       "      <td>co2</td>\n",
       "      <td>2019-03-22</td>\n",
       "      <td>2019-04-03</td>\n",
       "      <td>1</td>\n",
       "      <td>0.6</td>\n",
       "      <td>6</td>\n",
       "      <td>0.010</td>\n",
       "      <td>0.130818</td>\n",
       "    </tr>\n",
       "    <tr>\n",
       "      <th>5</th>\n",
       "      <td>[device33]</td>\n",
       "      <td>co2</td>\n",
       "      <td>2019-03-22</td>\n",
       "      <td>2019-04-03</td>\n",
       "      <td>1</td>\n",
       "      <td>0.6</td>\n",
       "      <td>9</td>\n",
       "      <td>0.010</td>\n",
       "      <td>0.131206</td>\n",
       "    </tr>\n",
       "    <tr>\n",
       "      <th>9</th>\n",
       "      <td>[device33]</td>\n",
       "      <td>co2</td>\n",
       "      <td>2019-03-24</td>\n",
       "      <td>2019-04-03</td>\n",
       "      <td>1</td>\n",
       "      <td>0.6</td>\n",
       "      <td>3</td>\n",
       "      <td>0.010</td>\n",
       "      <td>0.155955</td>\n",
       "    </tr>\n",
       "    <tr>\n",
       "      <th>10</th>\n",
       "      <td>[device33]</td>\n",
       "      <td>co2</td>\n",
       "      <td>2019-03-24</td>\n",
       "      <td>2019-04-03</td>\n",
       "      <td>1</td>\n",
       "      <td>0.6</td>\n",
       "      <td>6</td>\n",
       "      <td>0.010</td>\n",
       "      <td>0.157499</td>\n",
       "    </tr>\n",
       "    <tr>\n",
       "      <th>11</th>\n",
       "      <td>[device33]</td>\n",
       "      <td>co2</td>\n",
       "      <td>2019-03-24</td>\n",
       "      <td>2019-04-03</td>\n",
       "      <td>1</td>\n",
       "      <td>0.6</td>\n",
       "      <td>9</td>\n",
       "      <td>0.010</td>\n",
       "      <td>0.159407</td>\n",
       "    </tr>\n",
       "    <tr>\n",
       "      <th>12</th>\n",
       "      <td>[device33]</td>\n",
       "      <td>co2</td>\n",
       "      <td>2019-03-26</td>\n",
       "      <td>2019-04-03</td>\n",
       "      <td>1</td>\n",
       "      <td>0.6</td>\n",
       "      <td>3</td>\n",
       "      <td>0.001</td>\n",
       "      <td>0.172320</td>\n",
       "    </tr>\n",
       "    <tr>\n",
       "      <th>14</th>\n",
       "      <td>[device33]</td>\n",
       "      <td>co2</td>\n",
       "      <td>2019-03-26</td>\n",
       "      <td>2019-04-03</td>\n",
       "      <td>1</td>\n",
       "      <td>0.6</td>\n",
       "      <td>9</td>\n",
       "      <td>0.001</td>\n",
       "      <td>0.172851</td>\n",
       "    </tr>\n",
       "    <tr>\n",
       "      <th>13</th>\n",
       "      <td>[device33]</td>\n",
       "      <td>co2</td>\n",
       "      <td>2019-03-26</td>\n",
       "      <td>2019-04-03</td>\n",
       "      <td>1</td>\n",
       "      <td>0.6</td>\n",
       "      <td>6</td>\n",
       "      <td>0.001</td>\n",
       "      <td>0.173043</td>\n",
       "    </tr>\n",
       "    <tr>\n",
       "      <th>6</th>\n",
       "      <td>[device33]</td>\n",
       "      <td>co2</td>\n",
       "      <td>2019-03-24</td>\n",
       "      <td>2019-04-03</td>\n",
       "      <td>1</td>\n",
       "      <td>0.6</td>\n",
       "      <td>3</td>\n",
       "      <td>0.001</td>\n",
       "      <td>0.182858</td>\n",
       "    </tr>\n",
       "    <tr>\n",
       "      <th>8</th>\n",
       "      <td>[device33]</td>\n",
       "      <td>co2</td>\n",
       "      <td>2019-03-24</td>\n",
       "      <td>2019-04-03</td>\n",
       "      <td>1</td>\n",
       "      <td>0.6</td>\n",
       "      <td>9</td>\n",
       "      <td>0.001</td>\n",
       "      <td>0.185840</td>\n",
       "    </tr>\n",
       "    <tr>\n",
       "      <th>0</th>\n",
       "      <td>[device33]</td>\n",
       "      <td>co2</td>\n",
       "      <td>2019-03-22</td>\n",
       "      <td>2019-04-03</td>\n",
       "      <td>1</td>\n",
       "      <td>0.6</td>\n",
       "      <td>3</td>\n",
       "      <td>0.001</td>\n",
       "      <td>0.187156</td>\n",
       "    </tr>\n",
       "    <tr>\n",
       "      <th>7</th>\n",
       "      <td>[device33]</td>\n",
       "      <td>co2</td>\n",
       "      <td>2019-03-24</td>\n",
       "      <td>2019-04-03</td>\n",
       "      <td>1</td>\n",
       "      <td>0.6</td>\n",
       "      <td>6</td>\n",
       "      <td>0.001</td>\n",
       "      <td>0.187764</td>\n",
       "    </tr>\n",
       "    <tr>\n",
       "      <th>1</th>\n",
       "      <td>[device33]</td>\n",
       "      <td>co2</td>\n",
       "      <td>2019-03-22</td>\n",
       "      <td>2019-04-03</td>\n",
       "      <td>1</td>\n",
       "      <td>0.6</td>\n",
       "      <td>6</td>\n",
       "      <td>0.001</td>\n",
       "      <td>0.189748</td>\n",
       "    </tr>\n",
       "    <tr>\n",
       "      <th>2</th>\n",
       "      <td>[device33]</td>\n",
       "      <td>co2</td>\n",
       "      <td>2019-03-22</td>\n",
       "      <td>2019-04-03</td>\n",
       "      <td>1</td>\n",
       "      <td>0.6</td>\n",
       "      <td>9</td>\n",
       "      <td>0.001</td>\n",
       "      <td>0.190005</td>\n",
       "    </tr>\n",
       "    <tr>\n",
       "      <th>17</th>\n",
       "      <td>[device33]</td>\n",
       "      <td>co2</td>\n",
       "      <td>2019-03-26</td>\n",
       "      <td>2019-04-03</td>\n",
       "      <td>1</td>\n",
       "      <td>0.6</td>\n",
       "      <td>9</td>\n",
       "      <td>0.010</td>\n",
       "      <td>0.205245</td>\n",
       "    </tr>\n",
       "    <tr>\n",
       "      <th>16</th>\n",
       "      <td>[device33]</td>\n",
       "      <td>co2</td>\n",
       "      <td>2019-03-26</td>\n",
       "      <td>2019-04-03</td>\n",
       "      <td>1</td>\n",
       "      <td>0.6</td>\n",
       "      <td>6</td>\n",
       "      <td>0.010</td>\n",
       "      <td>0.205902</td>\n",
       "    </tr>\n",
       "    <tr>\n",
       "      <th>15</th>\n",
       "      <td>[device33]</td>\n",
       "      <td>co2</td>\n",
       "      <td>2019-03-26</td>\n",
       "      <td>2019-04-03</td>\n",
       "      <td>1</td>\n",
       "      <td>0.6</td>\n",
       "      <td>3</td>\n",
       "      <td>0.010</td>\n",
       "      <td>0.210201</td>\n",
       "    </tr>\n",
       "  </tbody>\n",
       "</table>\n",
       "</div>"
      ],
      "text/plain": [
       "        device parameter       begin         end  sampling_period_min  \\\n",
       "3   [device33]       co2  2019-03-22  2019-04-03                    1   \n",
       "4   [device33]       co2  2019-03-22  2019-04-03                    1   \n",
       "5   [device33]       co2  2019-03-22  2019-04-03                    1   \n",
       "9   [device33]       co2  2019-03-24  2019-04-03                    1   \n",
       "10  [device33]       co2  2019-03-24  2019-04-03                    1   \n",
       "11  [device33]       co2  2019-03-24  2019-04-03                    1   \n",
       "12  [device33]       co2  2019-03-26  2019-04-03                    1   \n",
       "14  [device33]       co2  2019-03-26  2019-04-03                    1   \n",
       "13  [device33]       co2  2019-03-26  2019-04-03                    1   \n",
       "6   [device33]       co2  2019-03-24  2019-04-03                    1   \n",
       "8   [device33]       co2  2019-03-24  2019-04-03                    1   \n",
       "0   [device33]       co2  2019-03-22  2019-04-03                    1   \n",
       "7   [device33]       co2  2019-03-24  2019-04-03                    1   \n",
       "1   [device33]       co2  2019-03-22  2019-04-03                    1   \n",
       "2   [device33]       co2  2019-03-22  2019-04-03                    1   \n",
       "17  [device33]       co2  2019-03-26  2019-04-03                    1   \n",
       "16  [device33]       co2  2019-03-26  2019-04-03                    1   \n",
       "15  [device33]       co2  2019-03-26  2019-04-03                    1   \n",
       "\n",
       "    interval_width  daily_fo  changepoint_prior_scale  mape_average  \n",
       "3              0.6         3                    0.010      0.123622  \n",
       "4              0.6         6                    0.010      0.130818  \n",
       "5              0.6         9                    0.010      0.131206  \n",
       "9              0.6         3                    0.010      0.155955  \n",
       "10             0.6         6                    0.010      0.157499  \n",
       "11             0.6         9                    0.010      0.159407  \n",
       "12             0.6         3                    0.001      0.172320  \n",
       "14             0.6         9                    0.001      0.172851  \n",
       "13             0.6         6                    0.001      0.173043  \n",
       "6              0.6         3                    0.001      0.182858  \n",
       "8              0.6         9                    0.001      0.185840  \n",
       "0              0.6         3                    0.001      0.187156  \n",
       "7              0.6         6                    0.001      0.187764  \n",
       "1              0.6         6                    0.001      0.189748  \n",
       "2              0.6         9                    0.001      0.190005  \n",
       "17             0.6         9                    0.010      0.205245  \n",
       "16             0.6         6                    0.010      0.205902  \n",
       "15             0.6         3                    0.010      0.210201  "
      ]
     },
     "execution_count": 48,
     "metadata": {},
     "output_type": "execute_result"
    }
   ],
   "source": [
    "mape_table.sort_values('mape_average')"
   ]
  },
  {
   "cell_type": "markdown",
   "metadata": {},
   "source": [
    "**Conclusion**\n",
    "\n",
    "'changepoint_prior_scale' : [0.001, 0.01, 0.1]\n",
    "\t- 0.1 is too large ! The prediction goes wide and the prediction is meaningless.\n",
    "\t- 0.01 may be better than 0.001\n",
    "\t- Keep both 0.01 and 0.001\n",
    "\n",
    "\n",
    "'begin' : ['2019-03-22', '2019-03-24', '2019-03-26']\n",
    "\t- In this case, the more data is used for the model fitting, the lower is the median_mape"
   ]
  },
  {
   "cell_type": "markdown",
   "metadata": {},
   "source": [
    "**Test 4: Testing different training periods, daily_fo of the Prophet model**"
   ]
  },
  {
   "cell_type": "code",
   "execution_count": 51,
   "metadata": {},
   "outputs": [
    {
     "name": "stdout",
     "output_type": "stream",
     "text": [
      "\n",
      "prophet_instance nb 0\n",
      "Tested model:\n",
      "Full dataset: 2019-03-07 to the 2019-05-01. Analysed data the 2019-03-22 to the 2019-04-03.\n",
      "o Trained on the data from the 2019-03-22 to the 2019-04-02 (10 days).\n",
      "o Predict from the 2019-04-02 to the 2019-04-03 (1 days).\n"
     ]
    },
    {
     "data": {
      "application/vnd.jupyter.widget-view+json": {
       "model_id": "ac73c36e87cd48d89769e213c1e25ae4",
       "version_major": 2,
       "version_minor": 0
      },
      "text/plain": [
       "Canvas(toolbar=Toolbar(toolitems=[('Home', 'Reset original view', 'home', 'home'), ('Back', 'Back to previous …"
      ]
     },
     "metadata": {},
     "output_type": "display_data"
    },
    {
     "name": "stderr",
     "output_type": "stream",
     "text": [
      "INFO:fbprophet:Making 10 forecasts with cutoffs between 2019-03-28 06:58:44.135000 and 2019-04-01 18:58:44.135000\n"
     ]
    },
    {
     "name": "stdout",
     "output_type": "stream",
     "text": [
      "\n",
      "prophet_instance nb 1\n",
      "Tested model:\n",
      "Full dataset: 2019-03-07 to the 2019-05-01. Analysed data the 2019-03-22 to the 2019-04-03.\n",
      "o Trained on the data from the 2019-03-22 to the 2019-04-02 (10 days).\n",
      "o Predict from the 2019-04-02 to the 2019-04-03 (1 days).\n"
     ]
    },
    {
     "data": {
      "application/vnd.jupyter.widget-view+json": {
       "model_id": "4a8efcd3c3fd4dbb9e8085d1eda50139",
       "version_major": 2,
       "version_minor": 0
      },
      "text/plain": [
       "Canvas(toolbar=Toolbar(toolitems=[('Home', 'Reset original view', 'home', 'home'), ('Back', 'Back to previous …"
      ]
     },
     "metadata": {},
     "output_type": "display_data"
    },
    {
     "name": "stderr",
     "output_type": "stream",
     "text": [
      "INFO:fbprophet:Making 10 forecasts with cutoffs between 2019-03-28 06:58:44.135000 and 2019-04-01 18:58:44.135000\n"
     ]
    },
    {
     "name": "stdout",
     "output_type": "stream",
     "text": [
      "\n",
      "prophet_instance nb 2\n",
      "Tested model:\n",
      "Full dataset: 2019-03-07 to the 2019-05-01. Analysed data the 2019-03-22 to the 2019-04-03.\n",
      "o Trained on the data from the 2019-03-22 to the 2019-04-02 (10 days).\n",
      "o Predict from the 2019-04-02 to the 2019-04-03 (1 days).\n"
     ]
    },
    {
     "data": {
      "application/vnd.jupyter.widget-view+json": {
       "model_id": "1c9329186457487e8298e745eaa7c05e",
       "version_major": 2,
       "version_minor": 0
      },
      "text/plain": [
       "Canvas(toolbar=Toolbar(toolitems=[('Home', 'Reset original view', 'home', 'home'), ('Back', 'Back to previous …"
      ]
     },
     "metadata": {},
     "output_type": "display_data"
    },
    {
     "name": "stderr",
     "output_type": "stream",
     "text": [
      "INFO:fbprophet:Making 10 forecasts with cutoffs between 2019-03-28 06:58:44.135000 and 2019-04-01 18:58:44.135000\n"
     ]
    },
    {
     "name": "stdout",
     "output_type": "stream",
     "text": [
      "\n",
      "prophet_instance nb 3\n",
      "Tested model:\n",
      "Full dataset: 2019-03-07 to the 2019-05-01. Analysed data the 2019-03-24 to the 2019-04-03.\n",
      "o Trained on the data from the 2019-03-24 to the 2019-04-02 (8 days).\n",
      "o Predict from the 2019-04-02 to the 2019-04-03 (1 days).\n"
     ]
    },
    {
     "data": {
      "application/vnd.jupyter.widget-view+json": {
       "model_id": "a1476e4ad152443f911dc8a50dbcee73",
       "version_major": 2,
       "version_minor": 0
      },
      "text/plain": [
       "Canvas(toolbar=Toolbar(toolitems=[('Home', 'Reset original view', 'home', 'home'), ('Back', 'Back to previous …"
      ]
     },
     "metadata": {},
     "output_type": "display_data"
    },
    {
     "name": "stderr",
     "output_type": "stream",
     "text": [
      "INFO:fbprophet:Making 6 forecasts with cutoffs between 2019-03-30 06:58:44.135000 and 2019-04-01 18:58:44.135000\n"
     ]
    },
    {
     "name": "stdout",
     "output_type": "stream",
     "text": [
      "\n",
      "prophet_instance nb 4\n",
      "Tested model:\n",
      "Full dataset: 2019-03-07 to the 2019-05-01. Analysed data the 2019-03-24 to the 2019-04-03.\n",
      "o Trained on the data from the 2019-03-24 to the 2019-04-02 (8 days).\n",
      "o Predict from the 2019-04-02 to the 2019-04-03 (1 days).\n"
     ]
    },
    {
     "data": {
      "application/vnd.jupyter.widget-view+json": {
       "model_id": "803d97c4de1a46b18ebf211242bb3bf6",
       "version_major": 2,
       "version_minor": 0
      },
      "text/plain": [
       "Canvas(toolbar=Toolbar(toolitems=[('Home', 'Reset original view', 'home', 'home'), ('Back', 'Back to previous …"
      ]
     },
     "metadata": {},
     "output_type": "display_data"
    },
    {
     "name": "stderr",
     "output_type": "stream",
     "text": [
      "INFO:fbprophet:Making 6 forecasts with cutoffs between 2019-03-30 06:58:44.135000 and 2019-04-01 18:58:44.135000\n"
     ]
    },
    {
     "name": "stdout",
     "output_type": "stream",
     "text": [
      "\n",
      "prophet_instance nb 5\n",
      "Tested model:\n",
      "Full dataset: 2019-03-07 to the 2019-05-01. Analysed data the 2019-03-24 to the 2019-04-03.\n",
      "o Trained on the data from the 2019-03-24 to the 2019-04-02 (8 days).\n",
      "o Predict from the 2019-04-02 to the 2019-04-03 (1 days).\n"
     ]
    },
    {
     "data": {
      "application/vnd.jupyter.widget-view+json": {
       "model_id": "a56416cff1b54a9aaa67dcd342fccdd6",
       "version_major": 2,
       "version_minor": 0
      },
      "text/plain": [
       "Canvas(toolbar=Toolbar(toolitems=[('Home', 'Reset original view', 'home', 'home'), ('Back', 'Back to previous …"
      ]
     },
     "metadata": {},
     "output_type": "display_data"
    },
    {
     "name": "stderr",
     "output_type": "stream",
     "text": [
      "INFO:fbprophet:Making 6 forecasts with cutoffs between 2019-03-30 06:58:44.135000 and 2019-04-01 18:58:44.135000\n"
     ]
    },
    {
     "name": "stdout",
     "output_type": "stream",
     "text": [
      "GridSearch finished 32 minutes.\n"
     ]
    },
    {
     "data": {
      "text/html": [
       "<div>\n",
       "<style scoped>\n",
       "    .dataframe tbody tr th:only-of-type {\n",
       "        vertical-align: middle;\n",
       "    }\n",
       "\n",
       "    .dataframe tbody tr th {\n",
       "        vertical-align: top;\n",
       "    }\n",
       "\n",
       "    .dataframe thead th {\n",
       "        text-align: right;\n",
       "    }\n",
       "</style>\n",
       "<table border=\"1\" class=\"dataframe\">\n",
       "  <thead>\n",
       "    <tr style=\"text-align: right;\">\n",
       "      <th></th>\n",
       "      <th>device</th>\n",
       "      <th>parameter</th>\n",
       "      <th>begin</th>\n",
       "      <th>end</th>\n",
       "      <th>sampling_period_min</th>\n",
       "      <th>interval_width</th>\n",
       "      <th>daily_fo</th>\n",
       "      <th>changepoint_prior_scale</th>\n",
       "      <th>mape_average</th>\n",
       "    </tr>\n",
       "  </thead>\n",
       "  <tbody>\n",
       "    <tr>\n",
       "      <th>0</th>\n",
       "      <td>[device33]</td>\n",
       "      <td>co2</td>\n",
       "      <td>2019-03-22</td>\n",
       "      <td>2019-04-03</td>\n",
       "      <td>1</td>\n",
       "      <td>0.6</td>\n",
       "      <td>3</td>\n",
       "      <td>0.01</td>\n",
       "      <td>0.123622</td>\n",
       "    </tr>\n",
       "    <tr>\n",
       "      <th>1</th>\n",
       "      <td>[device33]</td>\n",
       "      <td>co2</td>\n",
       "      <td>2019-03-22</td>\n",
       "      <td>2019-04-03</td>\n",
       "      <td>1</td>\n",
       "      <td>0.6</td>\n",
       "      <td>6</td>\n",
       "      <td>0.01</td>\n",
       "      <td>0.130818</td>\n",
       "    </tr>\n",
       "    <tr>\n",
       "      <th>2</th>\n",
       "      <td>[device33]</td>\n",
       "      <td>co2</td>\n",
       "      <td>2019-03-22</td>\n",
       "      <td>2019-04-03</td>\n",
       "      <td>1</td>\n",
       "      <td>0.6</td>\n",
       "      <td>9</td>\n",
       "      <td>0.01</td>\n",
       "      <td>0.131206</td>\n",
       "    </tr>\n",
       "    <tr>\n",
       "      <th>3</th>\n",
       "      <td>[device33]</td>\n",
       "      <td>co2</td>\n",
       "      <td>2019-03-24</td>\n",
       "      <td>2019-04-03</td>\n",
       "      <td>1</td>\n",
       "      <td>0.6</td>\n",
       "      <td>3</td>\n",
       "      <td>0.01</td>\n",
       "      <td>0.155955</td>\n",
       "    </tr>\n",
       "    <tr>\n",
       "      <th>4</th>\n",
       "      <td>[device33]</td>\n",
       "      <td>co2</td>\n",
       "      <td>2019-03-24</td>\n",
       "      <td>2019-04-03</td>\n",
       "      <td>1</td>\n",
       "      <td>0.6</td>\n",
       "      <td>6</td>\n",
       "      <td>0.01</td>\n",
       "      <td>0.157499</td>\n",
       "    </tr>\n",
       "    <tr>\n",
       "      <th>5</th>\n",
       "      <td>[device33]</td>\n",
       "      <td>co2</td>\n",
       "      <td>2019-03-24</td>\n",
       "      <td>2019-04-03</td>\n",
       "      <td>1</td>\n",
       "      <td>0.6</td>\n",
       "      <td>9</td>\n",
       "      <td>0.01</td>\n",
       "      <td>0.159407</td>\n",
       "    </tr>\n",
       "  </tbody>\n",
       "</table>\n",
       "</div>"
      ],
      "text/plain": [
       "       device parameter       begin         end  sampling_period_min  \\\n",
       "0  [device33]       co2  2019-03-22  2019-04-03                    1   \n",
       "1  [device33]       co2  2019-03-22  2019-04-03                    1   \n",
       "2  [device33]       co2  2019-03-22  2019-04-03                    1   \n",
       "3  [device33]       co2  2019-03-24  2019-04-03                    1   \n",
       "4  [device33]       co2  2019-03-24  2019-04-03                    1   \n",
       "5  [device33]       co2  2019-03-24  2019-04-03                    1   \n",
       "\n",
       "   interval_width  daily_fo  changepoint_prior_scale  mape_average  \n",
       "0             0.6         3                     0.01      0.123622  \n",
       "1             0.6         6                     0.01      0.130818  \n",
       "2             0.6         9                     0.01      0.131206  \n",
       "3             0.6         3                     0.01      0.155955  \n",
       "4             0.6         6                     0.01      0.157499  \n",
       "5             0.6         9                     0.01      0.159407  "
      ]
     },
     "execution_count": 51,
     "metadata": {},
     "output_type": "execute_result"
    }
   ],
   "source": [
    "# GridSearch. To do a randomSearch check below\n",
    "start_time = time.time()\n",
    "\n",
    "# Parameters\n",
    "prophet_grid = {'df_dev' : [df_dev],\n",
    "                'device' : [device],\n",
    "                'parameter' : ['co2'],\n",
    "                'begin' : ['2019-03-22', '2019-03-24'],\n",
    "                'end' : ['2019-04-03'],\n",
    "                'sampling_period_min' : [1],\n",
    "                'graph' : [1],\n",
    "                'predict_day' : [1],\n",
    "                'interval_width' : [0.6],\n",
    "                'changepoint_prior_scale' : [0.01], # list(np.arange(0.01,30,1).tolist()),\n",
    "                'daily_fo' : [3, 6, 9],\n",
    "#                 'holidays_prior_scale' : list((1000,100,10,1,0.1)),\n",
    "               }\n",
    "\n",
    "# Run GridSearch_Prophet\n",
    "mape_0403 = GridSearch_Prophet(list(ParameterGrid(prophet_grid)), metric='mape')\n",
    "\n",
    "\n",
    "end_time = time.time()\n",
    "dur_min = int((end_time - start_time)/60)\n",
    "\n",
    "print('GridSearch finished '+ str(dur_min) + \" minutes.\")\n",
    "mape_0403.sort_values('mape_average')"
   ]
  },
  {
   "cell_type": "code",
   "execution_count": 56,
   "metadata": {},
   "outputs": [],
   "source": [
    "mape_0403.to_csv('dev33_co2_2019-04-03.csv')"
   ]
  },
  {
   "cell_type": "code",
   "execution_count": 52,
   "metadata": {},
   "outputs": [
    {
     "name": "stdout",
     "output_type": "stream",
     "text": [
      "\n",
      "prophet_instance nb 0\n",
      "Tested model:\n",
      "Full dataset: 2019-03-07 to the 2019-05-01. Analysed data the 2019-03-21 to the 2019-04-02.\n",
      "o Trained on the data from the 2019-03-21 to the 2019-04-01 (10 days).\n",
      "o Predict from the 2019-04-01 to the 2019-04-02 (1 days).\n"
     ]
    },
    {
     "data": {
      "application/vnd.jupyter.widget-view+json": {
       "model_id": "798fa188a8c84f57acd5bd325ec191d8",
       "version_major": 2,
       "version_minor": 0
      },
      "text/plain": [
       "Canvas(toolbar=Toolbar(toolitems=[('Home', 'Reset original view', 'home', 'home'), ('Back', 'Back to previous …"
      ]
     },
     "metadata": {},
     "output_type": "display_data"
    },
    {
     "name": "stderr",
     "output_type": "stream",
     "text": [
      "INFO:fbprophet:Making 10 forecasts with cutoffs between 2019-03-27 06:58:54.472000 and 2019-03-31 18:58:54.472000\n"
     ]
    },
    {
     "name": "stdout",
     "output_type": "stream",
     "text": [
      "\n",
      "prophet_instance nb 1\n",
      "Tested model:\n",
      "Full dataset: 2019-03-07 to the 2019-05-01. Analysed data the 2019-03-21 to the 2019-04-02.\n",
      "o Trained on the data from the 2019-03-21 to the 2019-04-01 (10 days).\n",
      "o Predict from the 2019-04-01 to the 2019-04-02 (1 days).\n"
     ]
    },
    {
     "data": {
      "application/vnd.jupyter.widget-view+json": {
       "model_id": "efee267cc1104d5f8b41cf9ff40047a6",
       "version_major": 2,
       "version_minor": 0
      },
      "text/plain": [
       "Canvas(toolbar=Toolbar(toolitems=[('Home', 'Reset original view', 'home', 'home'), ('Back', 'Back to previous …"
      ]
     },
     "metadata": {},
     "output_type": "display_data"
    },
    {
     "name": "stderr",
     "output_type": "stream",
     "text": [
      "INFO:fbprophet:Making 10 forecasts with cutoffs between 2019-03-27 06:58:54.472000 and 2019-03-31 18:58:54.472000\n"
     ]
    },
    {
     "name": "stdout",
     "output_type": "stream",
     "text": [
      "\n",
      "prophet_instance nb 2\n",
      "Tested model:\n",
      "Full dataset: 2019-03-07 to the 2019-05-01. Analysed data the 2019-03-21 to the 2019-04-02.\n",
      "o Trained on the data from the 2019-03-21 to the 2019-04-01 (10 days).\n",
      "o Predict from the 2019-04-01 to the 2019-04-02 (1 days).\n"
     ]
    },
    {
     "data": {
      "application/vnd.jupyter.widget-view+json": {
       "model_id": "b4ac326b08414fcf8a01f8677d158c2d",
       "version_major": 2,
       "version_minor": 0
      },
      "text/plain": [
       "Canvas(toolbar=Toolbar(toolitems=[('Home', 'Reset original view', 'home', 'home'), ('Back', 'Back to previous …"
      ]
     },
     "metadata": {},
     "output_type": "display_data"
    },
    {
     "name": "stderr",
     "output_type": "stream",
     "text": [
      "INFO:fbprophet:Making 10 forecasts with cutoffs between 2019-03-27 06:58:54.472000 and 2019-03-31 18:58:54.472000\n"
     ]
    },
    {
     "name": "stdout",
     "output_type": "stream",
     "text": [
      "\n",
      "prophet_instance nb 3\n",
      "Tested model:\n",
      "Full dataset: 2019-03-07 to the 2019-05-01. Analysed data the 2019-03-23 to the 2019-04-02.\n",
      "o Trained on the data from the 2019-03-23 to the 2019-04-01 (8 days).\n",
      "o Predict from the 2019-04-01 to the 2019-04-02 (1 days).\n"
     ]
    },
    {
     "data": {
      "application/vnd.jupyter.widget-view+json": {
       "model_id": "c9b390ce313146b79f570b64dd1a4b77",
       "version_major": 2,
       "version_minor": 0
      },
      "text/plain": [
       "Canvas(toolbar=Toolbar(toolitems=[('Home', 'Reset original view', 'home', 'home'), ('Back', 'Back to previous …"
      ]
     },
     "metadata": {},
     "output_type": "display_data"
    },
    {
     "name": "stderr",
     "output_type": "stream",
     "text": [
      "INFO:fbprophet:Making 6 forecasts with cutoffs between 2019-03-29 06:58:54.472000 and 2019-03-31 18:58:54.472000\n"
     ]
    },
    {
     "name": "stdout",
     "output_type": "stream",
     "text": [
      "\n",
      "prophet_instance nb 4\n",
      "Tested model:\n",
      "Full dataset: 2019-03-07 to the 2019-05-01. Analysed data the 2019-03-23 to the 2019-04-02.\n",
      "o Trained on the data from the 2019-03-23 to the 2019-04-01 (8 days).\n",
      "o Predict from the 2019-04-01 to the 2019-04-02 (1 days).\n"
     ]
    },
    {
     "data": {
      "application/vnd.jupyter.widget-view+json": {
       "model_id": "521cb9f6cd0240c0892e682cc49d0cce",
       "version_major": 2,
       "version_minor": 0
      },
      "text/plain": [
       "Canvas(toolbar=Toolbar(toolitems=[('Home', 'Reset original view', 'home', 'home'), ('Back', 'Back to previous …"
      ]
     },
     "metadata": {},
     "output_type": "display_data"
    },
    {
     "name": "stderr",
     "output_type": "stream",
     "text": [
      "INFO:fbprophet:Making 6 forecasts with cutoffs between 2019-03-29 06:58:54.472000 and 2019-03-31 18:58:54.472000\n"
     ]
    },
    {
     "name": "stdout",
     "output_type": "stream",
     "text": [
      "\n",
      "prophet_instance nb 5\n",
      "Tested model:\n",
      "Full dataset: 2019-03-07 to the 2019-05-01. Analysed data the 2019-03-23 to the 2019-04-02.\n",
      "o Trained on the data from the 2019-03-23 to the 2019-04-01 (8 days).\n",
      "o Predict from the 2019-04-01 to the 2019-04-02 (1 days).\n"
     ]
    },
    {
     "data": {
      "application/vnd.jupyter.widget-view+json": {
       "model_id": "61cd87d3b1ba4ebe9c782adfeb2faf4f",
       "version_major": 2,
       "version_minor": 0
      },
      "text/plain": [
       "Canvas(toolbar=Toolbar(toolitems=[('Home', 'Reset original view', 'home', 'home'), ('Back', 'Back to previous …"
      ]
     },
     "metadata": {},
     "output_type": "display_data"
    },
    {
     "name": "stderr",
     "output_type": "stream",
     "text": [
      "INFO:fbprophet:Making 6 forecasts with cutoffs between 2019-03-29 06:58:54.472000 and 2019-03-31 18:58:54.472000\n"
     ]
    },
    {
     "name": "stdout",
     "output_type": "stream",
     "text": [
      "GridSearch finished 32 minutes.\n"
     ]
    },
    {
     "data": {
      "text/html": [
       "<div>\n",
       "<style scoped>\n",
       "    .dataframe tbody tr th:only-of-type {\n",
       "        vertical-align: middle;\n",
       "    }\n",
       "\n",
       "    .dataframe tbody tr th {\n",
       "        vertical-align: top;\n",
       "    }\n",
       "\n",
       "    .dataframe thead th {\n",
       "        text-align: right;\n",
       "    }\n",
       "</style>\n",
       "<table border=\"1\" class=\"dataframe\">\n",
       "  <thead>\n",
       "    <tr style=\"text-align: right;\">\n",
       "      <th></th>\n",
       "      <th>device</th>\n",
       "      <th>parameter</th>\n",
       "      <th>begin</th>\n",
       "      <th>end</th>\n",
       "      <th>sampling_period_min</th>\n",
       "      <th>interval_width</th>\n",
       "      <th>daily_fo</th>\n",
       "      <th>changepoint_prior_scale</th>\n",
       "      <th>mape_average</th>\n",
       "    </tr>\n",
       "  </thead>\n",
       "  <tbody>\n",
       "    <tr>\n",
       "      <th>0</th>\n",
       "      <td>[device33]</td>\n",
       "      <td>co2</td>\n",
       "      <td>2019-03-21</td>\n",
       "      <td>2019-04-02</td>\n",
       "      <td>1</td>\n",
       "      <td>0.6</td>\n",
       "      <td>3</td>\n",
       "      <td>0.01</td>\n",
       "      <td>0.112987</td>\n",
       "    </tr>\n",
       "    <tr>\n",
       "      <th>2</th>\n",
       "      <td>[device33]</td>\n",
       "      <td>co2</td>\n",
       "      <td>2019-03-21</td>\n",
       "      <td>2019-04-02</td>\n",
       "      <td>1</td>\n",
       "      <td>0.6</td>\n",
       "      <td>9</td>\n",
       "      <td>0.01</td>\n",
       "      <td>0.118718</td>\n",
       "    </tr>\n",
       "    <tr>\n",
       "      <th>1</th>\n",
       "      <td>[device33]</td>\n",
       "      <td>co2</td>\n",
       "      <td>2019-03-21</td>\n",
       "      <td>2019-04-02</td>\n",
       "      <td>1</td>\n",
       "      <td>0.6</td>\n",
       "      <td>6</td>\n",
       "      <td>0.01</td>\n",
       "      <td>0.119256</td>\n",
       "    </tr>\n",
       "    <tr>\n",
       "      <th>3</th>\n",
       "      <td>[device33]</td>\n",
       "      <td>co2</td>\n",
       "      <td>2019-03-23</td>\n",
       "      <td>2019-04-02</td>\n",
       "      <td>1</td>\n",
       "      <td>0.6</td>\n",
       "      <td>3</td>\n",
       "      <td>0.01</td>\n",
       "      <td>0.122369</td>\n",
       "    </tr>\n",
       "    <tr>\n",
       "      <th>5</th>\n",
       "      <td>[device33]</td>\n",
       "      <td>co2</td>\n",
       "      <td>2019-03-23</td>\n",
       "      <td>2019-04-02</td>\n",
       "      <td>1</td>\n",
       "      <td>0.6</td>\n",
       "      <td>9</td>\n",
       "      <td>0.01</td>\n",
       "      <td>0.132954</td>\n",
       "    </tr>\n",
       "    <tr>\n",
       "      <th>4</th>\n",
       "      <td>[device33]</td>\n",
       "      <td>co2</td>\n",
       "      <td>2019-03-23</td>\n",
       "      <td>2019-04-02</td>\n",
       "      <td>1</td>\n",
       "      <td>0.6</td>\n",
       "      <td>6</td>\n",
       "      <td>0.01</td>\n",
       "      <td>0.136060</td>\n",
       "    </tr>\n",
       "  </tbody>\n",
       "</table>\n",
       "</div>"
      ],
      "text/plain": [
       "       device parameter       begin         end  sampling_period_min  \\\n",
       "0  [device33]       co2  2019-03-21  2019-04-02                    1   \n",
       "2  [device33]       co2  2019-03-21  2019-04-02                    1   \n",
       "1  [device33]       co2  2019-03-21  2019-04-02                    1   \n",
       "3  [device33]       co2  2019-03-23  2019-04-02                    1   \n",
       "5  [device33]       co2  2019-03-23  2019-04-02                    1   \n",
       "4  [device33]       co2  2019-03-23  2019-04-02                    1   \n",
       "\n",
       "   interval_width  daily_fo  changepoint_prior_scale  mape_average  \n",
       "0             0.6         3                     0.01      0.112987  \n",
       "2             0.6         9                     0.01      0.118718  \n",
       "1             0.6         6                     0.01      0.119256  \n",
       "3             0.6         3                     0.01      0.122369  \n",
       "5             0.6         9                     0.01      0.132954  \n",
       "4             0.6         6                     0.01      0.136060  "
      ]
     },
     "execution_count": 52,
     "metadata": {},
     "output_type": "execute_result"
    }
   ],
   "source": [
    "# GridSearch.\n",
    "start_time = time.time()\n",
    "\n",
    "# Parameters\n",
    "prophet_grid = {'df_dev' : [df_dev],\n",
    "                'device' : [device],\n",
    "                'parameter' : ['co2'],\n",
    "                'begin' : ['2019-03-21', '2019-03-23'],\n",
    "                'end' : ['2019-04-02'],\n",
    "                'sampling_period_min' : [1],\n",
    "                'graph' : [1],\n",
    "                'predict_day' : [1],\n",
    "                'interval_width' : [0.6],\n",
    "                'changepoint_prior_scale' : [0.01], # list(np.arange(0.01,30,1).tolist()),\n",
    "                'daily_fo' : [3, 6, 9],\n",
    "#                 'holidays_prior_scale' : list((1000,100,10,1,0.1)),\n",
    "               }\n",
    "\n",
    "# Run GridSearch_Prophet\n",
    "mape_0402 = GridSearch_Prophet(list(ParameterGrid(prophet_grid)), metric='mape')\n",
    "\n",
    "\n",
    "end_time = time.time()\n",
    "dur_min = int((end_time - start_time)/60)\n",
    "\n",
    "print('GridSearch finished '+ str(dur_min) + \" minutes.\")\n",
    "mape_0402.sort_values('mape_average')"
   ]
  },
  {
   "cell_type": "code",
   "execution_count": 57,
   "metadata": {},
   "outputs": [],
   "source": [
    "mape_0402.to_csv('dev33_co2_2019-04-02.csv')"
   ]
  },
  {
   "cell_type": "code",
   "execution_count": 53,
   "metadata": {},
   "outputs": [
    {
     "name": "stdout",
     "output_type": "stream",
     "text": [
      "\n",
      "prophet_instance nb 0\n",
      "Tested model:\n",
      "Full dataset: 2019-03-07 to the 2019-05-01. Analysed data the 2019-03-20 to the 2019-04-01.\n",
      "o Trained on the data from the 2019-03-20 to the 2019-03-31 (10 days).\n",
      "o Predict from the 2019-03-31 to the 2019-04-01 (1 days).\n"
     ]
    },
    {
     "data": {
      "application/vnd.jupyter.widget-view+json": {
       "model_id": "8ac2e52e7fe4438fa82fe8fc7fda6c72",
       "version_major": 2,
       "version_minor": 0
      },
      "text/plain": [
       "Canvas(toolbar=Toolbar(toolitems=[('Home', 'Reset original view', 'home', 'home'), ('Back', 'Back to previous …"
      ]
     },
     "metadata": {},
     "output_type": "display_data"
    },
    {
     "name": "stderr",
     "output_type": "stream",
     "text": [
      "INFO:fbprophet:Making 10 forecasts with cutoffs between 2019-03-26 06:58:45.925000 and 2019-03-30 18:58:45.925000\n"
     ]
    },
    {
     "name": "stdout",
     "output_type": "stream",
     "text": [
      "\n",
      "prophet_instance nb 1\n",
      "Tested model:\n",
      "Full dataset: 2019-03-07 to the 2019-05-01. Analysed data the 2019-03-20 to the 2019-04-01.\n",
      "o Trained on the data from the 2019-03-20 to the 2019-03-31 (10 days).\n",
      "o Predict from the 2019-03-31 to the 2019-04-01 (1 days).\n"
     ]
    },
    {
     "data": {
      "application/vnd.jupyter.widget-view+json": {
       "model_id": "0bb0abb698be40c6a984de9b7d389917",
       "version_major": 2,
       "version_minor": 0
      },
      "text/plain": [
       "Canvas(toolbar=Toolbar(toolitems=[('Home', 'Reset original view', 'home', 'home'), ('Back', 'Back to previous …"
      ]
     },
     "metadata": {},
     "output_type": "display_data"
    },
    {
     "name": "stderr",
     "output_type": "stream",
     "text": [
      "INFO:fbprophet:Making 10 forecasts with cutoffs between 2019-03-26 06:58:45.925000 and 2019-03-30 18:58:45.925000\n"
     ]
    },
    {
     "name": "stdout",
     "output_type": "stream",
     "text": [
      "\n",
      "prophet_instance nb 2\n",
      "Tested model:\n",
      "Full dataset: 2019-03-07 to the 2019-05-01. Analysed data the 2019-03-20 to the 2019-04-01.\n",
      "o Trained on the data from the 2019-03-20 to the 2019-03-31 (10 days).\n",
      "o Predict from the 2019-03-31 to the 2019-04-01 (1 days).\n"
     ]
    },
    {
     "data": {
      "application/vnd.jupyter.widget-view+json": {
       "model_id": "13ce859f9828456c9bdacfd4fb8a4d04",
       "version_major": 2,
       "version_minor": 0
      },
      "text/plain": [
       "Canvas(toolbar=Toolbar(toolitems=[('Home', 'Reset original view', 'home', 'home'), ('Back', 'Back to previous …"
      ]
     },
     "metadata": {},
     "output_type": "display_data"
    },
    {
     "name": "stderr",
     "output_type": "stream",
     "text": [
      "INFO:fbprophet:Making 10 forecasts with cutoffs between 2019-03-26 06:58:45.925000 and 2019-03-30 18:58:45.925000\n"
     ]
    },
    {
     "name": "stdout",
     "output_type": "stream",
     "text": [
      "\n",
      "prophet_instance nb 3\n",
      "Tested model:\n",
      "Full dataset: 2019-03-07 to the 2019-05-01. Analysed data the 2019-03-22 to the 2019-04-01.\n",
      "o Trained on the data from the 2019-03-22 to the 2019-03-31 (8 days).\n",
      "o Predict from the 2019-03-31 to the 2019-04-01 (1 days).\n"
     ]
    },
    {
     "data": {
      "application/vnd.jupyter.widget-view+json": {
       "model_id": "c6e83d310c1941828e4aa0f1340f6965",
       "version_major": 2,
       "version_minor": 0
      },
      "text/plain": [
       "Canvas(toolbar=Toolbar(toolitems=[('Home', 'Reset original view', 'home', 'home'), ('Back', 'Back to previous …"
      ]
     },
     "metadata": {},
     "output_type": "display_data"
    },
    {
     "name": "stderr",
     "output_type": "stream",
     "text": [
      "INFO:fbprophet:Making 6 forecasts with cutoffs between 2019-03-28 06:58:45.925000 and 2019-03-30 18:58:45.925000\n"
     ]
    },
    {
     "name": "stdout",
     "output_type": "stream",
     "text": [
      "\n",
      "prophet_instance nb 4\n",
      "Tested model:\n",
      "Full dataset: 2019-03-07 to the 2019-05-01. Analysed data the 2019-03-22 to the 2019-04-01.\n",
      "o Trained on the data from the 2019-03-22 to the 2019-03-31 (8 days).\n",
      "o Predict from the 2019-03-31 to the 2019-04-01 (1 days).\n"
     ]
    },
    {
     "data": {
      "application/vnd.jupyter.widget-view+json": {
       "model_id": "d3e7f5dc68f84906b267c94b2428068f",
       "version_major": 2,
       "version_minor": 0
      },
      "text/plain": [
       "Canvas(toolbar=Toolbar(toolitems=[('Home', 'Reset original view', 'home', 'home'), ('Back', 'Back to previous …"
      ]
     },
     "metadata": {},
     "output_type": "display_data"
    },
    {
     "name": "stderr",
     "output_type": "stream",
     "text": [
      "INFO:fbprophet:Making 6 forecasts with cutoffs between 2019-03-28 06:58:45.925000 and 2019-03-30 18:58:45.925000\n"
     ]
    },
    {
     "name": "stdout",
     "output_type": "stream",
     "text": [
      "\n",
      "prophet_instance nb 5\n",
      "Tested model:\n",
      "Full dataset: 2019-03-07 to the 2019-05-01. Analysed data the 2019-03-22 to the 2019-04-01.\n",
      "o Trained on the data from the 2019-03-22 to the 2019-03-31 (8 days).\n",
      "o Predict from the 2019-03-31 to the 2019-04-01 (1 days).\n"
     ]
    },
    {
     "data": {
      "application/vnd.jupyter.widget-view+json": {
       "model_id": "b76de5ee4ea04ed48a5881cb8be9817a",
       "version_major": 2,
       "version_minor": 0
      },
      "text/plain": [
       "Canvas(toolbar=Toolbar(toolitems=[('Home', 'Reset original view', 'home', 'home'), ('Back', 'Back to previous …"
      ]
     },
     "metadata": {},
     "output_type": "display_data"
    },
    {
     "name": "stderr",
     "output_type": "stream",
     "text": [
      "INFO:fbprophet:Making 6 forecasts with cutoffs between 2019-03-28 06:58:45.925000 and 2019-03-30 18:58:45.925000\n"
     ]
    },
    {
     "name": "stdout",
     "output_type": "stream",
     "text": [
      "GridSearch finished 32 minutes.\n"
     ]
    },
    {
     "data": {
      "text/html": [
       "<div>\n",
       "<style scoped>\n",
       "    .dataframe tbody tr th:only-of-type {\n",
       "        vertical-align: middle;\n",
       "    }\n",
       "\n",
       "    .dataframe tbody tr th {\n",
       "        vertical-align: top;\n",
       "    }\n",
       "\n",
       "    .dataframe thead th {\n",
       "        text-align: right;\n",
       "    }\n",
       "</style>\n",
       "<table border=\"1\" class=\"dataframe\">\n",
       "  <thead>\n",
       "    <tr style=\"text-align: right;\">\n",
       "      <th></th>\n",
       "      <th>device</th>\n",
       "      <th>parameter</th>\n",
       "      <th>begin</th>\n",
       "      <th>end</th>\n",
       "      <th>sampling_period_min</th>\n",
       "      <th>interval_width</th>\n",
       "      <th>daily_fo</th>\n",
       "      <th>changepoint_prior_scale</th>\n",
       "      <th>mape_average</th>\n",
       "    </tr>\n",
       "  </thead>\n",
       "  <tbody>\n",
       "    <tr>\n",
       "      <th>3</th>\n",
       "      <td>[device33]</td>\n",
       "      <td>co2</td>\n",
       "      <td>2019-03-22</td>\n",
       "      <td>2019-04-01</td>\n",
       "      <td>1</td>\n",
       "      <td>0.6</td>\n",
       "      <td>3</td>\n",
       "      <td>0.01</td>\n",
       "      <td>0.106763</td>\n",
       "    </tr>\n",
       "    <tr>\n",
       "      <th>5</th>\n",
       "      <td>[device33]</td>\n",
       "      <td>co2</td>\n",
       "      <td>2019-03-22</td>\n",
       "      <td>2019-04-01</td>\n",
       "      <td>1</td>\n",
       "      <td>0.6</td>\n",
       "      <td>9</td>\n",
       "      <td>0.01</td>\n",
       "      <td>0.122046</td>\n",
       "    </tr>\n",
       "    <tr>\n",
       "      <th>4</th>\n",
       "      <td>[device33]</td>\n",
       "      <td>co2</td>\n",
       "      <td>2019-03-22</td>\n",
       "      <td>2019-04-01</td>\n",
       "      <td>1</td>\n",
       "      <td>0.6</td>\n",
       "      <td>6</td>\n",
       "      <td>0.01</td>\n",
       "      <td>0.124156</td>\n",
       "    </tr>\n",
       "    <tr>\n",
       "      <th>2</th>\n",
       "      <td>[device33]</td>\n",
       "      <td>co2</td>\n",
       "      <td>2019-03-20</td>\n",
       "      <td>2019-04-01</td>\n",
       "      <td>1</td>\n",
       "      <td>0.6</td>\n",
       "      <td>9</td>\n",
       "      <td>0.01</td>\n",
       "      <td>0.269513</td>\n",
       "    </tr>\n",
       "    <tr>\n",
       "      <th>0</th>\n",
       "      <td>[device33]</td>\n",
       "      <td>co2</td>\n",
       "      <td>2019-03-20</td>\n",
       "      <td>2019-04-01</td>\n",
       "      <td>1</td>\n",
       "      <td>0.6</td>\n",
       "      <td>3</td>\n",
       "      <td>0.01</td>\n",
       "      <td>0.271532</td>\n",
       "    </tr>\n",
       "    <tr>\n",
       "      <th>1</th>\n",
       "      <td>[device33]</td>\n",
       "      <td>co2</td>\n",
       "      <td>2019-03-20</td>\n",
       "      <td>2019-04-01</td>\n",
       "      <td>1</td>\n",
       "      <td>0.6</td>\n",
       "      <td>6</td>\n",
       "      <td>0.01</td>\n",
       "      <td>0.273855</td>\n",
       "    </tr>\n",
       "  </tbody>\n",
       "</table>\n",
       "</div>"
      ],
      "text/plain": [
       "       device parameter       begin         end  sampling_period_min  \\\n",
       "3  [device33]       co2  2019-03-22  2019-04-01                    1   \n",
       "5  [device33]       co2  2019-03-22  2019-04-01                    1   \n",
       "4  [device33]       co2  2019-03-22  2019-04-01                    1   \n",
       "2  [device33]       co2  2019-03-20  2019-04-01                    1   \n",
       "0  [device33]       co2  2019-03-20  2019-04-01                    1   \n",
       "1  [device33]       co2  2019-03-20  2019-04-01                    1   \n",
       "\n",
       "   interval_width  daily_fo  changepoint_prior_scale  mape_average  \n",
       "3             0.6         3                     0.01      0.106763  \n",
       "5             0.6         9                     0.01      0.122046  \n",
       "4             0.6         6                     0.01      0.124156  \n",
       "2             0.6         9                     0.01      0.269513  \n",
       "0             0.6         3                     0.01      0.271532  \n",
       "1             0.6         6                     0.01      0.273855  "
      ]
     },
     "execution_count": 53,
     "metadata": {},
     "output_type": "execute_result"
    }
   ],
   "source": [
    "# GridSearch\n",
    "start_time = time.time()\n",
    "\n",
    "# Parameters\n",
    "prophet_grid = {'df_dev' : [df_dev],\n",
    "                'device' : [device],\n",
    "                'parameter' : ['co2'],\n",
    "                'begin' : ['2019-03-20', '2019-03-22'],\n",
    "                'end' : ['2019-04-01'],\n",
    "                'sampling_period_min' : [1],\n",
    "                'graph' : [1],\n",
    "                'predict_day' : [1],\n",
    "                'interval_width' : [0.6],\n",
    "                'changepoint_prior_scale' : [0.01], # list(np.arange(0.01,30,1).tolist()),\n",
    "                'daily_fo' : [3, 6, 9],\n",
    "#                 'holidays_prior_scale' : list((1000,100,10,1,0.1)),\n",
    "               }\n",
    "\n",
    "# Run GridSearch_Prophet\n",
    "mape_0401 = GridSearch_Prophet(list(ParameterGrid(prophet_grid)), metric='mape')\n",
    "\n",
    "\n",
    "end_time = time.time()\n",
    "dur_min = int((end_time - start_time)/60)\n",
    "\n",
    "print('GridSearch finished '+ str(dur_min) + \" minutes.\")\n",
    "mape_0401.sort_values('mape_average')"
   ]
  },
  {
   "cell_type": "code",
   "execution_count": 58,
   "metadata": {},
   "outputs": [],
   "source": [
    "mape_0401.to_csv('dev33_co2_2019-04-01.csv')"
   ]
  },
  {
   "cell_type": "code",
   "execution_count": 54,
   "metadata": {},
   "outputs": [
    {
     "name": "stdout",
     "output_type": "stream",
     "text": [
      "\n",
      "prophet_instance nb 0\n",
      "Tested model:\n",
      "Full dataset: 2019-03-07 to the 2019-05-01. Analysed data the 2019-03-19 to the 2019-03-31.\n",
      "o Trained on the data from the 2019-03-19 to the 2019-03-30 (10 days).\n",
      "o Predict from the 2019-03-30 to the 2019-03-31 (1 days).\n"
     ]
    },
    {
     "data": {
      "application/vnd.jupyter.widget-view+json": {
       "model_id": "2dc137763efa454facbd78e0b6add074",
       "version_major": 2,
       "version_minor": 0
      },
      "text/plain": [
       "Canvas(toolbar=Toolbar(toolitems=[('Home', 'Reset original view', 'home', 'home'), ('Back', 'Back to previous …"
      ]
     },
     "metadata": {},
     "output_type": "display_data"
    },
    {
     "name": "stderr",
     "output_type": "stream",
     "text": [
      "INFO:fbprophet:Making 10 forecasts with cutoffs between 2019-03-25 06:58:55.069000 and 2019-03-29 18:58:55.069000\n"
     ]
    },
    {
     "name": "stdout",
     "output_type": "stream",
     "text": [
      "\n",
      "prophet_instance nb 1\n",
      "Tested model:\n",
      "Full dataset: 2019-03-07 to the 2019-05-01. Analysed data the 2019-03-19 to the 2019-03-31.\n",
      "o Trained on the data from the 2019-03-19 to the 2019-03-30 (10 days).\n",
      "o Predict from the 2019-03-30 to the 2019-03-31 (1 days).\n"
     ]
    },
    {
     "data": {
      "application/vnd.jupyter.widget-view+json": {
       "model_id": "ea1067cb58344e05bf4ac4903958f902",
       "version_major": 2,
       "version_minor": 0
      },
      "text/plain": [
       "Canvas(toolbar=Toolbar(toolitems=[('Home', 'Reset original view', 'home', 'home'), ('Back', 'Back to previous …"
      ]
     },
     "metadata": {},
     "output_type": "display_data"
    },
    {
     "name": "stderr",
     "output_type": "stream",
     "text": [
      "INFO:fbprophet:Making 10 forecasts with cutoffs between 2019-03-25 06:58:55.069000 and 2019-03-29 18:58:55.069000\n"
     ]
    },
    {
     "name": "stdout",
     "output_type": "stream",
     "text": [
      "\n",
      "prophet_instance nb 2\n",
      "Tested model:\n",
      "Full dataset: 2019-03-07 to the 2019-05-01. Analysed data the 2019-03-19 to the 2019-03-31.\n",
      "o Trained on the data from the 2019-03-19 to the 2019-03-30 (10 days).\n",
      "o Predict from the 2019-03-30 to the 2019-03-31 (1 days).\n"
     ]
    },
    {
     "data": {
      "application/vnd.jupyter.widget-view+json": {
       "model_id": "bb169d242aae4891a6831e48ba9c5c71",
       "version_major": 2,
       "version_minor": 0
      },
      "text/plain": [
       "Canvas(toolbar=Toolbar(toolitems=[('Home', 'Reset original view', 'home', 'home'), ('Back', 'Back to previous …"
      ]
     },
     "metadata": {},
     "output_type": "display_data"
    },
    {
     "name": "stderr",
     "output_type": "stream",
     "text": [
      "INFO:fbprophet:Making 10 forecasts with cutoffs between 2019-03-25 06:58:55.069000 and 2019-03-29 18:58:55.069000\n"
     ]
    },
    {
     "name": "stdout",
     "output_type": "stream",
     "text": [
      "\n",
      "prophet_instance nb 3\n",
      "Tested model:\n",
      "Full dataset: 2019-03-07 to the 2019-05-01. Analysed data the 2019-03-21 to the 2019-03-31.\n",
      "o Trained on the data from the 2019-03-21 to the 2019-03-30 (8 days).\n",
      "o Predict from the 2019-03-30 to the 2019-03-31 (1 days).\n"
     ]
    },
    {
     "data": {
      "application/vnd.jupyter.widget-view+json": {
       "model_id": "9ac73a5bfe134d0ab9971f1fdf970142",
       "version_major": 2,
       "version_minor": 0
      },
      "text/plain": [
       "Canvas(toolbar=Toolbar(toolitems=[('Home', 'Reset original view', 'home', 'home'), ('Back', 'Back to previous …"
      ]
     },
     "metadata": {},
     "output_type": "display_data"
    },
    {
     "name": "stderr",
     "output_type": "stream",
     "text": [
      "INFO:fbprophet:Making 6 forecasts with cutoffs between 2019-03-27 06:58:55.069000 and 2019-03-29 18:58:55.069000\n"
     ]
    },
    {
     "name": "stdout",
     "output_type": "stream",
     "text": [
      "\n",
      "prophet_instance nb 4\n",
      "Tested model:\n",
      "Full dataset: 2019-03-07 to the 2019-05-01. Analysed data the 2019-03-21 to the 2019-03-31.\n",
      "o Trained on the data from the 2019-03-21 to the 2019-03-30 (8 days).\n",
      "o Predict from the 2019-03-30 to the 2019-03-31 (1 days).\n"
     ]
    },
    {
     "data": {
      "application/vnd.jupyter.widget-view+json": {
       "model_id": "cc1154363c9f40d79a72dae1accc6316",
       "version_major": 2,
       "version_minor": 0
      },
      "text/plain": [
       "Canvas(toolbar=Toolbar(toolitems=[('Home', 'Reset original view', 'home', 'home'), ('Back', 'Back to previous …"
      ]
     },
     "metadata": {},
     "output_type": "display_data"
    },
    {
     "name": "stderr",
     "output_type": "stream",
     "text": [
      "INFO:fbprophet:Making 6 forecasts with cutoffs between 2019-03-27 06:58:55.069000 and 2019-03-29 18:58:55.069000\n"
     ]
    },
    {
     "name": "stdout",
     "output_type": "stream",
     "text": [
      "\n",
      "prophet_instance nb 5\n",
      "Tested model:\n",
      "Full dataset: 2019-03-07 to the 2019-05-01. Analysed data the 2019-03-21 to the 2019-03-31.\n",
      "o Trained on the data from the 2019-03-21 to the 2019-03-30 (8 days).\n",
      "o Predict from the 2019-03-30 to the 2019-03-31 (1 days).\n"
     ]
    },
    {
     "data": {
      "application/vnd.jupyter.widget-view+json": {
       "model_id": "c35815e072d9426eaa681aac405b04fa",
       "version_major": 2,
       "version_minor": 0
      },
      "text/plain": [
       "Canvas(toolbar=Toolbar(toolitems=[('Home', 'Reset original view', 'home', 'home'), ('Back', 'Back to previous …"
      ]
     },
     "metadata": {},
     "output_type": "display_data"
    },
    {
     "name": "stderr",
     "output_type": "stream",
     "text": [
      "INFO:fbprophet:Making 6 forecasts with cutoffs between 2019-03-27 06:58:55.069000 and 2019-03-29 18:58:55.069000\n"
     ]
    },
    {
     "name": "stdout",
     "output_type": "stream",
     "text": [
      "GridSearch finished 35 minutes.\n"
     ]
    },
    {
     "data": {
      "text/html": [
       "<div>\n",
       "<style scoped>\n",
       "    .dataframe tbody tr th:only-of-type {\n",
       "        vertical-align: middle;\n",
       "    }\n",
       "\n",
       "    .dataframe tbody tr th {\n",
       "        vertical-align: top;\n",
       "    }\n",
       "\n",
       "    .dataframe thead th {\n",
       "        text-align: right;\n",
       "    }\n",
       "</style>\n",
       "<table border=\"1\" class=\"dataframe\">\n",
       "  <thead>\n",
       "    <tr style=\"text-align: right;\">\n",
       "      <th></th>\n",
       "      <th>device</th>\n",
       "      <th>parameter</th>\n",
       "      <th>begin</th>\n",
       "      <th>end</th>\n",
       "      <th>sampling_period_min</th>\n",
       "      <th>interval_width</th>\n",
       "      <th>daily_fo</th>\n",
       "      <th>changepoint_prior_scale</th>\n",
       "      <th>mape_average</th>\n",
       "    </tr>\n",
       "  </thead>\n",
       "  <tbody>\n",
       "    <tr>\n",
       "      <th>3</th>\n",
       "      <td>[device33]</td>\n",
       "      <td>co2</td>\n",
       "      <td>2019-03-21</td>\n",
       "      <td>2019-03-31</td>\n",
       "      <td>1</td>\n",
       "      <td>0.6</td>\n",
       "      <td>3</td>\n",
       "      <td>0.01</td>\n",
       "      <td>0.095746</td>\n",
       "    </tr>\n",
       "    <tr>\n",
       "      <th>5</th>\n",
       "      <td>[device33]</td>\n",
       "      <td>co2</td>\n",
       "      <td>2019-03-21</td>\n",
       "      <td>2019-03-31</td>\n",
       "      <td>1</td>\n",
       "      <td>0.6</td>\n",
       "      <td>9</td>\n",
       "      <td>0.01</td>\n",
       "      <td>0.099277</td>\n",
       "    </tr>\n",
       "    <tr>\n",
       "      <th>4</th>\n",
       "      <td>[device33]</td>\n",
       "      <td>co2</td>\n",
       "      <td>2019-03-21</td>\n",
       "      <td>2019-03-31</td>\n",
       "      <td>1</td>\n",
       "      <td>0.6</td>\n",
       "      <td>6</td>\n",
       "      <td>0.01</td>\n",
       "      <td>0.100746</td>\n",
       "    </tr>\n",
       "    <tr>\n",
       "      <th>1</th>\n",
       "      <td>[device33]</td>\n",
       "      <td>co2</td>\n",
       "      <td>2019-03-19</td>\n",
       "      <td>2019-03-31</td>\n",
       "      <td>1</td>\n",
       "      <td>0.6</td>\n",
       "      <td>6</td>\n",
       "      <td>0.01</td>\n",
       "      <td>0.387377</td>\n",
       "    </tr>\n",
       "    <tr>\n",
       "      <th>0</th>\n",
       "      <td>[device33]</td>\n",
       "      <td>co2</td>\n",
       "      <td>2019-03-19</td>\n",
       "      <td>2019-03-31</td>\n",
       "      <td>1</td>\n",
       "      <td>0.6</td>\n",
       "      <td>3</td>\n",
       "      <td>0.01</td>\n",
       "      <td>0.390950</td>\n",
       "    </tr>\n",
       "    <tr>\n",
       "      <th>2</th>\n",
       "      <td>[device33]</td>\n",
       "      <td>co2</td>\n",
       "      <td>2019-03-19</td>\n",
       "      <td>2019-03-31</td>\n",
       "      <td>1</td>\n",
       "      <td>0.6</td>\n",
       "      <td>9</td>\n",
       "      <td>0.01</td>\n",
       "      <td>0.391391</td>\n",
       "    </tr>\n",
       "  </tbody>\n",
       "</table>\n",
       "</div>"
      ],
      "text/plain": [
       "       device parameter       begin         end  sampling_period_min  \\\n",
       "3  [device33]       co2  2019-03-21  2019-03-31                    1   \n",
       "5  [device33]       co2  2019-03-21  2019-03-31                    1   \n",
       "4  [device33]       co2  2019-03-21  2019-03-31                    1   \n",
       "1  [device33]       co2  2019-03-19  2019-03-31                    1   \n",
       "0  [device33]       co2  2019-03-19  2019-03-31                    1   \n",
       "2  [device33]       co2  2019-03-19  2019-03-31                    1   \n",
       "\n",
       "   interval_width  daily_fo  changepoint_prior_scale  mape_average  \n",
       "3             0.6         3                     0.01      0.095746  \n",
       "5             0.6         9                     0.01      0.099277  \n",
       "4             0.6         6                     0.01      0.100746  \n",
       "1             0.6         6                     0.01      0.387377  \n",
       "0             0.6         3                     0.01      0.390950  \n",
       "2             0.6         9                     0.01      0.391391  "
      ]
     },
     "execution_count": 54,
     "metadata": {},
     "output_type": "execute_result"
    }
   ],
   "source": [
    "# GridSearch.\n",
    "start_time = time.time()\n",
    "\n",
    "# Parameters\n",
    "prophet_grid = {'df_dev' : [df_dev],\n",
    "                'device' : [device],\n",
    "                'parameter' : ['co2'],\n",
    "                'begin' : ['2019-03-19', '2019-03-21'],\n",
    "                'end' : ['2019-03-31'],\n",
    "                'sampling_period_min' : [1],\n",
    "                'graph' : [1],\n",
    "                'predict_day' : [1],\n",
    "                'interval_width' : [0.6],\n",
    "                'changepoint_prior_scale' : [0.01], # list(np.arange(0.01,30,1).tolist()),\n",
    "                'daily_fo' : [3, 6, 9],\n",
    "#                 'holidays_prior_scale' : list((1000,100,10,1,0.1)),\n",
    "               }\n",
    "\n",
    "# Run GridSearch_Prophet\n",
    "mape_0331 = GridSearch_Prophet(list(ParameterGrid(prophet_grid)), metric='mape')\n",
    "\n",
    "\n",
    "end_time = time.time()\n",
    "dur_min = int((end_time - start_time)/60)\n",
    "\n",
    "print('GridSearch finished '+ str(dur_min) + \" minutes.\")\n",
    "mape_0331.sort_values('mape_average')"
   ]
  },
  {
   "cell_type": "code",
   "execution_count": 59,
   "metadata": {},
   "outputs": [],
   "source": [
    "mape_0331.to_csv('dev33_co2_2019-03-31.csv')"
   ]
  },
  {
   "cell_type": "code",
   "execution_count": 55,
   "metadata": {},
   "outputs": [
    {
     "name": "stdout",
     "output_type": "stream",
     "text": [
      "\n",
      "prophet_instance nb 0\n",
      "Tested model:\n",
      "Full dataset: 2019-03-07 to the 2019-05-01. Analysed data the 2019-03-18 to the 2019-03-30.\n",
      "o Trained on the data from the 2019-03-18 to the 2019-03-29 (10 days).\n",
      "o Predict from the 2019-03-29 to the 2019-03-30 (1 days).\n"
     ]
    },
    {
     "data": {
      "application/vnd.jupyter.widget-view+json": {
       "model_id": "9f548e20363e4d51b4c48a82bc000dda",
       "version_major": 2,
       "version_minor": 0
      },
      "text/plain": [
       "Canvas(toolbar=Toolbar(toolitems=[('Home', 'Reset original view', 'home', 'home'), ('Back', 'Back to previous …"
      ]
     },
     "metadata": {},
     "output_type": "display_data"
    },
    {
     "name": "stderr",
     "output_type": "stream",
     "text": [
      "INFO:fbprophet:Making 10 forecasts with cutoffs between 2019-03-24 07:58:56.151000 and 2019-03-28 19:58:56.151000\n"
     ]
    },
    {
     "name": "stdout",
     "output_type": "stream",
     "text": [
      "\n",
      "prophet_instance nb 1\n",
      "Tested model:\n",
      "Full dataset: 2019-03-07 to the 2019-05-01. Analysed data the 2019-03-18 to the 2019-03-30.\n",
      "o Trained on the data from the 2019-03-18 to the 2019-03-29 (10 days).\n",
      "o Predict from the 2019-03-29 to the 2019-03-30 (1 days).\n"
     ]
    },
    {
     "data": {
      "application/vnd.jupyter.widget-view+json": {
       "model_id": "ed131f8fdab64c878b311f57d0d577f1",
       "version_major": 2,
       "version_minor": 0
      },
      "text/plain": [
       "Canvas(toolbar=Toolbar(toolitems=[('Home', 'Reset original view', 'home', 'home'), ('Back', 'Back to previous …"
      ]
     },
     "metadata": {},
     "output_type": "display_data"
    },
    {
     "name": "stderr",
     "output_type": "stream",
     "text": [
      "INFO:fbprophet:Making 10 forecasts with cutoffs between 2019-03-24 07:58:56.151000 and 2019-03-28 19:58:56.151000\n"
     ]
    },
    {
     "name": "stdout",
     "output_type": "stream",
     "text": [
      "\n",
      "prophet_instance nb 2\n",
      "Tested model:\n",
      "Full dataset: 2019-03-07 to the 2019-05-01. Analysed data the 2019-03-18 to the 2019-03-30.\n",
      "o Trained on the data from the 2019-03-18 to the 2019-03-29 (10 days).\n",
      "o Predict from the 2019-03-29 to the 2019-03-30 (1 days).\n"
     ]
    },
    {
     "data": {
      "application/vnd.jupyter.widget-view+json": {
       "model_id": "3b1b64b048ad45bd8f963dab22d33c44",
       "version_major": 2,
       "version_minor": 0
      },
      "text/plain": [
       "Canvas(toolbar=Toolbar(toolitems=[('Home', 'Reset original view', 'home', 'home'), ('Back', 'Back to previous …"
      ]
     },
     "metadata": {},
     "output_type": "display_data"
    },
    {
     "name": "stderr",
     "output_type": "stream",
     "text": [
      "INFO:fbprophet:Making 10 forecasts with cutoffs between 2019-03-24 07:58:56.151000 and 2019-03-28 19:58:56.151000\n"
     ]
    },
    {
     "name": "stdout",
     "output_type": "stream",
     "text": [
      "\n",
      "prophet_instance nb 3\n",
      "Tested model:\n",
      "Full dataset: 2019-03-07 to the 2019-05-01. Analysed data the 2019-03-20 to the 2019-03-30.\n",
      "o Trained on the data from the 2019-03-20 to the 2019-03-29 (8 days).\n",
      "o Predict from the 2019-03-29 to the 2019-03-30 (1 days).\n"
     ]
    },
    {
     "data": {
      "application/vnd.jupyter.widget-view+json": {
       "model_id": "a587e0f68e524e17b0231553deb394c7",
       "version_major": 2,
       "version_minor": 0
      },
      "text/plain": [
       "Canvas(toolbar=Toolbar(toolitems=[('Home', 'Reset original view', 'home', 'home'), ('Back', 'Back to previous …"
      ]
     },
     "metadata": {},
     "output_type": "display_data"
    },
    {
     "name": "stderr",
     "output_type": "stream",
     "text": [
      "INFO:fbprophet:Making 6 forecasts with cutoffs between 2019-03-26 07:58:56.151000 and 2019-03-28 19:58:56.151000\n"
     ]
    },
    {
     "name": "stdout",
     "output_type": "stream",
     "text": [
      "\n",
      "prophet_instance nb 4\n",
      "Tested model:\n",
      "Full dataset: 2019-03-07 to the 2019-05-01. Analysed data the 2019-03-20 to the 2019-03-30.\n",
      "o Trained on the data from the 2019-03-20 to the 2019-03-29 (8 days).\n",
      "o Predict from the 2019-03-29 to the 2019-03-30 (1 days).\n"
     ]
    },
    {
     "data": {
      "application/vnd.jupyter.widget-view+json": {
       "model_id": "ac67db54e5694e8c91547ec958dbfd58",
       "version_major": 2,
       "version_minor": 0
      },
      "text/plain": [
       "Canvas(toolbar=Toolbar(toolitems=[('Home', 'Reset original view', 'home', 'home'), ('Back', 'Back to previous …"
      ]
     },
     "metadata": {},
     "output_type": "display_data"
    },
    {
     "name": "stderr",
     "output_type": "stream",
     "text": [
      "INFO:fbprophet:Making 6 forecasts with cutoffs between 2019-03-26 07:58:56.151000 and 2019-03-28 19:58:56.151000\n"
     ]
    },
    {
     "name": "stdout",
     "output_type": "stream",
     "text": [
      "\n",
      "prophet_instance nb 5\n",
      "Tested model:\n",
      "Full dataset: 2019-03-07 to the 2019-05-01. Analysed data the 2019-03-20 to the 2019-03-30.\n",
      "o Trained on the data from the 2019-03-20 to the 2019-03-29 (8 days).\n",
      "o Predict from the 2019-03-29 to the 2019-03-30 (1 days).\n"
     ]
    },
    {
     "data": {
      "application/vnd.jupyter.widget-view+json": {
       "model_id": "c1acde1ef7e44663b5d5b20fc0427096",
       "version_major": 2,
       "version_minor": 0
      },
      "text/plain": [
       "Canvas(toolbar=Toolbar(toolitems=[('Home', 'Reset original view', 'home', 'home'), ('Back', 'Back to previous …"
      ]
     },
     "metadata": {},
     "output_type": "display_data"
    },
    {
     "name": "stderr",
     "output_type": "stream",
     "text": [
      "INFO:fbprophet:Making 6 forecasts with cutoffs between 2019-03-26 07:58:56.151000 and 2019-03-28 19:58:56.151000\n"
     ]
    },
    {
     "name": "stdout",
     "output_type": "stream",
     "text": [
      "GridSearch finished 39 minutes.\n"
     ]
    },
    {
     "data": {
      "text/html": [
       "<div>\n",
       "<style scoped>\n",
       "    .dataframe tbody tr th:only-of-type {\n",
       "        vertical-align: middle;\n",
       "    }\n",
       "\n",
       "    .dataframe tbody tr th {\n",
       "        vertical-align: top;\n",
       "    }\n",
       "\n",
       "    .dataframe thead th {\n",
       "        text-align: right;\n",
       "    }\n",
       "</style>\n",
       "<table border=\"1\" class=\"dataframe\">\n",
       "  <thead>\n",
       "    <tr style=\"text-align: right;\">\n",
       "      <th></th>\n",
       "      <th>device</th>\n",
       "      <th>parameter</th>\n",
       "      <th>begin</th>\n",
       "      <th>end</th>\n",
       "      <th>sampling_period_min</th>\n",
       "      <th>interval_width</th>\n",
       "      <th>daily_fo</th>\n",
       "      <th>changepoint_prior_scale</th>\n",
       "      <th>mape_average</th>\n",
       "    </tr>\n",
       "  </thead>\n",
       "  <tbody>\n",
       "    <tr>\n",
       "      <th>5</th>\n",
       "      <td>[device33]</td>\n",
       "      <td>co2</td>\n",
       "      <td>2019-03-20</td>\n",
       "      <td>2019-03-30</td>\n",
       "      <td>1</td>\n",
       "      <td>0.6</td>\n",
       "      <td>9</td>\n",
       "      <td>0.01</td>\n",
       "      <td>0.298872</td>\n",
       "    </tr>\n",
       "    <tr>\n",
       "      <th>4</th>\n",
       "      <td>[device33]</td>\n",
       "      <td>co2</td>\n",
       "      <td>2019-03-20</td>\n",
       "      <td>2019-03-30</td>\n",
       "      <td>1</td>\n",
       "      <td>0.6</td>\n",
       "      <td>6</td>\n",
       "      <td>0.01</td>\n",
       "      <td>0.300329</td>\n",
       "    </tr>\n",
       "    <tr>\n",
       "      <th>3</th>\n",
       "      <td>[device33]</td>\n",
       "      <td>co2</td>\n",
       "      <td>2019-03-20</td>\n",
       "      <td>2019-03-30</td>\n",
       "      <td>1</td>\n",
       "      <td>0.6</td>\n",
       "      <td>3</td>\n",
       "      <td>0.01</td>\n",
       "      <td>0.304640</td>\n",
       "    </tr>\n",
       "    <tr>\n",
       "      <th>2</th>\n",
       "      <td>[device33]</td>\n",
       "      <td>co2</td>\n",
       "      <td>2019-03-18</td>\n",
       "      <td>2019-03-30</td>\n",
       "      <td>1</td>\n",
       "      <td>0.6</td>\n",
       "      <td>9</td>\n",
       "      <td>0.01</td>\n",
       "      <td>0.388522</td>\n",
       "    </tr>\n",
       "    <tr>\n",
       "      <th>1</th>\n",
       "      <td>[device33]</td>\n",
       "      <td>co2</td>\n",
       "      <td>2019-03-18</td>\n",
       "      <td>2019-03-30</td>\n",
       "      <td>1</td>\n",
       "      <td>0.6</td>\n",
       "      <td>6</td>\n",
       "      <td>0.01</td>\n",
       "      <td>0.390094</td>\n",
       "    </tr>\n",
       "    <tr>\n",
       "      <th>0</th>\n",
       "      <td>[device33]</td>\n",
       "      <td>co2</td>\n",
       "      <td>2019-03-18</td>\n",
       "      <td>2019-03-30</td>\n",
       "      <td>1</td>\n",
       "      <td>0.6</td>\n",
       "      <td>3</td>\n",
       "      <td>0.01</td>\n",
       "      <td>0.393925</td>\n",
       "    </tr>\n",
       "  </tbody>\n",
       "</table>\n",
       "</div>"
      ],
      "text/plain": [
       "       device parameter       begin         end  sampling_period_min  \\\n",
       "5  [device33]       co2  2019-03-20  2019-03-30                    1   \n",
       "4  [device33]       co2  2019-03-20  2019-03-30                    1   \n",
       "3  [device33]       co2  2019-03-20  2019-03-30                    1   \n",
       "2  [device33]       co2  2019-03-18  2019-03-30                    1   \n",
       "1  [device33]       co2  2019-03-18  2019-03-30                    1   \n",
       "0  [device33]       co2  2019-03-18  2019-03-30                    1   \n",
       "\n",
       "   interval_width  daily_fo  changepoint_prior_scale  mape_average  \n",
       "5             0.6         9                     0.01      0.298872  \n",
       "4             0.6         6                     0.01      0.300329  \n",
       "3             0.6         3                     0.01      0.304640  \n",
       "2             0.6         9                     0.01      0.388522  \n",
       "1             0.6         6                     0.01      0.390094  \n",
       "0             0.6         3                     0.01      0.393925  "
      ]
     },
     "execution_count": 55,
     "metadata": {},
     "output_type": "execute_result"
    }
   ],
   "source": [
    "# GridSearch. To do a randomSearch check below\n",
    "start_time = time.time()\n",
    "\n",
    "# Parameters\n",
    "prophet_grid = {'df_dev' : [df_dev],\n",
    "                'device' : [device],\n",
    "                'parameter' : ['co2'],\n",
    "                'begin' : ['2019-03-18', '2019-03-20'],\n",
    "                'end' : ['2019-03-30'],\n",
    "                'sampling_period_min' : [1],\n",
    "                'graph' : [1],\n",
    "                'predict_day' : [1],\n",
    "                'interval_width' : [0.6],\n",
    "                'changepoint_prior_scale' : [0.01], # list(np.arange(0.01,30,1).tolist()),\n",
    "                'daily_fo' : [3, 6, 9],\n",
    "#                 'holidays_prior_scale' : list((1000,100,10,1,0.1)),\n",
    "               }\n",
    "\n",
    "# Run GridSearch_Prophet\n",
    "mape_0330 = GridSearch_Prophet(list(ParameterGrid(prophet_grid)), metric='mape')\n",
    "\n",
    "\n",
    "end_time = time.time()\n",
    "dur_min = int((end_time - start_time)/60)\n",
    "\n",
    "print('GridSearch finished '+ str(dur_min) + \" minutes.\")\n",
    "mape_0330.sort_values('mape_average')"
   ]
  },
  {
   "cell_type": "code",
   "execution_count": 60,
   "metadata": {},
   "outputs": [],
   "source": [
    "mape_0330.to_csv('dev33_co2_2019-03-30.csv')"
   ]
  },
  {
   "cell_type": "markdown",
   "metadata": {},
   "source": [
    "**Conclusion**\n",
    "\n",
    "- The fourier order of 3 is most often (but not always) the best. \n",
    "- But the prediction is not necessarily better with more days (compare prediction of 04 01 and 03 31) --> then it make sense to do a grid search with increasing number of days. This probably depends on how variable were the days used for the model fitting."
   ]
  },
  {
   "cell_type": "code",
   "execution_count": null,
   "metadata": {},
   "outputs": [],
   "source": []
  },
  {
   "cell_type": "code",
   "execution_count": null,
   "metadata": {},
   "outputs": [],
   "source": []
  },
  {
   "cell_type": "code",
   "execution_count": null,
   "metadata": {},
   "outputs": [],
   "source": []
  },
  {
   "cell_type": "code",
   "execution_count": null,
   "metadata": {},
   "outputs": [],
   "source": []
  },
  {
   "cell_type": "code",
   "execution_count": null,
   "metadata": {},
   "outputs": [],
   "source": []
  },
  {
   "cell_type": "markdown",
   "metadata": {},
   "source": [
    "## Labo for individual testing"
   ]
  },
  {
   "cell_type": "code",
   "execution_count": 8,
   "metadata": {},
   "outputs": [
    {
     "name": "stdout",
     "output_type": "stream",
     "text": [
      "Full dataset: 2019-03-07 to the 2019-05-01. Analysed data the 2019-03-15 to the 2019-03-27.\n",
      "o Trained on the data from the 2019-03-15 to the 2019-03-26 (10 days).\n",
      "o Predict from the 2019-03-26 to the 2019-03-27 (1 days).\n"
     ]
    },
    {
     "data": {
      "application/vnd.jupyter.widget-view+json": {
       "model_id": "14071a3fa02d49a29d5076080de35d33",
       "version_major": 2,
       "version_minor": 0
      },
      "text/plain": [
       "Canvas(toolbar=Toolbar(toolitems=[('Home', 'Reset original view', 'home', 'home'), ('Back', 'Back to previous …"
      ]
     },
     "metadata": {},
     "output_type": "display_data"
    },
    {
     "name": "stderr",
     "output_type": "stream",
     "text": [
      "INFO:fbprophet:Making 10 forecasts with cutoffs between 2019-03-21 07:58:44.425000 and 2019-03-25 19:58:44.425000\n"
     ]
    }
   ],
   "source": [
    "# Single instance example\n",
    "df_p, df_pred = prophet(\n",
    "            df_dev,\n",
    "            device,\n",
    "            parameter='co2',\n",
    "            begin='2019-03-15',\n",
    "            end='2019-03-27',\n",
    "            sampling_period_min=1,\n",
    "            graph=1, \n",
    "            predict_day=1,\n",
    "            interval_width=0.6,\n",
    "            changepoint_prior_scale=0.01,\n",
    "            daily_fo = 3\n",
    ")\n",
    "df_p.to_csv('df_p_03-26.csv')\n",
    "df_pred.to_csv('df_pred_03-26.csv')"
   ]
  },
  {
   "cell_type": "code",
   "execution_count": 19,
   "metadata": {},
   "outputs": [
    {
     "name": "stdout",
     "output_type": "stream",
     "text": [
      "Full dataset: 2019-03-07 to the 2019-05-01. Analysed data the 2019-04-09 to the 2019-04-21.\n",
      "o Trained on the data from the 2019-04-09 to the 2019-04-20 (10 days).\n",
      "o Predict from the 2019-04-20 to the 2019-04-21 (1 days).\n"
     ]
    },
    {
     "data": {
      "application/vnd.jupyter.widget-view+json": {
       "model_id": "024429b4ad5347409d23e46de8b6622d",
       "version_major": 2,
       "version_minor": 0
      },
      "text/plain": [
       "Canvas(toolbar=Toolbar(toolitems=[('Home', 'Reset original view', 'home', 'home'), ('Back', 'Back to previous …"
      ]
     },
     "metadata": {},
     "output_type": "display_data"
    },
    {
     "name": "stderr",
     "output_type": "stream",
     "text": [
      "INFO:fbprophet:Making 10 forecasts with cutoffs between 2019-04-15 06:58:49.580000 and 2019-04-19 18:58:49.580000\n"
     ]
    }
   ],
   "source": [
    "# Single instance example\n",
    "df_p, df_pred = prophet(\n",
    "            df_dev,\n",
    "            device,\n",
    "            parameter='co2',\n",
    "            begin='2019-04-09',\n",
    "            end='2019-04-21',\n",
    "            sampling_period_min=1,\n",
    "            graph=1, \n",
    "            predict_day=1,\n",
    "            interval_width=0.6,\n",
    "            changepoint_prior_scale=0.01,\n",
    "            daily_fo = 3\n",
    ")\n",
    "df_p.to_csv('df_p_04-20.csv')\n",
    "df_pred.to_csv('df_pred_04-20.csv')"
   ]
  },
  {
   "cell_type": "markdown",
   "metadata": {},
   "source": [
    "### GridSearch over dataset:\n",
    "\n",
    "*This function is not yet done. This is the workplan:*\n",
    "\n",
    "1. Make a function out of the single instance to run a GridSearch\n",
    "2. Make a table with different prediction time\n",
    "3. Feed the Gridsearch function. Save parameters, data and graph"
   ]
  },
  {
   "cell_type": "code",
   "execution_count": null,
   "metadata": {},
   "outputs": [],
   "source": [
    "# GridSearch. To do a randomSearch check below\n",
    "start_time = time.time()\n",
    "\n",
    "# Parameters\n",
    "prophet_grid = {'df_dev' : [df_dev],\n",
    "                'device' : [device],\n",
    "                'parameter' : ['co2'],\n",
    "                'begin' : ['2019-03-20', '2019-03-22'],\n",
    "                'end' : ['2019-04-01'],\n",
    "                'sampling_period_min' : [1],\n",
    "                'graph' : [1],\n",
    "                'predict_day' : [1],\n",
    "                'interval_width' : [0.6],\n",
    "                'changepoint_prior_scale' : [0.01], # list(np.arange(0.01,30,1).tolist()),\n",
    "                'daily_fo' : [3, 6, 9],\n",
    "#                 'holidays_prior_scale' : list((1000,100,10,1,0.1)),\n",
    "               }\n",
    "\n",
    "# Run GridSearch_Prophet\n",
    "mape_0401 = GridSearch_Prophet(list(ParameterGrid(prophet_grid)), metric='mape')\n",
    "\n",
    "\n",
    "end_time = time.time()\n",
    "dur_min = int((end_time - start_time)/60)\n",
    "\n",
    "print('GridSearch finished '+ str(dur_min) + \" minutes.\")\n",
    "mape_0401.sort_values('mape_average')"
   ]
  },
  {
   "cell_type": "code",
   "execution_count": 139,
   "metadata": {},
   "outputs": [
    {
     "data": {
      "text/html": [
       "<div>\n",
       "<style scoped>\n",
       "    .dataframe tbody tr th:only-of-type {\n",
       "        vertical-align: middle;\n",
       "    }\n",
       "\n",
       "    .dataframe tbody tr th {\n",
       "        vertical-align: top;\n",
       "    }\n",
       "\n",
       "    .dataframe thead th {\n",
       "        text-align: right;\n",
       "    }\n",
       "</style>\n",
       "<table border=\"1\" class=\"dataframe\">\n",
       "  <thead>\n",
       "    <tr style=\"text-align: right;\">\n",
       "      <th></th>\n",
       "      <th>date_minus_10</th>\n",
       "      <th>date_minus_8</th>\n",
       "      <th>date_minus_6</th>\n",
       "      <th>date_predict</th>\n",
       "    </tr>\n",
       "  </thead>\n",
       "  <tbody>\n",
       "    <tr>\n",
       "      <th>0</th>\n",
       "      <td>2019-03-07</td>\n",
       "      <td>2019-03-09</td>\n",
       "      <td>2019-03-11</td>\n",
       "      <td>2019-03-17</td>\n",
       "    </tr>\n",
       "    <tr>\n",
       "      <th>1</th>\n",
       "      <td>2019-03-08</td>\n",
       "      <td>2019-03-10</td>\n",
       "      <td>2019-03-12</td>\n",
       "      <td>2019-03-18</td>\n",
       "    </tr>\n",
       "    <tr>\n",
       "      <th>2</th>\n",
       "      <td>2019-03-09</td>\n",
       "      <td>2019-03-11</td>\n",
       "      <td>2019-03-13</td>\n",
       "      <td>2019-03-19</td>\n",
       "    </tr>\n",
       "    <tr>\n",
       "      <th>3</th>\n",
       "      <td>2019-03-10</td>\n",
       "      <td>2019-03-12</td>\n",
       "      <td>2019-03-14</td>\n",
       "      <td>2019-03-20</td>\n",
       "    </tr>\n",
       "    <tr>\n",
       "      <th>4</th>\n",
       "      <td>2019-03-11</td>\n",
       "      <td>2019-03-13</td>\n",
       "      <td>2019-03-15</td>\n",
       "      <td>2019-03-21</td>\n",
       "    </tr>\n",
       "    <tr>\n",
       "      <th>5</th>\n",
       "      <td>2019-03-12</td>\n",
       "      <td>2019-03-14</td>\n",
       "      <td>2019-03-16</td>\n",
       "      <td>2019-03-22</td>\n",
       "    </tr>\n",
       "    <tr>\n",
       "      <th>6</th>\n",
       "      <td>2019-03-13</td>\n",
       "      <td>2019-03-15</td>\n",
       "      <td>2019-03-17</td>\n",
       "      <td>2019-03-23</td>\n",
       "    </tr>\n",
       "    <tr>\n",
       "      <th>7</th>\n",
       "      <td>2019-03-14</td>\n",
       "      <td>2019-03-16</td>\n",
       "      <td>2019-03-18</td>\n",
       "      <td>2019-03-24</td>\n",
       "    </tr>\n",
       "    <tr>\n",
       "      <th>8</th>\n",
       "      <td>2019-03-15</td>\n",
       "      <td>2019-03-17</td>\n",
       "      <td>2019-03-19</td>\n",
       "      <td>2019-03-25</td>\n",
       "    </tr>\n",
       "    <tr>\n",
       "      <th>9</th>\n",
       "      <td>2019-03-16</td>\n",
       "      <td>2019-03-18</td>\n",
       "      <td>2019-03-20</td>\n",
       "      <td>2019-03-26</td>\n",
       "    </tr>\n",
       "    <tr>\n",
       "      <th>10</th>\n",
       "      <td>2019-03-17</td>\n",
       "      <td>2019-03-19</td>\n",
       "      <td>2019-03-21</td>\n",
       "      <td>2019-03-27</td>\n",
       "    </tr>\n",
       "    <tr>\n",
       "      <th>11</th>\n",
       "      <td>2019-03-18</td>\n",
       "      <td>2019-03-20</td>\n",
       "      <td>2019-03-22</td>\n",
       "      <td>2019-03-28</td>\n",
       "    </tr>\n",
       "    <tr>\n",
       "      <th>12</th>\n",
       "      <td>2019-03-19</td>\n",
       "      <td>2019-03-21</td>\n",
       "      <td>2019-03-23</td>\n",
       "      <td>2019-03-29</td>\n",
       "    </tr>\n",
       "    <tr>\n",
       "      <th>13</th>\n",
       "      <td>2019-03-20</td>\n",
       "      <td>2019-03-22</td>\n",
       "      <td>2019-03-24</td>\n",
       "      <td>2019-03-30</td>\n",
       "    </tr>\n",
       "    <tr>\n",
       "      <th>14</th>\n",
       "      <td>2019-03-21</td>\n",
       "      <td>2019-03-23</td>\n",
       "      <td>2019-03-25</td>\n",
       "      <td>2019-03-31</td>\n",
       "    </tr>\n",
       "    <tr>\n",
       "      <th>15</th>\n",
       "      <td>2019-03-22</td>\n",
       "      <td>2019-03-24</td>\n",
       "      <td>2019-03-26</td>\n",
       "      <td>2019-04-01</td>\n",
       "    </tr>\n",
       "    <tr>\n",
       "      <th>16</th>\n",
       "      <td>2019-03-23</td>\n",
       "      <td>2019-03-25</td>\n",
       "      <td>2019-03-27</td>\n",
       "      <td>2019-04-02</td>\n",
       "    </tr>\n",
       "    <tr>\n",
       "      <th>17</th>\n",
       "      <td>2019-03-24</td>\n",
       "      <td>2019-03-26</td>\n",
       "      <td>2019-03-28</td>\n",
       "      <td>2019-04-03</td>\n",
       "    </tr>\n",
       "    <tr>\n",
       "      <th>18</th>\n",
       "      <td>2019-03-25</td>\n",
       "      <td>2019-03-27</td>\n",
       "      <td>2019-03-29</td>\n",
       "      <td>2019-04-04</td>\n",
       "    </tr>\n",
       "    <tr>\n",
       "      <th>19</th>\n",
       "      <td>2019-03-26</td>\n",
       "      <td>2019-03-28</td>\n",
       "      <td>2019-03-30</td>\n",
       "      <td>2019-04-05</td>\n",
       "    </tr>\n",
       "    <tr>\n",
       "      <th>20</th>\n",
       "      <td>2019-03-27</td>\n",
       "      <td>2019-03-29</td>\n",
       "      <td>2019-03-31</td>\n",
       "      <td>2019-04-06</td>\n",
       "    </tr>\n",
       "    <tr>\n",
       "      <th>21</th>\n",
       "      <td>2019-03-28</td>\n",
       "      <td>2019-03-30</td>\n",
       "      <td>2019-04-01</td>\n",
       "      <td>2019-04-07</td>\n",
       "    </tr>\n",
       "    <tr>\n",
       "      <th>22</th>\n",
       "      <td>2019-03-29</td>\n",
       "      <td>2019-03-31</td>\n",
       "      <td>2019-04-02</td>\n",
       "      <td>2019-04-08</td>\n",
       "    </tr>\n",
       "    <tr>\n",
       "      <th>23</th>\n",
       "      <td>2019-03-30</td>\n",
       "      <td>2019-04-01</td>\n",
       "      <td>2019-04-03</td>\n",
       "      <td>2019-04-09</td>\n",
       "    </tr>\n",
       "    <tr>\n",
       "      <th>24</th>\n",
       "      <td>2019-03-31</td>\n",
       "      <td>2019-04-02</td>\n",
       "      <td>2019-04-04</td>\n",
       "      <td>2019-04-10</td>\n",
       "    </tr>\n",
       "    <tr>\n",
       "      <th>25</th>\n",
       "      <td>2019-04-01</td>\n",
       "      <td>2019-04-03</td>\n",
       "      <td>2019-04-05</td>\n",
       "      <td>2019-04-11</td>\n",
       "    </tr>\n",
       "    <tr>\n",
       "      <th>26</th>\n",
       "      <td>2019-04-02</td>\n",
       "      <td>2019-04-04</td>\n",
       "      <td>2019-04-06</td>\n",
       "      <td>2019-04-12</td>\n",
       "    </tr>\n",
       "    <tr>\n",
       "      <th>27</th>\n",
       "      <td>2019-04-03</td>\n",
       "      <td>2019-04-05</td>\n",
       "      <td>2019-04-07</td>\n",
       "      <td>2019-04-13</td>\n",
       "    </tr>\n",
       "    <tr>\n",
       "      <th>28</th>\n",
       "      <td>2019-04-04</td>\n",
       "      <td>2019-04-06</td>\n",
       "      <td>2019-04-08</td>\n",
       "      <td>2019-04-14</td>\n",
       "    </tr>\n",
       "    <tr>\n",
       "      <th>29</th>\n",
       "      <td>2019-04-05</td>\n",
       "      <td>2019-04-07</td>\n",
       "      <td>2019-04-09</td>\n",
       "      <td>2019-04-15</td>\n",
       "    </tr>\n",
       "    <tr>\n",
       "      <th>30</th>\n",
       "      <td>2019-04-06</td>\n",
       "      <td>2019-04-08</td>\n",
       "      <td>2019-04-10</td>\n",
       "      <td>2019-04-16</td>\n",
       "    </tr>\n",
       "    <tr>\n",
       "      <th>31</th>\n",
       "      <td>2019-04-07</td>\n",
       "      <td>2019-04-09</td>\n",
       "      <td>2019-04-11</td>\n",
       "      <td>2019-04-17</td>\n",
       "    </tr>\n",
       "    <tr>\n",
       "      <th>32</th>\n",
       "      <td>2019-04-08</td>\n",
       "      <td>2019-04-10</td>\n",
       "      <td>2019-04-12</td>\n",
       "      <td>2019-04-18</td>\n",
       "    </tr>\n",
       "    <tr>\n",
       "      <th>33</th>\n",
       "      <td>2019-04-09</td>\n",
       "      <td>2019-04-11</td>\n",
       "      <td>2019-04-13</td>\n",
       "      <td>2019-04-19</td>\n",
       "    </tr>\n",
       "    <tr>\n",
       "      <th>34</th>\n",
       "      <td>2019-04-10</td>\n",
       "      <td>2019-04-12</td>\n",
       "      <td>2019-04-14</td>\n",
       "      <td>2019-04-20</td>\n",
       "    </tr>\n",
       "    <tr>\n",
       "      <th>35</th>\n",
       "      <td>2019-04-11</td>\n",
       "      <td>2019-04-13</td>\n",
       "      <td>2019-04-15</td>\n",
       "      <td>2019-04-21</td>\n",
       "    </tr>\n",
       "    <tr>\n",
       "      <th>36</th>\n",
       "      <td>2019-04-12</td>\n",
       "      <td>2019-04-14</td>\n",
       "      <td>2019-04-16</td>\n",
       "      <td>2019-04-22</td>\n",
       "    </tr>\n",
       "    <tr>\n",
       "      <th>37</th>\n",
       "      <td>2019-04-13</td>\n",
       "      <td>2019-04-15</td>\n",
       "      <td>2019-04-17</td>\n",
       "      <td>2019-04-23</td>\n",
       "    </tr>\n",
       "    <tr>\n",
       "      <th>38</th>\n",
       "      <td>2019-04-14</td>\n",
       "      <td>2019-04-16</td>\n",
       "      <td>2019-04-18</td>\n",
       "      <td>2019-04-24</td>\n",
       "    </tr>\n",
       "    <tr>\n",
       "      <th>39</th>\n",
       "      <td>2019-04-15</td>\n",
       "      <td>2019-04-17</td>\n",
       "      <td>2019-04-19</td>\n",
       "      <td>2019-04-25</td>\n",
       "    </tr>\n",
       "    <tr>\n",
       "      <th>40</th>\n",
       "      <td>2019-04-16</td>\n",
       "      <td>2019-04-18</td>\n",
       "      <td>2019-04-20</td>\n",
       "      <td>2019-04-26</td>\n",
       "    </tr>\n",
       "    <tr>\n",
       "      <th>41</th>\n",
       "      <td>2019-04-17</td>\n",
       "      <td>2019-04-19</td>\n",
       "      <td>2019-04-21</td>\n",
       "      <td>2019-04-27</td>\n",
       "    </tr>\n",
       "    <tr>\n",
       "      <th>42</th>\n",
       "      <td>2019-04-18</td>\n",
       "      <td>2019-04-20</td>\n",
       "      <td>2019-04-22</td>\n",
       "      <td>2019-04-28</td>\n",
       "    </tr>\n",
       "    <tr>\n",
       "      <th>43</th>\n",
       "      <td>2019-04-19</td>\n",
       "      <td>2019-04-21</td>\n",
       "      <td>2019-04-23</td>\n",
       "      <td>2019-04-29</td>\n",
       "    </tr>\n",
       "    <tr>\n",
       "      <th>44</th>\n",
       "      <td>2019-04-20</td>\n",
       "      <td>2019-04-22</td>\n",
       "      <td>2019-04-24</td>\n",
       "      <td>2019-04-30</td>\n",
       "    </tr>\n",
       "    <tr>\n",
       "      <th>45</th>\n",
       "      <td>2019-04-21</td>\n",
       "      <td>2019-04-23</td>\n",
       "      <td>2019-04-25</td>\n",
       "      <td>2019-05-01</td>\n",
       "    </tr>\n",
       "  </tbody>\n",
       "</table>\n",
       "</div>"
      ],
      "text/plain": [
       "   date_minus_10 date_minus_8 date_minus_6 date_predict\n",
       "0     2019-03-07   2019-03-09   2019-03-11   2019-03-17\n",
       "1     2019-03-08   2019-03-10   2019-03-12   2019-03-18\n",
       "2     2019-03-09   2019-03-11   2019-03-13   2019-03-19\n",
       "3     2019-03-10   2019-03-12   2019-03-14   2019-03-20\n",
       "4     2019-03-11   2019-03-13   2019-03-15   2019-03-21\n",
       "5     2019-03-12   2019-03-14   2019-03-16   2019-03-22\n",
       "6     2019-03-13   2019-03-15   2019-03-17   2019-03-23\n",
       "7     2019-03-14   2019-03-16   2019-03-18   2019-03-24\n",
       "8     2019-03-15   2019-03-17   2019-03-19   2019-03-25\n",
       "9     2019-03-16   2019-03-18   2019-03-20   2019-03-26\n",
       "10    2019-03-17   2019-03-19   2019-03-21   2019-03-27\n",
       "11    2019-03-18   2019-03-20   2019-03-22   2019-03-28\n",
       "12    2019-03-19   2019-03-21   2019-03-23   2019-03-29\n",
       "13    2019-03-20   2019-03-22   2019-03-24   2019-03-30\n",
       "14    2019-03-21   2019-03-23   2019-03-25   2019-03-31\n",
       "15    2019-03-22   2019-03-24   2019-03-26   2019-04-01\n",
       "16    2019-03-23   2019-03-25   2019-03-27   2019-04-02\n",
       "17    2019-03-24   2019-03-26   2019-03-28   2019-04-03\n",
       "18    2019-03-25   2019-03-27   2019-03-29   2019-04-04\n",
       "19    2019-03-26   2019-03-28   2019-03-30   2019-04-05\n",
       "20    2019-03-27   2019-03-29   2019-03-31   2019-04-06\n",
       "21    2019-03-28   2019-03-30   2019-04-01   2019-04-07\n",
       "22    2019-03-29   2019-03-31   2019-04-02   2019-04-08\n",
       "23    2019-03-30   2019-04-01   2019-04-03   2019-04-09\n",
       "24    2019-03-31   2019-04-02   2019-04-04   2019-04-10\n",
       "25    2019-04-01   2019-04-03   2019-04-05   2019-04-11\n",
       "26    2019-04-02   2019-04-04   2019-04-06   2019-04-12\n",
       "27    2019-04-03   2019-04-05   2019-04-07   2019-04-13\n",
       "28    2019-04-04   2019-04-06   2019-04-08   2019-04-14\n",
       "29    2019-04-05   2019-04-07   2019-04-09   2019-04-15\n",
       "30    2019-04-06   2019-04-08   2019-04-10   2019-04-16\n",
       "31    2019-04-07   2019-04-09   2019-04-11   2019-04-17\n",
       "32    2019-04-08   2019-04-10   2019-04-12   2019-04-18\n",
       "33    2019-04-09   2019-04-11   2019-04-13   2019-04-19\n",
       "34    2019-04-10   2019-04-12   2019-04-14   2019-04-20\n",
       "35    2019-04-11   2019-04-13   2019-04-15   2019-04-21\n",
       "36    2019-04-12   2019-04-14   2019-04-16   2019-04-22\n",
       "37    2019-04-13   2019-04-15   2019-04-17   2019-04-23\n",
       "38    2019-04-14   2019-04-16   2019-04-18   2019-04-24\n",
       "39    2019-04-15   2019-04-17   2019-04-19   2019-04-25\n",
       "40    2019-04-16   2019-04-18   2019-04-20   2019-04-26\n",
       "41    2019-04-17   2019-04-19   2019-04-21   2019-04-27\n",
       "42    2019-04-18   2019-04-20   2019-04-22   2019-04-28\n",
       "43    2019-04-19   2019-04-21   2019-04-23   2019-04-29\n",
       "44    2019-04-20   2019-04-22   2019-04-24   2019-04-30\n",
       "45    2019-04-21   2019-04-23   2019-04-25   2019-05-01"
      ]
     },
     "execution_count": 139,
     "metadata": {},
     "output_type": "execute_result"
    }
   ],
   "source": [
    "# Create a dataframe with the date to use\n",
    "\n",
    "dates = pd.DataFrame(columns={'date_minus_10',\n",
    "                              'date_minus_8',\n",
    "                              'date_minus_6',\n",
    "                              'date_predict'})\n",
    "dates = dates[['date_minus_10', 'date_minus_8', 'date_minus_6', 'date_predict']]\n",
    "\n",
    "# List of unique dates in the dataframe\n",
    "dates['date_minus_10'] = df_dev['ds'].unique().strftime('%Y-%m-%d')\n",
    "dates = dates.drop_duplicates(subset=['date_minus_10'])\n",
    "dates = dates.reset_index(drop=True)\n",
    "\n",
    "# Fill the other columns and drop the 10 last columns\n",
    "dates['date_minus_8'] = dates.iloc[2:, 0].reset_index(drop=True)\n",
    "dates['date_minus_6'] = dates.iloc[4:, 0].reset_index(drop=True)\n",
    "dates['date_predict'] = dates.iloc[10:, 0].reset_index(drop=True)\n",
    "dates = dates[:-10] # Drop the 10 last rows\n",
    "dates"
   ]
  },
  {
   "cell_type": "markdown",
   "metadata": {},
   "source": [
    "### Storage of code\n",
    "**Cell backup**\n",
    "\n",
    "*This cell works! Keep it as backup.*"
   ]
  },
  {
   "cell_type": "code",
   "execution_count": 14,
   "metadata": {},
   "outputs": [
    {
     "name": "stdout",
     "output_type": "stream",
     "text": [
      "prophet_instance nb 0\n",
      "Tested model:\n",
      "Full dataset: 2019-03-07 to the 2019-05-01. Analysed data the 2019-03-22 to the 2019-04-03.\n",
      "o Trained on the data from the 2019-03-22 to the 2019-04-02 (10 days).\n",
      "o Predict from the 2019-04-02 to the 2019-04-03 (1 days).\n"
     ]
    },
    {
     "data": {
      "application/vnd.jupyter.widget-view+json": {
       "model_id": "bb3748b3a831478cbbafece2eb024a3c",
       "version_major": 2,
       "version_minor": 0
      },
      "text/plain": [
       "Canvas(toolbar=Toolbar(toolitems=[('Home', 'Reset original view', 'home', 'home'), ('Back', 'Back to previous …"
      ]
     },
     "metadata": {},
     "output_type": "display_data"
    },
    {
     "name": "stderr",
     "output_type": "stream",
     "text": [
      "INFO:fbprophet:Making 10 forecasts with cutoffs between 2019-03-28 06:54:43.412000 and 2019-04-01 18:54:43.412000\n"
     ]
    },
    {
     "name": "stdout",
     "output_type": "stream",
     "text": [
      "       device parameter       begin         end  sampling_period_min  \\\n",
      "0  [device33]       co2  2019-03-22  2019-04-03                    5   \n",
      "1  [device33]       co2  2019-03-22  2019-04-03                    5   \n",
      "2  [device33]       co2  2019-03-24  2019-04-03                    5   \n",
      "3  [device33]       co2  2019-03-24  2019-04-03                    5   \n",
      "\n",
      "   interval_width  daily_fo  changepoint_prior_scale  mape_average  \n",
      "0             0.6        12                      0.6      0.128048  \n",
      "1             0.6        12                     15.0           NaN  \n",
      "2             0.6        12                      0.6           NaN  \n",
      "3             0.6        12                     15.0           NaN  \n",
      "prophet_instance nb 1\n",
      "Tested model:\n",
      "Full dataset: 2019-03-07 to the 2019-05-01. Analysed data the 2019-03-22 to the 2019-04-03.\n",
      "o Trained on the data from the 2019-03-22 to the 2019-04-02 (10 days).\n",
      "o Predict from the 2019-04-02 to the 2019-04-03 (1 days).\n"
     ]
    },
    {
     "data": {
      "application/vnd.jupyter.widget-view+json": {
       "model_id": "c9e84cd8161544b1a8290eebc980c2dd",
       "version_major": 2,
       "version_minor": 0
      },
      "text/plain": [
       "Canvas(toolbar=Toolbar(toolitems=[('Home', 'Reset original view', 'home', 'home'), ('Back', 'Back to previous …"
      ]
     },
     "metadata": {},
     "output_type": "display_data"
    },
    {
     "name": "stderr",
     "output_type": "stream",
     "text": [
      "INFO:fbprophet:Making 10 forecasts with cutoffs between 2019-03-28 06:54:43.412000 and 2019-04-01 18:54:43.412000\n"
     ]
    },
    {
     "name": "stdout",
     "output_type": "stream",
     "text": [
      "       device parameter       begin         end  sampling_period_min  \\\n",
      "0  [device33]       co2  2019-03-22  2019-04-03                    5   \n",
      "1  [device33]       co2  2019-03-22  2019-04-03                    5   \n",
      "2  [device33]       co2  2019-03-24  2019-04-03                    5   \n",
      "3  [device33]       co2  2019-03-24  2019-04-03                    5   \n",
      "\n",
      "   interval_width  daily_fo  changepoint_prior_scale  mape_average  \n",
      "0             0.6        12                      0.6      0.128048  \n",
      "1             0.6        12                     15.0      0.130214  \n",
      "2             0.6        12                      0.6           NaN  \n",
      "3             0.6        12                     15.0           NaN  \n",
      "prophet_instance nb 2\n",
      "Tested model:\n",
      "Full dataset: 2019-03-07 to the 2019-05-01. Analysed data the 2019-03-24 to the 2019-04-03.\n",
      "o Trained on the data from the 2019-03-24 to the 2019-04-02 (8 days).\n",
      "o Predict from the 2019-04-02 to the 2019-04-03 (1 days).\n"
     ]
    },
    {
     "data": {
      "application/vnd.jupyter.widget-view+json": {
       "model_id": "38390758594d42fd81b5ad3677ec1206",
       "version_major": 2,
       "version_minor": 0
      },
      "text/plain": [
       "Canvas(toolbar=Toolbar(toolitems=[('Home', 'Reset original view', 'home', 'home'), ('Back', 'Back to previous …"
      ]
     },
     "metadata": {},
     "output_type": "display_data"
    },
    {
     "name": "stderr",
     "output_type": "stream",
     "text": [
      "INFO:fbprophet:Making 6 forecasts with cutoffs between 2019-03-30 06:54:43.412000 and 2019-04-01 18:54:43.412000\n"
     ]
    },
    {
     "name": "stdout",
     "output_type": "stream",
     "text": [
      "       device parameter       begin         end  sampling_period_min  \\\n",
      "0  [device33]       co2  2019-03-22  2019-04-03                    5   \n",
      "1  [device33]       co2  2019-03-22  2019-04-03                    5   \n",
      "2  [device33]       co2  2019-03-24  2019-04-03                    5   \n",
      "3  [device33]       co2  2019-03-24  2019-04-03                    5   \n",
      "\n",
      "   interval_width  daily_fo  changepoint_prior_scale  mape_average  \n",
      "0             0.6        12                      0.6      0.128048  \n",
      "1             0.6        12                     15.0      0.130214  \n",
      "2             0.6        12                      0.6      0.137364  \n",
      "3             0.6        12                     15.0           NaN  \n",
      "prophet_instance nb 3\n",
      "Tested model:\n",
      "Full dataset: 2019-03-07 to the 2019-05-01. Analysed data the 2019-03-24 to the 2019-04-03.\n",
      "o Trained on the data from the 2019-03-24 to the 2019-04-02 (8 days).\n",
      "o Predict from the 2019-04-02 to the 2019-04-03 (1 days).\n"
     ]
    },
    {
     "data": {
      "application/vnd.jupyter.widget-view+json": {
       "model_id": "38aee1b19ee34eb1ae8686905072e7bb",
       "version_major": 2,
       "version_minor": 0
      },
      "text/plain": [
       "Canvas(toolbar=Toolbar(toolitems=[('Home', 'Reset original view', 'home', 'home'), ('Back', 'Back to previous …"
      ]
     },
     "metadata": {},
     "output_type": "display_data"
    },
    {
     "name": "stderr",
     "output_type": "stream",
     "text": [
      "INFO:fbprophet:Making 6 forecasts with cutoffs between 2019-03-30 06:54:43.412000 and 2019-04-01 18:54:43.412000\n"
     ]
    },
    {
     "name": "stdout",
     "output_type": "stream",
     "text": [
      "       device parameter       begin         end  sampling_period_min  \\\n",
      "0  [device33]       co2  2019-03-22  2019-04-03                    5   \n",
      "1  [device33]       co2  2019-03-22  2019-04-03                    5   \n",
      "2  [device33]       co2  2019-03-24  2019-04-03                    5   \n",
      "3  [device33]       co2  2019-03-24  2019-04-03                    5   \n",
      "\n",
      "   interval_width  daily_fo  changepoint_prior_scale  mape_average  \n",
      "0             0.6        12                      0.6      0.128048  \n",
      "1             0.6        12                     15.0      0.130214  \n",
      "2             0.6        12                      0.6      0.137364  \n",
      "3             0.6        12                     15.0      0.136153  \n"
     ]
    },
    {
     "data": {
      "text/html": [
       "<div>\n",
       "<style scoped>\n",
       "    .dataframe tbody tr th:only-of-type {\n",
       "        vertical-align: middle;\n",
       "    }\n",
       "\n",
       "    .dataframe tbody tr th {\n",
       "        vertical-align: top;\n",
       "    }\n",
       "\n",
       "    .dataframe thead th {\n",
       "        text-align: right;\n",
       "    }\n",
       "</style>\n",
       "<table border=\"1\" class=\"dataframe\">\n",
       "  <thead>\n",
       "    <tr style=\"text-align: right;\">\n",
       "      <th></th>\n",
       "      <th>device</th>\n",
       "      <th>parameter</th>\n",
       "      <th>begin</th>\n",
       "      <th>end</th>\n",
       "      <th>sampling_period_min</th>\n",
       "      <th>interval_width</th>\n",
       "      <th>daily_fo</th>\n",
       "      <th>changepoint_prior_scale</th>\n",
       "      <th>mape_average</th>\n",
       "    </tr>\n",
       "  </thead>\n",
       "  <tbody>\n",
       "    <tr>\n",
       "      <th>0</th>\n",
       "      <td>[device33]</td>\n",
       "      <td>co2</td>\n",
       "      <td>2019-03-22</td>\n",
       "      <td>2019-04-03</td>\n",
       "      <td>5</td>\n",
       "      <td>0.6</td>\n",
       "      <td>12</td>\n",
       "      <td>0.6</td>\n",
       "      <td>0.128048</td>\n",
       "    </tr>\n",
       "    <tr>\n",
       "      <th>1</th>\n",
       "      <td>[device33]</td>\n",
       "      <td>co2</td>\n",
       "      <td>2019-03-22</td>\n",
       "      <td>2019-04-03</td>\n",
       "      <td>5</td>\n",
       "      <td>0.6</td>\n",
       "      <td>12</td>\n",
       "      <td>15.0</td>\n",
       "      <td>0.130214</td>\n",
       "    </tr>\n",
       "    <tr>\n",
       "      <th>2</th>\n",
       "      <td>[device33]</td>\n",
       "      <td>co2</td>\n",
       "      <td>2019-03-24</td>\n",
       "      <td>2019-04-03</td>\n",
       "      <td>5</td>\n",
       "      <td>0.6</td>\n",
       "      <td>12</td>\n",
       "      <td>0.6</td>\n",
       "      <td>0.137364</td>\n",
       "    </tr>\n",
       "    <tr>\n",
       "      <th>3</th>\n",
       "      <td>[device33]</td>\n",
       "      <td>co2</td>\n",
       "      <td>2019-03-24</td>\n",
       "      <td>2019-04-03</td>\n",
       "      <td>5</td>\n",
       "      <td>0.6</td>\n",
       "      <td>12</td>\n",
       "      <td>15.0</td>\n",
       "      <td>0.136153</td>\n",
       "    </tr>\n",
       "  </tbody>\n",
       "</table>\n",
       "</div>"
      ],
      "text/plain": [
       "       device parameter       begin         end  sampling_period_min  \\\n",
       "0  [device33]       co2  2019-03-22  2019-04-03                    5   \n",
       "1  [device33]       co2  2019-03-22  2019-04-03                    5   \n",
       "2  [device33]       co2  2019-03-24  2019-04-03                    5   \n",
       "3  [device33]       co2  2019-03-24  2019-04-03                    5   \n",
       "\n",
       "   interval_width  daily_fo  changepoint_prior_scale  mape_average  \n",
       "0             0.6        12                      0.6      0.128048  \n",
       "1             0.6        12                     15.0      0.130214  \n",
       "2             0.6        12                      0.6      0.137364  \n",
       "3             0.6        12                     15.0      0.136153  "
      ]
     },
     "execution_count": 14,
     "metadata": {},
     "output_type": "execute_result"
    }
   ],
   "source": [
    "\n",
    "\n",
    "# GridSearch. To do a randomSearch check below\n",
    "prophet_grid = {'df_dev' : [df_dev],\n",
    "                'device' : [device],\n",
    "                'parameter' : ['co2'],\n",
    "                'begin' : ['2019-03-22', '2019-03-24'],\n",
    "                'end' : ['2019-04-03'],\n",
    "                'sampling_period_min' : [5],\n",
    "                'graph' : [1],\n",
    "                'predict_day' : [1],\n",
    "                'interval_width' : [0.6],\n",
    "                'changepoint_prior_scale' : list((0.6, 15)), # list(np.arange(0.01,30,1).tolist()),\n",
    "                'daily_fo' : [12],\n",
    "#                 'holidays_prior_scale' : list((1000,100,10,1,0.1)),\n",
    "               }\n",
    "\n",
    "\n",
    "def GridSearch_Prophet(prophet_grid, metric='mape'):\n",
    "    \"\"\"\n",
    "    mape_table summarizes the mean of mape according to tested parameters.\n",
    "    then Loop Prophet over the prophet_grid\n",
    "    \"\"\"\n",
    "    \n",
    "    # mape_table summarizes the mean of mape according to tested parameters \n",
    "    mape_table = pd.DataFrame.from_dict(prophet_grid)\n",
    "    mape_table = mape_table[['device',\n",
    "                         'parameter',\n",
    "                         'begin',\n",
    "                         'end',\n",
    "                         'sampling_period_min',\n",
    "                         'interval_width',\n",
    "                         'daily_fo',\n",
    "                         'changepoint_prior_scale']]\n",
    "\n",
    "    mape_table['mape_average'] = np.nan\n",
    "    \n",
    "    # Loop Prophet over the prophet_grid\n",
    "    a=0\n",
    "    for prophet_instance in prophet_grid:\n",
    "        print('prophet_instance nb ' + str(a))\n",
    "#         print(mape_table)\n",
    "        print('Tested model:')\n",
    "        df_p, df_pred = prophet(**prophet_instance)\n",
    "        \n",
    "        # store the median of mape for 1 day in the table\n",
    "        mape_table.iloc[a, 8] = df_p.mape.median()\n",
    "        print(mape_table)\n",
    "        a+=1\n",
    "    \n",
    "    return mape_table\n",
    "\n",
    "        \n",
    "mape_table = GridSearch_Prophet(list(ParameterGrid(prophet_grid)), metric='mape')"
   ]
  },
  {
   "cell_type": "markdown",
   "metadata": {},
   "source": [
    "#### RandomSearch (with sample function) to set up if relevant"
   ]
  },
  {
   "cell_type": "raw",
   "metadata": {},
   "source": [
    "# I think that RandomSearch does not work because it generates a list of dic but not a dictionary. To try\n",
    "\n",
    "# This is to make a random selection of all the possibilities of prophet_grid\n",
    "CVGrid = list(ParameterGrid(prophet_grid))\n",
    "i = sample(list(range(len(CVGrid))),2)\n",
    "#Using the iths indexes selected to apply a random search\n",
    "CVGrid = [CVGrid[id] for id in i]\n",
    "\n",
    "print(type(CVGrid))\n",
    "print(CVGrid)\n",
    "# mape_table summarizes the mean of mape according to tested parameters \n",
    "mape_table = pd.DataFrame.from_dict(list(ParameterGrid(CVGrid)))\n",
    "mape_table = mape_table[['device',\n",
    "                     'parameter',\n",
    "                     'begin',\n",
    "                     'end',\n",
    "                     'sampling_period_min',\n",
    "                     'interval_width',\n",
    "                     'daily_fo',\n",
    "                     'changepoint_prior_scale']]\n",
    "\n",
    "mape_table['mape_average'] = np.nan\n",
    "mape_table\n"
   ]
  },
  {
   "cell_type": "raw",
   "metadata": {},
   "source": [
    "# This function works \n",
    "# but you may have to replace\n",
    "# df_p = prophet(**prophet_instance)\n",
    "# by\n",
    "# df_p, df_pred = prophet(**prophet_instance)\n",
    "\n",
    "prophet_grid = {'df_dev' : [df_dev],\n",
    "                'device' : [device],\n",
    "                'parameter' : ['co2'],\n",
    "                'begin' : ['2019-03-22', '2019-03-24'],\n",
    "                'end' : ['2019-04-03'],\n",
    "                'sampling_period_min' : [5],\n",
    "                'graph' : [1],\n",
    "                'predict_day' : [1],\n",
    "                'interval_width' : [0.6],\n",
    "                'changepoint_prior_scale' : list((0.6, 15)), # list(np.arange(0.01,30,1).tolist()),\n",
    "                'daily_fo' : [12],\n",
    "#                 'holidays_prior_scale' : list((1000,100,10,1,0.1)),\n",
    "               }\n",
    "\n",
    "# Make a table summarizing the tested combinations and mean of mape\n",
    " \n",
    "df_p = pd.DataFrame()\n",
    "summary = pd.DataFrame()\n",
    "def GridSearch_Prophet(prophet_grid, metric='mape'):\n",
    "    \"\"\"\n",
    "    mape_table summarizes the mean of mape according to tested parameters.\n",
    "    then Loop Prophet over the prophet_grid\n",
    "    \"\"\"\n",
    "    \n",
    "#     mape_table summarizes the mean of mape according to tested parameters \n",
    "#     mape_table = pd.DataFrame.from_dict(list(ParameterGrid(prophet_grid)))\n",
    "#     mape_table = mape_table[['device',\n",
    "#                          'parameter',\n",
    "#                          'begin',\n",
    "#                          'end',\n",
    "#                          'sampling_period_min',\n",
    "#                          'interval_width',\n",
    "#                          'daily_fo',\n",
    "#                          'changepoint_prior_scale']]\n",
    "\n",
    "#     mape_table['mape_average'] = np.nan\n",
    "    \n",
    "    # Loop Prophet over the prophet_grid\n",
    "    for prophet_instance in prophet_grid:\n",
    "#         print(mape_table)\n",
    "        print('Tested model:')\n",
    "        print(prophet_instance)\n",
    "#         param = pd.DataFrame.from_dict(prophet_instance, orient='index')\n",
    "#         summary.append(param)\n",
    "\n",
    "#         print(type(prophet_instance))\n",
    "#         df_p = prophet(**prophet_instance)\n",
    "        \n",
    "GridSearch_Prophet(list(ParameterGrid(prophet_grid)), metric='mape')"
   ]
  },
  {
   "cell_type": "markdown",
   "metadata": {},
   "source": [
    "*Interactive Plot Mode from Prophet*"
   ]
  },
  {
   "cell_type": "code",
   "execution_count": null,
   "metadata": {},
   "outputs": [],
   "source": [
    "from fbprophet.plot import plot_plotly\n",
    "import plotly.offline as py\n",
    "py.init_notebook_mode()\n",
    "\n",
    "fig_int = plot_plotly(model, forecast)  # This returns a plotly Figure\n",
    "py.iplot(fig_int)"
   ]
  },
  {
   "cell_type": "markdown",
   "metadata": {},
   "source": [
    "*Old function to test a model*"
   ]
  },
  {
   "cell_type": "raw",
   "metadata": {
    "scrolled": false
   },
   "source": [
    "# Original function\n",
    "df, fig, predict_n, today_index, lookback_n = df_generator(df_dev, device, 'co2', '2019-03-26', '2019-04-03',  '5T', 0.08)\n",
    "print(lookback_n)\n",
    "# config the model\n",
    "model = Prophet(interval_width=0.6, # anomaly threshold,\n",
    "                yearly_seasonality=False, weekly_seasonality=False, daily_seasonality=False,\n",
    "                changepoint_prior_scale=0.01) # Adjusting trend flexibility. should be <0.1 low --> toward overfit\n",
    "model.add_seasonality(name='daily', period=1, fourier_order=12) # prior scale\n",
    "# model.add_seasonality(name='half_day', period=0.5, fourier_order=10)\n",
    "\n",
    "# Fit the model, flag outliers, and visualize\n",
    "assert today_index>lookback_n, 'Not enough data for prediction (lookback_n<today_index)'\n",
    "p_fig, forecast, model = prophet_fit(df, model, today_index, '5T', 0.08, lookback_days=lookback_n, predict_days=predict_n)   \n",
    "outliers, df_pred = get_outliers(df, forecast, today_index, predict_days=predict_n)\n",
    "prophet_plot(df, p_fig, today_index, predict_days=predict_n, outliers=outliers)\n",
    "plt.show()\n",
    "param_grid = {'model' : [model],\n",
    "              'initial' : ['3 days'], # If not provided, 3 * horizon is used. Same units as horizon\n",
    "              'period'  : ['0.5 days'], # Integer amount of time between cutoff dates. If not provided, 0.5 * horizon is used.\n",
    "              'horizon' : ['1 days']} # A forecast is made for every observed point between cutoff and cutoff + horizon\n",
    "execute_cross_validation_and_performance_loop(list(ParameterGrid(param_grid)), metric = 'mape')"
   ]
  },
  {
   "cell_type": "code",
   "execution_count": null,
   "metadata": {
    "scrolled": false
   },
   "outputs": [],
   "source": [
    "\n",
    "\n",
    "df, fig, predict_n, today_index, lookback_n = df_generator(df_dev, device, 'co2', '2019-03-26', '2019-04-03',  '5T', 0.08)\n",
    "print(lookback_n)\n",
    "# config the model\n",
    "model = Prophet(interval_width=0.6, # anomaly threshold,\n",
    "                yearly_seasonality=False, weekly_seasonality=False, daily_seasonality=False,\n",
    "                changepoint_prior_scale=0.01) # Adjusting trend flexibility. should be <0.1 low --> toward overfit\n",
    "model.add_seasonality(name='daily', period=1, fourier_order=12) # prior scale\n",
    "# model.add_seasonality(name='half_day', period=0.5, fourier_order=10)\n",
    "\n",
    "# Fit the model, flag outliers, and visualize\n",
    "assert today_index>lookback_n, 'Not enough data for prediction (lookback_n<today_index)'\n",
    "p_fig, forecast, model = prophet_fit(df, model, today_index, '5T', 0.08, lookback_days=lookback_n, predict_days=predict_n)   \n",
    "outliers, df_pred = get_outliers(df, forecast, today_index, predict_days=predict_n)\n",
    "prophet_plot(df, p_fig, today_index, predict_days=predict_n, outliers=outliers)\n",
    "plt.show()\n",
    "param_grid = {'model' : [model],\n",
    "              'initial' : ['3 days'], # If not provided, 3 * horizon is used. Same units as horizon\n",
    "              'period'  : ['0.5 days'], # Integer amount of time between cutoff dates. If not provided, 0.5 * horizon is used.\n",
    "              'horizon' : ['1 days']} # A forecast is made for every observed point between cutoff and cutoff + horizon\n",
    "execute_cross_validation_and_performance_loop(list(ParameterGrid(param_grid)), metric = 'mape')"
   ]
  },
  {
   "cell_type": "markdown",
   "metadata": {
    "scrolled": true
   },
   "source": [
    "### Model evaluation by cross-validation\n",
    "\n",
    "this is the following part of the test function:\n",
    "\n",
    "`param_grid = {'model' : [model],\n",
    "              'initial' : ['3 days'], # If not provided, 3 * horizon is used. Same units as horizon\n",
    "              'period'  : ['0.5 days'], # Integer amount of time between cutoff dates. If not provided, 0.5 * horizon is used.\n",
    "              'horizon' : ['1 days']} # A forecast is made for every observed point between cutoff and cutoff + horizon}\n",
    "execute_cross_validation_and_performance_loop(list(ParameterGrid(param_grid)), metric = 'mape')`\n",
    "\n",
    "Check this [tutorial](https://medium.com/@jeanphilippemallette/prophet-auto-selection-with-cross-validation-7ba2c0a3beef) for the original code.\n",
    "\n",
    "*What it does:*\n",
    "* Show the performance metrics including MSE, RMSE, MAP, MAPE (see [Prophet docs](https://facebook.github.io/prophet/docs/diagnostics.html) for details)\n",
    "\n",
    "*Args:*\n",
    "- model: Prophet model defined above.\n",
    "- initial: String formated as 'n days', where n is a number of days. Define the first day taken in account for cross-validation. *Initial should be smaller than the total duration of the dataframe.*\n",
    "- period: Same format as initial. Spacing between cutoff dates.\n",
    "- horizon: Same format as initial. Duration of prediction. A forecast is made for every observed point between cutoff and cutoff + horizon\n",
    "    \n",
    "*Returns:*\n",
    "- dataframe containing: time (ds), predicted value, predicted value -  tolerance, predicted value +  tolerance, real value"
   ]
  }
 ],
 "metadata": {
  "colab": {
   "collapsed_sections": [],
   "include_colab_link": true,
   "name": "prophet_anomaly_detection",
   "provenance": []
  },
  "kernelspec": {
   "display_name": "Python 3",
   "language": "python",
   "name": "python3"
  },
  "language_info": {
   "codemirror_mode": {
    "name": "ipython",
    "version": 3
   },
   "file_extension": ".py",
   "mimetype": "text/x-python",
   "name": "python",
   "nbconvert_exporter": "python",
   "pygments_lexer": "ipython3",
   "version": "3.7.4"
  }
 },
 "nbformat": 4,
 "nbformat_minor": 4
}
