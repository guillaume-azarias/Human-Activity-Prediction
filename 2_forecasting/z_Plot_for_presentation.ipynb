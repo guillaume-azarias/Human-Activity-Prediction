{
 "cells": [
  {
   "cell_type": "markdown",
   "metadata": {},
   "source": [
    "# Plot script for presentation\n",
    "\n",
    "\n",
    "**Motivation**: The prophet_plot allows to plot forecast to rapidly identify \"outliers\", i.e. real data values that fall outside of the prediction range. However, the layout is not suitable for a professional presentation.\n",
    "In this script, I execute a script similar to Prophet_Prediction, but\n",
    "* removed the cross-validation part to be fast\n",
    "* dissociated the different part before prophet_plot, to allow for display feature customization.\n",
    "\n",
    "**Structure**:\n",
    "Similar to Prophet_Prediction, but prophet is replaced by prophet_CV_free and prophet_plot is replaced by prophet_plot_show.\n",
    "Note that prophet_plot and prophet_plot_show do not allow for graph modification and execution.\n",
    "\n",
    "**Note**: The same results may be also accessible with the interactive plot function of prophet. Check this out:\n",
    "```python\n",
    "from fbprophet.plot import plot_plotly\n",
    "import plotly.offline as py\n",
    "py.init_notebook_mode()\n",
    "\n",
    "fig_int = plot_plotly(model, forecast)  # This returns a plotly Figure\n",
    "py.iplot(fig_int)\n",
    "```"
   ]
  },
  {
   "cell_type": "markdown",
   "metadata": {},
   "source": [
    "**This is a script to do plots for the presentation**"
   ]
  },
  {
   "cell_type": "code",
   "execution_count": 15,
   "metadata": {},
   "outputs": [],
   "source": [
    "import pandas as pd\n",
    "import numpy as np\n",
    "import time\n",
    "import re\n",
    "\n",
    "import seaborn as sns\n",
    "sns.set()\n",
    "import matplotlib.pyplot as plt\n",
    "import matplotlib.patches as mpatches\n",
    "from matplotlib.dates import DateFormatter\n",
    "\n",
    "# Note that the interactive plot may not work in Jupyter lab, but only in Jupyter Notebook (conflict of javascripts)\n",
    "%matplotlib widget \n",
    "\n",
    "from datetime import datetime, timedelta\n",
    "from pytz import timezone"
   ]
  },
  {
   "cell_type": "code",
   "execution_count": 16,
   "metadata": {},
   "outputs": [],
   "source": [
    "import fbprophet\n",
    "from fbprophet import Prophet\n",
    "from fbprophet.diagnostics import cross_validation, performance_metrics\n",
    "from fbprophet.plot import plot_cross_validation_metric"
   ]
  },
  {
   "cell_type": "code",
   "execution_count": 17,
   "metadata": {},
   "outputs": [],
   "source": [
    "from sklearn.model_selection import ParameterGrid\n",
    "import itertools\n",
    "from random import sample"
   ]
  },
  {
   "cell_type": "code",
   "execution_count": 20,
   "metadata": {},
   "outputs": [],
   "source": [
    "from helper import load_ds, df_dev_formater, df_generator, prophet_fit, get_outliers, find_index"
   ]
  },
  {
   "cell_type": "markdown",
   "metadata": {},
   "source": [
    "## Load df_dev"
   ]
  },
  {
   "cell_type": "code",
   "execution_count": 5,
   "metadata": {},
   "outputs": [
    {
     "name": "stdout",
     "output_type": "stream",
     "text": [
      "Check report:\n",
      "##############################################\n",
      "['Device contained in the dataset: device33']\n",
      "['Tenant using the device: tenant09']\n",
      "\n",
      "There are 236187 lines.\n",
      "\n",
      "Data types:\n",
      "device                                object\n",
      "tenant                                object\n",
      "ds             datetime64[ns, Europe/Zurich]\n",
      "light                                float64\n",
      "temperature                          float64\n",
      "humidity                             float64\n",
      "co2                                  float64\n",
      "dtype: object\n"
     ]
    }
   ],
   "source": [
    "device_nb = '33' # 2-digit number !\n",
    "device, df_dev = df_dev_formater(device_nb)\n",
    "\n",
    "assert device.shape[0]==1, 'No, or several devices in the df'\n",
    "\n",
    "# Check report:\n",
    "print('Check report:\\n##############################################')\n",
    "print('Device contained in the dataset: ' + device)\n",
    "print('Tenant using the device: ' + df_dev['tenant'].unique())\n",
    "print('\\nThere are ' + str(df_dev.shape[0]) + ' lines.')\n",
    "print('\\nData types:')\n",
    "print(df_dev.dtypes)"
   ]
  },
  {
   "cell_type": "code",
   "execution_count": 6,
   "metadata": {},
   "outputs": [],
   "source": [
    "def prophet_CV_free(df_dev=df_dev,\n",
    "            device=device,\n",
    "            parameter='co2',\n",
    "            begin='2019-03-26',\n",
    "            end='2019-04-03',\n",
    "            sampling_period_min=5,\n",
    "            graph=1,\n",
    "            predict_day=1,\n",
    "            interval_width=0.6,\n",
    "            changepoint_prior_scale=0.01,\n",
    "            daily_fo = 12):\n",
    "    \"\"\"\n",
    "    Combination of df_generator, model, prophet_fit, get_outliers for randomsearch \n",
    "    \n",
    "    return df_p, the performance_metrics of Prophet\n",
    "    \"\"\"\n",
    "    # Convert the sampling period (in min) into string and float for to feed Prophet\n",
    "    sampling_period_st= str(sampling_period_min) + 'T'\n",
    "    sampling_period_num=sampling_period_min/60\n",
    "\n",
    "    # Generate the dataframe analysis\n",
    "    df, predict_n, today_index, lookback_n = df_generator(\n",
    "        df_dev,\n",
    "        device,\n",
    "        parameter,\n",
    "        begin,\n",
    "        end,\n",
    "        sampling_period_st,\n",
    "        sampling_period_num,\n",
    "        graph=graph,\n",
    "        predict_day=1)\n",
    "    \n",
    "    # config the model\n",
    "    model = Prophet(interval_width=interval_width, # anomaly threshold,\n",
    "                    yearly_seasonality=False, weekly_seasonality=False, daily_seasonality=False,\n",
    "                    changepoint_prior_scale=changepoint_prior_scale) # Adjusting trend flexibility. should be <0.1 low --> toward overfit\n",
    "    model.add_seasonality(name='daily', period=1, fourier_order=daily_fo) # prior scale\n",
    "#     model.add_seasonality(name='weekly', period=7, fourier_order=15)\n",
    "\n",
    "    # Fit the model, flag outliers, and visualize\n",
    "    assert today_index>lookback_n, 'Not enough data for prediction (lookback_n<today_index)'\n",
    "    plt.close()\n",
    "    fig, forecast, model = prophet_fit(df, model, today_index, sampling_period_st, sampling_period_num, lookback_days=lookback_n, predict_days=predict_n)   \n",
    "    \n",
    "    return fig, forecast, model, df, model, today_index, lookback_n, predict_n"
   ]
  },
  {
   "cell_type": "code",
   "execution_count": 17,
   "metadata": {},
   "outputs": [],
   "source": [
    "def prophet_plot_show(\n",
    "        df,\n",
    "        fig,\n",
    "        today_index,\n",
    "        lookback_days=None,\n",
    "        predict_days=21,\n",
    "        outliers=list()):\n",
    "    \"\"\"\n",
    "    Plot the actual, predictions, and anomalous values\n",
    "    Args\n",
    "    ----\n",
    "    df : pandas DataFrame\n",
    "        The daily time-series data set contains ds column for\n",
    "        dates (datetime types such as datetime64[ns]) and y column for numerical values\n",
    "    fig : matplotlib Figure\n",
    "        A plot with actual data, predicted values and the interval which we previously obtained\n",
    "        from Prophet's model.plot(forecast).\n",
    "    today_index : int\n",
    "        The index of the date list in the dataframe dividing the baseline and prediction time frames.\n",
    "    lookback_days : int, optional (default=None)\n",
    "        Day (today_index-lookback_days)th to Day (today_index-1)th is the baseline time frame for training.\n",
    "    predict_days : int, optional (default=21)\n",
    "        Make prediction for Day (today_index)th to Day (today_index+predict_days)th.\n",
    "    outliers : a list of (datetime, int) tuple\n",
    "        The outliers we want to highlight on the plot.\n",
    "    \"\"\"\n",
    "    # retrieve the subplot in the generated Prophets matplotlib figure\n",
    "    ax = fig.get_axes()[0]\n",
    "    sns.set(rc={'axes.facecolor':'white', 'figure.facecolor':'white'})\n",
    "    \n",
    "    start = 0\n",
    "#     end = today_index + predict_days # Original code\n",
    "    end = df.shape[0]\n",
    "    x_pydatetime = df['ds'].dt.to_pydatetime()\n",
    "    # highlight the actual values of the entire time frame\n",
    "    ax.plot(x_pydatetime[start:end],\n",
    "            df.y[start:end],\n",
    "            color='black', label='Actual')\n",
    "\n",
    "    # plot each outlier in red dot and annotate the date\n",
    "    for outlier in outliers:\n",
    "        ax.scatter(outlier[0], outlier[1], s=16, color='red', label='Anomaly')\n",
    "#         ax.text(outlier[0], outlier[1], str(outlier[0])[:10], color='red', fontsize=6)\n",
    "\n",
    "#     # re-organize the legend\n",
    "#     patch1 = mpatches.Patch(color='red', label='Anomaly')\n",
    "#     patch2 = mpatches.Patch(color='orange', label='Actual')\n",
    "#     patch3 = mpatches.Patch(color='skyblue', label='Predict and interval')\n",
    "#     patch4 = mpatches.Patch(color='grey', label='Baseline area')\n",
    "#     plt.legend(handles=[patch1, patch2, patch3, patch4], loc='upper left')"
   ]
  },
  {
   "cell_type": "markdown",
   "metadata": {},
   "source": [
    "*Normal day*"
   ]
  },
  {
   "cell_type": "code",
   "execution_count": 31,
   "metadata": {},
   "outputs": [
    {
     "name": "stdout",
     "output_type": "stream",
     "text": [
      "Full dataset: 2019-03-07 to the 2019-05-01. Analysed data the 2019-03-17 to the 2019-03-29.\n",
      "o Trained on the data from the 2019-03-17 to the 2019-03-28 (10 days).\n",
      "o Predict from the 2019-03-28 to the 2019-03-29 (1 days).\n"
     ]
    },
    {
     "data": {
      "application/vnd.jupyter.widget-view+json": {
       "model_id": "fd8d2c8f3671471fab4ffa861e872331",
       "version_major": 2,
       "version_minor": 0
      },
      "text/plain": [
       "Canvas(toolbar=Toolbar(toolitems=[('Home', 'Reset original view', 'home', 'home'), ('Back', 'Back to previous …"
      ]
     },
     "metadata": {},
     "output_type": "display_data"
    }
   ],
   "source": [
    "# Single instance example\n",
    "fig, forecast, model, df, model, today_index, lookback_n, predict_n = prophet_CV_free(df_dev,\n",
    "                                                                               device,\n",
    "                                                                               parameter='co2',\n",
    "                                                                               begin='2019-03-17',\n",
    "                                                                               end='2019-03-29',\n",
    "                                                                               sampling_period_min=1,\n",
    "                                                                               graph=1,\n",
    "                                                                               predict_day=1,\n",
    "                                                                               interval_width=0.6,\n",
    "                                                                               changepoint_prior_scale=0.01,\n",
    "                                                                               daily_fo = 3)"
   ]
  },
  {
   "cell_type": "code",
   "execution_count": 32,
   "metadata": {},
   "outputs": [],
   "source": [
    "# Retrieve the subplot in the generated Prophets matplotlib figure\n",
    "ax = fig.get_axes()[0]"
   ]
  },
  {
   "cell_type": "code",
   "execution_count": 33,
   "metadata": {},
   "outputs": [],
   "source": [
    "# Set background to white\n",
    "ax.set_facecolor('white')"
   ]
  },
  {
   "cell_type": "code",
   "execution_count": 34,
   "metadata": {},
   "outputs": [],
   "source": [
    "# Remove the grid\n",
    "# ax.set_axisbelow(True)\n",
    "ax.yaxis.grid(color='white', linestyle='dashed')\n",
    "ax.xaxis.grid(color='white', linestyle='dashed')"
   ]
  },
  {
   "cell_type": "code",
   "execution_count": 35,
   "metadata": {},
   "outputs": [],
   "source": [
    "# Format the date\n",
    "myFmt = DateFormatter(\"%d/%m\")\n",
    "ax.xaxis.set_major_formatter(myFmt)"
   ]
  },
  {
   "cell_type": "code",
   "execution_count": 36,
   "metadata": {},
   "outputs": [],
   "source": [
    "outliers, df_pred = get_outliers(df, forecast, today_index, predict_days=predict_n)"
   ]
  },
  {
   "cell_type": "code",
   "execution_count": 37,
   "metadata": {},
   "outputs": [
    {
     "name": "stdout",
     "output_type": "stream",
     "text": [
      "4319\n"
     ]
    }
   ],
   "source": [
    "today_index = find_index(df, '2019-03-26', starting_time='21:00')"
   ]
  },
  {
   "cell_type": "code",
   "execution_count": 38,
   "metadata": {},
   "outputs": [],
   "source": [
    "prophet_plot_show(df, fig, today_index, predict_days=predict_n, outliers=outliers)"
   ]
  },
  {
   "cell_type": "raw",
   "metadata": {},
   "source": [
    "forecast.head(-10)"
   ]
  },
  {
   "cell_type": "markdown",
   "metadata": {},
   "source": [
    "*Abnormal day*"
   ]
  },
  {
   "cell_type": "code",
   "execution_count": 22,
   "metadata": {},
   "outputs": [
    {
     "name": "stdout",
     "output_type": "stream",
     "text": [
      "Full dataset: 2019-03-07 to the 2019-05-01. Analysed data the 2019-03-20 to the 2019-04-01.\n",
      "o Trained on the data from the 2019-03-20 to the 2019-03-31 (10 days).\n",
      "o Predict from the 2019-03-31 to the 2019-04-01 (1 days).\n"
     ]
    },
    {
     "data": {
      "application/vnd.jupyter.widget-view+json": {
       "model_id": "2b73a9783cfb4e129a3be88ffdd269d4",
       "version_major": 2,
       "version_minor": 0
      },
      "text/plain": [
       "Canvas(toolbar=Toolbar(toolitems=[('Home', 'Reset original view', 'home', 'home'), ('Back', 'Back to previous …"
      ]
     },
     "metadata": {},
     "output_type": "display_data"
    }
   ],
   "source": [
    "# Single instance example\n",
    "fig, forecast, model, df, model, today_index, lookback_n, predict_n = prophet_CV_free(df_dev,\n",
    "                                                                               device,\n",
    "                                                                               parameter='co2',\n",
    "                                                                               begin='2019-03-20',\n",
    "                                                                               end='2019-04-01',\n",
    "                                                                               sampling_period_min=1,\n",
    "                                                                               graph=1,\n",
    "                                                                               predict_day=1,\n",
    "                                                                               interval_width=0.7,\n",
    "                                                                               changepoint_prior_scale=0.01,\n",
    "                                                                               daily_fo = 3)"
   ]
  },
  {
   "cell_type": "code",
   "execution_count": 23,
   "metadata": {},
   "outputs": [],
   "source": [
    "ax = fig.get_axes()[0]\n",
    "ax.set_facecolor('white')\n",
    "ax.yaxis.grid(color='white', linestyle='dashed')\n",
    "ax.xaxis.grid(color='white', linestyle='dashed')\n",
    "myFmt = DateFormatter(\"%d/%m\")\n",
    "ax.xaxis.set_major_formatter(myFmt)\n",
    "outliers, df_pred = get_outliers(df, forecast, today_index, predict_days=predict_n)\n",
    "prophet_plot_show(df, fig, today_index, predict_days=predict_n, outliers=outliers)"
   ]
  },
  {
   "cell_type": "code",
   "execution_count": null,
   "metadata": {},
   "outputs": [],
   "source": [
    "mape_table"
   ]
  }
 ],
 "metadata": {
  "kernelspec": {
   "display_name": "Python 3",
   "language": "python",
   "name": "python3"
  },
  "language_info": {
   "codemirror_mode": {
    "name": "ipython",
    "version": 3
   },
   "file_extension": ".py",
   "mimetype": "text/x-python",
   "name": "python",
   "nbconvert_exporter": "python",
   "pygments_lexer": "ipython3",
   "version": "3.7.4"
  }
 },
 "nbformat": 4,
 "nbformat_minor": 4
}