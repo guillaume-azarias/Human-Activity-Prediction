{
 "cells": [
  {
   "cell_type": "markdown",
   "metadata": {},
   "source": [
    "# Dashboard for patient monitoring activity:\n",
    "\n",
    "see  for information on Streamlit\n",
    "\n",
    "This is a script to:\n",
    "* Provide the result of analysis of patient activity\n",
    "* Communicate with the relevant persons in case of need \n",
    "\n",
    "We define pattern as a **transient**, reversible and significant change in one or several physical parameter(s).\n",
    "Examples of patterns:\n",
    "* Someone goes to bed (CO2 decreases/increases and stay stable)\n",
    "* Someone wakes up in the morning\n",
    "* Someone wakes up nightly for a bathroom breaks\n",
    "* Unknown activities that nevertheless occur regularly\n",
    "\n",
    "Strategy:\n",
    "* Develop the dashboard using [Streamlit](https://www.streamlit.io/)\n",
    "* Adapt to caru's feedback\n",
    "* Eventually allow the possibility to fetch data from a cloud\n",
    "\n",
    "*Note: For the sake of time, the data analysis part will be first developed. The communication features will be developed if time allows.*"
   ]
  },
  {
   "cell_type": "code",
   "execution_count": null,
   "metadata": {},
   "outputs": [],
   "source": []
  },
  {
   "cell_type": "code",
   "execution_count": null,
   "metadata": {},
   "outputs": [],
   "source": []
  }
 ],
 "metadata": {
  "kernelspec": {
   "display_name": "Python 3",
   "language": "python",
   "name": "python3"
  },
  "language_info": {
   "codemirror_mode": {
    "name": "ipython",
    "version": 3
   },
   "file_extension": ".py",
   "mimetype": "text/x-python",
   "name": "python",
   "nbconvert_exporter": "python",
   "pygments_lexer": "ipython3",
   "version": "3.7.4"
  }
 },
 "nbformat": 4,
 "nbformat_minor": 2
}
